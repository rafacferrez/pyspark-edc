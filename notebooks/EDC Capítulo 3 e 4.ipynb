{
 "cells": [
  {
   "cell_type": "markdown",
   "source": [
    "## Bibliotecas"
   ],
   "metadata": {}
  },
  {
   "cell_type": "code",
   "execution_count": 1,
   "source": [
    "from pyspark.sql import SparkSession\r\n",
    "import pyspark.sql.functions as f\r\n",
    "import pyspark.sql.types as t\r\n",
    "from pyspark.sql.window import Window"
   ],
   "outputs": [],
   "metadata": {}
  },
  {
   "cell_type": "markdown",
   "source": [
    "## Setup"
   ],
   "metadata": {}
  },
  {
   "cell_type": "code",
   "execution_count": 2,
   "source": [
    "import findspark\r\n",
    "\r\n",
    "findspark.init()"
   ],
   "outputs": [],
   "metadata": {}
  },
  {
   "cell_type": "code",
   "execution_count": 3,
   "source": [
    "spark = SparkSession.builder.config('spark.executor.memory', '8G').getOrCreate()"
   ],
   "outputs": [],
   "metadata": {}
  },
  {
   "cell_type": "code",
   "execution_count": 4,
   "source": [
    "imdb_path = '../data/imdb/'"
   ],
   "outputs": [],
   "metadata": {}
  },
  {
   "cell_type": "code",
   "execution_count": 5,
   "source": [
    "df_titles = spark.read.format(\"parquet\").load(imdb_path + 'title_basics')\r\n",
    "df_ratings = spark.read.format(\"parquet\").load(imdb_path + 'title_ratings')"
   ],
   "outputs": [],
   "metadata": {}
  },
  {
   "cell_type": "markdown",
   "source": [
    "## Diferentes tipos de Dados"
   ],
   "metadata": {}
  },
  {
   "cell_type": "markdown",
   "source": [
    "### Tipos Básicos de Dados\r\n",
    "\r\n",
    "<img src=\"../images/base_spark_types.png\">"
   ],
   "metadata": {}
  },
  {
   "cell_type": "markdown",
   "source": [
    "### Tipos Complexos de Dados\r\n",
    "\r\n",
    "<img src=\"../images/complex_spark_types.png\">"
   ],
   "metadata": {}
  },
  {
   "cell_type": "markdown",
   "source": [
    "### Acessando os Tipos do Spark"
   ],
   "metadata": {}
  },
  {
   "cell_type": "code",
   "execution_count": 6,
   "source": [
    "from pyspark.sql.types import *"
   ],
   "outputs": [],
   "metadata": {}
  },
  {
   "cell_type": "code",
   "execution_count": 7,
   "source": [
    "int_type = IntegerType()"
   ],
   "outputs": [],
   "metadata": {}
  },
  {
   "cell_type": "code",
   "execution_count": 8,
   "source": [
    "array_type = ArrayType(IntegerType())"
   ],
   "outputs": [],
   "metadata": {}
  },
  {
   "cell_type": "markdown",
   "source": [
    "### Convertendo os tipos de Colunas"
   ],
   "metadata": {}
  },
  {
   "cell_type": "code",
   "execution_count": 9,
   "source": [
    "df.show()"
   ],
   "outputs": [
    {
     "output_type": "stream",
     "name": "stdout",
     "text": [
      "+-----+---+\n",
      "| nome| id|\n",
      "+-----+---+\n",
      "|Pedro|  4|\n",
      "| João|  5|\n",
      "+-----+---+\n",
      "\n"
     ]
    }
   ],
   "metadata": {}
  },
  {
   "cell_type": "code",
   "execution_count": 10,
   "source": [
    "df.dtypes"
   ],
   "outputs": [
    {
     "output_type": "execute_result",
     "data": {
      "text/plain": [
       "[('nome', 'string'), ('id', 'string')]"
      ]
     },
     "metadata": {},
     "execution_count": 10
    }
   ],
   "metadata": {}
  },
  {
   "cell_type": "code",
   "execution_count": 11,
   "source": [
    "df.select('nome', col('id').cast(IntegerType())).dtypes"
   ],
   "outputs": [
    {
     "output_type": "execute_result",
     "data": {
      "text/plain": [
       "[('nome', 'string'), ('id', 'int')]"
      ]
     },
     "metadata": {},
     "execution_count": 11
    }
   ],
   "metadata": {}
  },
  {
   "cell_type": "code",
   "execution_count": 12,
   "source": [
    "IntegerType() == 'int'\n",
    "StringType() == 'string'\n",
    "FloatType() == 'float'\n",
    "\n",
    "ArrayType(IntegerType()) == 'ARRAY<INT>'"
   ],
   "outputs": [
    {
     "output_type": "execute_result",
     "data": {
      "text/plain": [
       "False"
      ]
     },
     "metadata": {},
     "execution_count": 12
    }
   ],
   "metadata": {}
  },
  {
   "cell_type": "code",
   "execution_count": 13,
   "source": [
    "df.select('nome', col('id').cast('int')).dtypes"
   ],
   "outputs": [
    {
     "output_type": "execute_result",
     "data": {
      "text/plain": [
       "[('nome', 'string'), ('id', 'int')]"
      ]
     },
     "metadata": {},
     "execution_count": 13
    }
   ],
   "metadata": {}
  },
  {
   "cell_type": "markdown",
   "source": [
    "## Schema e Criação de DataFrames"
   ],
   "metadata": {}
  },
  {
   "cell_type": "markdown",
   "source": [
    "Um schema no Spark é uma especificação de tipos das colunas de um DataFrame. Eles são usados na leitura de dados externos e criação de DataFrames, e podem ser passados diretamente ao Spark ou podem ser  inferidos. Passar um schema na leitura traz benefícios interessantes, como:\n",
    "\n",
    "* Evita que o Spark faça inferência de tipos, o que é custoso e demorado dependendo do tamanho do arquivo, além de propenso a erros;\n",
    "* Permite que o usuário identifique erros nos dados logo na leitura, caso os dados não sigam o schema especificado.\n"
   ],
   "metadata": {}
  },
  {
   "cell_type": "code",
   "execution_count": 14,
   "source": [
    "df = spark.createDataFrame([('Pedro', 1), ('João', 6), ('Juliana', 4), ('Lucas', 7)], schema = ['nome', 'id'])"
   ],
   "outputs": [],
   "metadata": {}
  },
  {
   "cell_type": "code",
   "execution_count": 15,
   "source": [
    "df.show()"
   ],
   "outputs": [
    {
     "output_type": "stream",
     "name": "stdout",
     "text": [
      "+-------+---+\n",
      "|   nome| id|\n",
      "+-------+---+\n",
      "|  Pedro|  1|\n",
      "|   João|  6|\n",
      "|Juliana|  4|\n",
      "|  Lucas|  7|\n",
      "+-------+---+\n",
      "\n"
     ]
    }
   ],
   "metadata": {}
  },
  {
   "cell_type": "code",
   "execution_count": 16,
   "source": [
    "df.dtypes"
   ],
   "outputs": [
    {
     "output_type": "execute_result",
     "data": {
      "text/plain": [
       "[('nome', 'string'), ('id', 'bigint')]"
      ]
     },
     "metadata": {},
     "execution_count": 16
    }
   ],
   "metadata": {}
  },
  {
   "cell_type": "markdown",
   "source": [
    "### Criando schemas programticamente"
   ],
   "metadata": {}
  },
  {
   "cell_type": "code",
   "execution_count": 17,
   "source": [
    "schema = StructType([StructField('nome', StringType()), StructField('id', IntegerType()),])"
   ],
   "outputs": [],
   "metadata": {}
  },
  {
   "cell_type": "code",
   "execution_count": 18,
   "source": [
    "df = spark.createDataFrame([('Pedro', 1), ('João', 6), ('Juliana', 4), ('Lucas', 7)], schema = schema)"
   ],
   "outputs": [],
   "metadata": {}
  },
  {
   "cell_type": "code",
   "execution_count": 19,
   "source": [
    "df.show()"
   ],
   "outputs": [
    {
     "output_type": "stream",
     "name": "stdout",
     "text": [
      "+-------+---+\n",
      "|   nome| id|\n",
      "+-------+---+\n",
      "|  Pedro|  1|\n",
      "|   João|  6|\n",
      "|Juliana|  4|\n",
      "|  Lucas|  7|\n",
      "+-------+---+\n",
      "\n"
     ]
    }
   ],
   "metadata": {}
  },
  {
   "cell_type": "code",
   "execution_count": 20,
   "source": [
    "df.dtypes"
   ],
   "outputs": [
    {
     "output_type": "execute_result",
     "data": {
      "text/plain": [
       "[('nome', 'string'), ('id', 'int')]"
      ]
     },
     "metadata": {},
     "execution_count": 20
    }
   ],
   "metadata": {}
  },
  {
   "cell_type": "markdown",
   "source": [
    "### Criando schemas com DDL"
   ],
   "metadata": {}
  },
  {
   "cell_type": "code",
   "execution_count": 21,
   "source": [
    "schema = 'nome STRING, id INT'"
   ],
   "outputs": [],
   "metadata": {}
  },
  {
   "cell_type": "code",
   "execution_count": 22,
   "source": [
    "df = spark.createDataFrame([('Pedro', 1), ('João', 6), ('Juliana', 4), ('Lucas', 7)], schema = schema)"
   ],
   "outputs": [],
   "metadata": {}
  },
  {
   "cell_type": "code",
   "execution_count": 23,
   "source": [
    "df.show()"
   ],
   "outputs": [
    {
     "output_type": "stream",
     "name": "stdout",
     "text": [
      "+-------+---+\n",
      "|   nome| id|\n",
      "+-------+---+\n",
      "|  Pedro|  1|\n",
      "|   João|  6|\n",
      "|Juliana|  4|\n",
      "|  Lucas|  7|\n",
      "+-------+---+\n",
      "\n"
     ]
    }
   ],
   "metadata": {}
  },
  {
   "cell_type": "code",
   "execution_count": 24,
   "source": [
    "df.dtypes"
   ],
   "outputs": [
    {
     "output_type": "execute_result",
     "data": {
      "text/plain": [
       "[('nome', 'string'), ('id', 'int')]"
      ]
     },
     "metadata": {},
     "execution_count": 24
    }
   ],
   "metadata": {}
  },
  {
   "cell_type": "markdown",
   "source": [
    "### Criando DataFrames"
   ],
   "metadata": {}
  },
  {
   "cell_type": "code",
   "execution_count": 25,
   "source": [
    "data = [('Pedro', 1), ('João', 6), ('Juliana', 4), ('Lucas', 7)]"
   ],
   "outputs": [],
   "metadata": {}
  },
  {
   "cell_type": "code",
   "execution_count": 26,
   "source": [
    "schema = 'nome STRING, id INT'"
   ],
   "outputs": [],
   "metadata": {}
  },
  {
   "cell_type": "code",
   "execution_count": 27,
   "source": [
    "df = spark.createDataFrame(data, schema=schema)"
   ],
   "outputs": [],
   "metadata": {}
  },
  {
   "cell_type": "code",
   "execution_count": 28,
   "source": [
    "df.dtypes"
   ],
   "outputs": [
    {
     "output_type": "execute_result",
     "data": {
      "text/plain": [
       "[('nome', 'string'), ('id', 'int')]"
      ]
     },
     "metadata": {},
     "execution_count": 28
    }
   ],
   "metadata": {}
  },
  {
   "cell_type": "code",
   "execution_count": 29,
   "source": [
    "df.schema"
   ],
   "outputs": [
    {
     "output_type": "execute_result",
     "data": {
      "text/plain": [
       "StructType(List(StructField(nome,StringType,true),StructField(id,IntegerType,true)))"
      ]
     },
     "metadata": {},
     "execution_count": 29
    }
   ],
   "metadata": {
    "scrolled": true
   }
  },
  {
   "cell_type": "code",
   "execution_count": 30,
   "source": [
    "df.printSchema()"
   ],
   "outputs": [
    {
     "output_type": "stream",
     "name": "stdout",
     "text": [
      "root\n",
      " |-- nome: string (nullable = true)\n",
      " |-- id: integer (nullable = true)\n",
      "\n"
     ]
    }
   ],
   "metadata": {
    "scrolled": true
   }
  },
  {
   "cell_type": "code",
   "execution_count": 31,
   "source": [
    "spark.range(100).show()"
   ],
   "outputs": [
    {
     "output_type": "stream",
     "name": "stdout",
     "text": [
      "+---+\n",
      "| id|\n",
      "+---+\n",
      "|  0|\n",
      "|  1|\n",
      "|  2|\n",
      "|  3|\n",
      "|  4|\n",
      "|  5|\n",
      "|  6|\n",
      "|  7|\n",
      "|  8|\n",
      "|  9|\n",
      "| 10|\n",
      "| 11|\n",
      "| 12|\n",
      "| 13|\n",
      "| 14|\n",
      "| 15|\n",
      "| 16|\n",
      "| 17|\n",
      "| 18|\n",
      "| 19|\n",
      "+---+\n",
      "only showing top 20 rows\n",
      "\n"
     ]
    }
   ],
   "metadata": {
    "scrolled": true
   }
  },
  {
   "cell_type": "code",
   "execution_count": null,
   "source": [
    "df = spark.createDataFrame(pandas_df)"
   ],
   "outputs": [],
   "metadata": {}
  },
  {
   "cell_type": "markdown",
   "source": [
    "## Leitura e Escrita de Dados"
   ],
   "metadata": {}
  },
  {
   "cell_type": "code",
   "execution_count": 32,
   "source": [
    "data_path = 'D:/projects/edc-cap3/'"
   ],
   "outputs": [],
   "metadata": {}
  },
  {
   "cell_type": "code",
   "execution_count": 33,
   "source": [
    "file_path = 'D:/projects/edc-cap3/df_cnae.csv'"
   ],
   "outputs": [],
   "metadata": {}
  },
  {
   "cell_type": "markdown",
   "source": [
    "### DataFrameReader"
   ],
   "metadata": {}
  },
  {
   "cell_type": "markdown",
   "source": [
    "```\n",
    "spark.read.format(format).option(args).load(file/path)\n",
    "```"
   ],
   "metadata": {}
  },
  {
   "cell_type": "markdown",
   "source": [
    "### DataFrameWriter"
   ],
   "metadata": {}
  },
  {
   "cell_type": "markdown",
   "source": [
    "```\n",
    "df.write.format(format).option(args).save(file/path)\n",
    "```"
   ],
   "metadata": {}
  },
  {
   "cell_type": "markdown",
   "source": [
    "### Lendo e Escrevendo CSV"
   ],
   "metadata": {}
  },
  {
   "cell_type": "markdown",
   "source": [
    "Opções mais comuns:\n",
    "* header\n",
    "* inferSchema\n",
    "* sep\n",
    "* encoding"
   ],
   "metadata": {
    "id": "zNBPgd8iG3yn"
   }
  },
  {
   "cell_type": "code",
   "execution_count": 34,
   "source": [
    "df = spark.read.format('csv').load(file_path)"
   ],
   "outputs": [],
   "metadata": {
    "id": "Ps0RVP6Jh2PJ"
   }
  },
  {
   "cell_type": "code",
   "execution_count": 35,
   "source": [
    "df.limit(15).show()"
   ],
   "outputs": [
    {
     "output_type": "stream",
     "name": "stdout",
     "text": [
      "+--------------------+\n",
      "|                 _c0|\n",
      "+--------------------+\n",
      "|\"0111301\";\"Cultiv...|\n",
      "|\"0111302\";\"Cultiv...|\n",
      "|\"0111303\";\"Cultiv...|\n",
      "|\"0111399\";\"Cultiv...|\n",
      "|\"0112101\";\"Cultiv...|\n",
      "|\"0112102\";\"Cultiv...|\n",
      "|\"0112199\";\"Cultiv...|\n",
      "|\"0113000\";\"Cultiv...|\n",
      "|\"0114800\";\"Cultiv...|\n",
      "|\"0115600\";\"Cultiv...|\n",
      "|\"0116401\";\"Cultiv...|\n",
      "|\"0116402\";\"Cultiv...|\n",
      "|\"0116403\";\"Cultiv...|\n",
      "|\"0116499\";\"Cultiv...|\n",
      "|\"0119901\";\"Cultiv...|\n",
      "+--------------------+\n",
      "\n"
     ]
    }
   ],
   "metadata": {
    "id": "-iYt9lyVD2LF"
   }
  },
  {
   "cell_type": "markdown",
   "source": [
    "### Definindo o schema"
   ],
   "metadata": {}
  },
  {
   "cell_type": "code",
   "execution_count": 36,
   "source": [
    "schema = 'cod_cnae STRING, descricao_cnae STRING'"
   ],
   "outputs": [],
   "metadata": {}
  },
  {
   "cell_type": "markdown",
   "source": [
    "### Opção de Correção 1"
   ],
   "metadata": {
    "id": "pJNqKoXgppOd"
   }
  },
  {
   "cell_type": "code",
   "execution_count": 37,
   "source": [
    "df = spark.read.csv(file_path, sep=';', encoding='ISO-8859-1', schema=schema)\n",
    "df.limit(5).show()"
   ],
   "outputs": [
    {
     "output_type": "stream",
     "name": "stdout",
     "text": [
      "+--------+--------------------+\n",
      "|cod_cnae|      descricao_cnae|\n",
      "+--------+--------------------+\n",
      "| 0111301|    Cultivo de arroz|\n",
      "| 0111302|    Cultivo de milho|\n",
      "| 0111303|    Cultivo de trigo|\n",
      "| 0111399|Cultivo de outros...|\n",
      "| 0112101|Cultivo de algodã...|\n",
      "+--------+--------------------+\n",
      "\n"
     ]
    }
   ],
   "metadata": {
    "id": "Fx7ulTa3hyVj"
   }
  },
  {
   "cell_type": "markdown",
   "source": [
    "### Opção de Correção 2"
   ],
   "metadata": {
    "id": "1LUY4PE7px0s"
   }
  },
  {
   "cell_type": "code",
   "execution_count": 38,
   "source": [
    "df = (\n",
    "    spark.read\n",
    "    .format('csv')\n",
    "    .option('sep', ';')\n",
    "    .option('encoding', 'ISO-8859-1')\n",
    "    .schema(schema)\n",
    "    .load(file_path)\n",
    ")\n",
    "df.limit(5).show()"
   ],
   "outputs": [
    {
     "output_type": "stream",
     "name": "stdout",
     "text": [
      "+--------+--------------------+\n",
      "|cod_cnae|      descricao_cnae|\n",
      "+--------+--------------------+\n",
      "| 0111301|    Cultivo de arroz|\n",
      "| 0111302|    Cultivo de milho|\n",
      "| 0111303|    Cultivo de trigo|\n",
      "| 0111399|Cultivo de outros...|\n",
      "| 0112101|Cultivo de algodã...|\n",
      "+--------+--------------------+\n",
      "\n"
     ]
    }
   ],
   "metadata": {
    "id": "9hD0zVN8kR-o"
   }
  },
  {
   "cell_type": "markdown",
   "source": [
    "### Opção de Correção 3"
   ],
   "metadata": {
    "id": "0ZGkvlnTpzmj"
   }
  },
  {
   "cell_type": "code",
   "execution_count": 39,
   "source": [
    "df = (\n",
    "    spark.read\n",
    "    .format('csv')\n",
    "    .options(sep=';', encoding='ISO-8859-1')\n",
    "    .schema(schema)\n",
    "    .load(file_path)\n",
    ")\n",
    "df.limit(5).show()"
   ],
   "outputs": [
    {
     "output_type": "stream",
     "name": "stdout",
     "text": [
      "+--------+--------------------+\n",
      "|cod_cnae|      descricao_cnae|\n",
      "+--------+--------------------+\n",
      "| 0111301|    Cultivo de arroz|\n",
      "| 0111302|    Cultivo de milho|\n",
      "| 0111303|    Cultivo de trigo|\n",
      "| 0111399|Cultivo de outros...|\n",
      "| 0112101|Cultivo de algodã...|\n",
      "+--------+--------------------+\n",
      "\n"
     ]
    }
   ],
   "metadata": {
    "id": "MzXygC4akr8R"
   }
  },
  {
   "cell_type": "markdown",
   "source": [
    "Obs: utilizando o método \"options\" podemos parametrizar melhor nossa função usando um dicionário"
   ],
   "metadata": {
    "id": "eZjRcLqOoSaA"
   }
  },
  {
   "cell_type": "code",
   "execution_count": 40,
   "source": [
    "options_dict = {\n",
    "    'sep': ';',\n",
    "    'encoding': 'ISO-8859-1',\n",
    "}\n",
    "\n",
    "df = (\n",
    "    spark.read\n",
    "    .format('csv')\n",
    "    .options(**options_dict)\n",
    "    .schema('cod_cnae INT, descricao_cnae STRING')\n",
    "    .load(file_path)\n",
    ")\n",
    "df.limit(5).show()"
   ],
   "outputs": [
    {
     "output_type": "stream",
     "name": "stdout",
     "text": [
      "+--------+--------------------+\n",
      "|cod_cnae|      descricao_cnae|\n",
      "+--------+--------------------+\n",
      "|  111301|    Cultivo de arroz|\n",
      "|  111302|    Cultivo de milho|\n",
      "|  111303|    Cultivo de trigo|\n",
      "|  111399|Cultivo de outros...|\n",
      "|  112101|Cultivo de algodã...|\n",
      "+--------+--------------------+\n",
      "\n"
     ]
    }
   ],
   "metadata": {
    "id": "fdYeIrscoRsm"
   }
  },
  {
   "cell_type": "code",
   "execution_count": 41,
   "source": [
    "df.printSchema()"
   ],
   "outputs": [
    {
     "output_type": "stream",
     "name": "stdout",
     "text": [
      "root\n",
      " |-- cod_cnae: integer (nullable = true)\n",
      " |-- descricao_cnae: string (nullable = true)\n",
      "\n"
     ]
    }
   ],
   "metadata": {}
  },
  {
   "cell_type": "code",
   "execution_count": 43,
   "source": [
    "df.write.format('csv').save(data_path + 'df_cnae_teste.csv', header=True, )"
   ],
   "outputs": [],
   "metadata": {}
  },
  {
   "cell_type": "code",
   "execution_count": 44,
   "source": [
    "spark.read.format('csv').load(data_path + 'df_cnae_teste', header=True).printSchema()"
   ],
   "outputs": [
    {
     "output_type": "stream",
     "name": "stdout",
     "text": [
      "root\n",
      " |-- cod_cnae: string (nullable = true)\n",
      " |-- descricao_cnae: string (nullable = true)\n",
      "\n"
     ]
    }
   ],
   "metadata": {}
  },
  {
   "cell_type": "code",
   "execution_count": 45,
   "source": [
    "df.toPandas().to_csv(data_path + 'df_cnae_pandas.csv', index=False, header=True)"
   ],
   "outputs": [],
   "metadata": {}
  },
  {
   "cell_type": "markdown",
   "source": [
    "### Lendo e Escrevendo JSON"
   ],
   "metadata": {}
  },
  {
   "cell_type": "code",
   "execution_count": 46,
   "source": [
    "df.write.format('json').save(data_path + 'df_cnae.json')"
   ],
   "outputs": [],
   "metadata": {}
  },
  {
   "cell_type": "code",
   "execution_count": 48,
   "source": [
    "df_json = spark.read.format('json').load(data_path + 'df_cnae.json')"
   ],
   "outputs": [],
   "metadata": {}
  },
  {
   "cell_type": "code",
   "execution_count": 49,
   "source": [
    "df_json.show()"
   ],
   "outputs": [
    {
     "output_type": "stream",
     "name": "stdout",
     "text": [
      "+--------+--------------------+\n",
      "|cod_cnae|      descricao_cnae|\n",
      "+--------+--------------------+\n",
      "|  111301|    Cultivo de arroz|\n",
      "|  111302|    Cultivo de milho|\n",
      "|  111303|    Cultivo de trigo|\n",
      "|  111399|Cultivo de outros...|\n",
      "|  112101|Cultivo de algodã...|\n",
      "|  112102|     Cultivo de juta|\n",
      "|  112199|Cultivo de outras...|\n",
      "|  113000|Cultivo de cana-d...|\n",
      "|  114800|     Cultivo de fumo|\n",
      "|  115600|     Cultivo de soja|\n",
      "|  116401| Cultivo de amendoim|\n",
      "|  116402| Cultivo de girassol|\n",
      "|  116403|   Cultivo de mamona|\n",
      "|  116499|Cultivo de outras...|\n",
      "|  119901|  Cultivo de abacaxi|\n",
      "|  119902|     Cultivo de alho|\n",
      "|  119903|Cultivo de batata...|\n",
      "|  119904|   Cultivo de cebola|\n",
      "|  119905|   Cultivo de feijão|\n",
      "|  119906| Cultivo de mandioca|\n",
      "+--------+--------------------+\n",
      "only showing top 20 rows\n",
      "\n"
     ]
    }
   ],
   "metadata": {}
  },
  {
   "cell_type": "code",
   "execution_count": 50,
   "source": [
    "df_json.printSchema()"
   ],
   "outputs": [
    {
     "output_type": "stream",
     "name": "stdout",
     "text": [
      "root\n",
      " |-- cod_cnae: long (nullable = true)\n",
      " |-- descricao_cnae: string (nullable = true)\n",
      "\n"
     ]
    }
   ],
   "metadata": {}
  },
  {
   "cell_type": "markdown",
   "source": [
    "### Lendo e Escrevendo ORC"
   ],
   "metadata": {}
  },
  {
   "cell_type": "code",
   "execution_count": 51,
   "source": [
    "formato = 'orc'\n",
    "df.write.format(formato).save(data_path + 'df_cnae.' + formato)"
   ],
   "outputs": [],
   "metadata": {}
  },
  {
   "cell_type": "code",
   "execution_count": 55,
   "source": [
    "df_orc = spark.read.format(formato).load(data_path + 'df_cnae.orc')"
   ],
   "outputs": [],
   "metadata": {}
  },
  {
   "cell_type": "code",
   "execution_count": 56,
   "source": [
    "df_orc.printSchema()"
   ],
   "outputs": [
    {
     "output_type": "stream",
     "name": "stdout",
     "text": [
      "root\n",
      " |-- cod_cnae: integer (nullable = true)\n",
      " |-- descricao_cnae: string (nullable = true)\n",
      "\n"
     ]
    }
   ],
   "metadata": {}
  },
  {
   "cell_type": "markdown",
   "source": [
    "### Lendo e Escrevendo Parquet"
   ],
   "metadata": {}
  },
  {
   "cell_type": "markdown",
   "source": [
    "* Armazenamento colunar, em contraste com o CSV, que armazena baseado nas linhas. Assim, quando uma query é realizada é possível ignorar os dados não relevantes de maneira rápida e fácil, resultando em operações bem mais eficientes;\n",
    "* Preservação de metadados, incluindo os tipos das colunas, o que garante eficiência e praticidade na escrita e leitura (não é necessário especificar schemas para arquivos parquet);\n",
    "* Suporte a dados estruturados de forma aninhada, como listas;\n",
    "* Otimizado para processar dados particionados com volume na casa dos gigabytes para cada arquivo;\n",
    "* Compressão de dados na escrita, de forma a ocupar menos espaço;\n",
    "* Integração com ferramentas como AWS Athena, Amazon Redshift Spectrum, Google BigQuery e Google Dataproc."
   ],
   "metadata": {}
  },
  {
   "cell_type": "code",
   "execution_count": 57,
   "source": [
    "df.write.format('parquet').save(data_path + 'df_cnae')"
   ],
   "outputs": [],
   "metadata": {}
  },
  {
   "cell_type": "code",
   "execution_count": 58,
   "source": [
    "df_parquet = spark.read.format('parquet').load(data_path + 'df_cnae')"
   ],
   "outputs": [],
   "metadata": {}
  },
  {
   "cell_type": "code",
   "execution_count": 59,
   "source": [
    "df_parquet.printSchema()"
   ],
   "outputs": [
    {
     "output_type": "stream",
     "name": "stdout",
     "text": [
      "root\n",
      " |-- cod_cnae: integer (nullable = true)\n",
      " |-- descricao_cnae: string (nullable = true)\n",
      "\n"
     ]
    }
   ],
   "metadata": {
    "scrolled": true
   }
  },
  {
   "cell_type": "markdown",
   "source": [
    "mode:\n",
    "\n",
    "* append: arquivos empilhados aos ja existentes\n",
    "* ignore: retorna um erro silencioso\n",
    "* overwrite: sobrescreve os dados já existente\n",
    "* error (default): retorne erro se já existem dados"
   ],
   "metadata": {}
  },
  {
   "cell_type": "code",
   "execution_count": 62,
   "source": [
    "df.write.format('parquet').mode('overwrite').save(data_path + 'df_cnae')"
   ],
   "outputs": [],
   "metadata": {}
  },
  {
   "cell_type": "markdown",
   "source": [
    "# Manipulação dos Dados"
   ],
   "metadata": {
    "id": "OVHbwVw3qDXs"
   }
  },
  {
   "cell_type": "code",
   "execution_count": 4,
   "source": [
    "imdb_path = 'D:/projects/edc-cap3/imdb/'"
   ],
   "outputs": [],
   "metadata": {}
  },
  {
   "cell_type": "code",
   "execution_count": 5,
   "source": [
    "df_titles = spark.read.format(\"parquet\").load(imdb_path + 'title_basics')"
   ],
   "outputs": [],
   "metadata": {}
  },
  {
   "cell_type": "code",
   "execution_count": 92,
   "source": [
    "df_titles.show(5)"
   ],
   "outputs": [
    {
     "output_type": "stream",
     "name": "stdout",
     "text": [
      "+---------+---------+--------------------+--------------------+-------+---------+-------+--------------+--------------------+\n",
      "|   tconst|titleType|        primaryTitle|       originalTitle|isAdult|startYear|endYear|runtimeMinutes|              genres|\n",
      "+---------+---------+--------------------+--------------------+-------+---------+-------+--------------+--------------------+\n",
      "|tt0000001|    short|          Carmencita|          Carmencita|      0|     1894|     \\N|             1|   Documentary,Short|\n",
      "|tt0000002|    short|Le clown et ses c...|Le clown et ses c...|      0|     1892|     \\N|             5|     Animation,Short|\n",
      "|tt0000003|    short|      Pauvre Pierrot|      Pauvre Pierrot|      0|     1892|     \\N|             4|Animation,Comedy,...|\n",
      "|tt0000004|    short|         Un bon bock|         Un bon bock|      0|     1892|     \\N|            12|     Animation,Short|\n",
      "|tt0000005|    short|    Blacksmith Scene|    Blacksmith Scene|      0|     1893|     \\N|             1|        Comedy,Short|\n",
      "+---------+---------+--------------------+--------------------+-------+---------+-------+--------------+--------------------+\n",
      "only showing top 5 rows\n",
      "\n"
     ]
    }
   ],
   "metadata": {}
  },
  {
   "cell_type": "code",
   "execution_count": 93,
   "source": [
    "df_titles.printSchema()"
   ],
   "outputs": [
    {
     "output_type": "stream",
     "name": "stdout",
     "text": [
      "root\n",
      " |-- tconst: string (nullable = true)\n",
      " |-- titleType: string (nullable = true)\n",
      " |-- primaryTitle: string (nullable = true)\n",
      " |-- originalTitle: string (nullable = true)\n",
      " |-- isAdult: string (nullable = true)\n",
      " |-- startYear: string (nullable = true)\n",
      " |-- endYear: string (nullable = true)\n",
      " |-- runtimeMinutes: string (nullable = true)\n",
      " |-- genres: string (nullable = true)\n",
      "\n"
     ]
    }
   ],
   "metadata": {}
  },
  {
   "cell_type": "markdown",
   "source": [
    "### Colunas e Expressões"
   ],
   "metadata": {}
  },
  {
   "cell_type": "markdown",
   "source": [
    "As colunas são a principal unidade de manipulação de dados do Spark. "
   ],
   "metadata": {}
  },
  {
   "cell_type": "code",
   "execution_count": 108,
   "source": [
    "from pyspark.sql.functions import col, round\n",
    "\n",
    "(\n",
    "    df_titles.select('tconst', 'primaryTitle', 'runtimeMinutes', )\n",
    "    .withColumn(\"runtimeHours\", round(col('runTimeMinutes').cast('int') / 60, 3))\n",
    "    .show(5)\n",
    ")"
   ],
   "outputs": [
    {
     "output_type": "stream",
     "name": "stdout",
     "text": [
      "+---------+--------------------+--------------+------------+\n",
      "|   tconst|        primaryTitle|runtimeMinutes|runtimeHours|\n",
      "+---------+--------------------+--------------+------------+\n",
      "|tt0000001|          Carmencita|             1|       0.017|\n",
      "|tt0000002|Le clown et ses c...|             5|       0.083|\n",
      "|tt0000003|      Pauvre Pierrot|             4|       0.067|\n",
      "|tt0000004|         Un bon bock|            12|         0.2|\n",
      "|tt0000005|    Blacksmith Scene|             1|       0.017|\n",
      "+---------+--------------------+--------------+------------+\n",
      "only showing top 5 rows\n",
      "\n"
     ]
    }
   ],
   "metadata": {
    "id": "b1_37wRiyLNN",
    "scrolled": true
   }
  },
  {
   "cell_type": "markdown",
   "source": [
    "Forma \"pandas\" de selecionar:\n",
    "\n",
    "1. `df.coluna`\n",
    "2. `df['coluna']`"
   ],
   "metadata": {
    "id": "kjmnC-CsE5dn"
   }
  },
  {
   "cell_type": "code",
   "execution_count": 111,
   "source": [
    "(\n",
    "    df_titles.select('tconst', 'primaryTitle', 'runtimeMinutes', )\n",
    "    .withColumn(\"runtimeHours\", df_titles['runtimeMinutes'].cast('int') / 60 )\n",
    "    .show(5)\n",
    ")"
   ],
   "outputs": [
    {
     "output_type": "stream",
     "name": "stdout",
     "text": [
      "+---------+--------------------+--------------+--------------------+\n",
      "|   tconst|        primaryTitle|runtimeMinutes|        runtimeHours|\n",
      "+---------+--------------------+--------------+--------------------+\n",
      "|tt0000001|          Carmencita|             1|0.016666666666666666|\n",
      "|tt0000002|Le clown et ses c...|             5| 0.08333333333333333|\n",
      "|tt0000003|      Pauvre Pierrot|             4| 0.06666666666666667|\n",
      "|tt0000004|         Un bon bock|            12|                 0.2|\n",
      "|tt0000005|    Blacksmith Scene|             1|0.016666666666666666|\n",
      "+---------+--------------------+--------------+--------------------+\n",
      "only showing top 5 rows\n",
      "\n"
     ]
    }
   ],
   "metadata": {
    "id": "b1_37wRiyLNN"
   }
  },
  {
   "cell_type": "code",
   "execution_count": 112,
   "source": [
    "(\n",
    "    df_titles.select('tconst', 'primaryTitle', 'runtimeMinutes', )\n",
    "    .withColumn(\"runtimeHours\", df_titles['runtimeMinutes'].cast('int') / 60 )\n",
    "    .withColumn(\"hours_plus2\", df_titles['runtimeHours'] + 2 )\n",
    "    .show(5)\n",
    ")"
   ],
   "outputs": [
    {
     "output_type": "error",
     "ename": "AnalysisException",
     "evalue": "Cannot resolve column name \"runtimeHours\" among (tconst, titleType, primaryTitle, originalTitle, isAdult, startYear, endYear, runtimeMinutes, genres)",
     "traceback": [
      "\u001b[1;31m---------------------------------------------------------------------------\u001b[0m",
      "\u001b[1;31mAnalysisException\u001b[0m                         Traceback (most recent call last)",
      "\u001b[1;32m<ipython-input-112-363c353c525f>\u001b[0m in \u001b[0;36m<module>\u001b[1;34m\u001b[0m\n\u001b[0;32m      2\u001b[0m     \u001b[0mdf_titles\u001b[0m\u001b[1;33m.\u001b[0m\u001b[0mselect\u001b[0m\u001b[1;33m(\u001b[0m\u001b[1;34m'tconst'\u001b[0m\u001b[1;33m,\u001b[0m \u001b[1;34m'primaryTitle'\u001b[0m\u001b[1;33m,\u001b[0m \u001b[1;34m'runtimeMinutes'\u001b[0m\u001b[1;33m,\u001b[0m \u001b[1;33m)\u001b[0m\u001b[1;33m\u001b[0m\u001b[1;33m\u001b[0m\u001b[0m\n\u001b[0;32m      3\u001b[0m     \u001b[1;33m.\u001b[0m\u001b[0mwithColumn\u001b[0m\u001b[1;33m(\u001b[0m\u001b[1;34m\"runtimeHours\"\u001b[0m\u001b[1;33m,\u001b[0m \u001b[0mdf_titles\u001b[0m\u001b[1;33m[\u001b[0m\u001b[1;34m'runtimeMinutes'\u001b[0m\u001b[1;33m]\u001b[0m\u001b[1;33m.\u001b[0m\u001b[0mcast\u001b[0m\u001b[1;33m(\u001b[0m\u001b[1;34m'int'\u001b[0m\u001b[1;33m)\u001b[0m \u001b[1;33m/\u001b[0m \u001b[1;36m60\u001b[0m \u001b[1;33m)\u001b[0m\u001b[1;33m\u001b[0m\u001b[1;33m\u001b[0m\u001b[0m\n\u001b[1;32m----> 4\u001b[1;33m     \u001b[1;33m.\u001b[0m\u001b[0mwithColumn\u001b[0m\u001b[1;33m(\u001b[0m\u001b[1;34m\"hours_plus2\"\u001b[0m\u001b[1;33m,\u001b[0m \u001b[0mdf_titles\u001b[0m\u001b[1;33m[\u001b[0m\u001b[1;34m'runtimeHours'\u001b[0m\u001b[1;33m]\u001b[0m \u001b[1;33m+\u001b[0m \u001b[1;36m2\u001b[0m \u001b[1;33m)\u001b[0m\u001b[1;33m\u001b[0m\u001b[1;33m\u001b[0m\u001b[0m\n\u001b[0m\u001b[0;32m      5\u001b[0m     \u001b[1;33m.\u001b[0m\u001b[0mshow\u001b[0m\u001b[1;33m(\u001b[0m\u001b[1;36m5\u001b[0m\u001b[1;33m)\u001b[0m\u001b[1;33m\u001b[0m\u001b[1;33m\u001b[0m\u001b[0m\n\u001b[0;32m      6\u001b[0m )\n",
      "\u001b[1;32mC:\\anaconda3\\lib\\site-packages\\pyspark\\sql\\dataframe.py\u001b[0m in \u001b[0;36m__getitem__\u001b[1;34m(self, item)\u001b[0m\n\u001b[0;32m   1618\u001b[0m         \"\"\"\n\u001b[0;32m   1619\u001b[0m         \u001b[1;32mif\u001b[0m \u001b[0misinstance\u001b[0m\u001b[1;33m(\u001b[0m\u001b[0mitem\u001b[0m\u001b[1;33m,\u001b[0m \u001b[0mstr\u001b[0m\u001b[1;33m)\u001b[0m\u001b[1;33m:\u001b[0m\u001b[1;33m\u001b[0m\u001b[1;33m\u001b[0m\u001b[0m\n\u001b[1;32m-> 1620\u001b[1;33m             \u001b[0mjc\u001b[0m \u001b[1;33m=\u001b[0m \u001b[0mself\u001b[0m\u001b[1;33m.\u001b[0m\u001b[0m_jdf\u001b[0m\u001b[1;33m.\u001b[0m\u001b[0mapply\u001b[0m\u001b[1;33m(\u001b[0m\u001b[0mitem\u001b[0m\u001b[1;33m)\u001b[0m\u001b[1;33m\u001b[0m\u001b[1;33m\u001b[0m\u001b[0m\n\u001b[0m\u001b[0;32m   1621\u001b[0m             \u001b[1;32mreturn\u001b[0m \u001b[0mColumn\u001b[0m\u001b[1;33m(\u001b[0m\u001b[0mjc\u001b[0m\u001b[1;33m)\u001b[0m\u001b[1;33m\u001b[0m\u001b[1;33m\u001b[0m\u001b[0m\n\u001b[0;32m   1622\u001b[0m         \u001b[1;32melif\u001b[0m \u001b[0misinstance\u001b[0m\u001b[1;33m(\u001b[0m\u001b[0mitem\u001b[0m\u001b[1;33m,\u001b[0m \u001b[0mColumn\u001b[0m\u001b[1;33m)\u001b[0m\u001b[1;33m:\u001b[0m\u001b[1;33m\u001b[0m\u001b[1;33m\u001b[0m\u001b[0m\n",
      "\u001b[1;32mC:\\anaconda3\\lib\\site-packages\\py4j\\java_gateway.py\u001b[0m in \u001b[0;36m__call__\u001b[1;34m(self, *args)\u001b[0m\n\u001b[0;32m   1302\u001b[0m \u001b[1;33m\u001b[0m\u001b[0m\n\u001b[0;32m   1303\u001b[0m         \u001b[0manswer\u001b[0m \u001b[1;33m=\u001b[0m \u001b[0mself\u001b[0m\u001b[1;33m.\u001b[0m\u001b[0mgateway_client\u001b[0m\u001b[1;33m.\u001b[0m\u001b[0msend_command\u001b[0m\u001b[1;33m(\u001b[0m\u001b[0mcommand\u001b[0m\u001b[1;33m)\u001b[0m\u001b[1;33m\u001b[0m\u001b[1;33m\u001b[0m\u001b[0m\n\u001b[1;32m-> 1304\u001b[1;33m         return_value = get_return_value(\n\u001b[0m\u001b[0;32m   1305\u001b[0m             answer, self.gateway_client, self.target_id, self.name)\n\u001b[0;32m   1306\u001b[0m \u001b[1;33m\u001b[0m\u001b[0m\n",
      "\u001b[1;32mC:\\anaconda3\\lib\\site-packages\\pyspark\\sql\\utils.py\u001b[0m in \u001b[0;36mdeco\u001b[1;34m(*a, **kw)\u001b[0m\n\u001b[0;32m    115\u001b[0m                 \u001b[1;31m# Hide where the exception came from that shows a non-Pythonic\u001b[0m\u001b[1;33m\u001b[0m\u001b[1;33m\u001b[0m\u001b[1;33m\u001b[0m\u001b[0m\n\u001b[0;32m    116\u001b[0m                 \u001b[1;31m# JVM exception message.\u001b[0m\u001b[1;33m\u001b[0m\u001b[1;33m\u001b[0m\u001b[1;33m\u001b[0m\u001b[0m\n\u001b[1;32m--> 117\u001b[1;33m                 \u001b[1;32mraise\u001b[0m \u001b[0mconverted\u001b[0m \u001b[1;32mfrom\u001b[0m \u001b[1;32mNone\u001b[0m\u001b[1;33m\u001b[0m\u001b[1;33m\u001b[0m\u001b[0m\n\u001b[0m\u001b[0;32m    118\u001b[0m             \u001b[1;32melse\u001b[0m\u001b[1;33m:\u001b[0m\u001b[1;33m\u001b[0m\u001b[1;33m\u001b[0m\u001b[0m\n\u001b[0;32m    119\u001b[0m                 \u001b[1;32mraise\u001b[0m\u001b[1;33m\u001b[0m\u001b[1;33m\u001b[0m\u001b[0m\n",
      "\u001b[1;31mAnalysisException\u001b[0m: Cannot resolve column name \"runtimeHours\" among (tconst, titleType, primaryTitle, originalTitle, isAdult, startYear, endYear, runtimeMinutes, genres)"
     ]
    }
   ],
   "metadata": {
    "id": "b1_37wRiyLNN"
   }
  },
  {
   "cell_type": "code",
   "execution_count": 115,
   "source": [
    "(\n",
    "    df_titles.select('tconst', 'primaryTitle', 'runtimeMinutes', )\n",
    "    .withColumn(\"runtimeHours\", col('runTimeMinutes').cast('int') / 60 )\n",
    "    .withColumn(\"hours_plus2\", col('runtimeHours') + 2 )\n",
    "    .show(5)\n",
    ")"
   ],
   "outputs": [
    {
     "output_type": "stream",
     "name": "stdout",
     "text": [
      "+---------+--------------------+--------------+--------------------+------------------+\n",
      "|   tconst|        primaryTitle|runtimeMinutes|        runtimeHours|       hours_plus2|\n",
      "+---------+--------------------+--------------+--------------------+------------------+\n",
      "|tt0000001|          Carmencita|             1|0.016666666666666666|2.0166666666666666|\n",
      "|tt0000002|Le clown et ses c...|             5| 0.08333333333333333|2.0833333333333335|\n",
      "|tt0000003|      Pauvre Pierrot|             4| 0.06666666666666667| 2.066666666666667|\n",
      "|tt0000004|         Un bon bock|            12|                 0.2|               2.2|\n",
      "|tt0000005|    Blacksmith Scene|             1|0.016666666666666666|2.0166666666666666|\n",
      "+---------+--------------------+--------------+--------------------+------------------+\n",
      "only showing top 5 rows\n",
      "\n"
     ]
    }
   ],
   "metadata": {
    "id": "Tc8Afpw51cDR"
   }
  },
  {
   "cell_type": "markdown",
   "source": [
    "#### Expressões"
   ],
   "metadata": {}
  },
  {
   "cell_type": "code",
   "execution_count": 119,
   "source": [
    "from pyspark.sql.functions import expr\n",
    "\n",
    "(\n",
    "    df_titles.select('tconst', 'primaryTitle', 'runtimeMinutes', )\n",
    "    .withColumn(\"runtimeHours\", expr('round(cast(runTimeMinutes as INT) / 60, 3)') )\n",
    "    .show(5)\n",
    ")"
   ],
   "outputs": [
    {
     "output_type": "stream",
     "name": "stdout",
     "text": [
      "+---------+--------------------+--------------+------------+\n",
      "|   tconst|        primaryTitle|runtimeMinutes|runtimeHours|\n",
      "+---------+--------------------+--------------+------------+\n",
      "|tt0000001|          Carmencita|             1|       0.017|\n",
      "|tt0000002|Le clown et ses c...|             5|       0.083|\n",
      "|tt0000003|      Pauvre Pierrot|             4|       0.067|\n",
      "|tt0000004|         Un bon bock|            12|         0.2|\n",
      "|tt0000005|    Blacksmith Scene|             1|       0.017|\n",
      "+---------+--------------------+--------------+------------+\n",
      "only showing top 5 rows\n",
      "\n"
     ]
    }
   ],
   "metadata": {
    "id": "b1_37wRiyLNN",
    "scrolled": true
   }
  },
  {
   "cell_type": "markdown",
   "source": [
    "### Seleção de Colunas"
   ],
   "metadata": {
    "id": "zj5bT_TFmwQy"
   }
  },
  {
   "cell_type": "code",
   "execution_count": 10,
   "source": [
    "df_titles.show(5)"
   ],
   "outputs": [
    {
     "output_type": "stream",
     "name": "stdout",
     "text": [
      "+---------+---------+--------------------+--------------------+-------+---------+-------+--------------+--------------------+\n",
      "|   tconst|titleType|        primaryTitle|       originalTitle|isAdult|startYear|endYear|runtimeMinutes|              genres|\n",
      "+---------+---------+--------------------+--------------------+-------+---------+-------+--------------+--------------------+\n",
      "|tt0000001|    short|          Carmencita|          Carmencita|      0|     1894|     \\N|             1|   Documentary,Short|\n",
      "|tt0000002|    short|Le clown et ses c...|Le clown et ses c...|      0|     1892|     \\N|             5|     Animation,Short|\n",
      "|tt0000003|    short|      Pauvre Pierrot|      Pauvre Pierrot|      0|     1892|     \\N|             4|Animation,Comedy,...|\n",
      "|tt0000004|    short|         Un bon bock|         Un bon bock|      0|     1892|     \\N|            12|     Animation,Short|\n",
      "|tt0000005|    short|    Blacksmith Scene|    Blacksmith Scene|      0|     1893|     \\N|             1|        Comedy,Short|\n",
      "+---------+---------+--------------------+--------------------+-------+---------+-------+--------------+--------------------+\n",
      "only showing top 5 rows\n",
      "\n"
     ]
    }
   ],
   "metadata": {}
  },
  {
   "cell_type": "code",
   "execution_count": 12,
   "source": [
    "df_titles.columns"
   ],
   "outputs": [
    {
     "output_type": "execute_result",
     "data": {
      "text/plain": [
       "['tconst',\n",
       " 'titleType',\n",
       " 'primaryTitle',\n",
       " 'originalTitle',\n",
       " 'isAdult',\n",
       " 'startYear',\n",
       " 'endYear',\n",
       " 'runtimeMinutes',\n",
       " 'genres']"
      ]
     },
     "metadata": {},
     "execution_count": 12
    }
   ],
   "metadata": {}
  },
  {
   "cell_type": "code",
   "execution_count": 11,
   "source": [
    "df_titles.select('tconst', 'primaryTitle', 'genres').show(10)"
   ],
   "outputs": [
    {
     "output_type": "stream",
     "name": "stdout",
     "text": [
      "+---------+--------------------+--------------------+\n",
      "|   tconst|        primaryTitle|              genres|\n",
      "+---------+--------------------+--------------------+\n",
      "|tt0000001|          Carmencita|   Documentary,Short|\n",
      "|tt0000002|Le clown et ses c...|     Animation,Short|\n",
      "|tt0000003|      Pauvre Pierrot|Animation,Comedy,...|\n",
      "|tt0000004|         Un bon bock|     Animation,Short|\n",
      "|tt0000005|    Blacksmith Scene|        Comedy,Short|\n",
      "|tt0000006|   Chinese Opium Den|               Short|\n",
      "|tt0000007|Corbett and Court...|         Short,Sport|\n",
      "|tt0000008|Edison Kinetoscop...|   Documentary,Short|\n",
      "|tt0000009|          Miss Jerry|       Romance,Short|\n",
      "|tt0000010| Leaving the Factory|   Documentary,Short|\n",
      "+---------+--------------------+--------------------+\n",
      "only showing top 10 rows\n",
      "\n"
     ]
    }
   ],
   "metadata": {
    "id": "weKxO-bzp_ss",
    "scrolled": true
   }
  },
  {
   "cell_type": "code",
   "execution_count": 15,
   "source": [
    "select_cols = [c for c in df_titles.columns if c.find('Title') != -1]"
   ],
   "outputs": [],
   "metadata": {}
  },
  {
   "cell_type": "code",
   "execution_count": 16,
   "source": [
    "cols = ['tconst', 'primaryTitle', 'genres']\n",
    "df_titles.select(select_cols).show(10)"
   ],
   "outputs": [
    {
     "output_type": "stream",
     "name": "stdout",
     "text": [
      "+--------------------+--------------------+\n",
      "|        primaryTitle|       originalTitle|\n",
      "+--------------------+--------------------+\n",
      "|          Carmencita|          Carmencita|\n",
      "|Le clown et ses c...|Le clown et ses c...|\n",
      "|      Pauvre Pierrot|      Pauvre Pierrot|\n",
      "|         Un bon bock|         Un bon bock|\n",
      "|    Blacksmith Scene|    Blacksmith Scene|\n",
      "|   Chinese Opium Den|   Chinese Opium Den|\n",
      "|Corbett and Court...|Corbett and Court...|\n",
      "|Edison Kinetoscop...|Edison Kinetoscop...|\n",
      "|          Miss Jerry|          Miss Jerry|\n",
      "| Leaving the Factory|La sortie de l'us...|\n",
      "+--------------------+--------------------+\n",
      "only showing top 10 rows\n",
      "\n"
     ]
    }
   ],
   "metadata": {
    "id": "kMkyVG1Enfp6"
   }
  },
  {
   "cell_type": "code",
   "execution_count": 17,
   "source": [
    "cols = ['primaryTitle', 'genres']\n",
    "df_titles.select('tconst', *cols).show(10)"
   ],
   "outputs": [
    {
     "output_type": "stream",
     "name": "stdout",
     "text": [
      "+---------+--------------------+--------------------+\n",
      "|   tconst|        primaryTitle|              genres|\n",
      "+---------+--------------------+--------------------+\n",
      "|tt0000001|          Carmencita|   Documentary,Short|\n",
      "|tt0000002|Le clown et ses c...|     Animation,Short|\n",
      "|tt0000003|      Pauvre Pierrot|Animation,Comedy,...|\n",
      "|tt0000004|         Un bon bock|     Animation,Short|\n",
      "|tt0000005|    Blacksmith Scene|        Comedy,Short|\n",
      "|tt0000006|   Chinese Opium Den|               Short|\n",
      "|tt0000007|Corbett and Court...|         Short,Sport|\n",
      "|tt0000008|Edison Kinetoscop...|   Documentary,Short|\n",
      "|tt0000009|          Miss Jerry|       Romance,Short|\n",
      "|tt0000010| Leaving the Factory|   Documentary,Short|\n",
      "+---------+--------------------+--------------------+\n",
      "only showing top 10 rows\n",
      "\n"
     ]
    }
   ],
   "metadata": {
    "id": "z9BbhKdPnlrt"
   }
  },
  {
   "cell_type": "code",
   "execution_count": 20,
   "source": [
    "df_titles.select('*').show(10)"
   ],
   "outputs": [
    {
     "output_type": "stream",
     "name": "stdout",
     "text": [
      "+---------+---------+--------------------+--------------------+-------+---------+-------+--------------+--------------------+\n",
      "|   tconst|titleType|        primaryTitle|       originalTitle|isAdult|startYear|endYear|runtimeMinutes|              genres|\n",
      "+---------+---------+--------------------+--------------------+-------+---------+-------+--------------+--------------------+\n",
      "|tt0000001|    short|          Carmencita|          Carmencita|      0|     1894|     \\N|             1|   Documentary,Short|\n",
      "|tt0000002|    short|Le clown et ses c...|Le clown et ses c...|      0|     1892|     \\N|             5|     Animation,Short|\n",
      "|tt0000003|    short|      Pauvre Pierrot|      Pauvre Pierrot|      0|     1892|     \\N|             4|Animation,Comedy,...|\n",
      "|tt0000004|    short|         Un bon bock|         Un bon bock|      0|     1892|     \\N|            12|     Animation,Short|\n",
      "|tt0000005|    short|    Blacksmith Scene|    Blacksmith Scene|      0|     1893|     \\N|             1|        Comedy,Short|\n",
      "|tt0000006|    short|   Chinese Opium Den|   Chinese Opium Den|      0|     1894|     \\N|             1|               Short|\n",
      "|tt0000007|    short|Corbett and Court...|Corbett and Court...|      0|     1894|     \\N|             1|         Short,Sport|\n",
      "|tt0000008|    short|Edison Kinetoscop...|Edison Kinetoscop...|      0|     1894|     \\N|             1|   Documentary,Short|\n",
      "|tt0000009|    short|          Miss Jerry|          Miss Jerry|      0|     1894|     \\N|            40|       Romance,Short|\n",
      "|tt0000010|    short| Leaving the Factory|La sortie de l'us...|      0|     1895|     \\N|             1|   Documentary,Short|\n",
      "+---------+---------+--------------------+--------------------+-------+---------+-------+--------------+--------------------+\n",
      "only showing top 10 rows\n",
      "\n"
     ]
    }
   ],
   "metadata": {
    "id": "z9BbhKdPnlrt"
   }
  },
  {
   "cell_type": "markdown",
   "source": [
    "Observações:\n",
    "* Podemos realizar operações sobre colunas selecionadas. \n",
    "* A ordem em que as colunas são selecionadas é a ordem em que elas vão ser inseridas no DataFrame resultante."
   ],
   "metadata": {
    "id": "JErw3YdRn-bu"
   }
  },
  {
   "cell_type": "code",
   "execution_count": 22,
   "source": [
    "from pyspark.sql.functions import upper, expr\n",
    "\n",
    "df_titles.select('tconst', 'genres', expr('upper(primaryTitle) as primaryTitle')).show(10)"
   ],
   "outputs": [
    {
     "output_type": "stream",
     "name": "stdout",
     "text": [
      "+---------+--------------------+--------------------+\n",
      "|   tconst|              genres|        primaryTitle|\n",
      "+---------+--------------------+--------------------+\n",
      "|tt0000001|   Documentary,Short|          CARMENCITA|\n",
      "|tt0000002|     Animation,Short|LE CLOWN ET SES C...|\n",
      "|tt0000003|Animation,Comedy,...|      PAUVRE PIERROT|\n",
      "|tt0000004|     Animation,Short|         UN BON BOCK|\n",
      "|tt0000005|        Comedy,Short|    BLACKSMITH SCENE|\n",
      "|tt0000006|               Short|   CHINESE OPIUM DEN|\n",
      "|tt0000007|         Short,Sport|CORBETT AND COURT...|\n",
      "|tt0000008|   Documentary,Short|EDISON KINETOSCOP...|\n",
      "|tt0000009|       Romance,Short|          MISS JERRY|\n",
      "|tt0000010|   Documentary,Short| LEAVING THE FACTORY|\n",
      "+---------+--------------------+--------------------+\n",
      "only showing top 10 rows\n",
      "\n"
     ]
    }
   ],
   "metadata": {
    "id": "GJNl4tcGn1bi"
   }
  },
  {
   "cell_type": "code",
   "execution_count": 26,
   "source": [
    "df_titles.selectExpr('tconst', 'genres', 'upper(primaryTitle) as primaryTitle').show(10)"
   ],
   "outputs": [
    {
     "output_type": "stream",
     "name": "stdout",
     "text": [
      "+---------+--------------------+--------------------+\n",
      "|   tconst|              genres|        primaryTitle|\n",
      "+---------+--------------------+--------------------+\n",
      "|tt0000001|   Documentary,Short|          CARMENCITA|\n",
      "|tt0000002|     Animation,Short|LE CLOWN ET SES C...|\n",
      "|tt0000003|Animation,Comedy,...|      PAUVRE PIERROT|\n",
      "|tt0000004|     Animation,Short|         UN BON BOCK|\n",
      "|tt0000005|        Comedy,Short|    BLACKSMITH SCENE|\n",
      "|tt0000006|               Short|   CHINESE OPIUM DEN|\n",
      "|tt0000007|         Short,Sport|CORBETT AND COURT...|\n",
      "|tt0000008|   Documentary,Short|EDISON KINETOSCOP...|\n",
      "|tt0000009|       Romance,Short|          MISS JERRY|\n",
      "|tt0000010|   Documentary,Short| LEAVING THE FACTORY|\n",
      "+---------+--------------------+--------------------+\n",
      "only showing top 10 rows\n",
      "\n"
     ]
    }
   ],
   "metadata": {
    "id": "GJNl4tcGn1bi"
   }
  },
  {
   "cell_type": "markdown",
   "source": [
    "#### Selecionando valores distintos"
   ],
   "metadata": {
    "id": "TbZL83ifHh10"
   }
  },
  {
   "cell_type": "code",
   "execution_count": null,
   "source": [
    "df_titles.dropDuplicates(subset=['startYear']).show()"
   ],
   "outputs": [],
   "metadata": {}
  },
  {
   "cell_type": "code",
   "execution_count": 27,
   "source": [
    "df_titles.select('startYear').distinct().show()"
   ],
   "outputs": [
    {
     "output_type": "stream",
     "name": "stdout",
     "text": [
      "+---------+\n",
      "|startYear|\n",
      "+---------+\n",
      "|     1903|\n",
      "|     1953|\n",
      "|     1897|\n",
      "|     1957|\n",
      "|     1987|\n",
      "|     1956|\n",
      "|     1936|\n",
      "|     2016|\n",
      "|     2020|\n",
      "|     2012|\n",
      "|     1958|\n",
      "|     1910|\n",
      "|     1943|\n",
      "|     1915|\n",
      "|     1972|\n",
      "|     1931|\n",
      "|     2026|\n",
      "|     1911|\n",
      "|     1926|\n",
      "|     1938|\n",
      "+---------+\n",
      "only showing top 20 rows\n",
      "\n"
     ]
    }
   ],
   "metadata": {
    "id": "cMug6VcsHoc9"
   }
  },
  {
   "cell_type": "code",
   "execution_count": 6,
   "source": [
    "df_titles.count()"
   ],
   "outputs": [
    {
     "output_type": "execute_result",
     "data": {
      "text/plain": [
       "8135937"
      ]
     },
     "metadata": {},
     "execution_count": 6
    }
   ],
   "metadata": {}
  },
  {
   "cell_type": "markdown",
   "source": [
    "### Filtros"
   ],
   "metadata": {
    "id": "UW-DEiXZolZf"
   }
  },
  {
   "cell_type": "markdown",
   "source": [
    "Operadores lógicos:\n",
    "* e: &\n",
    "* ou: |\n",
    "* não: ~\n",
    "\n",
    "Para fazer o filtro, pode ser utilizado tanto a função `filter()` como `where()`."
   ],
   "metadata": {
    "id": "ZbbP3O8NUvc8"
   }
  },
  {
   "cell_type": "markdown",
   "source": [
    "#### Filtros com uma condição"
   ],
   "metadata": {
    "id": "W9TJtlHtpSXP"
   }
  },
  {
   "cell_type": "code",
   "execution_count": 13,
   "source": [
    "(\n",
    "    df_titles.filter(~(col('titleType') == 'movie'))\n",
    "    .count()\n",
    ")"
   ],
   "outputs": [
    {
     "output_type": "execute_result",
     "data": {
      "text/plain": [
       "7551908"
      ]
     },
     "metadata": {},
     "execution_count": 13
    }
   ],
   "metadata": {
    "id": "ZIzjn9Ysopb7"
   }
  },
  {
   "cell_type": "code",
   "execution_count": 10,
   "source": [
    "(\n",
    "    df_titles.where(col('titleType') == 'movie')\n",
    "    .show(5)\n",
    ")"
   ],
   "outputs": [
    {
     "output_type": "stream",
     "name": "stdout",
     "text": [
      "+---------+---------+--------------------+--------------------+-------+---------+-------+--------------+--------------------+\n",
      "|   tconst|titleType|        primaryTitle|       originalTitle|isAdult|startYear|endYear|runtimeMinutes|              genres|\n",
      "+---------+---------+--------------------+--------------------+-------+---------+-------+--------------+--------------------+\n",
      "|tt0000502|    movie|            Bohemios|            Bohemios|      0|     1905|     \\N|           100|                  \\N|\n",
      "|tt0000574|    movie|The Story of the ...|The Story of the ...|      0|     1906|     \\N|            70|Action,Adventure,...|\n",
      "|tt0000591|    movie|    The Prodigal Son|   L'enfant prodigue|      0|     1907|     \\N|            90|               Drama|\n",
      "|tt0000615|    movie|  Robbery Under Arms|  Robbery Under Arms|      0|     1907|     \\N|            \\N|               Drama|\n",
      "|tt0000630|    movie|              Hamlet|              Amleto|      0|     1908|     \\N|            \\N|               Drama|\n",
      "+---------+---------+--------------------+--------------------+-------+---------+-------+--------------+--------------------+\n",
      "only showing top 5 rows\n",
      "\n"
     ]
    }
   ],
   "metadata": {
    "id": "U6wAVGwppMXC"
   }
  },
  {
   "cell_type": "markdown",
   "source": [
    "#### Filtros com duas ou mais condições\n",
    "Cada uma das condições deve estar entre parênteses e separada por um operador lógico. Naturalmente, é possível também \"aninhar\" condições, seguindo essa mesma lógica"
   ],
   "metadata": {
    "id": "18P2zY_mpW9z"
   }
  },
  {
   "cell_type": "code",
   "execution_count": 14,
   "source": [
    "(\n",
    "    df_titles.filter((col('titleType') == 'movie') & (col('runtimeMinutes') <= 90))\n",
    "    .show(5)\n",
    ")"
   ],
   "outputs": [
    {
     "output_type": "stream",
     "name": "stdout",
     "text": [
      "+---------+---------+--------------------+--------------------+-------+---------+-------+--------------+--------------------+\n",
      "|   tconst|titleType|        primaryTitle|       originalTitle|isAdult|startYear|endYear|runtimeMinutes|              genres|\n",
      "+---------+---------+--------------------+--------------------+-------+---------+-------+--------------+--------------------+\n",
      "|tt0000574|    movie|The Story of the ...|The Story of the ...|      0|     1906|     \\N|            70|Action,Adventure,...|\n",
      "|tt0000591|    movie|    The Prodigal Son|   L'enfant prodigue|      0|     1907|     \\N|            90|               Drama|\n",
      "|tt0001184|    movie|Don Juan de Serra...|Don Juan de Serra...|      0|     1910|     \\N|            58|     Adventure,Drama|\n",
      "|tt0001258|    movie|The White Slave T...|Den hvide slaveha...|      0|     1910|     \\N|            45|               Drama|\n",
      "|tt0001285|    movie|   The Life of Moses|   The Life of Moses|      0|     1909|     \\N|            50|Biography,Drama,F...|\n",
      "+---------+---------+--------------------+--------------------+-------+---------+-------+--------------+--------------------+\n",
      "only showing top 5 rows\n",
      "\n"
     ]
    }
   ],
   "metadata": {
    "id": "swJ6NhRWpQRn"
   }
  },
  {
   "cell_type": "code",
   "execution_count": 17,
   "source": [
    "(\n",
    "    df_titles.filter((col('titleType') == 'movie') & (col('runtimeMinutes') <= 90))\n",
    "    .count()\n",
    ")"
   ],
   "outputs": [
    {
     "output_type": "execute_result",
     "data": {
      "text/plain": [
       "212055"
      ]
     },
     "metadata": {},
     "execution_count": 17
    }
   ],
   "metadata": {
    "id": "swJ6NhRWpQRn"
   }
  },
  {
   "cell_type": "code",
   "execution_count": 16,
   "source": [
    "(\n",
    "    df_titles.filter(((col('titleType') == 'movie') | (col('titleType') == 'tvSeries')) & (col('runtimeMinutes') <= 90))\n",
    "    .count()\n",
    ")"
   ],
   "outputs": [
    {
     "output_type": "execute_result",
     "data": {
      "text/plain": [
       "292511"
      ]
     },
     "metadata": {},
     "execution_count": 16
    }
   ],
   "metadata": {
    "id": "96uyYvbHqPDg"
   }
  },
  {
   "cell_type": "code",
   "execution_count": 21,
   "source": [
    "(\n",
    "    df_titles.filter((col('titleType').isin('movie', 'tvSeries')) & (col('runtimeMinutes') <= 90))\n",
    "    .count()\n",
    ")"
   ],
   "outputs": [
    {
     "output_type": "execute_result",
     "data": {
      "text/plain": [
       "292511"
      ]
     },
     "metadata": {},
     "execution_count": 21
    }
   ],
   "metadata": {
    "id": "htiqqZERrLZT"
   }
  },
  {
   "cell_type": "code",
   "execution_count": 20,
   "source": [
    "(\n",
    "    df_titles\n",
    "    .filter(col('titleType').isin('movie','tvSeries'))\n",
    "    .filter(col('runtimeMinutes') <= 90)\n",
    "    .count()\n",
    ")"
   ],
   "outputs": [
    {
     "output_type": "execute_result",
     "data": {
      "text/plain": [
       "292511"
      ]
     },
     "metadata": {},
     "execution_count": 20
    }
   ],
   "metadata": {
    "id": "htiqqZERrLZT"
   }
  },
  {
   "cell_type": "markdown",
   "source": [
    "#### Filtros Utilizando Expressões"
   ],
   "metadata": {
    "id": "r7No5VU2qaXS"
   }
  },
  {
   "cell_type": "code",
   "execution_count": 22,
   "source": [
    "(\n",
    "    df_titles\n",
    "    .filter('titleType = \"movie\"')\n",
    "    .show(5)\n",
    ")"
   ],
   "outputs": [
    {
     "output_type": "stream",
     "name": "stdout",
     "text": [
      "+---------+---------+--------------------+--------------------+-------+---------+-------+--------------+--------------------+\n",
      "|   tconst|titleType|        primaryTitle|       originalTitle|isAdult|startYear|endYear|runtimeMinutes|              genres|\n",
      "+---------+---------+--------------------+--------------------+-------+---------+-------+--------------+--------------------+\n",
      "|tt0000502|    movie|            Bohemios|            Bohemios|      0|     1905|     \\N|           100|                  \\N|\n",
      "|tt0000574|    movie|The Story of the ...|The Story of the ...|      0|     1906|     \\N|            70|Action,Adventure,...|\n",
      "|tt0000591|    movie|    The Prodigal Son|   L'enfant prodigue|      0|     1907|     \\N|            90|               Drama|\n",
      "|tt0000615|    movie|  Robbery Under Arms|  Robbery Under Arms|      0|     1907|     \\N|            \\N|               Drama|\n",
      "|tt0000630|    movie|              Hamlet|              Amleto|      0|     1908|     \\N|            \\N|               Drama|\n",
      "+---------+---------+--------------------+--------------------+-------+---------+-------+--------------+--------------------+\n",
      "only showing top 5 rows\n",
      "\n"
     ]
    }
   ],
   "metadata": {
    "id": "TdDAkcx_qcud"
   }
  },
  {
   "cell_type": "code",
   "execution_count": 23,
   "source": [
    "(\n",
    "    df_titles\n",
    "    .filter('titleType in (\"movie\", \"tvSeries\") and runtimeMinutes <= 90')\n",
    "    .show(5)\n",
    ")"
   ],
   "outputs": [
    {
     "output_type": "stream",
     "name": "stdout",
     "text": [
      "+---------+---------+--------------------+--------------------+-------+---------+-------+--------------+--------------------+\n",
      "|   tconst|titleType|        primaryTitle|       originalTitle|isAdult|startYear|endYear|runtimeMinutes|              genres|\n",
      "+---------+---------+--------------------+--------------------+-------+---------+-------+--------------+--------------------+\n",
      "|tt0000574|    movie|The Story of the ...|The Story of the ...|      0|     1906|     \\N|            70|Action,Adventure,...|\n",
      "|tt0000591|    movie|    The Prodigal Son|   L'enfant prodigue|      0|     1907|     \\N|            90|               Drama|\n",
      "|tt0001184|    movie|Don Juan de Serra...|Don Juan de Serra...|      0|     1910|     \\N|            58|     Adventure,Drama|\n",
      "|tt0001258|    movie|The White Slave T...|Den hvide slaveha...|      0|     1910|     \\N|            45|               Drama|\n",
      "|tt0001285|    movie|   The Life of Moses|   The Life of Moses|      0|     1909|     \\N|            50|Biography,Drama,F...|\n",
      "+---------+---------+--------------------+--------------------+-------+---------+-------+--------------+--------------------+\n",
      "only showing top 5 rows\n",
      "\n"
     ]
    }
   ],
   "metadata": {
    "id": "UHojQs9HqdRI"
   }
  },
  {
   "cell_type": "markdown",
   "source": [
    "#### Observações\n",
    "Quando nos referimos às colunas por meio da função `col()`, temos acesso à diversos métodos das colunas que podem ser utilizados para auxliar na filtragem do DataFrame. Alguns deles são:\n",
    "* `isin()`: checa se a coluna contém os valores listados na função.\n",
    "* `contains()`: utilizado para verificar se uma coluna de texto contém algum padrão especificado (não aceita regex). Aceita uma outra coluna de texto.\n",
    "* `like()`: utilizado para verificar se uma coluna de texto contém algum padrão especificado (não aceita regex). Funciona de forma similar ao \"LIKE\" do SQL.\n",
    "* `rlike()`: utilizado para verificar se uma coluna de texto contém algum padrão especificado (**aceita regex**). Funciona de forma similar ao \"RLIKE\" do SQL.\n",
    "* `startswith()`: utilizado para verificar se uma coluna de texto começa com algum padrão especificado (**aceita regex**).\n",
    "* `endswith()`: utilizado para verificar se uma coluna de texto termina com algum padrão especificado (**aceita regex**).\n",
    "* `between()`: checa se os valores da coluna estão dentro do intervalo especificado. Os dois lados do intervalo são inclusivos.\n",
    "* `isNull()`: retorna True se o valor da coluna é nulo\n",
    "* `isNotNull()`: retorna True se o valor da coluna não é nulo\n",
    "\n",
    "Outros métodos úteis:\n",
    "* `alias()/name()`: usado para renomear as colunas em operações como select() e agg()\n",
    "* `astype()/cast()`: usado para mudar o tipo das colunas. Aceita tanto um string como um tipo especificado pelo módulo pyspark.sql.types\n",
    "* `substr()`: utilizado para cortar um string com base em índices dos caracteres "
   ],
   "metadata": {
    "id": "hIU3LBh9r6Y5"
   }
  },
  {
   "cell_type": "code",
   "execution_count": 25,
   "source": [
    "(\n",
    "    df_titles\n",
    "    .filter(col('primaryTitle').like('Avengers%'))\n",
    "    .filter(col('titleType') == 'movie')\n",
    "    .show()\n",
    ")"
   ],
   "outputs": [
    {
     "output_type": "stream",
     "name": "stdout",
     "text": [
      "+----------+---------+--------------------+--------------------+-------+---------+-------+--------------+--------------------+\n",
      "|    tconst|titleType|        primaryTitle|       originalTitle|isAdult|startYear|endYear|runtimeMinutes|              genres|\n",
      "+----------+---------+--------------------+--------------------+-------+---------+-------+--------------+--------------------+\n",
      "| tt0069746|    movie|Avengers of the Reef|Avengers of the Reef|      0|     1973|     \\N|            84|    Adventure,Family|\n",
      "| tt6172666|    movie|Avengers of Justi...|Avengers of Justi...|      0|     2018|     \\N|            87|Action,Comedy,Family|\n",
      "| tt4154756|    movie|Avengers: Infinit...|Avengers: Infinit...|      0|     2018|     \\N|           149|Action,Adventure,...|\n",
      "| tt4154796|    movie|   Avengers: Endgame|   Avengers: Endgame|      0|     2019|     \\N|           181|Action,Adventure,...|\n",
      "|tt13925114|    movie|Avengers: Infinit...|Avengers: Infinit...|      0|     2019|     \\N|           135|Action,Adventure,...|\n",
      "| tt2395427|    movie|Avengers: Age of ...|Avengers: Age of ...|      0|     2015|     \\N|           141|Action,Adventure,...|\n",
      "|tt11590024|    movie|          Avengers 5|  Avengers: Blue Sky|      0|     2024|     \\N|            \\N|                  \\N|\n",
      "| tt8875872|    movie|Avengers: Reassem...|Avengers: Reassem...|      0|     2018|     \\N|            52|              Sci-Fi|\n",
      "| tt9303032|    movie|    Avengers: Legacy|    Avengers: Legacy|      0|     2020|     \\N|            87|              Sci-Fi|\n",
      "+----------+---------+--------------------+--------------------+-------+---------+-------+--------------+--------------------+\n",
      "\n"
     ]
    }
   ],
   "metadata": {
    "id": "5_PLVkeDE5bO"
   }
  },
  {
   "cell_type": "code",
   "execution_count": 30,
   "source": [
    "(\n",
    "    df_titles\n",
    "    .withColumn('startYear', col(\"startYear\").cast('int'))\n",
    "    .filter('startYear is not null')\n",
    "    .show()\n",
    ")"
   ],
   "outputs": [
    {
     "output_type": "stream",
     "name": "stdout",
     "text": [
      "+---------+---------+--------------------+--------------------+-------+---------+-------+--------------+--------------------+\n",
      "|   tconst|titleType|        primaryTitle|       originalTitle|isAdult|startYear|endYear|runtimeMinutes|              genres|\n",
      "+---------+---------+--------------------+--------------------+-------+---------+-------+--------------+--------------------+\n",
      "|tt0000001|    short|          Carmencita|          Carmencita|      0|     1894|     \\N|             1|   Documentary,Short|\n",
      "|tt0000002|    short|Le clown et ses c...|Le clown et ses c...|      0|     1892|     \\N|             5|     Animation,Short|\n",
      "|tt0000003|    short|      Pauvre Pierrot|      Pauvre Pierrot|      0|     1892|     \\N|             4|Animation,Comedy,...|\n",
      "|tt0000004|    short|         Un bon bock|         Un bon bock|      0|     1892|     \\N|            12|     Animation,Short|\n",
      "|tt0000005|    short|    Blacksmith Scene|    Blacksmith Scene|      0|     1893|     \\N|             1|        Comedy,Short|\n",
      "|tt0000006|    short|   Chinese Opium Den|   Chinese Opium Den|      0|     1894|     \\N|             1|               Short|\n",
      "|tt0000007|    short|Corbett and Court...|Corbett and Court...|      0|     1894|     \\N|             1|         Short,Sport|\n",
      "|tt0000008|    short|Edison Kinetoscop...|Edison Kinetoscop...|      0|     1894|     \\N|             1|   Documentary,Short|\n",
      "|tt0000009|    short|          Miss Jerry|          Miss Jerry|      0|     1894|     \\N|            40|       Romance,Short|\n",
      "|tt0000010|    short| Leaving the Factory|La sortie de l'us...|      0|     1895|     \\N|             1|   Documentary,Short|\n",
      "|tt0000011|    short|Akrobatisches Pot...|Akrobatisches Pot...|      0|     1895|     \\N|             1|   Documentary,Short|\n",
      "|tt0000012|    short|The Arrival of a ...|L'arrivée d'un tr...|      0|     1896|     \\N|             1|   Documentary,Short|\n",
      "|tt0000013|    short|The Photographica...|Le débarquement d...|      0|     1895|     \\N|             1|   Documentary,Short|\n",
      "|tt0000014|    short| The Waterer Watered|   L'arroseur arrosé|      0|     1895|     \\N|             1|        Comedy,Short|\n",
      "|tt0000015|    short| Autour d'une cabine| Autour d'une cabine|      0|     1894|     \\N|             2|     Animation,Short|\n",
      "|tt0000016|    short|Boat Leaving the ...|Barque sortant du...|      0|     1895|     \\N|             1|   Documentary,Short|\n",
      "|tt0000017|    short|Italienischer Bau...|Italienischer Bau...|      0|     1895|     \\N|             1|   Documentary,Short|\n",
      "|tt0000018|    short|Das boxende Känguruh|Das boxende Känguruh|      0|     1895|     \\N|             1|               Short|\n",
      "|tt0000019|    short|    The Clown Barber|    The Clown Barber|      0|     1898|     \\N|            \\N|        Comedy,Short|\n",
      "|tt0000020|    short|      The Derby 1895|      The Derby 1895|      0|     1895|     \\N|             1|Documentary,Short...|\n",
      "+---------+---------+--------------------+--------------------+-------+---------+-------+--------------+--------------------+\n",
      "only showing top 20 rows\n",
      "\n"
     ]
    }
   ],
   "metadata": {
    "id": "5_PLVkeDE5bO"
   }
  },
  {
   "cell_type": "markdown",
   "source": [
    "### Ordenando o DataFrame"
   ],
   "metadata": {
    "id": "GGh6ifiDIM-P"
   }
  },
  {
   "cell_type": "markdown",
   "source": [
    "A ordenação do DataFrame pode ser feita utilizando as funções `orderBy()` ou `sort()`. Algumas funções auxiliares importante para serem usadas ao ordenar:\n",
    "* `asc()`: ordena a coluna de forma ascendente (default)\n",
    "* `desc()`ordena a coluna de forma decrescente\n",
    "* `asc_nulls_first() / desc_nulls_first()`: ordena a coluna de forma ascendente e decrescente, respectivamente, mantendo os campos nulos primeiro\n",
    "* `asc_nulls_last() / desc_nulls_last()`: ordena a coluna de forma ascendente e decrescente, respectivamente, mantendo os campos nulos por último"
   ],
   "metadata": {
    "id": "C6up9X4QJN1s"
   }
  },
  {
   "cell_type": "code",
   "execution_count": 31,
   "source": [
    "df_titles.show(5)"
   ],
   "outputs": [
    {
     "output_type": "stream",
     "name": "stdout",
     "text": [
      "+---------+---------+--------------------+--------------------+-------+---------+-------+--------------+--------------------+\n",
      "|   tconst|titleType|        primaryTitle|       originalTitle|isAdult|startYear|endYear|runtimeMinutes|              genres|\n",
      "+---------+---------+--------------------+--------------------+-------+---------+-------+--------------+--------------------+\n",
      "|tt0000001|    short|          Carmencita|          Carmencita|      0|     1894|     \\N|             1|   Documentary,Short|\n",
      "|tt0000002|    short|Le clown et ses c...|Le clown et ses c...|      0|     1892|     \\N|             5|     Animation,Short|\n",
      "|tt0000003|    short|      Pauvre Pierrot|      Pauvre Pierrot|      0|     1892|     \\N|             4|Animation,Comedy,...|\n",
      "|tt0000004|    short|         Un bon bock|         Un bon bock|      0|     1892|     \\N|            12|     Animation,Short|\n",
      "|tt0000005|    short|    Blacksmith Scene|    Blacksmith Scene|      0|     1893|     \\N|             1|        Comedy,Short|\n",
      "+---------+---------+--------------------+--------------------+-------+---------+-------+--------------+--------------------+\n",
      "only showing top 5 rows\n",
      "\n"
     ]
    }
   ],
   "metadata": {
    "scrolled": true
   }
  },
  {
   "cell_type": "code",
   "execution_count": 41,
   "source": [
    "from pyspark.sql.functions import desc\n",
    "\n",
    "(\n",
    "    df_titles\n",
    "    .withColumn('startYear', col('startYear').cast('int'))\n",
    "    .orderBy('startYear')\n",
    "    .filter('titleType = \"movie\"')\n",
    "    .show()\n",
    ")"
   ],
   "outputs": [
    {
     "output_type": "stream",
     "name": "stdout",
     "text": [
      "+---------+---------+--------------------+--------------------+-------+---------+-------+--------------+--------------------+\n",
      "|   tconst|titleType|        primaryTitle|       originalTitle|isAdult|startYear|endYear|runtimeMinutes|              genres|\n",
      "+---------+---------+--------------------+--------------------+-------+---------+-------+--------------+--------------------+\n",
      "|tt8559810|    movie|Napoleon: The Age...|Napoleon: The Age...|      0|     null|     \\N|            \\N|       Drama,History|\n",
      "|tt8559684|    movie|             Celador|             Celador|      0|     null|     \\N|            \\N|             Fantasy|\n",
      "|tt8556694|    movie| Soldiers of Fortune| Soldiers of Fortune|      0|     null|     \\N|            \\N|         Documentary|\n",
      "|tt8557172|    movie|   Open-Ended Ticket|   Open-Ended Ticket|      0|     null|     \\N|            \\N|               Drama|\n",
      "|tt8559938|    movie|        Broken Wings|        Broken Wings|      0|     null|     \\N|            \\N|Adventure,Drama,S...|\n",
      "|tt8557238|    movie|         Goose Green|         Goose Green|      0|     null|     \\N|            \\N|                 War|\n",
      "|tt8560420|    movie|             El Toro|             El Toro|      0|     null|     \\N|            48|         Documentary|\n",
      "|tt8557486|    movie|Take Down Coming ...|Take Down Coming ...|      0|     null|     \\N|            \\N|               Drama|\n",
      "|tt8560648|    movie|The Last Video Store|The Last Video Store|      0|     null|     \\N|            \\N|        Comedy,Drama|\n",
      "|tt8559692|    movie|      Stay the Night|      Stay the Night|      0|     null|     \\N|            \\N|              Horror|\n",
      "|tt8560858|    movie|         The Murphys|         The Murphys|      0|     null|     \\N|            \\N|               Drama|\n",
      "|tt8558510|    movie|              Utopia|              Utopia|      0|     null|     \\N|            45|         Documentary|\n",
      "|tt8560876|    movie|             NorJack|             NorJack|      0|     null|     \\N|            \\N|            Thriller|\n",
      "|tt8559298|    movie|The Last Weekend ...|The Last Weekend ...|      0|     null|     \\N|            \\N|               Drama|\n",
      "|tt8561200|    movie|           Aftermath|           Aftermath|      0|     null|     \\N|            \\N|        Action,Drama|\n",
      "|tt8559518|    movie|Untitled Drama Pr...|Untitled Drama Pr...|      0|     null|     \\N|            \\N|                  \\N|\n",
      "|tt8561306|    movie|       The Construct|       The Construct|      0|     null|     \\N|            \\N|     Sci-Fi,Thriller|\n",
      "|tt8557224|    movie|                Drip|                Drip|      0|     null|     \\N|            \\N|              Horror|\n",
      "|tt8561358|    movie|                 POZ|                 POZ|      0|     null|     \\N|            \\N|         Documentary|\n",
      "|tt8558190|    movie|            Infinity|            Infinity|      0|     null|     \\N|            \\N|        Drama,Sci-Fi|\n",
      "+---------+---------+--------------------+--------------------+-------+---------+-------+--------------+--------------------+\n",
      "only showing top 20 rows\n",
      "\n"
     ]
    }
   ],
   "metadata": {
    "id": "GF4v4b-rISVe"
   }
  },
  {
   "cell_type": "code",
   "execution_count": 47,
   "source": [
    "from pyspark.sql.functions import desc_nulls_first\n",
    "\n",
    "(\n",
    "    df_titles\n",
    "    .withColumn('startYear', col('startYear').cast('int'))\n",
    "    .orderBy(desc_nulls_first('startYear'))\n",
    "    .show()\n",
    ")"
   ],
   "outputs": [
    {
     "output_type": "stream",
     "name": "stdout",
     "text": [
      "+---------+---------+--------------------+--------------------+-------+---------+-------+--------------+--------------------+\n",
      "|   tconst|titleType|        primaryTitle|       originalTitle|isAdult|startYear|endYear|runtimeMinutes|              genres|\n",
      "+---------+---------+--------------------+--------------------+-------+---------+-------+--------------+--------------------+\n",
      "|tt8558520| tvSeries|Untitled Jake Pau...|Untitled Jake Pau...|      0|     null|     \\N|            \\N|           Talk-Show|\n",
      "|tt8558550|tvEpisode|        Episode #1.1|        Episode #1.1|      0|     null|     \\N|            \\N|               Sport|\n",
      "|tt8558552|tvEpisode|        Episode #1.2|        Episode #1.2|      0|     null|     \\N|            \\N|               Sport|\n",
      "|tt8558510|    movie|              Utopia|              Utopia|      0|     null|     \\N|            45|         Documentary|\n",
      "|tt8558554|tvEpisode|        Episode #1.3|        Episode #1.3|      0|     null|     \\N|            \\N|               Sport|\n",
      "|tt8556692|videoGame|Agents of S.H.E.L.L.|Agents of S.H.E.L.L.|      0|     null|     \\N|            \\N|Action,Comedy,Sci-Fi|\n",
      "|tt8558556|tvEpisode|        Episode #1.4|        Episode #1.4|      0|     null|     \\N|            \\N|               Sport|\n",
      "|tt8556694|    movie| Soldiers of Fortune| Soldiers of Fortune|      0|     null|     \\N|            \\N|         Documentary|\n",
      "|tt8558558|tvEpisode|        Episode #1.5|        Episode #1.5|      0|     null|     \\N|            \\N|               Sport|\n",
      "|tt8557238|    movie|         Goose Green|         Goose Green|      0|     null|     \\N|            \\N|                 War|\n",
      "|tt8558562|tvEpisode|        Episode #1.6|        Episode #1.6|      0|     null|     \\N|            \\N|               Sport|\n",
      "|tt8557462|    movie|              S-Town|              S-Town|      0|     null|     \\N|            \\N|         Crime,Drama|\n",
      "|tt8558564|tvEpisode|        Episode #1.7|        Episode #1.7|      0|     null|     \\N|            \\N|               Sport|\n",
      "|tt8558190|    movie|            Infinity|            Infinity|      0|     null|     \\N|            \\N|        Drama,Sci-Fi|\n",
      "|tt8558566|tvEpisode|        Episode #1.8|        Episode #1.8|      0|     null|     \\N|            \\N|               Sport|\n",
      "|tt8558436| tvSeries|     Close To Heaven|     Close To Heaven|      0|     null|     \\N|            \\N|                  \\N|\n",
      "|tt8558568|tvEpisode|        Episode #1.9|        Episode #1.9|      0|     null|     \\N|            \\N|               Sport|\n",
      "|tt8558524| tvSeries|    Living the Dream|    Living the Dream|      0|     null|     \\N|            \\N|              Comedy|\n",
      "|tt8558570|tvEpisode|       Episode #1.10|       Episode #1.10|      0|     null|     \\N|            \\N|               Sport|\n",
      "|tt8558634| tvSeries|    Unmasking Murder|    Unmasking Murder|      0|     null|     \\N|            \\N|               Drama|\n",
      "+---------+---------+--------------------+--------------------+-------+---------+-------+--------------+--------------------+\n",
      "only showing top 20 rows\n",
      "\n"
     ]
    }
   ],
   "metadata": {
    "id": "eo_SkepdIdsH"
   }
  },
  {
   "cell_type": "markdown",
   "source": [
    "### Renomeando Colunas"
   ],
   "metadata": {
    "id": "JejMRib9v7Ji"
   }
  },
  {
   "cell_type": "markdown",
   "source": [
    "Para renomear colunas, é utilizada a função `withColumnRenamed()`, da seguinte forma:\n",
    "\n",
    "```\n",
    "df.withColumnRenamed(\"nome_antigo\", \"nome_novo\")\n",
    "```"
   ],
   "metadata": {
    "id": "A-r10heJh5BD"
   }
  },
  {
   "cell_type": "code",
   "execution_count": 48,
   "source": [
    "(\n",
    "    df_titles\n",
    "    .withColumnRenamed('primaryTitle', 'nome_filme')\n",
    "    .show(5)\n",
    ")"
   ],
   "outputs": [
    {
     "output_type": "stream",
     "name": "stdout",
     "text": [
      "+---------+---------+--------------------+--------------------+-------+---------+-------+--------------+--------------------+\n",
      "|   tconst|titleType|          nome_filme|       originalTitle|isAdult|startYear|endYear|runtimeMinutes|              genres|\n",
      "+---------+---------+--------------------+--------------------+-------+---------+-------+--------------+--------------------+\n",
      "|tt0000001|    short|          Carmencita|          Carmencita|      0|     1894|     \\N|             1|   Documentary,Short|\n",
      "|tt0000002|    short|Le clown et ses c...|Le clown et ses c...|      0|     1892|     \\N|             5|     Animation,Short|\n",
      "|tt0000003|    short|      Pauvre Pierrot|      Pauvre Pierrot|      0|     1892|     \\N|             4|Animation,Comedy,...|\n",
      "|tt0000004|    short|         Un bon bock|         Un bon bock|      0|     1892|     \\N|            12|     Animation,Short|\n",
      "|tt0000005|    short|    Blacksmith Scene|    Blacksmith Scene|      0|     1893|     \\N|             1|        Comedy,Short|\n",
      "+---------+---------+--------------------+--------------------+-------+---------+-------+--------------+--------------------+\n",
      "only showing top 5 rows\n",
      "\n"
     ]
    }
   ],
   "metadata": {
    "id": "_xyy0dtprVDN"
   }
  },
  {
   "cell_type": "code",
   "execution_count": 54,
   "source": [
    "(\n",
    "    df_titles\n",
    "    .withColumnRenamed('primaryTitle', 'nome_filme')\n",
    "    .selectExpr('*', 'runtimeMinutes + 1')   \n",
    "    .limit(5)\n",
    "    .toPandas()\n",
    ")"
   ],
   "outputs": [
    {
     "output_type": "execute_result",
     "data": {
      "text/plain": [
       "      tconst titleType              nome_filme           originalTitle  \\\n",
       "0  tt0000001     short              Carmencita              Carmencita   \n",
       "1  tt0000002     short  Le clown et ses chiens  Le clown et ses chiens   \n",
       "2  tt0000003     short          Pauvre Pierrot          Pauvre Pierrot   \n",
       "3  tt0000004     short             Un bon bock             Un bon bock   \n",
       "4  tt0000005     short        Blacksmith Scene        Blacksmith Scene   \n",
       "\n",
       "  isAdult startYear endYear runtimeMinutes                    genres  \\\n",
       "0       0      1894      \\N              1         Documentary,Short   \n",
       "1       0      1892      \\N              5           Animation,Short   \n",
       "2       0      1892      \\N              4  Animation,Comedy,Romance   \n",
       "3       0      1892      \\N             12           Animation,Short   \n",
       "4       0      1893      \\N              1              Comedy,Short   \n",
       "\n",
       "   (runtimeMinutes + 1)  \n",
       "0                   2.0  \n",
       "1                   6.0  \n",
       "2                   5.0  \n",
       "3                  13.0  \n",
       "4                   2.0  "
      ],
      "text/html": [
       "<div>\n",
       "<style scoped>\n",
       "    .dataframe tbody tr th:only-of-type {\n",
       "        vertical-align: middle;\n",
       "    }\n",
       "\n",
       "    .dataframe tbody tr th {\n",
       "        vertical-align: top;\n",
       "    }\n",
       "\n",
       "    .dataframe thead th {\n",
       "        text-align: right;\n",
       "    }\n",
       "</style>\n",
       "<table border=\"1\" class=\"dataframe\">\n",
       "  <thead>\n",
       "    <tr style=\"text-align: right;\">\n",
       "      <th></th>\n",
       "      <th>tconst</th>\n",
       "      <th>titleType</th>\n",
       "      <th>nome_filme</th>\n",
       "      <th>originalTitle</th>\n",
       "      <th>isAdult</th>\n",
       "      <th>startYear</th>\n",
       "      <th>endYear</th>\n",
       "      <th>runtimeMinutes</th>\n",
       "      <th>genres</th>\n",
       "      <th>(runtimeMinutes + 1)</th>\n",
       "    </tr>\n",
       "  </thead>\n",
       "  <tbody>\n",
       "    <tr>\n",
       "      <th>0</th>\n",
       "      <td>tt0000001</td>\n",
       "      <td>short</td>\n",
       "      <td>Carmencita</td>\n",
       "      <td>Carmencita</td>\n",
       "      <td>0</td>\n",
       "      <td>1894</td>\n",
       "      <td>\\N</td>\n",
       "      <td>1</td>\n",
       "      <td>Documentary,Short</td>\n",
       "      <td>2.0</td>\n",
       "    </tr>\n",
       "    <tr>\n",
       "      <th>1</th>\n",
       "      <td>tt0000002</td>\n",
       "      <td>short</td>\n",
       "      <td>Le clown et ses chiens</td>\n",
       "      <td>Le clown et ses chiens</td>\n",
       "      <td>0</td>\n",
       "      <td>1892</td>\n",
       "      <td>\\N</td>\n",
       "      <td>5</td>\n",
       "      <td>Animation,Short</td>\n",
       "      <td>6.0</td>\n",
       "    </tr>\n",
       "    <tr>\n",
       "      <th>2</th>\n",
       "      <td>tt0000003</td>\n",
       "      <td>short</td>\n",
       "      <td>Pauvre Pierrot</td>\n",
       "      <td>Pauvre Pierrot</td>\n",
       "      <td>0</td>\n",
       "      <td>1892</td>\n",
       "      <td>\\N</td>\n",
       "      <td>4</td>\n",
       "      <td>Animation,Comedy,Romance</td>\n",
       "      <td>5.0</td>\n",
       "    </tr>\n",
       "    <tr>\n",
       "      <th>3</th>\n",
       "      <td>tt0000004</td>\n",
       "      <td>short</td>\n",
       "      <td>Un bon bock</td>\n",
       "      <td>Un bon bock</td>\n",
       "      <td>0</td>\n",
       "      <td>1892</td>\n",
       "      <td>\\N</td>\n",
       "      <td>12</td>\n",
       "      <td>Animation,Short</td>\n",
       "      <td>13.0</td>\n",
       "    </tr>\n",
       "    <tr>\n",
       "      <th>4</th>\n",
       "      <td>tt0000005</td>\n",
       "      <td>short</td>\n",
       "      <td>Blacksmith Scene</td>\n",
       "      <td>Blacksmith Scene</td>\n",
       "      <td>0</td>\n",
       "      <td>1893</td>\n",
       "      <td>\\N</td>\n",
       "      <td>1</td>\n",
       "      <td>Comedy,Short</td>\n",
       "      <td>2.0</td>\n",
       "    </tr>\n",
       "  </tbody>\n",
       "</table>\n",
       "</div>"
      ]
     },
     "metadata": {},
     "execution_count": 54
    }
   ],
   "metadata": {
    "id": "zFb_oCxiwR5x"
   }
  },
  {
   "cell_type": "code",
   "execution_count": 56,
   "source": [
    "(\n",
    "    df_titles.selectExpr('primaryTitle as nome_filme', 'titleType', 'startYear', 'runtimeMinutes')\n",
    "    .show(5)\n",
    ")"
   ],
   "outputs": [
    {
     "output_type": "stream",
     "name": "stdout",
     "text": [
      "+--------------------+---------+---------+--------------+\n",
      "|          nome_filme|titleType|startYear|runtimeMinutes|\n",
      "+--------------------+---------+---------+--------------+\n",
      "|          Carmencita|    short|     1894|             1|\n",
      "|Le clown et ses c...|    short|     1892|             5|\n",
      "|      Pauvre Pierrot|    short|     1892|             4|\n",
      "|         Un bon bock|    short|     1892|            12|\n",
      "|    Blacksmith Scene|    short|     1893|             1|\n",
      "+--------------------+---------+---------+--------------+\n",
      "only showing top 5 rows\n",
      "\n"
     ]
    }
   ],
   "metadata": {
    "id": "KaJUiP71UG0w"
   }
  },
  {
   "cell_type": "code",
   "execution_count": 63,
   "source": [
    "df_renamed = df_titles\n",
    "for c in df_titles.columns:\n",
    "    df_renamed = df_renamed.withColumnRenamed(c, c + '_suffix')\n",
    "\n",
    "df_renamed.limit(5).toPandas()"
   ],
   "outputs": [
    {
     "output_type": "execute_result",
     "data": {
      "text/plain": [
       "  tconst_suffix titleType_suffix     primaryTitle_suffix  \\\n",
       "0     tt0000001            short              Carmencita   \n",
       "1     tt0000002            short  Le clown et ses chiens   \n",
       "2     tt0000003            short          Pauvre Pierrot   \n",
       "3     tt0000004            short             Un bon bock   \n",
       "4     tt0000005            short        Blacksmith Scene   \n",
       "\n",
       "     originalTitle_suffix isAdult_suffix startYear_suffix endYear_suffix  \\\n",
       "0              Carmencita              0             1894             \\N   \n",
       "1  Le clown et ses chiens              0             1892             \\N   \n",
       "2          Pauvre Pierrot              0             1892             \\N   \n",
       "3             Un bon bock              0             1892             \\N   \n",
       "4        Blacksmith Scene              0             1893             \\N   \n",
       "\n",
       "  runtimeMinutes_suffix             genres_suffix  \n",
       "0                     1         Documentary,Short  \n",
       "1                     5           Animation,Short  \n",
       "2                     4  Animation,Comedy,Romance  \n",
       "3                    12           Animation,Short  \n",
       "4                     1              Comedy,Short  "
      ],
      "text/html": [
       "<div>\n",
       "<style scoped>\n",
       "    .dataframe tbody tr th:only-of-type {\n",
       "        vertical-align: middle;\n",
       "    }\n",
       "\n",
       "    .dataframe tbody tr th {\n",
       "        vertical-align: top;\n",
       "    }\n",
       "\n",
       "    .dataframe thead th {\n",
       "        text-align: right;\n",
       "    }\n",
       "</style>\n",
       "<table border=\"1\" class=\"dataframe\">\n",
       "  <thead>\n",
       "    <tr style=\"text-align: right;\">\n",
       "      <th></th>\n",
       "      <th>tconst_suffix</th>\n",
       "      <th>titleType_suffix</th>\n",
       "      <th>primaryTitle_suffix</th>\n",
       "      <th>originalTitle_suffix</th>\n",
       "      <th>isAdult_suffix</th>\n",
       "      <th>startYear_suffix</th>\n",
       "      <th>endYear_suffix</th>\n",
       "      <th>runtimeMinutes_suffix</th>\n",
       "      <th>genres_suffix</th>\n",
       "    </tr>\n",
       "  </thead>\n",
       "  <tbody>\n",
       "    <tr>\n",
       "      <th>0</th>\n",
       "      <td>tt0000001</td>\n",
       "      <td>short</td>\n",
       "      <td>Carmencita</td>\n",
       "      <td>Carmencita</td>\n",
       "      <td>0</td>\n",
       "      <td>1894</td>\n",
       "      <td>\\N</td>\n",
       "      <td>1</td>\n",
       "      <td>Documentary,Short</td>\n",
       "    </tr>\n",
       "    <tr>\n",
       "      <th>1</th>\n",
       "      <td>tt0000002</td>\n",
       "      <td>short</td>\n",
       "      <td>Le clown et ses chiens</td>\n",
       "      <td>Le clown et ses chiens</td>\n",
       "      <td>0</td>\n",
       "      <td>1892</td>\n",
       "      <td>\\N</td>\n",
       "      <td>5</td>\n",
       "      <td>Animation,Short</td>\n",
       "    </tr>\n",
       "    <tr>\n",
       "      <th>2</th>\n",
       "      <td>tt0000003</td>\n",
       "      <td>short</td>\n",
       "      <td>Pauvre Pierrot</td>\n",
       "      <td>Pauvre Pierrot</td>\n",
       "      <td>0</td>\n",
       "      <td>1892</td>\n",
       "      <td>\\N</td>\n",
       "      <td>4</td>\n",
       "      <td>Animation,Comedy,Romance</td>\n",
       "    </tr>\n",
       "    <tr>\n",
       "      <th>3</th>\n",
       "      <td>tt0000004</td>\n",
       "      <td>short</td>\n",
       "      <td>Un bon bock</td>\n",
       "      <td>Un bon bock</td>\n",
       "      <td>0</td>\n",
       "      <td>1892</td>\n",
       "      <td>\\N</td>\n",
       "      <td>12</td>\n",
       "      <td>Animation,Short</td>\n",
       "    </tr>\n",
       "    <tr>\n",
       "      <th>4</th>\n",
       "      <td>tt0000005</td>\n",
       "      <td>short</td>\n",
       "      <td>Blacksmith Scene</td>\n",
       "      <td>Blacksmith Scene</td>\n",
       "      <td>0</td>\n",
       "      <td>1893</td>\n",
       "      <td>\\N</td>\n",
       "      <td>1</td>\n",
       "      <td>Comedy,Short</td>\n",
       "    </tr>\n",
       "  </tbody>\n",
       "</table>\n",
       "</div>"
      ]
     },
     "metadata": {},
     "execution_count": 63
    }
   ],
   "metadata": {}
  },
  {
   "cell_type": "markdown",
   "source": [
    "### Criando e Alterando Colunas"
   ],
   "metadata": {
    "id": "pKIqUor1wars"
   }
  },
  {
   "cell_type": "markdown",
   "source": [
    "Para criar ou alterar colunas, é utilizada a função `withColumn()`, da seguinte forma:\n",
    "\n",
    "```\n",
    "df.withColumn(\"nome_da_coluna\", {expressão geradora de coluna})\n",
    "```"
   ],
   "metadata": {
    "id": "Jz8P4W7Rh5BE"
   }
  },
  {
   "cell_type": "code",
   "execution_count": 67,
   "source": [
    "from pyspark.sql.functions import upper\n",
    "\n",
    "(\n",
    "    df_titles\n",
    "    .select('tconst', 'primaryTitle', 'runtimeMinutes', )\n",
    "    .withColumn(\"primaryTitle_2\", upper('primaryTitle'))\n",
    "    .show(5)\n",
    ")"
   ],
   "outputs": [
    {
     "output_type": "stream",
     "name": "stdout",
     "text": [
      "+---------+--------------------+--------------+--------------------+\n",
      "|   tconst|        primaryTitle|runtimeMinutes|      primaryTitle_2|\n",
      "+---------+--------------------+--------------+--------------------+\n",
      "|tt0000001|          Carmencita|             1|          CARMENCITA|\n",
      "|tt0000002|Le clown et ses c...|             5|LE CLOWN ET SES C...|\n",
      "|tt0000003|      Pauvre Pierrot|             4|      PAUVRE PIERROT|\n",
      "|tt0000004|         Un bon bock|            12|         UN BON BOCK|\n",
      "|tt0000005|    Blacksmith Scene|             1|    BLACKSMITH SCENE|\n",
      "+---------+--------------------+--------------+--------------------+\n",
      "only showing top 5 rows\n",
      "\n"
     ]
    }
   ],
   "metadata": {
    "id": "L1vsXYn7xScI"
   }
  },
  {
   "cell_type": "markdown",
   "source": [
    "#### Criando colunas a partir de constantes"
   ],
   "metadata": {}
  },
  {
   "cell_type": "code",
   "execution_count": 71,
   "source": [
    "from pyspark.sql.functions import lit\n",
    "\n",
    "(\n",
    "    df_titles\n",
    "    .select('tconst', 'primaryTitle', 'runtimeMinutes', )\n",
    "    .withColumn(\"pais\", lit('Brasil'))\n",
    "    .show(5)\n",
    ")"
   ],
   "outputs": [
    {
     "output_type": "stream",
     "name": "stdout",
     "text": [
      "+---------+--------------------+--------------+------+\n",
      "|   tconst|        primaryTitle|runtimeMinutes|  pais|\n",
      "+---------+--------------------+--------------+------+\n",
      "|tt0000001|          Carmencita|             1|Brasil|\n",
      "|tt0000002|Le clown et ses c...|             5|Brasil|\n",
      "|tt0000003|      Pauvre Pierrot|             4|Brasil|\n",
      "|tt0000004|         Un bon bock|            12|Brasil|\n",
      "|tt0000005|    Blacksmith Scene|             1|Brasil|\n",
      "+---------+--------------------+--------------+------+\n",
      "only showing top 5 rows\n",
      "\n"
     ]
    }
   ],
   "metadata": {
    "id": "thEM8FvOwcce"
   }
  },
  {
   "cell_type": "markdown",
   "source": [
    "#### Criando colunas condicionais"
   ],
   "metadata": {}
  },
  {
   "cell_type": "code",
   "execution_count": 77,
   "source": [
    "from pyspark.sql.functions import when, expr\n",
    "\n",
    "predicado = \"\"\"\n",
    "\n",
    "CASE WHEN runTimeMinutes <= 60 THEN 'curto'\n",
    "     WHEN runTimeMinutes > 60 AND runTimeMinutes < 120 THEN 'normal'\n",
    "     WHEN runTimeMinutes >= 120 THEN 'longo'\n",
    "     WHEN runTimeMinutes IS NULL THEN 'nulo'\n",
    "     ELSE 'Erro'\n",
    "END\n",
    "\n",
    "\"\"\"\n",
    "\n",
    "(\n",
    "    df_titles\n",
    "    .select('tconst', 'primaryTitle', 'runtimeMinutes', )\n",
    "    .withColumn(\"runtimeMinutes\", col('runTimeMinutes').cast('int'))\n",
    "    .withColumn(\"categoria_runtime\", expr(predicado))\n",
    "    .filter('runTimeMinutes > 60')\n",
    "    .show(25)\n",
    ")"
   ],
   "outputs": [
    {
     "output_type": "stream",
     "name": "stdout",
     "text": [
      "+---------+--------------------+--------------+-----------------+\n",
      "|   tconst|        primaryTitle|runtimeMinutes|categoria_runtime|\n",
      "+---------+--------------------+--------------+-----------------+\n",
      "|tt0000502|            Bohemios|           100|           normal|\n",
      "|tt0000574|The Story of the ...|            70|           normal|\n",
      "|tt0000591|    The Prodigal Son|            90|           normal|\n",
      "|tt0000679|The Fairylogue an...|           120|            longo|\n",
      "|tt0001756|Lucha por la here...|            92|           normal|\n",
      "|tt0002026|Anny - Story of a...|            68|           normal|\n",
      "|tt0002101|           Cleopatra|           100|           normal|\n",
      "|tt0002130|     Dante's Inferno|            71|           normal|\n",
      "|tt0002315|El lobo de la sierra|            76|           normal|\n",
      "|tt0002423|             Passion|            85|           normal|\n",
      "|tt0002445|          Quo Vadis?|           120|            longo|\n",
      "|tt0002452|The Independence ...|           120|            longo|\n",
      "|tt0002625|          Ana Kadova|            92|           normal|\n",
      "|tt0002646|            Atlantis|           121|            longo|\n",
      "|tt0002685|        Blodets röst|            89|           normal|\n",
      "|tt0002767|The Count of Mont...|            69|           normal|\n",
      "|tt0002820|          East Lynne|            69|           normal|\n",
      "|tt0002885|   From Dusk to Dawn|            90|           normal|\n",
      "|tt0002898|Germinal; or, The...|           150|            longo|\n",
      "|tt0002922|              Hamlet|            64|           normal|\n",
      "|tt0002973|Dr. Mawson in the...|            68|           normal|\n",
      "|tt0003014|       Ingeborg Holm|            96|           normal|\n",
      "|tt0003037|Fantomas: The Man...|            61|           normal|\n",
      "|tt0003076|   Livets konflikter|            64|           normal|\n",
      "|tt0003102|    Love Everlasting|            90|           normal|\n",
      "+---------+--------------------+--------------+-----------------+\n",
      "only showing top 25 rows\n",
      "\n"
     ]
    }
   ],
   "metadata": {}
  },
  {
   "cell_type": "markdown",
   "source": [
    "## Trabalhando com Diferentes Tipos de Dados"
   ],
   "metadata": {}
  },
  {
   "cell_type": "code",
   "execution_count": 6,
   "source": [
    "import pyspark.sql.functions as f"
   ],
   "outputs": [],
   "metadata": {}
  },
  {
   "cell_type": "markdown",
   "source": [
    "### Valores Numéricos"
   ],
   "metadata": {}
  },
  {
   "cell_type": "markdown",
   "source": [
    "* `round()`: arredonda o valor numérico\n",
    "* `ceil()`: arredonda o valor numérico para o maior inteiro mais próximo\n",
    "* `floor()`: arredonda o valor numérico para o menor inteiro mais próximo\n",
    "* `sqrt()`: retorna a raiz quadrada do valor\n",
    "* `exp()`: retorna a exponencial do valor\n",
    "* `log()`: retorna a logaritmo natural do valor\n",
    "* `log10()`: retorna a logaritmo na base 10 do valor\n",
    "* `greatest()`: retorna o maior valor dentre os valores das colunas. Análogo ao `max()`, mas entre colunas\n",
    "* `least()`: retorna o menor valor dentre os valores das colunas. Análogo ao `min()`, mas entre colunas"
   ],
   "metadata": {
    "id": "uCzezW9xh5BF"
   }
  },
  {
   "cell_type": "code",
   "execution_count": 27,
   "source": [
    "df_titles.show(5)"
   ],
   "outputs": [
    {
     "output_type": "stream",
     "name": "stdout",
     "text": [
      "+---------+---------+--------------------+--------------------+-------+---------+-------+--------------+--------------------+\n",
      "|   tconst|titleType|        primaryTitle|       originalTitle|isAdult|startYear|endYear|runtimeMinutes|              genres|\n",
      "+---------+---------+--------------------+--------------------+-------+---------+-------+--------------+--------------------+\n",
      "|tt0000001|    short|          Carmencita|          Carmencita|      0|     1894|     \\N|             1|   Documentary,Short|\n",
      "|tt0000002|    short|Le clown et ses c...|Le clown et ses c...|      0|     1892|     \\N|             5|     Animation,Short|\n",
      "|tt0000003|    short|      Pauvre Pierrot|      Pauvre Pierrot|      0|     1892|     \\N|             4|Animation,Comedy,...|\n",
      "|tt0000004|    short|         Un bon bock|         Un bon bock|      0|     1892|     \\N|            12|     Animation,Short|\n",
      "|tt0000005|    short|    Blacksmith Scene|    Blacksmith Scene|      0|     1893|     \\N|             1|        Comedy,Short|\n",
      "+---------+---------+--------------------+--------------------+-------+---------+-------+--------------+--------------------+\n",
      "only showing top 5 rows\n",
      "\n"
     ]
    }
   ],
   "metadata": {
    "id": "NmeJ_geEE5bp"
   }
  },
  {
   "cell_type": "code",
   "execution_count": 47,
   "source": [
    "(\n",
    "    df_titles\n",
    "    .withColumn('runtimeMinutes', f.col('runtimeMinutes').cast('int'))\n",
    "    .withColumn('random_normal', f.randn(123))\n",
    "    .withColumn('dummy_division', f.col('runtimeMinutes') / f.col('random_normal'))\n",
    "    .withColumn('round_example', f.round(f.col('dummy_division'), 3))\n",
    "    .withColumn('ceil_example', f.ceil(f.col('dummy_division')))\n",
    "    .withColumn('floor_example', f.floor(f.col('dummy_division')))\n",
    "    .withColumn('greatest_example', f.greatest(f.col('random_normal'), f.col('runtimeMinutes'), f.lit(15)))\n",
    "    .withColumn('least_example', f.least(f.col('random_normal'), f.col('runtimeMinutes'), f.lit(-15)))\n",
    "    .limit(5)\n",
    "    .toPandas()\n",
    ")"
   ],
   "outputs": [
    {
     "output_type": "execute_result",
     "data": {
      "text/plain": [
       "      tconst titleType            primaryTitle           originalTitle  \\\n",
       "0  tt0000001     short              Carmencita              Carmencita   \n",
       "1  tt0000002     short  Le clown et ses chiens  Le clown et ses chiens   \n",
       "2  tt0000003     short          Pauvre Pierrot          Pauvre Pierrot   \n",
       "3  tt0000004     short             Un bon bock             Un bon bock   \n",
       "4  tt0000005     short        Blacksmith Scene        Blacksmith Scene   \n",
       "\n",
       "  isAdult startYear endYear  runtimeMinutes                    genres  \\\n",
       "0       0      1894      \\N               1         Documentary,Short   \n",
       "1       0      1892      \\N               5           Animation,Short   \n",
       "2       0      1892      \\N               4  Animation,Comedy,Romance   \n",
       "3       0      1892      \\N              12           Animation,Short   \n",
       "4       0      1893      \\N               1              Comedy,Short   \n",
       "\n",
       "   random_normal  dummy_division  round_example  ceil_example  floor_example  \\\n",
       "0      -0.992755       -1.007298         -1.007            -1             -2   \n",
       "1       0.431839       11.578388         11.578            12             11   \n",
       "2       0.250836       15.946656         15.947            16             15   \n",
       "3      -0.104760     -114.547432       -114.547          -114           -115   \n",
       "4      -1.301178       -0.768534         -0.769             0             -1   \n",
       "\n",
       "   greatest_example  least_example  \n",
       "0              15.0          -15.0  \n",
       "1              15.0          -15.0  \n",
       "2              15.0          -15.0  \n",
       "3              15.0          -15.0  \n",
       "4              15.0          -15.0  "
      ],
      "text/html": [
       "<div>\n",
       "<style scoped>\n",
       "    .dataframe tbody tr th:only-of-type {\n",
       "        vertical-align: middle;\n",
       "    }\n",
       "\n",
       "    .dataframe tbody tr th {\n",
       "        vertical-align: top;\n",
       "    }\n",
       "\n",
       "    .dataframe thead th {\n",
       "        text-align: right;\n",
       "    }\n",
       "</style>\n",
       "<table border=\"1\" class=\"dataframe\">\n",
       "  <thead>\n",
       "    <tr style=\"text-align: right;\">\n",
       "      <th></th>\n",
       "      <th>tconst</th>\n",
       "      <th>titleType</th>\n",
       "      <th>primaryTitle</th>\n",
       "      <th>originalTitle</th>\n",
       "      <th>isAdult</th>\n",
       "      <th>startYear</th>\n",
       "      <th>endYear</th>\n",
       "      <th>runtimeMinutes</th>\n",
       "      <th>genres</th>\n",
       "      <th>random_normal</th>\n",
       "      <th>dummy_division</th>\n",
       "      <th>round_example</th>\n",
       "      <th>ceil_example</th>\n",
       "      <th>floor_example</th>\n",
       "      <th>greatest_example</th>\n",
       "      <th>least_example</th>\n",
       "    </tr>\n",
       "  </thead>\n",
       "  <tbody>\n",
       "    <tr>\n",
       "      <th>0</th>\n",
       "      <td>tt0000001</td>\n",
       "      <td>short</td>\n",
       "      <td>Carmencita</td>\n",
       "      <td>Carmencita</td>\n",
       "      <td>0</td>\n",
       "      <td>1894</td>\n",
       "      <td>\\N</td>\n",
       "      <td>1</td>\n",
       "      <td>Documentary,Short</td>\n",
       "      <td>-0.992755</td>\n",
       "      <td>-1.007298</td>\n",
       "      <td>-1.007</td>\n",
       "      <td>-1</td>\n",
       "      <td>-2</td>\n",
       "      <td>15.0</td>\n",
       "      <td>-15.0</td>\n",
       "    </tr>\n",
       "    <tr>\n",
       "      <th>1</th>\n",
       "      <td>tt0000002</td>\n",
       "      <td>short</td>\n",
       "      <td>Le clown et ses chiens</td>\n",
       "      <td>Le clown et ses chiens</td>\n",
       "      <td>0</td>\n",
       "      <td>1892</td>\n",
       "      <td>\\N</td>\n",
       "      <td>5</td>\n",
       "      <td>Animation,Short</td>\n",
       "      <td>0.431839</td>\n",
       "      <td>11.578388</td>\n",
       "      <td>11.578</td>\n",
       "      <td>12</td>\n",
       "      <td>11</td>\n",
       "      <td>15.0</td>\n",
       "      <td>-15.0</td>\n",
       "    </tr>\n",
       "    <tr>\n",
       "      <th>2</th>\n",
       "      <td>tt0000003</td>\n",
       "      <td>short</td>\n",
       "      <td>Pauvre Pierrot</td>\n",
       "      <td>Pauvre Pierrot</td>\n",
       "      <td>0</td>\n",
       "      <td>1892</td>\n",
       "      <td>\\N</td>\n",
       "      <td>4</td>\n",
       "      <td>Animation,Comedy,Romance</td>\n",
       "      <td>0.250836</td>\n",
       "      <td>15.946656</td>\n",
       "      <td>15.947</td>\n",
       "      <td>16</td>\n",
       "      <td>15</td>\n",
       "      <td>15.0</td>\n",
       "      <td>-15.0</td>\n",
       "    </tr>\n",
       "    <tr>\n",
       "      <th>3</th>\n",
       "      <td>tt0000004</td>\n",
       "      <td>short</td>\n",
       "      <td>Un bon bock</td>\n",
       "      <td>Un bon bock</td>\n",
       "      <td>0</td>\n",
       "      <td>1892</td>\n",
       "      <td>\\N</td>\n",
       "      <td>12</td>\n",
       "      <td>Animation,Short</td>\n",
       "      <td>-0.104760</td>\n",
       "      <td>-114.547432</td>\n",
       "      <td>-114.547</td>\n",
       "      <td>-114</td>\n",
       "      <td>-115</td>\n",
       "      <td>15.0</td>\n",
       "      <td>-15.0</td>\n",
       "    </tr>\n",
       "    <tr>\n",
       "      <th>4</th>\n",
       "      <td>tt0000005</td>\n",
       "      <td>short</td>\n",
       "      <td>Blacksmith Scene</td>\n",
       "      <td>Blacksmith Scene</td>\n",
       "      <td>0</td>\n",
       "      <td>1893</td>\n",
       "      <td>\\N</td>\n",
       "      <td>1</td>\n",
       "      <td>Comedy,Short</td>\n",
       "      <td>-1.301178</td>\n",
       "      <td>-0.768534</td>\n",
       "      <td>-0.769</td>\n",
       "      <td>0</td>\n",
       "      <td>-1</td>\n",
       "      <td>15.0</td>\n",
       "      <td>-15.0</td>\n",
       "    </tr>\n",
       "  </tbody>\n",
       "</table>\n",
       "</div>"
      ]
     },
     "metadata": {},
     "execution_count": 47
    }
   ],
   "metadata": {
    "colab": {
     "base_uri": "https://localhost:8080/",
     "height": 231
    },
    "id": "HlzB4Uc_h5BF",
    "outputId": "063cdb5f-7c10-4cd7-c26f-418a17d22836"
   }
  },
  {
   "cell_type": "markdown",
   "source": [
    "### Strings"
   ],
   "metadata": {
    "id": "oQvPk4SPTkdk"
   }
  },
  {
   "cell_type": "markdown",
   "source": [
    "* `upper()`: retorna o string em letras maiúsculas\n",
    "* `lower()`: retorna o string em letras minúsculas\n",
    "* `initcap()`: retorna a primeira letra de cada palavra no string em letras maiúsculas\n",
    "* `trim()`: retira os espaços em branco do início e do final do string\n",
    "* `ltrim() / rtrim()`: retira os espaços em branco do início e do final do string, respectivamente\n",
    "* `lpad() / rpad()`: acrescenta um caractere no início e no final do string, respectivamente, até que o string tenha um determinado comprimento\n",
    "* `length()`: retorna o comprimento do string, em quantidade de caracteres\n",
    "* `split()`: quebra o string a partir de um padrão e retorna um array com os string resultantes\n",
    "* `concat()`: concatena uma ou mais colunas de string\n",
    "* `concat_ws()`: concatena uma ou mais colunas de string, com um separador entre elas\n",
    "* `regexp_extract()`: retorna um match no string a partir de um padrão regex\n",
    "* `regexp_replace()`: substitui um mtach no strinf a partir de um padrão regex com outros caracteres\n",
    "* `substring()`: retorna os caracteres do string que estão entre dos indices especificados. Análogo a `f.col().substring()`"
   ],
   "metadata": {
    "id": "j1j1Ittgh5BG"
   }
  },
  {
   "cell_type": "code",
   "execution_count": 71,
   "source": [
    "(\n",
    "    df_titles\n",
    "    .withColumn('primaryTitle', f.initcap(f.col('primaryTitle')))\n",
    "    .withColumn('titleType', f.trim(f.initcap(f.col('titleType'))))\n",
    "    .withColumn('genres_array', f.split(f.col('genres'), ','))\n",
    "    .withColumn('num_const', f.substring(f.col('tconst'), 3, 7))\n",
    "    .withColumn('full_name', f.concat_ws(' / ', f.col('primaryTitle'), f.col('originalTitle')))\n",
    "    .limit(5)\n",
    "    .toPandas()\n",
    ")"
   ],
   "outputs": [
    {
     "output_type": "execute_result",
     "data": {
      "text/plain": [
       "      tconst titleType            primaryTitle           originalTitle  \\\n",
       "0  tt0000001     Short              Carmencita              Carmencita   \n",
       "1  tt0000002     Short  Le Clown Et Ses Chiens  Le clown et ses chiens   \n",
       "2  tt0000003     Short          Pauvre Pierrot          Pauvre Pierrot   \n",
       "3  tt0000004     Short             Un Bon Bock             Un bon bock   \n",
       "4  tt0000005     Short        Blacksmith Scene        Blacksmith Scene   \n",
       "\n",
       "  isAdult startYear endYear runtimeMinutes                    genres  \\\n",
       "0       0      1894      \\N              1         Documentary,Short   \n",
       "1       0      1892      \\N              5           Animation,Short   \n",
       "2       0      1892      \\N              4  Animation,Comedy,Romance   \n",
       "3       0      1892      \\N             12           Animation,Short   \n",
       "4       0      1893      \\N              1              Comedy,Short   \n",
       "\n",
       "                   genres_array num_const  \\\n",
       "0          [Documentary, Short]   0000001   \n",
       "1            [Animation, Short]   0000002   \n",
       "2  [Animation, Comedy, Romance]   0000003   \n",
       "3            [Animation, Short]   0000004   \n",
       "4               [Comedy, Short]   0000005   \n",
       "\n",
       "                                         full_name  \n",
       "0                          Carmencita / Carmencita  \n",
       "1  Le Clown Et Ses Chiens / Le clown et ses chiens  \n",
       "2                  Pauvre Pierrot / Pauvre Pierrot  \n",
       "3                        Un Bon Bock / Un bon bock  \n",
       "4              Blacksmith Scene / Blacksmith Scene  "
      ],
      "text/html": [
       "<div>\n",
       "<style scoped>\n",
       "    .dataframe tbody tr th:only-of-type {\n",
       "        vertical-align: middle;\n",
       "    }\n",
       "\n",
       "    .dataframe tbody tr th {\n",
       "        vertical-align: top;\n",
       "    }\n",
       "\n",
       "    .dataframe thead th {\n",
       "        text-align: right;\n",
       "    }\n",
       "</style>\n",
       "<table border=\"1\" class=\"dataframe\">\n",
       "  <thead>\n",
       "    <tr style=\"text-align: right;\">\n",
       "      <th></th>\n",
       "      <th>tconst</th>\n",
       "      <th>titleType</th>\n",
       "      <th>primaryTitle</th>\n",
       "      <th>originalTitle</th>\n",
       "      <th>isAdult</th>\n",
       "      <th>startYear</th>\n",
       "      <th>endYear</th>\n",
       "      <th>runtimeMinutes</th>\n",
       "      <th>genres</th>\n",
       "      <th>genres_array</th>\n",
       "      <th>num_const</th>\n",
       "      <th>full_name</th>\n",
       "    </tr>\n",
       "  </thead>\n",
       "  <tbody>\n",
       "    <tr>\n",
       "      <th>0</th>\n",
       "      <td>tt0000001</td>\n",
       "      <td>Short</td>\n",
       "      <td>Carmencita</td>\n",
       "      <td>Carmencita</td>\n",
       "      <td>0</td>\n",
       "      <td>1894</td>\n",
       "      <td>\\N</td>\n",
       "      <td>1</td>\n",
       "      <td>Documentary,Short</td>\n",
       "      <td>[Documentary, Short]</td>\n",
       "      <td>0000001</td>\n",
       "      <td>Carmencita / Carmencita</td>\n",
       "    </tr>\n",
       "    <tr>\n",
       "      <th>1</th>\n",
       "      <td>tt0000002</td>\n",
       "      <td>Short</td>\n",
       "      <td>Le Clown Et Ses Chiens</td>\n",
       "      <td>Le clown et ses chiens</td>\n",
       "      <td>0</td>\n",
       "      <td>1892</td>\n",
       "      <td>\\N</td>\n",
       "      <td>5</td>\n",
       "      <td>Animation,Short</td>\n",
       "      <td>[Animation, Short]</td>\n",
       "      <td>0000002</td>\n",
       "      <td>Le Clown Et Ses Chiens / Le clown et ses chiens</td>\n",
       "    </tr>\n",
       "    <tr>\n",
       "      <th>2</th>\n",
       "      <td>tt0000003</td>\n",
       "      <td>Short</td>\n",
       "      <td>Pauvre Pierrot</td>\n",
       "      <td>Pauvre Pierrot</td>\n",
       "      <td>0</td>\n",
       "      <td>1892</td>\n",
       "      <td>\\N</td>\n",
       "      <td>4</td>\n",
       "      <td>Animation,Comedy,Romance</td>\n",
       "      <td>[Animation, Comedy, Romance]</td>\n",
       "      <td>0000003</td>\n",
       "      <td>Pauvre Pierrot / Pauvre Pierrot</td>\n",
       "    </tr>\n",
       "    <tr>\n",
       "      <th>3</th>\n",
       "      <td>tt0000004</td>\n",
       "      <td>Short</td>\n",
       "      <td>Un Bon Bock</td>\n",
       "      <td>Un bon bock</td>\n",
       "      <td>0</td>\n",
       "      <td>1892</td>\n",
       "      <td>\\N</td>\n",
       "      <td>12</td>\n",
       "      <td>Animation,Short</td>\n",
       "      <td>[Animation, Short]</td>\n",
       "      <td>0000004</td>\n",
       "      <td>Un Bon Bock / Un bon bock</td>\n",
       "    </tr>\n",
       "    <tr>\n",
       "      <th>4</th>\n",
       "      <td>tt0000005</td>\n",
       "      <td>Short</td>\n",
       "      <td>Blacksmith Scene</td>\n",
       "      <td>Blacksmith Scene</td>\n",
       "      <td>0</td>\n",
       "      <td>1893</td>\n",
       "      <td>\\N</td>\n",
       "      <td>1</td>\n",
       "      <td>Comedy,Short</td>\n",
       "      <td>[Comedy, Short]</td>\n",
       "      <td>0000005</td>\n",
       "      <td>Blacksmith Scene / Blacksmith Scene</td>\n",
       "    </tr>\n",
       "  </tbody>\n",
       "</table>\n",
       "</div>"
      ]
     },
     "metadata": {},
     "execution_count": 71
    }
   ],
   "metadata": {
    "id": "ngM_eRsjh5BG"
   }
  },
  {
   "cell_type": "markdown",
   "source": [
    "### Datas"
   ],
   "metadata": {
    "id": "eKVMhOAfTsmM"
   }
  },
  {
   "cell_type": "markdown",
   "source": [
    "* `add_months()`: retorna a data depois de adicionar \"x\" meses\n",
    "* `months_between()`: retorna a diferença entre duas datas em meses\n",
    "* `date_add()`: retorna a data depois de adicionar \"x\" dias\n",
    "* `date_sub()`: retorna a data depois de subtrair \"x\" dias\n",
    "* `next_day()`: retorna o dia seguinte de alguma data\n",
    "* `datediff()`: retorna a diferença entre duas datas em dias\n",
    "* `current_date()`: retorna a data atual\n",
    "* `dayofweek() / dayofmonth() / dayofyear()`: retorna o dia relativo à semana, ao mês e ao ano, respectivamente\n",
    "* `weekofyear()`: retorna a semana relativa ao ano\n",
    "* `second() / minute() / hour()`: retorna os segundos, os minutos e as horas de uma coluna de date-time, respectivamente\n",
    "* `month() / year()`: retorna o mês e o ano de uma coluna de data, respectivamente\n",
    "* `last_day()`: retorna o último dia do mês do qual a data considerada pertence\n",
    "* `to_date()`: transforma a coluna no tipo data (t.DateType())\n",
    "* `trunc()`: formata a data para a unidade especificada\n",
    "    * `year`: \"{ano}-01-01\"\n",
    "    * `month`: \"{ano}-{mes}-01\""
   ],
   "metadata": {
    "id": "JrrlFbRNj_go"
   }
  },
  {
   "cell_type": "code",
   "execution_count": 86,
   "source": [
    "(\n",
    "    df_titles\n",
    "    .filter('titleType = \"movie\"')\n",
    "    .withColumn('data_ano', f.to_date(f.col('startYear'), 'yyyy'))\n",
    "    .withColumn('mes', f.month(f.col('data_ano')))\n",
    "    .withColumn('dia', f.dayofmonth(f.col('data_ano')))\n",
    "    .withColumn('hoje', f.current_date())\n",
    "    .withColumn('data_mes', f.trunc(f.col('hoje'), 'month'))\n",
    "    .withColumn('ultimo_dia_mes', f.last_day(f.col('data_ano')))\n",
    "    .withColumn('idade_filme_dias', f.datediff(f.col('hoje'), f.col('data_ano')))\n",
    "    .withColumn('idade_filme_meses', f.floor(f.months_between(f.col('hoje'), f.col('data_ano'))))\n",
    "    .withColumn('idade_filme_anos', f.floor(f.col('idade_filme_dias') / 365))\n",
    "    .limit(5)\n",
    "    .toPandas()\n",
    ")"
   ],
   "outputs": [
    {
     "output_type": "execute_result",
     "data": {
      "text/plain": [
       "      tconst titleType                 primaryTitle  \\\n",
       "0  tt0000502     movie                     Bohemios   \n",
       "1  tt0000574     movie  The Story of the Kelly Gang   \n",
       "2  tt0000591     movie             The Prodigal Son   \n",
       "3  tt0000615     movie           Robbery Under Arms   \n",
       "4  tt0000630     movie                       Hamlet   \n",
       "\n",
       "                 originalTitle isAdult startYear endYear runtimeMinutes  \\\n",
       "0                     Bohemios       0      1905      \\N            100   \n",
       "1  The Story of the Kelly Gang       0      1906      \\N             70   \n",
       "2            L'enfant prodigue       0      1907      \\N             90   \n",
       "3           Robbery Under Arms       0      1907      \\N             \\N   \n",
       "4                       Amleto       0      1908      \\N             \\N   \n",
       "\n",
       "                       genres    data_ano  mes  dia        hoje    data_mes  \\\n",
       "0                          \\N  1905-01-01    1    1  2021-08-23  2021-08-01   \n",
       "1  Action,Adventure,Biography  1906-01-01    1    1  2021-08-23  2021-08-01   \n",
       "2                       Drama  1907-01-01    1    1  2021-08-23  2021-08-01   \n",
       "3                       Drama  1907-01-01    1    1  2021-08-23  2021-08-01   \n",
       "4                       Drama  1908-01-01    1    1  2021-08-23  2021-08-01   \n",
       "\n",
       "  ultimo_dia_mes  idade_filme_dias  idade_filme_meses  idade_filme_anos  \n",
       "0     1905-01-31             42603               1399               116  \n",
       "1     1906-01-31             42238               1387               115  \n",
       "2     1907-01-31             41873               1375               114  \n",
       "3     1907-01-31             41873               1375               114  \n",
       "4     1908-01-31             41508               1363               113  "
      ],
      "text/html": [
       "<div>\n",
       "<style scoped>\n",
       "    .dataframe tbody tr th:only-of-type {\n",
       "        vertical-align: middle;\n",
       "    }\n",
       "\n",
       "    .dataframe tbody tr th {\n",
       "        vertical-align: top;\n",
       "    }\n",
       "\n",
       "    .dataframe thead th {\n",
       "        text-align: right;\n",
       "    }\n",
       "</style>\n",
       "<table border=\"1\" class=\"dataframe\">\n",
       "  <thead>\n",
       "    <tr style=\"text-align: right;\">\n",
       "      <th></th>\n",
       "      <th>tconst</th>\n",
       "      <th>titleType</th>\n",
       "      <th>primaryTitle</th>\n",
       "      <th>originalTitle</th>\n",
       "      <th>isAdult</th>\n",
       "      <th>startYear</th>\n",
       "      <th>endYear</th>\n",
       "      <th>runtimeMinutes</th>\n",
       "      <th>genres</th>\n",
       "      <th>data_ano</th>\n",
       "      <th>mes</th>\n",
       "      <th>dia</th>\n",
       "      <th>hoje</th>\n",
       "      <th>data_mes</th>\n",
       "      <th>ultimo_dia_mes</th>\n",
       "      <th>idade_filme_dias</th>\n",
       "      <th>idade_filme_meses</th>\n",
       "      <th>idade_filme_anos</th>\n",
       "    </tr>\n",
       "  </thead>\n",
       "  <tbody>\n",
       "    <tr>\n",
       "      <th>0</th>\n",
       "      <td>tt0000502</td>\n",
       "      <td>movie</td>\n",
       "      <td>Bohemios</td>\n",
       "      <td>Bohemios</td>\n",
       "      <td>0</td>\n",
       "      <td>1905</td>\n",
       "      <td>\\N</td>\n",
       "      <td>100</td>\n",
       "      <td>\\N</td>\n",
       "      <td>1905-01-01</td>\n",
       "      <td>1</td>\n",
       "      <td>1</td>\n",
       "      <td>2021-08-23</td>\n",
       "      <td>2021-08-01</td>\n",
       "      <td>1905-01-31</td>\n",
       "      <td>42603</td>\n",
       "      <td>1399</td>\n",
       "      <td>116</td>\n",
       "    </tr>\n",
       "    <tr>\n",
       "      <th>1</th>\n",
       "      <td>tt0000574</td>\n",
       "      <td>movie</td>\n",
       "      <td>The Story of the Kelly Gang</td>\n",
       "      <td>The Story of the Kelly Gang</td>\n",
       "      <td>0</td>\n",
       "      <td>1906</td>\n",
       "      <td>\\N</td>\n",
       "      <td>70</td>\n",
       "      <td>Action,Adventure,Biography</td>\n",
       "      <td>1906-01-01</td>\n",
       "      <td>1</td>\n",
       "      <td>1</td>\n",
       "      <td>2021-08-23</td>\n",
       "      <td>2021-08-01</td>\n",
       "      <td>1906-01-31</td>\n",
       "      <td>42238</td>\n",
       "      <td>1387</td>\n",
       "      <td>115</td>\n",
       "    </tr>\n",
       "    <tr>\n",
       "      <th>2</th>\n",
       "      <td>tt0000591</td>\n",
       "      <td>movie</td>\n",
       "      <td>The Prodigal Son</td>\n",
       "      <td>L'enfant prodigue</td>\n",
       "      <td>0</td>\n",
       "      <td>1907</td>\n",
       "      <td>\\N</td>\n",
       "      <td>90</td>\n",
       "      <td>Drama</td>\n",
       "      <td>1907-01-01</td>\n",
       "      <td>1</td>\n",
       "      <td>1</td>\n",
       "      <td>2021-08-23</td>\n",
       "      <td>2021-08-01</td>\n",
       "      <td>1907-01-31</td>\n",
       "      <td>41873</td>\n",
       "      <td>1375</td>\n",
       "      <td>114</td>\n",
       "    </tr>\n",
       "    <tr>\n",
       "      <th>3</th>\n",
       "      <td>tt0000615</td>\n",
       "      <td>movie</td>\n",
       "      <td>Robbery Under Arms</td>\n",
       "      <td>Robbery Under Arms</td>\n",
       "      <td>0</td>\n",
       "      <td>1907</td>\n",
       "      <td>\\N</td>\n",
       "      <td>\\N</td>\n",
       "      <td>Drama</td>\n",
       "      <td>1907-01-01</td>\n",
       "      <td>1</td>\n",
       "      <td>1</td>\n",
       "      <td>2021-08-23</td>\n",
       "      <td>2021-08-01</td>\n",
       "      <td>1907-01-31</td>\n",
       "      <td>41873</td>\n",
       "      <td>1375</td>\n",
       "      <td>114</td>\n",
       "    </tr>\n",
       "    <tr>\n",
       "      <th>4</th>\n",
       "      <td>tt0000630</td>\n",
       "      <td>movie</td>\n",
       "      <td>Hamlet</td>\n",
       "      <td>Amleto</td>\n",
       "      <td>0</td>\n",
       "      <td>1908</td>\n",
       "      <td>\\N</td>\n",
       "      <td>\\N</td>\n",
       "      <td>Drama</td>\n",
       "      <td>1908-01-01</td>\n",
       "      <td>1</td>\n",
       "      <td>1</td>\n",
       "      <td>2021-08-23</td>\n",
       "      <td>2021-08-01</td>\n",
       "      <td>1908-01-31</td>\n",
       "      <td>41508</td>\n",
       "      <td>1363</td>\n",
       "      <td>113</td>\n",
       "    </tr>\n",
       "  </tbody>\n",
       "</table>\n",
       "</div>"
      ]
     },
     "metadata": {},
     "execution_count": 86
    }
   ],
   "metadata": {
    "id": "7F5v6idlE5bx"
   }
  },
  {
   "cell_type": "markdown",
   "source": [
    "### Arrays"
   ],
   "metadata": {
    "id": "FWysp8iLTt5k"
   }
  },
  {
   "cell_type": "markdown",
   "source": [
    "* `array()`: constrói um array com as colunas selecionadas\n",
    "* `flatten()`: transforma um array de arrays em um unico array\n",
    "* `explode()`: retorna uma nova linha para cada elemento no array \n",
    "* `size()`: retorna o número de elementos no array\n",
    "* `sort_array()`: ordena os elementos do array, de forma crescente ou decrescente\n",
    "* `reverse()`: reverte a ordem dos elementos de um array\n",
    "* `array_distinct()`: remove elementos duplicados do array\n",
    "* `array_contains()`: verifica se o array contém o elemento especificado\n",
    "* `arrays_overlap()`: partir de 2 colunas de arrays, verifica se elas tem algum elemento em comum, retornando True ou False\n",
    "* `array_union()`: a partir de 2 colunas de arrays, retorna um array com os elementos unidos das duas colunas, sem duplicatas\n",
    "* `array_except()`: a partir de 2 colunas de arrays, retorna um array com os elementos que estão em uma coluna mas não estão na outra, sem duplicatas\n",
    "* `array_intersect()`: a partir de 2 colunas de arrays, retorna um array com os elementos que nas duas colunas, sem duplicatas\n",
    "* `array_join()`: retorna um string após concatenar os elementos do array usando o delimitador especificado\n",
    "* `array_max() / array_min()`: retorna o máximo e o mínimo valor do array, respectivamente\n",
    "* `array_remove()`: remove todos os elementos do array que são iguais ao valor especificado\n"
   ],
   "metadata": {
    "id": "BbMH_cDYh5BH"
   }
  },
  {
   "cell_type": "code",
   "execution_count": 98,
   "source": [
    "(\n",
    "    df_titles\n",
    "    .filter('titleType = \"movie\"')\n",
    "    .withColumn('genres_array', f.split(f.col('genres'), ','))\n",
    "#     .withColumn('first_genre', f.col('genres_array')[0])\n",
    "#     .withColumn('second_genre', f.col('genres_array').getItem(1))\n",
    "#     .withColumn('genres_string', f.array_join(f.col('genres_array'), ','))\n",
    "#     .withColumn('n_genres', f.size(f.col('genres_array')))\n",
    "#     .filter('n_genres >= 3')\n",
    "    .withColumn('genres_unico', f.explode(f.col('genres_array')))\n",
    "    .limit(5)\n",
    "    .toPandas()\n",
    ")"
   ],
   "outputs": [
    {
     "output_type": "execute_result",
     "data": {
      "text/plain": [
       "      tconst titleType                 primaryTitle  \\\n",
       "0  tt0000502     movie                     Bohemios   \n",
       "1  tt0000574     movie  The Story of the Kelly Gang   \n",
       "2  tt0000574     movie  The Story of the Kelly Gang   \n",
       "3  tt0000574     movie  The Story of the Kelly Gang   \n",
       "4  tt0000591     movie             The Prodigal Son   \n",
       "\n",
       "                 originalTitle isAdult startYear endYear runtimeMinutes  \\\n",
       "0                     Bohemios       0      1905      \\N            100   \n",
       "1  The Story of the Kelly Gang       0      1906      \\N             70   \n",
       "2  The Story of the Kelly Gang       0      1906      \\N             70   \n",
       "3  The Story of the Kelly Gang       0      1906      \\N             70   \n",
       "4            L'enfant prodigue       0      1907      \\N             90   \n",
       "\n",
       "                       genres                    genres_array genres_unico  \n",
       "0                          \\N                            [\\N]           \\N  \n",
       "1  Action,Adventure,Biography  [Action, Adventure, Biography]       Action  \n",
       "2  Action,Adventure,Biography  [Action, Adventure, Biography]    Adventure  \n",
       "3  Action,Adventure,Biography  [Action, Adventure, Biography]    Biography  \n",
       "4                       Drama                         [Drama]        Drama  "
      ],
      "text/html": [
       "<div>\n",
       "<style scoped>\n",
       "    .dataframe tbody tr th:only-of-type {\n",
       "        vertical-align: middle;\n",
       "    }\n",
       "\n",
       "    .dataframe tbody tr th {\n",
       "        vertical-align: top;\n",
       "    }\n",
       "\n",
       "    .dataframe thead th {\n",
       "        text-align: right;\n",
       "    }\n",
       "</style>\n",
       "<table border=\"1\" class=\"dataframe\">\n",
       "  <thead>\n",
       "    <tr style=\"text-align: right;\">\n",
       "      <th></th>\n",
       "      <th>tconst</th>\n",
       "      <th>titleType</th>\n",
       "      <th>primaryTitle</th>\n",
       "      <th>originalTitle</th>\n",
       "      <th>isAdult</th>\n",
       "      <th>startYear</th>\n",
       "      <th>endYear</th>\n",
       "      <th>runtimeMinutes</th>\n",
       "      <th>genres</th>\n",
       "      <th>genres_array</th>\n",
       "      <th>genres_unico</th>\n",
       "    </tr>\n",
       "  </thead>\n",
       "  <tbody>\n",
       "    <tr>\n",
       "      <th>0</th>\n",
       "      <td>tt0000502</td>\n",
       "      <td>movie</td>\n",
       "      <td>Bohemios</td>\n",
       "      <td>Bohemios</td>\n",
       "      <td>0</td>\n",
       "      <td>1905</td>\n",
       "      <td>\\N</td>\n",
       "      <td>100</td>\n",
       "      <td>\\N</td>\n",
       "      <td>[\\N]</td>\n",
       "      <td>\\N</td>\n",
       "    </tr>\n",
       "    <tr>\n",
       "      <th>1</th>\n",
       "      <td>tt0000574</td>\n",
       "      <td>movie</td>\n",
       "      <td>The Story of the Kelly Gang</td>\n",
       "      <td>The Story of the Kelly Gang</td>\n",
       "      <td>0</td>\n",
       "      <td>1906</td>\n",
       "      <td>\\N</td>\n",
       "      <td>70</td>\n",
       "      <td>Action,Adventure,Biography</td>\n",
       "      <td>[Action, Adventure, Biography]</td>\n",
       "      <td>Action</td>\n",
       "    </tr>\n",
       "    <tr>\n",
       "      <th>2</th>\n",
       "      <td>tt0000574</td>\n",
       "      <td>movie</td>\n",
       "      <td>The Story of the Kelly Gang</td>\n",
       "      <td>The Story of the Kelly Gang</td>\n",
       "      <td>0</td>\n",
       "      <td>1906</td>\n",
       "      <td>\\N</td>\n",
       "      <td>70</td>\n",
       "      <td>Action,Adventure,Biography</td>\n",
       "      <td>[Action, Adventure, Biography]</td>\n",
       "      <td>Adventure</td>\n",
       "    </tr>\n",
       "    <tr>\n",
       "      <th>3</th>\n",
       "      <td>tt0000574</td>\n",
       "      <td>movie</td>\n",
       "      <td>The Story of the Kelly Gang</td>\n",
       "      <td>The Story of the Kelly Gang</td>\n",
       "      <td>0</td>\n",
       "      <td>1906</td>\n",
       "      <td>\\N</td>\n",
       "      <td>70</td>\n",
       "      <td>Action,Adventure,Biography</td>\n",
       "      <td>[Action, Adventure, Biography]</td>\n",
       "      <td>Biography</td>\n",
       "    </tr>\n",
       "    <tr>\n",
       "      <th>4</th>\n",
       "      <td>tt0000591</td>\n",
       "      <td>movie</td>\n",
       "      <td>The Prodigal Son</td>\n",
       "      <td>L'enfant prodigue</td>\n",
       "      <td>0</td>\n",
       "      <td>1907</td>\n",
       "      <td>\\N</td>\n",
       "      <td>90</td>\n",
       "      <td>Drama</td>\n",
       "      <td>[Drama]</td>\n",
       "      <td>Drama</td>\n",
       "    </tr>\n",
       "  </tbody>\n",
       "</table>\n",
       "</div>"
      ]
     },
     "metadata": {},
     "execution_count": 98
    }
   ],
   "metadata": {
    "id": "34ohzsBCE5b0"
   }
  },
  {
   "cell_type": "markdown",
   "source": [
    "### Nulos"
   ],
   "metadata": {
    "id": "FWysp8iLTt5k"
   }
  },
  {
   "cell_type": "markdown",
   "source": [
    "* `drop()`: retira do DataFrame as linhas com nulos, com base no que foi passado para o argumento how\n",
    "    * any (default): retira todas as linhas com pelo menos um valor nulo nas colunas\n",
    "    * all: somente retira as linhas com todos os valores nulos nas colunas\n",
    "* `fill()`: preenche os valores nulos no DataFrame com uma constante, passada pelo usuário\n",
    "* `replace()`: substitui o valor (não somente os valores nulos) por algum outro passado pelo usuário\n",
    "\n"
   ],
   "metadata": {
    "id": "BbMH_cDYh5BH"
   }
  },
  {
   "cell_type": "code",
   "execution_count": 126,
   "source": [
    "(\n",
    "    df_titles\n",
    "    .replace('\\\\N', None, subset=['startYear', 'endYear', 'runtimeMinutes'])\n",
    "    .filter(\"startYear is null and runtimeMinutes is not null\")\n",
    "#     .na.fill('Não se sabe', subset=['startYear'])\n",
    "#     .orderBy(f.asc_nulls_first('endYear'))\n",
    "#     .na.drop(subset=['startYear'])\n",
    "    .withColumn('coalesce_test', f.coalesce(f.col(\"startYear\"), f.col(\"runtimeMinutes\"), f.lit('Sem ano')))\n",
    "    .limit(5)\n",
    "    .toPandas()\n",
    ")"
   ],
   "outputs": [
    {
     "output_type": "execute_result",
     "data": {
      "text/plain": [
       "      tconst  titleType              primaryTitle             originalTitle  \\\n",
       "0  tt0067098  tvEpisode               Willi Forst               Willi Forst   \n",
       "1  tt0073399      movie     Atlantic City Jackpot                 The Money   \n",
       "2  tt0090238      movie  Unternehmen Geigenkasten  Unternehmen Geigenkasten   \n",
       "3  tt0098828   tvSeries  Idol Angel Yohkoso Yohko  Idol Angel Yohkoso Yohko   \n",
       "4  tt0102172  tvEpisode              Episode #1.2              Episode #1.2   \n",
       "\n",
       "  isAdult startYear endYear runtimeMinutes            genres coalesce_test  \n",
       "0       0      None    None             55                \\N            55  \n",
       "1       0      None    None             88      Action,Drama            88  \n",
       "2       0      None    None             82      Crime,Family            82  \n",
       "3       0      None    None             23  Animation,Comedy            23  \n",
       "4       0      None    None             81     Drama,History            81  "
      ],
      "text/html": [
       "<div>\n",
       "<style scoped>\n",
       "    .dataframe tbody tr th:only-of-type {\n",
       "        vertical-align: middle;\n",
       "    }\n",
       "\n",
       "    .dataframe tbody tr th {\n",
       "        vertical-align: top;\n",
       "    }\n",
       "\n",
       "    .dataframe thead th {\n",
       "        text-align: right;\n",
       "    }\n",
       "</style>\n",
       "<table border=\"1\" class=\"dataframe\">\n",
       "  <thead>\n",
       "    <tr style=\"text-align: right;\">\n",
       "      <th></th>\n",
       "      <th>tconst</th>\n",
       "      <th>titleType</th>\n",
       "      <th>primaryTitle</th>\n",
       "      <th>originalTitle</th>\n",
       "      <th>isAdult</th>\n",
       "      <th>startYear</th>\n",
       "      <th>endYear</th>\n",
       "      <th>runtimeMinutes</th>\n",
       "      <th>genres</th>\n",
       "      <th>coalesce_test</th>\n",
       "    </tr>\n",
       "  </thead>\n",
       "  <tbody>\n",
       "    <tr>\n",
       "      <th>0</th>\n",
       "      <td>tt0067098</td>\n",
       "      <td>tvEpisode</td>\n",
       "      <td>Willi Forst</td>\n",
       "      <td>Willi Forst</td>\n",
       "      <td>0</td>\n",
       "      <td>None</td>\n",
       "      <td>None</td>\n",
       "      <td>55</td>\n",
       "      <td>\\N</td>\n",
       "      <td>55</td>\n",
       "    </tr>\n",
       "    <tr>\n",
       "      <th>1</th>\n",
       "      <td>tt0073399</td>\n",
       "      <td>movie</td>\n",
       "      <td>Atlantic City Jackpot</td>\n",
       "      <td>The Money</td>\n",
       "      <td>0</td>\n",
       "      <td>None</td>\n",
       "      <td>None</td>\n",
       "      <td>88</td>\n",
       "      <td>Action,Drama</td>\n",
       "      <td>88</td>\n",
       "    </tr>\n",
       "    <tr>\n",
       "      <th>2</th>\n",
       "      <td>tt0090238</td>\n",
       "      <td>movie</td>\n",
       "      <td>Unternehmen Geigenkasten</td>\n",
       "      <td>Unternehmen Geigenkasten</td>\n",
       "      <td>0</td>\n",
       "      <td>None</td>\n",
       "      <td>None</td>\n",
       "      <td>82</td>\n",
       "      <td>Crime,Family</td>\n",
       "      <td>82</td>\n",
       "    </tr>\n",
       "    <tr>\n",
       "      <th>3</th>\n",
       "      <td>tt0098828</td>\n",
       "      <td>tvSeries</td>\n",
       "      <td>Idol Angel Yohkoso Yohko</td>\n",
       "      <td>Idol Angel Yohkoso Yohko</td>\n",
       "      <td>0</td>\n",
       "      <td>None</td>\n",
       "      <td>None</td>\n",
       "      <td>23</td>\n",
       "      <td>Animation,Comedy</td>\n",
       "      <td>23</td>\n",
       "    </tr>\n",
       "    <tr>\n",
       "      <th>4</th>\n",
       "      <td>tt0102172</td>\n",
       "      <td>tvEpisode</td>\n",
       "      <td>Episode #1.2</td>\n",
       "      <td>Episode #1.2</td>\n",
       "      <td>0</td>\n",
       "      <td>None</td>\n",
       "      <td>None</td>\n",
       "      <td>81</td>\n",
       "      <td>Drama,History</td>\n",
       "      <td>81</td>\n",
       "    </tr>\n",
       "  </tbody>\n",
       "</table>\n",
       "</div>"
      ]
     },
     "metadata": {},
     "execution_count": 126
    }
   ],
   "metadata": {}
  },
  {
   "cell_type": "markdown",
   "source": [
    "### Agregação e Agrupamento"
   ],
   "metadata": {
    "id": "U4Wb7b84S-Hx"
   }
  },
  {
   "cell_type": "markdown",
   "source": [
    "O agrupamento dos DataFrames é feito por meio da função **`groupby()`**. Essa função deve ser sucedida pela função de agregação `agg()`, de pivotação `pivot()` ou `count()`. \n",
    "\n",
    "---\n",
    "\n",
    "A função **`agg()`** aplica uma função de agregação no DataFrame. Se precedida por `groupby()`, realiza a agregação dentro dos grupos esabelecidos.\n",
    "Algumas das funções de agregação mais comuns:\n",
    "* `sum()`: retorna a soma os valores da coluna\n",
    "* `sumDistinct()`: retorna a soma os valores distintos da coluna\n",
    "* `max() / min()`: retorna o mínimo e o máximo da coluna, respectivamente\n",
    "* `avg() / mean()`: retorna a média dos valores da coluna\n",
    "* `percentile_approx()`: retorna o percentil da coluna, comaproximação. Para trazer a mediana exata, usar: `percentile_approx(f.col('column'), 0.5, lit(1000000))`\n",
    "* `stddev()`: retorna o desvio padrão dos valores da coluna\n",
    "* `count()`: retorna a contagem de linhas\n",
    "* `countDistinct()`: retorna a contagem de valores distintos da coluna\n",
    "* `first() / last()`: retorna o primeiro e o último valor da coluna no agrupamento, respectivamente. Interessante de ser utilizada em conjunto com o argumento `ignoreNulls=True`.\n",
    "* `collect_list()`: retorna os valores do agrupamento em uma lista, com duplicações\n",
    "* `collect_set()`: retorna os valores do agrupamento em uma lista, sem duplicações (desordenado)\n",
    "\n",
    "**Obs**: O spark ignora os valores nulos para calcular as agregações, com exceção da função `count()`.\n",
    "\n",
    "---\n",
    "\n",
    "A função **`pivot`** é utilizada para passar valores de uma linha para as colunas, realizando uma agregação. Deve ser sucedido por uma função de agregação utilizando `agg()`. Pode utilizar qualquer uma das funções de agregação anteriores.\n",
    "\n"
   ],
   "metadata": {
    "id": "DMfZyeyqKixT"
   }
  },
  {
   "cell_type": "code",
   "execution_count": 37,
   "source": [
    "df_titles_subset = (\n",
    "    df_titles\n",
    "    .filter(\"cast(startYear as int) >= 2000\")\n",
    "    .sample(fraction = 0.5)\n",
    "    .withColumn('genre', f.split('genres', ',').getItem(0))\n",
    ")"
   ],
   "outputs": [],
   "metadata": {}
  },
  {
   "cell_type": "code",
   "execution_count": 38,
   "source": [
    "df_titles_subset.limit(5).toPandas()"
   ],
   "outputs": [
    {
     "output_type": "execute_result",
     "data": {
      "text/plain": [
       "      tconst titleType                                       primaryTitle  \\\n",
       "0  tt0011216     movie                                     Spanish Fiesta   \n",
       "1  tt0019996     movie                                            Hongxia   \n",
       "2  tt0034413     short                                 Youth Gets a Break   \n",
       "3  tt0058964     short                                             Beppie   \n",
       "4  tt0062336     movie  The Tango of the Widower and Its Distorting Mi...   \n",
       "\n",
       "                               originalTitle isAdult startYear endYear  \\\n",
       "0                          La fête espagnole       0      2019      \\N   \n",
       "1                                    Hongxia       0      2011      \\N   \n",
       "2                         Youth Gets a Break       0      2001      \\N   \n",
       "3                                     Beppie       0      2002      \\N   \n",
       "4  El Tango del Viudo y Su Espejo Deformante       0      2020      \\N   \n",
       "\n",
       "  runtimeMinutes             genres        genre  \n",
       "0             67              Drama        Drama  \n",
       "1             94             Action       Action  \n",
       "2             20              Short        Short  \n",
       "3             37  Documentary,Short  Documentary  \n",
       "4             70              Drama        Drama  "
      ],
      "text/html": [
       "<div>\n",
       "<style scoped>\n",
       "    .dataframe tbody tr th:only-of-type {\n",
       "        vertical-align: middle;\n",
       "    }\n",
       "\n",
       "    .dataframe tbody tr th {\n",
       "        vertical-align: top;\n",
       "    }\n",
       "\n",
       "    .dataframe thead th {\n",
       "        text-align: right;\n",
       "    }\n",
       "</style>\n",
       "<table border=\"1\" class=\"dataframe\">\n",
       "  <thead>\n",
       "    <tr style=\"text-align: right;\">\n",
       "      <th></th>\n",
       "      <th>tconst</th>\n",
       "      <th>titleType</th>\n",
       "      <th>primaryTitle</th>\n",
       "      <th>originalTitle</th>\n",
       "      <th>isAdult</th>\n",
       "      <th>startYear</th>\n",
       "      <th>endYear</th>\n",
       "      <th>runtimeMinutes</th>\n",
       "      <th>genres</th>\n",
       "      <th>genre</th>\n",
       "    </tr>\n",
       "  </thead>\n",
       "  <tbody>\n",
       "    <tr>\n",
       "      <th>0</th>\n",
       "      <td>tt0011216</td>\n",
       "      <td>movie</td>\n",
       "      <td>Spanish Fiesta</td>\n",
       "      <td>La fête espagnole</td>\n",
       "      <td>0</td>\n",
       "      <td>2019</td>\n",
       "      <td>\\N</td>\n",
       "      <td>67</td>\n",
       "      <td>Drama</td>\n",
       "      <td>Drama</td>\n",
       "    </tr>\n",
       "    <tr>\n",
       "      <th>1</th>\n",
       "      <td>tt0019996</td>\n",
       "      <td>movie</td>\n",
       "      <td>Hongxia</td>\n",
       "      <td>Hongxia</td>\n",
       "      <td>0</td>\n",
       "      <td>2011</td>\n",
       "      <td>\\N</td>\n",
       "      <td>94</td>\n",
       "      <td>Action</td>\n",
       "      <td>Action</td>\n",
       "    </tr>\n",
       "    <tr>\n",
       "      <th>2</th>\n",
       "      <td>tt0034413</td>\n",
       "      <td>short</td>\n",
       "      <td>Youth Gets a Break</td>\n",
       "      <td>Youth Gets a Break</td>\n",
       "      <td>0</td>\n",
       "      <td>2001</td>\n",
       "      <td>\\N</td>\n",
       "      <td>20</td>\n",
       "      <td>Short</td>\n",
       "      <td>Short</td>\n",
       "    </tr>\n",
       "    <tr>\n",
       "      <th>3</th>\n",
       "      <td>tt0058964</td>\n",
       "      <td>short</td>\n",
       "      <td>Beppie</td>\n",
       "      <td>Beppie</td>\n",
       "      <td>0</td>\n",
       "      <td>2002</td>\n",
       "      <td>\\N</td>\n",
       "      <td>37</td>\n",
       "      <td>Documentary,Short</td>\n",
       "      <td>Documentary</td>\n",
       "    </tr>\n",
       "    <tr>\n",
       "      <th>4</th>\n",
       "      <td>tt0062336</td>\n",
       "      <td>movie</td>\n",
       "      <td>The Tango of the Widower and Its Distorting Mi...</td>\n",
       "      <td>El Tango del Viudo y Su Espejo Deformante</td>\n",
       "      <td>0</td>\n",
       "      <td>2020</td>\n",
       "      <td>\\N</td>\n",
       "      <td>70</td>\n",
       "      <td>Drama</td>\n",
       "      <td>Drama</td>\n",
       "    </tr>\n",
       "  </tbody>\n",
       "</table>\n",
       "</div>"
      ]
     },
     "metadata": {},
     "execution_count": 38
    }
   ],
   "metadata": {}
  },
  {
   "cell_type": "code",
   "execution_count": 46,
   "source": [
    "(\n",
    "    df_titles_subset\n",
    "    .agg(f.countDistinct('genre').alias('distinct_genres'),)\n",
    "    .toPandas()\n",
    ")"
   ],
   "outputs": [
    {
     "output_type": "execute_result",
     "data": {
      "text/plain": [
       "   distinct_genres\n",
       "0               28"
      ],
      "text/html": [
       "<div>\n",
       "<style scoped>\n",
       "    .dataframe tbody tr th:only-of-type {\n",
       "        vertical-align: middle;\n",
       "    }\n",
       "\n",
       "    .dataframe tbody tr th {\n",
       "        vertical-align: top;\n",
       "    }\n",
       "\n",
       "    .dataframe thead th {\n",
       "        text-align: right;\n",
       "    }\n",
       "</style>\n",
       "<table border=\"1\" class=\"dataframe\">\n",
       "  <thead>\n",
       "    <tr style=\"text-align: right;\">\n",
       "      <th></th>\n",
       "      <th>distinct_genres</th>\n",
       "    </tr>\n",
       "  </thead>\n",
       "  <tbody>\n",
       "    <tr>\n",
       "      <th>0</th>\n",
       "      <td>28</td>\n",
       "    </tr>\n",
       "  </tbody>\n",
       "</table>\n",
       "</div>"
      ]
     },
     "metadata": {},
     "execution_count": 46
    }
   ],
   "metadata": {
    "id": "KW3DbowFwQZW"
   }
  },
  {
   "cell_type": "code",
   "execution_count": 55,
   "source": [
    "(\n",
    "    df_titles_subset\n",
    "    .withColumn('runtimeMinutes', f.col('runtimeMinutes').cast('int'))\n",
    "    .agg(f.sum('runtimeMinutes').alias('total_runtimeMinutes'),\n",
    "         f.mean('runtimeMinutes').alias('mean_runtimeMinutes'),\n",
    "         f.min('runtimeMinutes').alias('min_runtimeMinutes'),\n",
    "         f.max('runtimeMinutes').alias('max_runtimeMinutes'),\n",
    "         f.percentile_approx('runtimeMinutes', 0.5, f.lit(10000000)).alias('median_runtimeMinutes'),\n",
    "         f.stddev('runtimeMinutes').alias('std_runtimeMinutes'),\n",
    "        )\n",
    "    .toPandas()\n",
    ")"
   ],
   "outputs": [
    {
     "output_type": "execute_result",
     "data": {
      "text/plain": [
       "   total_runtimeMinutes  mean_runtimeMinutes  min_runtimeMinutes  \\\n",
       "0              33307140            40.805622                   0   \n",
       "\n",
       "   max_runtimeMinutes  median_runtimeMinutes  std_runtimeMinutes  \n",
       "0               35791                     26           71.388228  "
      ],
      "text/html": [
       "<div>\n",
       "<style scoped>\n",
       "    .dataframe tbody tr th:only-of-type {\n",
       "        vertical-align: middle;\n",
       "    }\n",
       "\n",
       "    .dataframe tbody tr th {\n",
       "        vertical-align: top;\n",
       "    }\n",
       "\n",
       "    .dataframe thead th {\n",
       "        text-align: right;\n",
       "    }\n",
       "</style>\n",
       "<table border=\"1\" class=\"dataframe\">\n",
       "  <thead>\n",
       "    <tr style=\"text-align: right;\">\n",
       "      <th></th>\n",
       "      <th>total_runtimeMinutes</th>\n",
       "      <th>mean_runtimeMinutes</th>\n",
       "      <th>min_runtimeMinutes</th>\n",
       "      <th>max_runtimeMinutes</th>\n",
       "      <th>median_runtimeMinutes</th>\n",
       "      <th>std_runtimeMinutes</th>\n",
       "    </tr>\n",
       "  </thead>\n",
       "  <tbody>\n",
       "    <tr>\n",
       "      <th>0</th>\n",
       "      <td>33307140</td>\n",
       "      <td>40.805622</td>\n",
       "      <td>0</td>\n",
       "      <td>35791</td>\n",
       "      <td>26</td>\n",
       "      <td>71.388228</td>\n",
       "    </tr>\n",
       "  </tbody>\n",
       "</table>\n",
       "</div>"
      ]
     },
     "metadata": {},
     "execution_count": 55
    }
   ],
   "metadata": {
    "id": "KW3DbowFwQZW"
   }
  },
  {
   "cell_type": "code",
   "execution_count": 58,
   "source": [
    "(\n",
    "    df_titles_subset\n",
    "    .withColumn('runtimeMinutes', f.col('runtimeMinutes').cast('int'))\n",
    "    .select('runtimeMinutes')\n",
    "    .describe()\n",
    "    .toPandas()\n",
    ")"
   ],
   "outputs": [
    {
     "output_type": "execute_result",
     "data": {
      "text/plain": [
       "  summary      runtimeMinutes\n",
       "0   count              816239\n",
       "1    mean  40.805621882806385\n",
       "2  stddev   71.38822765335026\n",
       "3     min                   0\n",
       "4     max               35791"
      ],
      "text/html": [
       "<div>\n",
       "<style scoped>\n",
       "    .dataframe tbody tr th:only-of-type {\n",
       "        vertical-align: middle;\n",
       "    }\n",
       "\n",
       "    .dataframe tbody tr th {\n",
       "        vertical-align: top;\n",
       "    }\n",
       "\n",
       "    .dataframe thead th {\n",
       "        text-align: right;\n",
       "    }\n",
       "</style>\n",
       "<table border=\"1\" class=\"dataframe\">\n",
       "  <thead>\n",
       "    <tr style=\"text-align: right;\">\n",
       "      <th></th>\n",
       "      <th>summary</th>\n",
       "      <th>runtimeMinutes</th>\n",
       "    </tr>\n",
       "  </thead>\n",
       "  <tbody>\n",
       "    <tr>\n",
       "      <th>0</th>\n",
       "      <td>count</td>\n",
       "      <td>816239</td>\n",
       "    </tr>\n",
       "    <tr>\n",
       "      <th>1</th>\n",
       "      <td>mean</td>\n",
       "      <td>40.805621882806385</td>\n",
       "    </tr>\n",
       "    <tr>\n",
       "      <th>2</th>\n",
       "      <td>stddev</td>\n",
       "      <td>71.38822765335026</td>\n",
       "    </tr>\n",
       "    <tr>\n",
       "      <th>3</th>\n",
       "      <td>min</td>\n",
       "      <td>0</td>\n",
       "    </tr>\n",
       "    <tr>\n",
       "      <th>4</th>\n",
       "      <td>max</td>\n",
       "      <td>35791</td>\n",
       "    </tr>\n",
       "  </tbody>\n",
       "</table>\n",
       "</div>"
      ]
     },
     "metadata": {},
     "execution_count": 58
    }
   ],
   "metadata": {}
  },
  {
   "cell_type": "markdown",
   "source": [
    "#### Agrupamento"
   ],
   "metadata": {
    "id": "csmNQEBouFsh"
   }
  },
  {
   "cell_type": "code",
   "execution_count": 59,
   "source": [
    "df_titles_subset.limit(5).toPandas()"
   ],
   "outputs": [
    {
     "output_type": "execute_result",
     "data": {
      "text/plain": [
       "      tconst titleType                                       primaryTitle  \\\n",
       "0  tt0011216     movie                                     Spanish Fiesta   \n",
       "1  tt0019996     movie                                            Hongxia   \n",
       "2  tt0034413     short                                 Youth Gets a Break   \n",
       "3  tt0058964     short                                             Beppie   \n",
       "4  tt0062336     movie  The Tango of the Widower and Its Distorting Mi...   \n",
       "\n",
       "                               originalTitle isAdult startYear endYear  \\\n",
       "0                          La fête espagnole       0      2019      \\N   \n",
       "1                                    Hongxia       0      2011      \\N   \n",
       "2                         Youth Gets a Break       0      2001      \\N   \n",
       "3                                     Beppie       0      2002      \\N   \n",
       "4  El Tango del Viudo y Su Espejo Deformante       0      2020      \\N   \n",
       "\n",
       "  runtimeMinutes             genres        genre  \n",
       "0             67              Drama        Drama  \n",
       "1             94             Action       Action  \n",
       "2             20              Short        Short  \n",
       "3             37  Documentary,Short  Documentary  \n",
       "4             70              Drama        Drama  "
      ],
      "text/html": [
       "<div>\n",
       "<style scoped>\n",
       "    .dataframe tbody tr th:only-of-type {\n",
       "        vertical-align: middle;\n",
       "    }\n",
       "\n",
       "    .dataframe tbody tr th {\n",
       "        vertical-align: top;\n",
       "    }\n",
       "\n",
       "    .dataframe thead th {\n",
       "        text-align: right;\n",
       "    }\n",
       "</style>\n",
       "<table border=\"1\" class=\"dataframe\">\n",
       "  <thead>\n",
       "    <tr style=\"text-align: right;\">\n",
       "      <th></th>\n",
       "      <th>tconst</th>\n",
       "      <th>titleType</th>\n",
       "      <th>primaryTitle</th>\n",
       "      <th>originalTitle</th>\n",
       "      <th>isAdult</th>\n",
       "      <th>startYear</th>\n",
       "      <th>endYear</th>\n",
       "      <th>runtimeMinutes</th>\n",
       "      <th>genres</th>\n",
       "      <th>genre</th>\n",
       "    </tr>\n",
       "  </thead>\n",
       "  <tbody>\n",
       "    <tr>\n",
       "      <th>0</th>\n",
       "      <td>tt0011216</td>\n",
       "      <td>movie</td>\n",
       "      <td>Spanish Fiesta</td>\n",
       "      <td>La fête espagnole</td>\n",
       "      <td>0</td>\n",
       "      <td>2019</td>\n",
       "      <td>\\N</td>\n",
       "      <td>67</td>\n",
       "      <td>Drama</td>\n",
       "      <td>Drama</td>\n",
       "    </tr>\n",
       "    <tr>\n",
       "      <th>1</th>\n",
       "      <td>tt0019996</td>\n",
       "      <td>movie</td>\n",
       "      <td>Hongxia</td>\n",
       "      <td>Hongxia</td>\n",
       "      <td>0</td>\n",
       "      <td>2011</td>\n",
       "      <td>\\N</td>\n",
       "      <td>94</td>\n",
       "      <td>Action</td>\n",
       "      <td>Action</td>\n",
       "    </tr>\n",
       "    <tr>\n",
       "      <th>2</th>\n",
       "      <td>tt0034413</td>\n",
       "      <td>short</td>\n",
       "      <td>Youth Gets a Break</td>\n",
       "      <td>Youth Gets a Break</td>\n",
       "      <td>0</td>\n",
       "      <td>2001</td>\n",
       "      <td>\\N</td>\n",
       "      <td>20</td>\n",
       "      <td>Short</td>\n",
       "      <td>Short</td>\n",
       "    </tr>\n",
       "    <tr>\n",
       "      <th>3</th>\n",
       "      <td>tt0058964</td>\n",
       "      <td>short</td>\n",
       "      <td>Beppie</td>\n",
       "      <td>Beppie</td>\n",
       "      <td>0</td>\n",
       "      <td>2002</td>\n",
       "      <td>\\N</td>\n",
       "      <td>37</td>\n",
       "      <td>Documentary,Short</td>\n",
       "      <td>Documentary</td>\n",
       "    </tr>\n",
       "    <tr>\n",
       "      <th>4</th>\n",
       "      <td>tt0062336</td>\n",
       "      <td>movie</td>\n",
       "      <td>The Tango of the Widower and Its Distorting Mi...</td>\n",
       "      <td>El Tango del Viudo y Su Espejo Deformante</td>\n",
       "      <td>0</td>\n",
       "      <td>2020</td>\n",
       "      <td>\\N</td>\n",
       "      <td>70</td>\n",
       "      <td>Drama</td>\n",
       "      <td>Drama</td>\n",
       "    </tr>\n",
       "  </tbody>\n",
       "</table>\n",
       "</div>"
      ]
     },
     "metadata": {},
     "execution_count": 59
    }
   ],
   "metadata": {}
  },
  {
   "cell_type": "code",
   "execution_count": 65,
   "source": [
    "(\n",
    "    df_titles_subset\n",
    "    .groupby('genre', 'startYear')\n",
    "    .agg(f.mean('runtimeMinutes').alias('mean_runtimeMinutes'),)\n",
    "    .orderBy('startYear', f.col('mean_runtimeMinutes').desc())\n",
    "    .filter('startYear = 2021')\n",
    "    .toPandas()\n",
    ")"
   ],
   "outputs": [
    {
     "output_type": "execute_result",
     "data": {
      "text/plain": [
       "          genre startYear  mean_runtimeMinutes\n",
       "0         Sport      2021           109.427230\n",
       "1      Thriller      2021            84.593985\n",
       "2           War      2021            82.000000\n",
       "3       Western      2021            79.923077\n",
       "4     Adventure      2021            79.883598\n",
       "5            \\N      2021            71.784676\n",
       "6     Biography      2021            70.546667\n",
       "7         Adult      2021            65.305732\n",
       "8          News      2021            56.856045\n",
       "9     Game-Show      2021            55.244552\n",
       "10       Action      2021            51.142176\n",
       "11   Reality-TV      2021            49.206845\n",
       "12        Crime      2021            47.885827\n",
       "13      Romance      2021            46.006993\n",
       "14       Family      2021            45.583893\n",
       "15  Documentary      2021            44.868227\n",
       "16      Mystery      2021            44.427350\n",
       "17      History      2021            42.676923\n",
       "18    Talk-Show      2021            42.394146\n",
       "19        Drama      2021            42.092522\n",
       "20       Horror      2021            38.480072\n",
       "21       Comedy      2021            38.175284\n",
       "22      Musical      2021            36.679487\n",
       "23       Sci-Fi      2021            32.338889\n",
       "24      Fantasy      2021            27.256000\n",
       "25    Animation      2021            18.550518\n",
       "26        Music      2021            11.765228\n",
       "27        Short      2021            11.554827"
      ],
      "text/html": [
       "<div>\n",
       "<style scoped>\n",
       "    .dataframe tbody tr th:only-of-type {\n",
       "        vertical-align: middle;\n",
       "    }\n",
       "\n",
       "    .dataframe tbody tr th {\n",
       "        vertical-align: top;\n",
       "    }\n",
       "\n",
       "    .dataframe thead th {\n",
       "        text-align: right;\n",
       "    }\n",
       "</style>\n",
       "<table border=\"1\" class=\"dataframe\">\n",
       "  <thead>\n",
       "    <tr style=\"text-align: right;\">\n",
       "      <th></th>\n",
       "      <th>genre</th>\n",
       "      <th>startYear</th>\n",
       "      <th>mean_runtimeMinutes</th>\n",
       "    </tr>\n",
       "  </thead>\n",
       "  <tbody>\n",
       "    <tr>\n",
       "      <th>0</th>\n",
       "      <td>Sport</td>\n",
       "      <td>2021</td>\n",
       "      <td>109.427230</td>\n",
       "    </tr>\n",
       "    <tr>\n",
       "      <th>1</th>\n",
       "      <td>Thriller</td>\n",
       "      <td>2021</td>\n",
       "      <td>84.593985</td>\n",
       "    </tr>\n",
       "    <tr>\n",
       "      <th>2</th>\n",
       "      <td>War</td>\n",
       "      <td>2021</td>\n",
       "      <td>82.000000</td>\n",
       "    </tr>\n",
       "    <tr>\n",
       "      <th>3</th>\n",
       "      <td>Western</td>\n",
       "      <td>2021</td>\n",
       "      <td>79.923077</td>\n",
       "    </tr>\n",
       "    <tr>\n",
       "      <th>4</th>\n",
       "      <td>Adventure</td>\n",
       "      <td>2021</td>\n",
       "      <td>79.883598</td>\n",
       "    </tr>\n",
       "    <tr>\n",
       "      <th>5</th>\n",
       "      <td>\\N</td>\n",
       "      <td>2021</td>\n",
       "      <td>71.784676</td>\n",
       "    </tr>\n",
       "    <tr>\n",
       "      <th>6</th>\n",
       "      <td>Biography</td>\n",
       "      <td>2021</td>\n",
       "      <td>70.546667</td>\n",
       "    </tr>\n",
       "    <tr>\n",
       "      <th>7</th>\n",
       "      <td>Adult</td>\n",
       "      <td>2021</td>\n",
       "      <td>65.305732</td>\n",
       "    </tr>\n",
       "    <tr>\n",
       "      <th>8</th>\n",
       "      <td>News</td>\n",
       "      <td>2021</td>\n",
       "      <td>56.856045</td>\n",
       "    </tr>\n",
       "    <tr>\n",
       "      <th>9</th>\n",
       "      <td>Game-Show</td>\n",
       "      <td>2021</td>\n",
       "      <td>55.244552</td>\n",
       "    </tr>\n",
       "    <tr>\n",
       "      <th>10</th>\n",
       "      <td>Action</td>\n",
       "      <td>2021</td>\n",
       "      <td>51.142176</td>\n",
       "    </tr>\n",
       "    <tr>\n",
       "      <th>11</th>\n",
       "      <td>Reality-TV</td>\n",
       "      <td>2021</td>\n",
       "      <td>49.206845</td>\n",
       "    </tr>\n",
       "    <tr>\n",
       "      <th>12</th>\n",
       "      <td>Crime</td>\n",
       "      <td>2021</td>\n",
       "      <td>47.885827</td>\n",
       "    </tr>\n",
       "    <tr>\n",
       "      <th>13</th>\n",
       "      <td>Romance</td>\n",
       "      <td>2021</td>\n",
       "      <td>46.006993</td>\n",
       "    </tr>\n",
       "    <tr>\n",
       "      <th>14</th>\n",
       "      <td>Family</td>\n",
       "      <td>2021</td>\n",
       "      <td>45.583893</td>\n",
       "    </tr>\n",
       "    <tr>\n",
       "      <th>15</th>\n",
       "      <td>Documentary</td>\n",
       "      <td>2021</td>\n",
       "      <td>44.868227</td>\n",
       "    </tr>\n",
       "    <tr>\n",
       "      <th>16</th>\n",
       "      <td>Mystery</td>\n",
       "      <td>2021</td>\n",
       "      <td>44.427350</td>\n",
       "    </tr>\n",
       "    <tr>\n",
       "      <th>17</th>\n",
       "      <td>History</td>\n",
       "      <td>2021</td>\n",
       "      <td>42.676923</td>\n",
       "    </tr>\n",
       "    <tr>\n",
       "      <th>18</th>\n",
       "      <td>Talk-Show</td>\n",
       "      <td>2021</td>\n",
       "      <td>42.394146</td>\n",
       "    </tr>\n",
       "    <tr>\n",
       "      <th>19</th>\n",
       "      <td>Drama</td>\n",
       "      <td>2021</td>\n",
       "      <td>42.092522</td>\n",
       "    </tr>\n",
       "    <tr>\n",
       "      <th>20</th>\n",
       "      <td>Horror</td>\n",
       "      <td>2021</td>\n",
       "      <td>38.480072</td>\n",
       "    </tr>\n",
       "    <tr>\n",
       "      <th>21</th>\n",
       "      <td>Comedy</td>\n",
       "      <td>2021</td>\n",
       "      <td>38.175284</td>\n",
       "    </tr>\n",
       "    <tr>\n",
       "      <th>22</th>\n",
       "      <td>Musical</td>\n",
       "      <td>2021</td>\n",
       "      <td>36.679487</td>\n",
       "    </tr>\n",
       "    <tr>\n",
       "      <th>23</th>\n",
       "      <td>Sci-Fi</td>\n",
       "      <td>2021</td>\n",
       "      <td>32.338889</td>\n",
       "    </tr>\n",
       "    <tr>\n",
       "      <th>24</th>\n",
       "      <td>Fantasy</td>\n",
       "      <td>2021</td>\n",
       "      <td>27.256000</td>\n",
       "    </tr>\n",
       "    <tr>\n",
       "      <th>25</th>\n",
       "      <td>Animation</td>\n",
       "      <td>2021</td>\n",
       "      <td>18.550518</td>\n",
       "    </tr>\n",
       "    <tr>\n",
       "      <th>26</th>\n",
       "      <td>Music</td>\n",
       "      <td>2021</td>\n",
       "      <td>11.765228</td>\n",
       "    </tr>\n",
       "    <tr>\n",
       "      <th>27</th>\n",
       "      <td>Short</td>\n",
       "      <td>2021</td>\n",
       "      <td>11.554827</td>\n",
       "    </tr>\n",
       "  </tbody>\n",
       "</table>\n",
       "</div>"
      ]
     },
     "metadata": {},
     "execution_count": 65
    }
   ],
   "metadata": {
    "id": "yn6_vBrtHHuP"
   }
  },
  {
   "cell_type": "code",
   "execution_count": 72,
   "source": [
    "(\n",
    "    df_titles_subset\n",
    "    .groupby('genre')\n",
    "    .agg(f.collect_set(f.col('titleType')).alias('lista_tipos_titulo'),\n",
    "         f.countDistinct(f.col('titleType')).alias('n_distinct')\n",
    "        )\n",
    "    .withColumn('tipos_filmes', f.explode(f.col('lista_tipos_titulo')))\n",
    "    .select('genre', 'tipos_filmes')\n",
    "    .toPandas()\n",
    ")"
   ],
   "outputs": [
    {
     "output_type": "execute_result",
     "data": {
      "text/plain": [
       "     genre  tipos_filmes\n",
       "0    Crime     tvSpecial\n",
       "1    Crime         video\n",
       "2    Crime     tvEpisode\n",
       "3    Crime       tvMovie\n",
       "4    Crime         short\n",
       "..     ...           ...\n",
       "264   News     videoGame\n",
       "265   News  tvMiniSeries\n",
       "266   News      tvSeries\n",
       "267   News       tvShort\n",
       "268   News         movie\n",
       "\n",
       "[269 rows x 2 columns]"
      ],
      "text/html": [
       "<div>\n",
       "<style scoped>\n",
       "    .dataframe tbody tr th:only-of-type {\n",
       "        vertical-align: middle;\n",
       "    }\n",
       "\n",
       "    .dataframe tbody tr th {\n",
       "        vertical-align: top;\n",
       "    }\n",
       "\n",
       "    .dataframe thead th {\n",
       "        text-align: right;\n",
       "    }\n",
       "</style>\n",
       "<table border=\"1\" class=\"dataframe\">\n",
       "  <thead>\n",
       "    <tr style=\"text-align: right;\">\n",
       "      <th></th>\n",
       "      <th>genre</th>\n",
       "      <th>tipos_filmes</th>\n",
       "    </tr>\n",
       "  </thead>\n",
       "  <tbody>\n",
       "    <tr>\n",
       "      <th>0</th>\n",
       "      <td>Crime</td>\n",
       "      <td>tvSpecial</td>\n",
       "    </tr>\n",
       "    <tr>\n",
       "      <th>1</th>\n",
       "      <td>Crime</td>\n",
       "      <td>video</td>\n",
       "    </tr>\n",
       "    <tr>\n",
       "      <th>2</th>\n",
       "      <td>Crime</td>\n",
       "      <td>tvEpisode</td>\n",
       "    </tr>\n",
       "    <tr>\n",
       "      <th>3</th>\n",
       "      <td>Crime</td>\n",
       "      <td>tvMovie</td>\n",
       "    </tr>\n",
       "    <tr>\n",
       "      <th>4</th>\n",
       "      <td>Crime</td>\n",
       "      <td>short</td>\n",
       "    </tr>\n",
       "    <tr>\n",
       "      <th>...</th>\n",
       "      <td>...</td>\n",
       "      <td>...</td>\n",
       "    </tr>\n",
       "    <tr>\n",
       "      <th>264</th>\n",
       "      <td>News</td>\n",
       "      <td>videoGame</td>\n",
       "    </tr>\n",
       "    <tr>\n",
       "      <th>265</th>\n",
       "      <td>News</td>\n",
       "      <td>tvMiniSeries</td>\n",
       "    </tr>\n",
       "    <tr>\n",
       "      <th>266</th>\n",
       "      <td>News</td>\n",
       "      <td>tvSeries</td>\n",
       "    </tr>\n",
       "    <tr>\n",
       "      <th>267</th>\n",
       "      <td>News</td>\n",
       "      <td>tvShort</td>\n",
       "    </tr>\n",
       "    <tr>\n",
       "      <th>268</th>\n",
       "      <td>News</td>\n",
       "      <td>movie</td>\n",
       "    </tr>\n",
       "  </tbody>\n",
       "</table>\n",
       "<p>269 rows × 2 columns</p>\n",
       "</div>"
      ]
     },
     "metadata": {},
     "execution_count": 72
    }
   ],
   "metadata": {
    "id": "6E-pU_LAQw5q"
   }
  },
  {
   "cell_type": "markdown",
   "source": [
    "#### Pivotação"
   ],
   "metadata": {
    "id": "lX3DUxTlw8KU"
   }
  },
  {
   "cell_type": "code",
   "execution_count": 73,
   "source": [
    "df_titles_subset.limit(5).toPandas()"
   ],
   "outputs": [
    {
     "output_type": "execute_result",
     "data": {
      "text/plain": [
       "      tconst titleType                                       primaryTitle  \\\n",
       "0  tt0011216     movie                                     Spanish Fiesta   \n",
       "1  tt0019996     movie                                            Hongxia   \n",
       "2  tt0034413     short                                 Youth Gets a Break   \n",
       "3  tt0058964     short                                             Beppie   \n",
       "4  tt0062336     movie  The Tango of the Widower and Its Distorting Mi...   \n",
       "\n",
       "                               originalTitle isAdult startYear endYear  \\\n",
       "0                          La fête espagnole       0      2019      \\N   \n",
       "1                                    Hongxia       0      2011      \\N   \n",
       "2                         Youth Gets a Break       0      2001      \\N   \n",
       "3                                     Beppie       0      2002      \\N   \n",
       "4  El Tango del Viudo y Su Espejo Deformante       0      2020      \\N   \n",
       "\n",
       "  runtimeMinutes             genres        genre  \n",
       "0             67              Drama        Drama  \n",
       "1             94             Action       Action  \n",
       "2             20              Short        Short  \n",
       "3             37  Documentary,Short  Documentary  \n",
       "4             70              Drama        Drama  "
      ],
      "text/html": [
       "<div>\n",
       "<style scoped>\n",
       "    .dataframe tbody tr th:only-of-type {\n",
       "        vertical-align: middle;\n",
       "    }\n",
       "\n",
       "    .dataframe tbody tr th {\n",
       "        vertical-align: top;\n",
       "    }\n",
       "\n",
       "    .dataframe thead th {\n",
       "        text-align: right;\n",
       "    }\n",
       "</style>\n",
       "<table border=\"1\" class=\"dataframe\">\n",
       "  <thead>\n",
       "    <tr style=\"text-align: right;\">\n",
       "      <th></th>\n",
       "      <th>tconst</th>\n",
       "      <th>titleType</th>\n",
       "      <th>primaryTitle</th>\n",
       "      <th>originalTitle</th>\n",
       "      <th>isAdult</th>\n",
       "      <th>startYear</th>\n",
       "      <th>endYear</th>\n",
       "      <th>runtimeMinutes</th>\n",
       "      <th>genres</th>\n",
       "      <th>genre</th>\n",
       "    </tr>\n",
       "  </thead>\n",
       "  <tbody>\n",
       "    <tr>\n",
       "      <th>0</th>\n",
       "      <td>tt0011216</td>\n",
       "      <td>movie</td>\n",
       "      <td>Spanish Fiesta</td>\n",
       "      <td>La fête espagnole</td>\n",
       "      <td>0</td>\n",
       "      <td>2019</td>\n",
       "      <td>\\N</td>\n",
       "      <td>67</td>\n",
       "      <td>Drama</td>\n",
       "      <td>Drama</td>\n",
       "    </tr>\n",
       "    <tr>\n",
       "      <th>1</th>\n",
       "      <td>tt0019996</td>\n",
       "      <td>movie</td>\n",
       "      <td>Hongxia</td>\n",
       "      <td>Hongxia</td>\n",
       "      <td>0</td>\n",
       "      <td>2011</td>\n",
       "      <td>\\N</td>\n",
       "      <td>94</td>\n",
       "      <td>Action</td>\n",
       "      <td>Action</td>\n",
       "    </tr>\n",
       "    <tr>\n",
       "      <th>2</th>\n",
       "      <td>tt0034413</td>\n",
       "      <td>short</td>\n",
       "      <td>Youth Gets a Break</td>\n",
       "      <td>Youth Gets a Break</td>\n",
       "      <td>0</td>\n",
       "      <td>2001</td>\n",
       "      <td>\\N</td>\n",
       "      <td>20</td>\n",
       "      <td>Short</td>\n",
       "      <td>Short</td>\n",
       "    </tr>\n",
       "    <tr>\n",
       "      <th>3</th>\n",
       "      <td>tt0058964</td>\n",
       "      <td>short</td>\n",
       "      <td>Beppie</td>\n",
       "      <td>Beppie</td>\n",
       "      <td>0</td>\n",
       "      <td>2002</td>\n",
       "      <td>\\N</td>\n",
       "      <td>37</td>\n",
       "      <td>Documentary,Short</td>\n",
       "      <td>Documentary</td>\n",
       "    </tr>\n",
       "    <tr>\n",
       "      <th>4</th>\n",
       "      <td>tt0062336</td>\n",
       "      <td>movie</td>\n",
       "      <td>The Tango of the Widower and Its Distorting Mi...</td>\n",
       "      <td>El Tango del Viudo y Su Espejo Deformante</td>\n",
       "      <td>0</td>\n",
       "      <td>2020</td>\n",
       "      <td>\\N</td>\n",
       "      <td>70</td>\n",
       "      <td>Drama</td>\n",
       "      <td>Drama</td>\n",
       "    </tr>\n",
       "  </tbody>\n",
       "</table>\n",
       "</div>"
      ]
     },
     "metadata": {},
     "execution_count": 73
    }
   ],
   "metadata": {
    "id": "q-_CbaA3h5BN"
   }
  },
  {
   "cell_type": "code",
   "execution_count": 78,
   "source": [
    "(\n",
    "    df_titles_subset\n",
    "    .drop('genre')\n",
    "    .withColumn('genres', f.explode(f.split(f.col('genres'), ',')))\n",
    "    .groupby('startYear')\n",
    "    .pivot('genres')\n",
    "    .agg(f.mean('runtimeMinutes'))\n",
    "    .na.fill(0)\n",
    "    .orderBy('startYear')\n",
    "    .limit(5)\n",
    "    .toPandas()\n",
    ")"
   ],
   "outputs": [
    {
     "output_type": "execute_result",
     "data": {
      "text/plain": [
       "  startYear     Action       Adult  Adventure  Animation  Biography  \\\n",
       "0      2000  49.537324   95.579918  48.202726  23.185648  77.024155   \n",
       "1      2001  50.388364   99.353586  40.680713  23.795439  77.588889   \n",
       "2      2002  50.040431   99.838520  38.280411  22.488746  76.611111   \n",
       "3      2003  49.854915  102.281813  39.465048  23.006725  66.320652   \n",
       "4      2004  50.780806  105.760928  38.369252  22.834300  66.261194   \n",
       "\n",
       "      Comedy      Crime  Documentary      Drama  ...  Reality-TV    Romance  \\\n",
       "0  45.170254  65.378173    52.236856  56.093064  ...   42.527132  54.930566   \n",
       "1  43.773174  65.125402    49.714987  58.493301  ...   42.701299  53.449266   \n",
       "2  42.541771  61.521659    51.632156  55.648833  ...   44.809278  56.853058   \n",
       "3  43.248658  61.730101    51.868403  56.173599  ...   44.856749  55.401316   \n",
       "4  41.822618  60.416515    55.540286  54.957412  ...   43.055202  56.249428   \n",
       "\n",
       "      Sci-Fi      Short      Sport  Talk-Show   Thriller        War  \\\n",
       "0  43.085202  13.965944  86.536232  54.519651  82.758278  81.600000   \n",
       "1  40.652459  13.598796  84.424581  47.654676  81.889937  72.493976   \n",
       "2  42.888446  13.751621  76.192825  49.397727  74.730994  79.180556   \n",
       "3  38.403279  13.670949  81.114428  52.887597  70.722826  76.308511   \n",
       "4  40.641104  13.946523  77.609121  55.905537  70.291560  80.929577   \n",
       "\n",
       "     Western         \\N  \n",
       "0  54.434783  58.458841  \n",
       "1  55.920000  66.561818  \n",
       "2  57.766667  71.487427  \n",
       "3  45.925000  66.494681  \n",
       "4  49.432432  64.019465  \n",
       "\n",
       "[5 rows x 29 columns]"
      ],
      "text/html": [
       "<div>\n",
       "<style scoped>\n",
       "    .dataframe tbody tr th:only-of-type {\n",
       "        vertical-align: middle;\n",
       "    }\n",
       "\n",
       "    .dataframe tbody tr th {\n",
       "        vertical-align: top;\n",
       "    }\n",
       "\n",
       "    .dataframe thead th {\n",
       "        text-align: right;\n",
       "    }\n",
       "</style>\n",
       "<table border=\"1\" class=\"dataframe\">\n",
       "  <thead>\n",
       "    <tr style=\"text-align: right;\">\n",
       "      <th></th>\n",
       "      <th>startYear</th>\n",
       "      <th>Action</th>\n",
       "      <th>Adult</th>\n",
       "      <th>Adventure</th>\n",
       "      <th>Animation</th>\n",
       "      <th>Biography</th>\n",
       "      <th>Comedy</th>\n",
       "      <th>Crime</th>\n",
       "      <th>Documentary</th>\n",
       "      <th>Drama</th>\n",
       "      <th>...</th>\n",
       "      <th>Reality-TV</th>\n",
       "      <th>Romance</th>\n",
       "      <th>Sci-Fi</th>\n",
       "      <th>Short</th>\n",
       "      <th>Sport</th>\n",
       "      <th>Talk-Show</th>\n",
       "      <th>Thriller</th>\n",
       "      <th>War</th>\n",
       "      <th>Western</th>\n",
       "      <th>\\N</th>\n",
       "    </tr>\n",
       "  </thead>\n",
       "  <tbody>\n",
       "    <tr>\n",
       "      <th>0</th>\n",
       "      <td>2000</td>\n",
       "      <td>49.537324</td>\n",
       "      <td>95.579918</td>\n",
       "      <td>48.202726</td>\n",
       "      <td>23.185648</td>\n",
       "      <td>77.024155</td>\n",
       "      <td>45.170254</td>\n",
       "      <td>65.378173</td>\n",
       "      <td>52.236856</td>\n",
       "      <td>56.093064</td>\n",
       "      <td>...</td>\n",
       "      <td>42.527132</td>\n",
       "      <td>54.930566</td>\n",
       "      <td>43.085202</td>\n",
       "      <td>13.965944</td>\n",
       "      <td>86.536232</td>\n",
       "      <td>54.519651</td>\n",
       "      <td>82.758278</td>\n",
       "      <td>81.600000</td>\n",
       "      <td>54.434783</td>\n",
       "      <td>58.458841</td>\n",
       "    </tr>\n",
       "    <tr>\n",
       "      <th>1</th>\n",
       "      <td>2001</td>\n",
       "      <td>50.388364</td>\n",
       "      <td>99.353586</td>\n",
       "      <td>40.680713</td>\n",
       "      <td>23.795439</td>\n",
       "      <td>77.588889</td>\n",
       "      <td>43.773174</td>\n",
       "      <td>65.125402</td>\n",
       "      <td>49.714987</td>\n",
       "      <td>58.493301</td>\n",
       "      <td>...</td>\n",
       "      <td>42.701299</td>\n",
       "      <td>53.449266</td>\n",
       "      <td>40.652459</td>\n",
       "      <td>13.598796</td>\n",
       "      <td>84.424581</td>\n",
       "      <td>47.654676</td>\n",
       "      <td>81.889937</td>\n",
       "      <td>72.493976</td>\n",
       "      <td>55.920000</td>\n",
       "      <td>66.561818</td>\n",
       "    </tr>\n",
       "    <tr>\n",
       "      <th>2</th>\n",
       "      <td>2002</td>\n",
       "      <td>50.040431</td>\n",
       "      <td>99.838520</td>\n",
       "      <td>38.280411</td>\n",
       "      <td>22.488746</td>\n",
       "      <td>76.611111</td>\n",
       "      <td>42.541771</td>\n",
       "      <td>61.521659</td>\n",
       "      <td>51.632156</td>\n",
       "      <td>55.648833</td>\n",
       "      <td>...</td>\n",
       "      <td>44.809278</td>\n",
       "      <td>56.853058</td>\n",
       "      <td>42.888446</td>\n",
       "      <td>13.751621</td>\n",
       "      <td>76.192825</td>\n",
       "      <td>49.397727</td>\n",
       "      <td>74.730994</td>\n",
       "      <td>79.180556</td>\n",
       "      <td>57.766667</td>\n",
       "      <td>71.487427</td>\n",
       "    </tr>\n",
       "    <tr>\n",
       "      <th>3</th>\n",
       "      <td>2003</td>\n",
       "      <td>49.854915</td>\n",
       "      <td>102.281813</td>\n",
       "      <td>39.465048</td>\n",
       "      <td>23.006725</td>\n",
       "      <td>66.320652</td>\n",
       "      <td>43.248658</td>\n",
       "      <td>61.730101</td>\n",
       "      <td>51.868403</td>\n",
       "      <td>56.173599</td>\n",
       "      <td>...</td>\n",
       "      <td>44.856749</td>\n",
       "      <td>55.401316</td>\n",
       "      <td>38.403279</td>\n",
       "      <td>13.670949</td>\n",
       "      <td>81.114428</td>\n",
       "      <td>52.887597</td>\n",
       "      <td>70.722826</td>\n",
       "      <td>76.308511</td>\n",
       "      <td>45.925000</td>\n",
       "      <td>66.494681</td>\n",
       "    </tr>\n",
       "    <tr>\n",
       "      <th>4</th>\n",
       "      <td>2004</td>\n",
       "      <td>50.780806</td>\n",
       "      <td>105.760928</td>\n",
       "      <td>38.369252</td>\n",
       "      <td>22.834300</td>\n",
       "      <td>66.261194</td>\n",
       "      <td>41.822618</td>\n",
       "      <td>60.416515</td>\n",
       "      <td>55.540286</td>\n",
       "      <td>54.957412</td>\n",
       "      <td>...</td>\n",
       "      <td>43.055202</td>\n",
       "      <td>56.249428</td>\n",
       "      <td>40.641104</td>\n",
       "      <td>13.946523</td>\n",
       "      <td>77.609121</td>\n",
       "      <td>55.905537</td>\n",
       "      <td>70.291560</td>\n",
       "      <td>80.929577</td>\n",
       "      <td>49.432432</td>\n",
       "      <td>64.019465</td>\n",
       "    </tr>\n",
       "  </tbody>\n",
       "</table>\n",
       "<p>5 rows × 29 columns</p>\n",
       "</div>"
      ]
     },
     "metadata": {},
     "execution_count": 78
    }
   ],
   "metadata": {
    "id": "WZKGSakRx2UU"
   }
  },
  {
   "cell_type": "markdown",
   "source": [
    "### Window Functions"
   ],
   "metadata": {
    "id": "FKLCjMJWTHGp"
   }
  },
  {
   "cell_type": "markdown",
   "source": [
    "Window functions são funções que realizam cálculos similares à uma agregação, mas que não resultam em um DataFrame agregado. Ao invés disso, os resultados são colocados em uma nova coluna, segundo a partição (ou agrupamento) especificado. \n",
    "Exemplos mais comuns:\n",
    "* `row_number()`\n",
    "* `rank() / dense_rank() / percent_rank()`\n",
    "* `lag()`\n",
    "* `cume_dist()`\n",
    "* `collect_list() / collect_set()`\n",
    "* Demais funções de agregação, com exceção de `countDistinct()`\n",
    "\n",
    "Para usar as funções dessa forma, devemos criar uma janela (window) da seguinte forma:\n",
    "\n",
    "```{python}\n",
    "from pyspark.sql.window import Window\n",
    "w = Window.partitionBy({columns}).orderBy({columns}).rowsBetween({lower}, {upper})\n",
    "```\n",
    "\n",
    "* **`partitionBy()`**: agrupamento em que os cálculos serão realizados. É análogo ao `groupBy()`.\n",
    "* **`orderBy`**: algumas funções como `row_number()` e `lag()` dependem da ordenação das linhas do agrupamento. Essa função é usada para especificar essa ordem.\n",
    "* **`rowsBetween()`**: esse método é usado para especificar janelas deslizantes. A partir dele é possível definir um intervalo de linhas, relativas à linha atual, em que a função vai ser aplicada. Caso isso não seja especificado, as operações são realizadas em todo o grupo. Muito útil para construir **médias móveis**. Os seguintes objetos ajudam na constrção desse intervalo:\n",
    "  * `Window.currentRow`: define a linha para qual o valor está sendo calculado como um dos limites de cálculo\n",
    "  * `Window.unboundedPreceding`: define que não há limites para as linhas anteriores à linha para qual o valor está sendo calculado, isto é, a função irá considerar todas as linhas do grupo que já passaram. Deve ser usado no primeiro argumento (start).\n",
    "  * `Window.unboundedFollowing`: define que não há limites para as linhas posteriores à linha para qual o valor está sendo calculado, isto é, a função irá considerar todas as linhas do grupo que ainda não passaram. Deve ser usado no segundo argumento (end).\n",
    "\n",
    "Depois disso, basta utilizar a função `over()` para indicar que aquela função deve ser realizada na janela.  Exemplo:\n",
    "```\n",
    "df.withColumn('rn', f.row_number().over(w))\n",
    "```\n"
   ],
   "metadata": {
    "id": "gv-ogcIXzBX0"
   }
  },
  {
   "cell_type": "code",
   "execution_count": 79,
   "source": [
    "from pyspark.sql.window import Window"
   ],
   "outputs": [],
   "metadata": {
    "id": "RYyCyNfF4uG0"
   }
  },
  {
   "cell_type": "code",
   "execution_count": 83,
   "source": [
    "df_titles_subset = (\n",
    "    df_titles\n",
    "    .filter(\"cast(startYear as int) >= 2000\")\n",
    "    .sample(fraction = 0.5)\n",
    "    .withColumn('genre', f.split('genres', ',').getItem(0))\n",
    ")"
   ],
   "outputs": [],
   "metadata": {}
  },
  {
   "cell_type": "code",
   "execution_count": 85,
   "source": [
    "df_titles_subset.count()"
   ],
   "outputs": [
    {
     "output_type": "execute_result",
     "data": {
      "text/plain": [
       "2687517"
      ]
     },
     "metadata": {},
     "execution_count": 85
    }
   ],
   "metadata": {}
  },
  {
   "cell_type": "code",
   "execution_count": 84,
   "source": [
    "df_titles_subset.withColumn('genre', f.split('genres', ',').getItem(0)).limit(5).toPandas()"
   ],
   "outputs": [
    {
     "output_type": "execute_result",
     "data": {
      "text/plain": [
       "      tconst titleType            primaryTitle           originalTitle  \\\n",
       "0  tt0011801     movie        Tötet nicht mehr        Tötet nicht mehr   \n",
       "1  tt0015414     movie  La tierra de los toros  La tierra de los toros   \n",
       "2  tt0016906     movie              Frivolinas              Frivolinas   \n",
       "3  tt0018295     short       El puño de hierro       El puño de hierro   \n",
       "4  tt0056840     short                Aufsätze                Aufsätze   \n",
       "\n",
       "  isAdult startYear endYear runtimeMinutes              genres   genre  \n",
       "0       0      2019      \\N             \\N        Action,Crime  Action  \n",
       "1       0      2000      \\N             60                  \\N      \\N  \n",
       "2       0      2014      \\N             80      Comedy,Musical  Comedy  \n",
       "3       0      2004      \\N             40  Action,Drama,Short  Action  \n",
       "4       0      2021      \\N             10               Short   Short  "
      ],
      "text/html": [
       "<div>\n",
       "<style scoped>\n",
       "    .dataframe tbody tr th:only-of-type {\n",
       "        vertical-align: middle;\n",
       "    }\n",
       "\n",
       "    .dataframe tbody tr th {\n",
       "        vertical-align: top;\n",
       "    }\n",
       "\n",
       "    .dataframe thead th {\n",
       "        text-align: right;\n",
       "    }\n",
       "</style>\n",
       "<table border=\"1\" class=\"dataframe\">\n",
       "  <thead>\n",
       "    <tr style=\"text-align: right;\">\n",
       "      <th></th>\n",
       "      <th>tconst</th>\n",
       "      <th>titleType</th>\n",
       "      <th>primaryTitle</th>\n",
       "      <th>originalTitle</th>\n",
       "      <th>isAdult</th>\n",
       "      <th>startYear</th>\n",
       "      <th>endYear</th>\n",
       "      <th>runtimeMinutes</th>\n",
       "      <th>genres</th>\n",
       "      <th>genre</th>\n",
       "    </tr>\n",
       "  </thead>\n",
       "  <tbody>\n",
       "    <tr>\n",
       "      <th>0</th>\n",
       "      <td>tt0011801</td>\n",
       "      <td>movie</td>\n",
       "      <td>Tötet nicht mehr</td>\n",
       "      <td>Tötet nicht mehr</td>\n",
       "      <td>0</td>\n",
       "      <td>2019</td>\n",
       "      <td>\\N</td>\n",
       "      <td>\\N</td>\n",
       "      <td>Action,Crime</td>\n",
       "      <td>Action</td>\n",
       "    </tr>\n",
       "    <tr>\n",
       "      <th>1</th>\n",
       "      <td>tt0015414</td>\n",
       "      <td>movie</td>\n",
       "      <td>La tierra de los toros</td>\n",
       "      <td>La tierra de los toros</td>\n",
       "      <td>0</td>\n",
       "      <td>2000</td>\n",
       "      <td>\\N</td>\n",
       "      <td>60</td>\n",
       "      <td>\\N</td>\n",
       "      <td>\\N</td>\n",
       "    </tr>\n",
       "    <tr>\n",
       "      <th>2</th>\n",
       "      <td>tt0016906</td>\n",
       "      <td>movie</td>\n",
       "      <td>Frivolinas</td>\n",
       "      <td>Frivolinas</td>\n",
       "      <td>0</td>\n",
       "      <td>2014</td>\n",
       "      <td>\\N</td>\n",
       "      <td>80</td>\n",
       "      <td>Comedy,Musical</td>\n",
       "      <td>Comedy</td>\n",
       "    </tr>\n",
       "    <tr>\n",
       "      <th>3</th>\n",
       "      <td>tt0018295</td>\n",
       "      <td>short</td>\n",
       "      <td>El puño de hierro</td>\n",
       "      <td>El puño de hierro</td>\n",
       "      <td>0</td>\n",
       "      <td>2004</td>\n",
       "      <td>\\N</td>\n",
       "      <td>40</td>\n",
       "      <td>Action,Drama,Short</td>\n",
       "      <td>Action</td>\n",
       "    </tr>\n",
       "    <tr>\n",
       "      <th>4</th>\n",
       "      <td>tt0056840</td>\n",
       "      <td>short</td>\n",
       "      <td>Aufsätze</td>\n",
       "      <td>Aufsätze</td>\n",
       "      <td>0</td>\n",
       "      <td>2021</td>\n",
       "      <td>\\N</td>\n",
       "      <td>10</td>\n",
       "      <td>Short</td>\n",
       "      <td>Short</td>\n",
       "    </tr>\n",
       "  </tbody>\n",
       "</table>\n",
       "</div>"
      ]
     },
     "metadata": {},
     "execution_count": 84
    }
   ],
   "metadata": {}
  },
  {
   "cell_type": "code",
   "execution_count": 94,
   "source": [
    "w = Window.partitionBy('genre').orderBy(f.desc('startYear'))\n",
    "(\n",
    "    df_titles_subset\n",
    "    .withColumn('genre', f.split('genres', ',').getItem(0))\n",
    "    .withColumn('startYear', f.col('startYear').cast('int'))\n",
    "    .filter('startYear >= 2021')\n",
    "    .withColumn('rn', f.percent_rank().over(w))\n",
    "    .limit(25)\n",
    "    .toPandas()\n",
    ")"
   ],
   "outputs": [
    {
     "output_type": "execute_result",
     "data": {
      "text/plain": [
       "        tconst  titleType            primaryTitle           originalTitle  \\\n",
       "0   tt11254244      movie           Single Action           Single Action   \n",
       "1    tt3999214      movie         Perpetual Nexus         Perpetual Nexus   \n",
       "2    tt7115440      movie     The Bathtub Murders     The Bathtub Murders   \n",
       "3    tt8101460      movie            Nightstalker            Nightstalker   \n",
       "4   tt12238522  tvEpisode          The Interviews          The Interviews   \n",
       "5   tt12238552  tvEpisode         The Predicament         The Predicament   \n",
       "6   tt12238564  tvEpisode              The Target              The Target   \n",
       "7   tt12268460  tvEpisode                   Pilot                   Pilot   \n",
       "8   tt12275106  tvEpisode   The Websters Division   The Websters Division   \n",
       "9   tt13745978      movie       Who can you trust       Who can you trust   \n",
       "10  tt14130038      movie          Michael Parker          Michael Parker   \n",
       "11  tt15077350      short  Dubstep: Ride the Rail  Dubstep: Ride the Rail   \n",
       "12  tt11248432      movie    The Krays: New Blood    The Krays: New Blood   \n",
       "13   tt8615378      movie                   Roper                   Roper   \n",
       "14   tt5893574      movie                  Retour                  Retour   \n",
       "15   tt6323320      movie         Terror Among Us      Once Upon a Terror   \n",
       "16   tt7089544      movie           Thirteen Cars           Thirteen Cars   \n",
       "17   tt3651846      movie        Grimmerson Manor        Grimmerson Manor   \n",
       "18   tt4273800      movie          The Good Nurse          The Good Nurse   \n",
       "19   tt4729478      movie                  Fugazi                  Fugazi   \n",
       "20   tt7391972      movie             Little Lamb             Little Lamb   \n",
       "21   tt7655118      short                  Clover                  Clover   \n",
       "22   tt7657566      movie       Death on the Nile       Death on the Nile   \n",
       "23   tt7935460      movie             Bag Holders             Bag Holders   \n",
       "24   tt8026966      movie        Heartbreak Falls        Heartbreak Falls   \n",
       "\n",
       "   isAdult  startYear endYear runtimeMinutes                genres  genre  \\\n",
       "0        0       2024      \\N             \\N  Crime,Romance,Sci-Fi  Crime   \n",
       "1        0       2023      \\N             \\N           Crime,Drama  Crime   \n",
       "2        0       2023      \\N             \\N   Crime,Drama,Mystery  Crime   \n",
       "3        0       2023      \\N             \\N                 Crime  Crime   \n",
       "4        0       2023      \\N             \\N                 Crime  Crime   \n",
       "5        0       2023      \\N             \\N                 Crime  Crime   \n",
       "6        0       2023      \\N             \\N                 Crime  Crime   \n",
       "7        0       2023      \\N             \\N                 Crime  Crime   \n",
       "8        0       2023      \\N             \\N                 Crime  Crime   \n",
       "9        0       2023      \\N             \\N                 Crime  Crime   \n",
       "10       0       2023      \\N             \\N                 Crime  Crime   \n",
       "11       0       2023      \\N             \\N           Crime,Short  Crime   \n",
       "12       0       2023      \\N             \\N                 Crime  Crime   \n",
       "13       0       2023      \\N             \\N                 Crime  Crime   \n",
       "14       0       2022      \\N             90  Crime,Drama,Thriller  Crime   \n",
       "15       0       2022      \\N             \\N  Crime,Horror,Mystery  Crime   \n",
       "16       0       2022      \\N             \\N                 Crime  Crime   \n",
       "17       0       2022      \\N             \\N    Crime,Drama,Horror  Crime   \n",
       "18       0       2022      \\N             \\N   Crime,Drama,Mystery  Crime   \n",
       "19       0       2022      \\N             86        Crime,Thriller  Crime   \n",
       "20       0       2022      \\N             93   Crime,Drama,Mystery  Crime   \n",
       "21       0       2022      \\N             \\N           Crime,Short  Crime   \n",
       "22       0       2022      \\N             \\N   Crime,Drama,Mystery  Crime   \n",
       "23       0       2022      \\N             \\N           Crime,Drama  Crime   \n",
       "24       0       2022      \\N             \\N           Crime,Drama  Crime   \n",
       "\n",
       "          rn  \n",
       "0   0.000000  \n",
       "1   0.000286  \n",
       "2   0.000286  \n",
       "3   0.000286  \n",
       "4   0.000286  \n",
       "5   0.000286  \n",
       "6   0.000286  \n",
       "7   0.000286  \n",
       "8   0.000286  \n",
       "9   0.000286  \n",
       "10  0.000286  \n",
       "11  0.000286  \n",
       "12  0.000286  \n",
       "13  0.000286  \n",
       "14  0.004007  \n",
       "15  0.004007  \n",
       "16  0.004007  \n",
       "17  0.004007  \n",
       "18  0.004007  \n",
       "19  0.004007  \n",
       "20  0.004007  \n",
       "21  0.004007  \n",
       "22  0.004007  \n",
       "23  0.004007  \n",
       "24  0.004007  "
      ],
      "text/html": [
       "<div>\n",
       "<style scoped>\n",
       "    .dataframe tbody tr th:only-of-type {\n",
       "        vertical-align: middle;\n",
       "    }\n",
       "\n",
       "    .dataframe tbody tr th {\n",
       "        vertical-align: top;\n",
       "    }\n",
       "\n",
       "    .dataframe thead th {\n",
       "        text-align: right;\n",
       "    }\n",
       "</style>\n",
       "<table border=\"1\" class=\"dataframe\">\n",
       "  <thead>\n",
       "    <tr style=\"text-align: right;\">\n",
       "      <th></th>\n",
       "      <th>tconst</th>\n",
       "      <th>titleType</th>\n",
       "      <th>primaryTitle</th>\n",
       "      <th>originalTitle</th>\n",
       "      <th>isAdult</th>\n",
       "      <th>startYear</th>\n",
       "      <th>endYear</th>\n",
       "      <th>runtimeMinutes</th>\n",
       "      <th>genres</th>\n",
       "      <th>genre</th>\n",
       "      <th>rn</th>\n",
       "    </tr>\n",
       "  </thead>\n",
       "  <tbody>\n",
       "    <tr>\n",
       "      <th>0</th>\n",
       "      <td>tt11254244</td>\n",
       "      <td>movie</td>\n",
       "      <td>Single Action</td>\n",
       "      <td>Single Action</td>\n",
       "      <td>0</td>\n",
       "      <td>2024</td>\n",
       "      <td>\\N</td>\n",
       "      <td>\\N</td>\n",
       "      <td>Crime,Romance,Sci-Fi</td>\n",
       "      <td>Crime</td>\n",
       "      <td>0.000000</td>\n",
       "    </tr>\n",
       "    <tr>\n",
       "      <th>1</th>\n",
       "      <td>tt3999214</td>\n",
       "      <td>movie</td>\n",
       "      <td>Perpetual Nexus</td>\n",
       "      <td>Perpetual Nexus</td>\n",
       "      <td>0</td>\n",
       "      <td>2023</td>\n",
       "      <td>\\N</td>\n",
       "      <td>\\N</td>\n",
       "      <td>Crime,Drama</td>\n",
       "      <td>Crime</td>\n",
       "      <td>0.000286</td>\n",
       "    </tr>\n",
       "    <tr>\n",
       "      <th>2</th>\n",
       "      <td>tt7115440</td>\n",
       "      <td>movie</td>\n",
       "      <td>The Bathtub Murders</td>\n",
       "      <td>The Bathtub Murders</td>\n",
       "      <td>0</td>\n",
       "      <td>2023</td>\n",
       "      <td>\\N</td>\n",
       "      <td>\\N</td>\n",
       "      <td>Crime,Drama,Mystery</td>\n",
       "      <td>Crime</td>\n",
       "      <td>0.000286</td>\n",
       "    </tr>\n",
       "    <tr>\n",
       "      <th>3</th>\n",
       "      <td>tt8101460</td>\n",
       "      <td>movie</td>\n",
       "      <td>Nightstalker</td>\n",
       "      <td>Nightstalker</td>\n",
       "      <td>0</td>\n",
       "      <td>2023</td>\n",
       "      <td>\\N</td>\n",
       "      <td>\\N</td>\n",
       "      <td>Crime</td>\n",
       "      <td>Crime</td>\n",
       "      <td>0.000286</td>\n",
       "    </tr>\n",
       "    <tr>\n",
       "      <th>4</th>\n",
       "      <td>tt12238522</td>\n",
       "      <td>tvEpisode</td>\n",
       "      <td>The Interviews</td>\n",
       "      <td>The Interviews</td>\n",
       "      <td>0</td>\n",
       "      <td>2023</td>\n",
       "      <td>\\N</td>\n",
       "      <td>\\N</td>\n",
       "      <td>Crime</td>\n",
       "      <td>Crime</td>\n",
       "      <td>0.000286</td>\n",
       "    </tr>\n",
       "    <tr>\n",
       "      <th>5</th>\n",
       "      <td>tt12238552</td>\n",
       "      <td>tvEpisode</td>\n",
       "      <td>The Predicament</td>\n",
       "      <td>The Predicament</td>\n",
       "      <td>0</td>\n",
       "      <td>2023</td>\n",
       "      <td>\\N</td>\n",
       "      <td>\\N</td>\n",
       "      <td>Crime</td>\n",
       "      <td>Crime</td>\n",
       "      <td>0.000286</td>\n",
       "    </tr>\n",
       "    <tr>\n",
       "      <th>6</th>\n",
       "      <td>tt12238564</td>\n",
       "      <td>tvEpisode</td>\n",
       "      <td>The Target</td>\n",
       "      <td>The Target</td>\n",
       "      <td>0</td>\n",
       "      <td>2023</td>\n",
       "      <td>\\N</td>\n",
       "      <td>\\N</td>\n",
       "      <td>Crime</td>\n",
       "      <td>Crime</td>\n",
       "      <td>0.000286</td>\n",
       "    </tr>\n",
       "    <tr>\n",
       "      <th>7</th>\n",
       "      <td>tt12268460</td>\n",
       "      <td>tvEpisode</td>\n",
       "      <td>Pilot</td>\n",
       "      <td>Pilot</td>\n",
       "      <td>0</td>\n",
       "      <td>2023</td>\n",
       "      <td>\\N</td>\n",
       "      <td>\\N</td>\n",
       "      <td>Crime</td>\n",
       "      <td>Crime</td>\n",
       "      <td>0.000286</td>\n",
       "    </tr>\n",
       "    <tr>\n",
       "      <th>8</th>\n",
       "      <td>tt12275106</td>\n",
       "      <td>tvEpisode</td>\n",
       "      <td>The Websters Division</td>\n",
       "      <td>The Websters Division</td>\n",
       "      <td>0</td>\n",
       "      <td>2023</td>\n",
       "      <td>\\N</td>\n",
       "      <td>\\N</td>\n",
       "      <td>Crime</td>\n",
       "      <td>Crime</td>\n",
       "      <td>0.000286</td>\n",
       "    </tr>\n",
       "    <tr>\n",
       "      <th>9</th>\n",
       "      <td>tt13745978</td>\n",
       "      <td>movie</td>\n",
       "      <td>Who can you trust</td>\n",
       "      <td>Who can you trust</td>\n",
       "      <td>0</td>\n",
       "      <td>2023</td>\n",
       "      <td>\\N</td>\n",
       "      <td>\\N</td>\n",
       "      <td>Crime</td>\n",
       "      <td>Crime</td>\n",
       "      <td>0.000286</td>\n",
       "    </tr>\n",
       "    <tr>\n",
       "      <th>10</th>\n",
       "      <td>tt14130038</td>\n",
       "      <td>movie</td>\n",
       "      <td>Michael Parker</td>\n",
       "      <td>Michael Parker</td>\n",
       "      <td>0</td>\n",
       "      <td>2023</td>\n",
       "      <td>\\N</td>\n",
       "      <td>\\N</td>\n",
       "      <td>Crime</td>\n",
       "      <td>Crime</td>\n",
       "      <td>0.000286</td>\n",
       "    </tr>\n",
       "    <tr>\n",
       "      <th>11</th>\n",
       "      <td>tt15077350</td>\n",
       "      <td>short</td>\n",
       "      <td>Dubstep: Ride the Rail</td>\n",
       "      <td>Dubstep: Ride the Rail</td>\n",
       "      <td>0</td>\n",
       "      <td>2023</td>\n",
       "      <td>\\N</td>\n",
       "      <td>\\N</td>\n",
       "      <td>Crime,Short</td>\n",
       "      <td>Crime</td>\n",
       "      <td>0.000286</td>\n",
       "    </tr>\n",
       "    <tr>\n",
       "      <th>12</th>\n",
       "      <td>tt11248432</td>\n",
       "      <td>movie</td>\n",
       "      <td>The Krays: New Blood</td>\n",
       "      <td>The Krays: New Blood</td>\n",
       "      <td>0</td>\n",
       "      <td>2023</td>\n",
       "      <td>\\N</td>\n",
       "      <td>\\N</td>\n",
       "      <td>Crime</td>\n",
       "      <td>Crime</td>\n",
       "      <td>0.000286</td>\n",
       "    </tr>\n",
       "    <tr>\n",
       "      <th>13</th>\n",
       "      <td>tt8615378</td>\n",
       "      <td>movie</td>\n",
       "      <td>Roper</td>\n",
       "      <td>Roper</td>\n",
       "      <td>0</td>\n",
       "      <td>2023</td>\n",
       "      <td>\\N</td>\n",
       "      <td>\\N</td>\n",
       "      <td>Crime</td>\n",
       "      <td>Crime</td>\n",
       "      <td>0.000286</td>\n",
       "    </tr>\n",
       "    <tr>\n",
       "      <th>14</th>\n",
       "      <td>tt5893574</td>\n",
       "      <td>movie</td>\n",
       "      <td>Retour</td>\n",
       "      <td>Retour</td>\n",
       "      <td>0</td>\n",
       "      <td>2022</td>\n",
       "      <td>\\N</td>\n",
       "      <td>90</td>\n",
       "      <td>Crime,Drama,Thriller</td>\n",
       "      <td>Crime</td>\n",
       "      <td>0.004007</td>\n",
       "    </tr>\n",
       "    <tr>\n",
       "      <th>15</th>\n",
       "      <td>tt6323320</td>\n",
       "      <td>movie</td>\n",
       "      <td>Terror Among Us</td>\n",
       "      <td>Once Upon a Terror</td>\n",
       "      <td>0</td>\n",
       "      <td>2022</td>\n",
       "      <td>\\N</td>\n",
       "      <td>\\N</td>\n",
       "      <td>Crime,Horror,Mystery</td>\n",
       "      <td>Crime</td>\n",
       "      <td>0.004007</td>\n",
       "    </tr>\n",
       "    <tr>\n",
       "      <th>16</th>\n",
       "      <td>tt7089544</td>\n",
       "      <td>movie</td>\n",
       "      <td>Thirteen Cars</td>\n",
       "      <td>Thirteen Cars</td>\n",
       "      <td>0</td>\n",
       "      <td>2022</td>\n",
       "      <td>\\N</td>\n",
       "      <td>\\N</td>\n",
       "      <td>Crime</td>\n",
       "      <td>Crime</td>\n",
       "      <td>0.004007</td>\n",
       "    </tr>\n",
       "    <tr>\n",
       "      <th>17</th>\n",
       "      <td>tt3651846</td>\n",
       "      <td>movie</td>\n",
       "      <td>Grimmerson Manor</td>\n",
       "      <td>Grimmerson Manor</td>\n",
       "      <td>0</td>\n",
       "      <td>2022</td>\n",
       "      <td>\\N</td>\n",
       "      <td>\\N</td>\n",
       "      <td>Crime,Drama,Horror</td>\n",
       "      <td>Crime</td>\n",
       "      <td>0.004007</td>\n",
       "    </tr>\n",
       "    <tr>\n",
       "      <th>18</th>\n",
       "      <td>tt4273800</td>\n",
       "      <td>movie</td>\n",
       "      <td>The Good Nurse</td>\n",
       "      <td>The Good Nurse</td>\n",
       "      <td>0</td>\n",
       "      <td>2022</td>\n",
       "      <td>\\N</td>\n",
       "      <td>\\N</td>\n",
       "      <td>Crime,Drama,Mystery</td>\n",
       "      <td>Crime</td>\n",
       "      <td>0.004007</td>\n",
       "    </tr>\n",
       "    <tr>\n",
       "      <th>19</th>\n",
       "      <td>tt4729478</td>\n",
       "      <td>movie</td>\n",
       "      <td>Fugazi</td>\n",
       "      <td>Fugazi</td>\n",
       "      <td>0</td>\n",
       "      <td>2022</td>\n",
       "      <td>\\N</td>\n",
       "      <td>86</td>\n",
       "      <td>Crime,Thriller</td>\n",
       "      <td>Crime</td>\n",
       "      <td>0.004007</td>\n",
       "    </tr>\n",
       "    <tr>\n",
       "      <th>20</th>\n",
       "      <td>tt7391972</td>\n",
       "      <td>movie</td>\n",
       "      <td>Little Lamb</td>\n",
       "      <td>Little Lamb</td>\n",
       "      <td>0</td>\n",
       "      <td>2022</td>\n",
       "      <td>\\N</td>\n",
       "      <td>93</td>\n",
       "      <td>Crime,Drama,Mystery</td>\n",
       "      <td>Crime</td>\n",
       "      <td>0.004007</td>\n",
       "    </tr>\n",
       "    <tr>\n",
       "      <th>21</th>\n",
       "      <td>tt7655118</td>\n",
       "      <td>short</td>\n",
       "      <td>Clover</td>\n",
       "      <td>Clover</td>\n",
       "      <td>0</td>\n",
       "      <td>2022</td>\n",
       "      <td>\\N</td>\n",
       "      <td>\\N</td>\n",
       "      <td>Crime,Short</td>\n",
       "      <td>Crime</td>\n",
       "      <td>0.004007</td>\n",
       "    </tr>\n",
       "    <tr>\n",
       "      <th>22</th>\n",
       "      <td>tt7657566</td>\n",
       "      <td>movie</td>\n",
       "      <td>Death on the Nile</td>\n",
       "      <td>Death on the Nile</td>\n",
       "      <td>0</td>\n",
       "      <td>2022</td>\n",
       "      <td>\\N</td>\n",
       "      <td>\\N</td>\n",
       "      <td>Crime,Drama,Mystery</td>\n",
       "      <td>Crime</td>\n",
       "      <td>0.004007</td>\n",
       "    </tr>\n",
       "    <tr>\n",
       "      <th>23</th>\n",
       "      <td>tt7935460</td>\n",
       "      <td>movie</td>\n",
       "      <td>Bag Holders</td>\n",
       "      <td>Bag Holders</td>\n",
       "      <td>0</td>\n",
       "      <td>2022</td>\n",
       "      <td>\\N</td>\n",
       "      <td>\\N</td>\n",
       "      <td>Crime,Drama</td>\n",
       "      <td>Crime</td>\n",
       "      <td>0.004007</td>\n",
       "    </tr>\n",
       "    <tr>\n",
       "      <th>24</th>\n",
       "      <td>tt8026966</td>\n",
       "      <td>movie</td>\n",
       "      <td>Heartbreak Falls</td>\n",
       "      <td>Heartbreak Falls</td>\n",
       "      <td>0</td>\n",
       "      <td>2022</td>\n",
       "      <td>\\N</td>\n",
       "      <td>\\N</td>\n",
       "      <td>Crime,Drama</td>\n",
       "      <td>Crime</td>\n",
       "      <td>0.004007</td>\n",
       "    </tr>\n",
       "  </tbody>\n",
       "</table>\n",
       "</div>"
      ]
     },
     "metadata": {},
     "execution_count": 94
    }
   ],
   "metadata": {
    "id": "WdiYPJgA3n5B",
    "scrolled": true
   }
  },
  {
   "cell_type": "code",
   "execution_count": 103,
   "source": [
    "w = Window.partitionBy('titleType', 'startYear')\n",
    "(\n",
    "    df_titles_subset\n",
    "    .withColumn('genre', f.split('genres', ',').getItem(0))\n",
    "    .withColumn('runtimeMinutes', f.col('runtimeMinutes').cast('int'))\n",
    "    .withColumn('total_minutes', f.sum(f.col('runtimeMinutes')).over(w))\n",
    "    .withColumn('mean_minutes', f.mean(f.col('runtimeMinutes')).over(w))\n",
    "    .withColumn('relative_minutes', f.col('runtimeMinutes') / f.col('total_minutes'))\n",
    "    .filter('runtimeMinutes is not null')\n",
    "    .limit(5)\n",
    "    .toPandas()\n",
    ")"
   ],
   "outputs": [
    {
     "output_type": "execute_result",
     "data": {
      "text/plain": [
       "      tconst titleType                                       primaryTitle  \\\n",
       "0  tt5637090   tvMovie                                          Class Act   \n",
       "1  tt5643466   tvMovie                                        La Traviata   \n",
       "2  tt5655036   tvMovie                             The Ultimate Time Lord   \n",
       "3  tt5674000   tvMovie  Pimp City: A Journey to the Center of the Sex ...   \n",
       "4  tt5712274   tvMovie                                           La Wally   \n",
       "\n",
       "                                       originalTitle isAdult startYear  \\\n",
       "0                                          Class Act       0      2014   \n",
       "1                                        La Traviata       0      2014   \n",
       "2                             The Ultimate Time Lord       0      2014   \n",
       "3  Pimp City: A Journey to the Center of the Sex ...       0      2014   \n",
       "4                                           La Wally       0      2014   \n",
       "\n",
       "  endYear  runtimeMinutes                 genres        genre  total_minutes  \\\n",
       "0      \\N              24                 Comedy       Comedy          73638   \n",
       "1      \\N             145                  Music        Music          73638   \n",
       "2      \\N              43                     \\N           \\N          73638   \n",
       "3      \\N              60            Documentary  Documentary          73638   \n",
       "4      \\N             119  Drama,Musical,Romance        Drama          73638   \n",
       "\n",
       "   mean_minutes  relative_minutes  \n",
       "0       74.1571          0.000326  \n",
       "1       74.1571          0.001969  \n",
       "2       74.1571          0.000584  \n",
       "3       74.1571          0.000815  \n",
       "4       74.1571          0.001616  "
      ],
      "text/html": [
       "<div>\n",
       "<style scoped>\n",
       "    .dataframe tbody tr th:only-of-type {\n",
       "        vertical-align: middle;\n",
       "    }\n",
       "\n",
       "    .dataframe tbody tr th {\n",
       "        vertical-align: top;\n",
       "    }\n",
       "\n",
       "    .dataframe thead th {\n",
       "        text-align: right;\n",
       "    }\n",
       "</style>\n",
       "<table border=\"1\" class=\"dataframe\">\n",
       "  <thead>\n",
       "    <tr style=\"text-align: right;\">\n",
       "      <th></th>\n",
       "      <th>tconst</th>\n",
       "      <th>titleType</th>\n",
       "      <th>primaryTitle</th>\n",
       "      <th>originalTitle</th>\n",
       "      <th>isAdult</th>\n",
       "      <th>startYear</th>\n",
       "      <th>endYear</th>\n",
       "      <th>runtimeMinutes</th>\n",
       "      <th>genres</th>\n",
       "      <th>genre</th>\n",
       "      <th>total_minutes</th>\n",
       "      <th>mean_minutes</th>\n",
       "      <th>relative_minutes</th>\n",
       "    </tr>\n",
       "  </thead>\n",
       "  <tbody>\n",
       "    <tr>\n",
       "      <th>0</th>\n",
       "      <td>tt5637090</td>\n",
       "      <td>tvMovie</td>\n",
       "      <td>Class Act</td>\n",
       "      <td>Class Act</td>\n",
       "      <td>0</td>\n",
       "      <td>2014</td>\n",
       "      <td>\\N</td>\n",
       "      <td>24</td>\n",
       "      <td>Comedy</td>\n",
       "      <td>Comedy</td>\n",
       "      <td>73638</td>\n",
       "      <td>74.1571</td>\n",
       "      <td>0.000326</td>\n",
       "    </tr>\n",
       "    <tr>\n",
       "      <th>1</th>\n",
       "      <td>tt5643466</td>\n",
       "      <td>tvMovie</td>\n",
       "      <td>La Traviata</td>\n",
       "      <td>La Traviata</td>\n",
       "      <td>0</td>\n",
       "      <td>2014</td>\n",
       "      <td>\\N</td>\n",
       "      <td>145</td>\n",
       "      <td>Music</td>\n",
       "      <td>Music</td>\n",
       "      <td>73638</td>\n",
       "      <td>74.1571</td>\n",
       "      <td>0.001969</td>\n",
       "    </tr>\n",
       "    <tr>\n",
       "      <th>2</th>\n",
       "      <td>tt5655036</td>\n",
       "      <td>tvMovie</td>\n",
       "      <td>The Ultimate Time Lord</td>\n",
       "      <td>The Ultimate Time Lord</td>\n",
       "      <td>0</td>\n",
       "      <td>2014</td>\n",
       "      <td>\\N</td>\n",
       "      <td>43</td>\n",
       "      <td>\\N</td>\n",
       "      <td>\\N</td>\n",
       "      <td>73638</td>\n",
       "      <td>74.1571</td>\n",
       "      <td>0.000584</td>\n",
       "    </tr>\n",
       "    <tr>\n",
       "      <th>3</th>\n",
       "      <td>tt5674000</td>\n",
       "      <td>tvMovie</td>\n",
       "      <td>Pimp City: A Journey to the Center of the Sex ...</td>\n",
       "      <td>Pimp City: A Journey to the Center of the Sex ...</td>\n",
       "      <td>0</td>\n",
       "      <td>2014</td>\n",
       "      <td>\\N</td>\n",
       "      <td>60</td>\n",
       "      <td>Documentary</td>\n",
       "      <td>Documentary</td>\n",
       "      <td>73638</td>\n",
       "      <td>74.1571</td>\n",
       "      <td>0.000815</td>\n",
       "    </tr>\n",
       "    <tr>\n",
       "      <th>4</th>\n",
       "      <td>tt5712274</td>\n",
       "      <td>tvMovie</td>\n",
       "      <td>La Wally</td>\n",
       "      <td>La Wally</td>\n",
       "      <td>0</td>\n",
       "      <td>2014</td>\n",
       "      <td>\\N</td>\n",
       "      <td>119</td>\n",
       "      <td>Drama,Musical,Romance</td>\n",
       "      <td>Drama</td>\n",
       "      <td>73638</td>\n",
       "      <td>74.1571</td>\n",
       "      <td>0.001616</td>\n",
       "    </tr>\n",
       "  </tbody>\n",
       "</table>\n",
       "</div>"
      ]
     },
     "metadata": {},
     "execution_count": 103
    }
   ],
   "metadata": {
    "id": "aOVhOVsWh5BP"
   }
  },
  {
   "cell_type": "code",
   "execution_count": 129,
   "source": [
    "w = Window.partitionBy('titleType').orderBy('startYear').rowsBetween(Window.unboundedPreceding, Window.currentRow)\n",
    "(\n",
    "    df_titles_subset\n",
    "    .withColumn('runtimeMinutes', f.col('runtimeMinutes').cast('int'))\n",
    "    .groupby('titleType', 'startYear')\n",
    "    .agg(f.expr('mean(runtimeMinutes) as media_minutos'))\n",
    "    .orderBy('titleType', 'startYear')\n",
    "    .withColumn('meadia_movel_3anos', f.round(f.mean('media_minutos').over(w), 3))\n",
    "    .limit(15)\n",
    "    .toPandas()\n",
    ")"
   ],
   "outputs": [
    {
     "output_type": "execute_result",
     "data": {
      "text/plain": [
       "   titleType startYear  media_minutos  meadia_movel_3anos\n",
       "0   tvSeries      2000      49.007634              49.008\n",
       "1   tvSeries      2001      50.358881              49.683\n",
       "2   tvSeries      2002      52.182771              50.516\n",
       "3   tvSeries      2003      49.186983              50.184\n",
       "4   tvSeries      2004      55.584795              51.264\n",
       "5   tvSeries      2005      53.630952              51.659\n",
       "6   tvSeries      2006      51.049094              51.572\n",
       "7   tvSeries      2007      48.712195              51.214\n",
       "8   tvSeries      2008      46.361037              50.675\n",
       "9   tvSeries      2009      46.844282              50.292\n",
       "10  tvSeries      2010      44.524303              49.768\n",
       "11  tvSeries      2011      41.633987              49.090\n",
       "12  tvSeries      2012      41.055177              48.472\n",
       "13  tvSeries      2013      39.243961              47.813\n",
       "14  tvSeries      2014      41.182176              47.371"
      ],
      "text/html": [
       "<div>\n",
       "<style scoped>\n",
       "    .dataframe tbody tr th:only-of-type {\n",
       "        vertical-align: middle;\n",
       "    }\n",
       "\n",
       "    .dataframe tbody tr th {\n",
       "        vertical-align: top;\n",
       "    }\n",
       "\n",
       "    .dataframe thead th {\n",
       "        text-align: right;\n",
       "    }\n",
       "</style>\n",
       "<table border=\"1\" class=\"dataframe\">\n",
       "  <thead>\n",
       "    <tr style=\"text-align: right;\">\n",
       "      <th></th>\n",
       "      <th>titleType</th>\n",
       "      <th>startYear</th>\n",
       "      <th>media_minutos</th>\n",
       "      <th>meadia_movel_3anos</th>\n",
       "    </tr>\n",
       "  </thead>\n",
       "  <tbody>\n",
       "    <tr>\n",
       "      <th>0</th>\n",
       "      <td>tvSeries</td>\n",
       "      <td>2000</td>\n",
       "      <td>49.007634</td>\n",
       "      <td>49.008</td>\n",
       "    </tr>\n",
       "    <tr>\n",
       "      <th>1</th>\n",
       "      <td>tvSeries</td>\n",
       "      <td>2001</td>\n",
       "      <td>50.358881</td>\n",
       "      <td>49.683</td>\n",
       "    </tr>\n",
       "    <tr>\n",
       "      <th>2</th>\n",
       "      <td>tvSeries</td>\n",
       "      <td>2002</td>\n",
       "      <td>52.182771</td>\n",
       "      <td>50.516</td>\n",
       "    </tr>\n",
       "    <tr>\n",
       "      <th>3</th>\n",
       "      <td>tvSeries</td>\n",
       "      <td>2003</td>\n",
       "      <td>49.186983</td>\n",
       "      <td>50.184</td>\n",
       "    </tr>\n",
       "    <tr>\n",
       "      <th>4</th>\n",
       "      <td>tvSeries</td>\n",
       "      <td>2004</td>\n",
       "      <td>55.584795</td>\n",
       "      <td>51.264</td>\n",
       "    </tr>\n",
       "    <tr>\n",
       "      <th>5</th>\n",
       "      <td>tvSeries</td>\n",
       "      <td>2005</td>\n",
       "      <td>53.630952</td>\n",
       "      <td>51.659</td>\n",
       "    </tr>\n",
       "    <tr>\n",
       "      <th>6</th>\n",
       "      <td>tvSeries</td>\n",
       "      <td>2006</td>\n",
       "      <td>51.049094</td>\n",
       "      <td>51.572</td>\n",
       "    </tr>\n",
       "    <tr>\n",
       "      <th>7</th>\n",
       "      <td>tvSeries</td>\n",
       "      <td>2007</td>\n",
       "      <td>48.712195</td>\n",
       "      <td>51.214</td>\n",
       "    </tr>\n",
       "    <tr>\n",
       "      <th>8</th>\n",
       "      <td>tvSeries</td>\n",
       "      <td>2008</td>\n",
       "      <td>46.361037</td>\n",
       "      <td>50.675</td>\n",
       "    </tr>\n",
       "    <tr>\n",
       "      <th>9</th>\n",
       "      <td>tvSeries</td>\n",
       "      <td>2009</td>\n",
       "      <td>46.844282</td>\n",
       "      <td>50.292</td>\n",
       "    </tr>\n",
       "    <tr>\n",
       "      <th>10</th>\n",
       "      <td>tvSeries</td>\n",
       "      <td>2010</td>\n",
       "      <td>44.524303</td>\n",
       "      <td>49.768</td>\n",
       "    </tr>\n",
       "    <tr>\n",
       "      <th>11</th>\n",
       "      <td>tvSeries</td>\n",
       "      <td>2011</td>\n",
       "      <td>41.633987</td>\n",
       "      <td>49.090</td>\n",
       "    </tr>\n",
       "    <tr>\n",
       "      <th>12</th>\n",
       "      <td>tvSeries</td>\n",
       "      <td>2012</td>\n",
       "      <td>41.055177</td>\n",
       "      <td>48.472</td>\n",
       "    </tr>\n",
       "    <tr>\n",
       "      <th>13</th>\n",
       "      <td>tvSeries</td>\n",
       "      <td>2013</td>\n",
       "      <td>39.243961</td>\n",
       "      <td>47.813</td>\n",
       "    </tr>\n",
       "    <tr>\n",
       "      <th>14</th>\n",
       "      <td>tvSeries</td>\n",
       "      <td>2014</td>\n",
       "      <td>41.182176</td>\n",
       "      <td>47.371</td>\n",
       "    </tr>\n",
       "  </tbody>\n",
       "</table>\n",
       "</div>"
      ]
     },
     "metadata": {},
     "execution_count": 129
    }
   ],
   "metadata": {
    "scrolled": false
   }
  },
  {
   "cell_type": "code",
   "execution_count": 127,
   "source": [
    "round((49.007634 + 50.358881 + 52.182771)/3, 3) == 50.516"
   ],
   "outputs": [
    {
     "output_type": "execute_result",
     "data": {
      "text/plain": [
       "True"
      ]
     },
     "metadata": {},
     "execution_count": 127
    }
   ],
   "metadata": {}
  },
  {
   "cell_type": "code",
   "execution_count": 131,
   "source": [
    "round((49.186983 + 50.358881 + 52.182771 + 49.007634 + 55.584795)/5, 3) == 51.264"
   ],
   "outputs": [
    {
     "output_type": "execute_result",
     "data": {
      "text/plain": [
       "True"
      ]
     },
     "metadata": {},
     "execution_count": 131
    }
   ],
   "metadata": {}
  },
  {
   "cell_type": "markdown",
   "source": [
    "#### Usando uma Window para calcular os distintos"
   ],
   "metadata": {
    "id": "purscuy6h5BP"
   }
  },
  {
   "cell_type": "code",
   "execution_count": 132,
   "source": [
    "w = Window.partitionBy('titleType', 'startYear')\n",
    "(\n",
    "    df_titles\n",
    "    .withColumn('lista_cnae', f.countDistinct(f.col('tconst')).over(w))\n",
    "    .limit(5)\n",
    "    .toPandas()\n",
    ")"
   ],
   "outputs": [
    {
     "output_type": "error",
     "ename": "AnalysisException",
     "evalue": "Distinct window functions are not supported: count(distinct tconst#0) windowspecdefinition(titleType#1, startYear#5, specifiedwindowframe(RowFrame, unboundedpreceding$(), unboundedfollowing$()));\nProject [tconst#0, titleType#1, primaryTitle#2, originalTitle#3, isAdult#4, startYear#5, endYear#6, runtimeMinutes#7, genres#8, lista_cnae#214849L]\n+- Project [tconst#0, titleType#1, primaryTitle#2, originalTitle#3, isAdult#4, startYear#5, endYear#6, runtimeMinutes#7, genres#8, lista_cnae#214849L, lista_cnae#214849L]\n   +- Window [count(distinct tconst#0) windowspecdefinition(titleType#1, startYear#5, specifiedwindowframe(RowFrame, unboundedpreceding$(), unboundedfollowing$())) AS lista_cnae#214849L], [titleType#1, startYear#5]\n      +- Project [tconst#0, titleType#1, primaryTitle#2, originalTitle#3, isAdult#4, startYear#5, endYear#6, runtimeMinutes#7, genres#8]\n         +- Relation[tconst#0,titleType#1,primaryTitle#2,originalTitle#3,isAdult#4,startYear#5,endYear#6,runtimeMinutes#7,genres#8] parquet\n",
     "traceback": [
      "\u001b[1;31m---------------------------------------------------------------------------\u001b[0m",
      "\u001b[1;31mAnalysisException\u001b[0m                         Traceback (most recent call last)",
      "\u001b[1;32m<ipython-input-132-953b1dd09b11>\u001b[0m in \u001b[0;36m<module>\u001b[1;34m\u001b[0m\n\u001b[0;32m      1\u001b[0m \u001b[0mw\u001b[0m \u001b[1;33m=\u001b[0m \u001b[0mWindow\u001b[0m\u001b[1;33m.\u001b[0m\u001b[0mpartitionBy\u001b[0m\u001b[1;33m(\u001b[0m\u001b[1;34m'titleType'\u001b[0m\u001b[1;33m,\u001b[0m \u001b[1;34m'startYear'\u001b[0m\u001b[1;33m)\u001b[0m\u001b[1;33m\u001b[0m\u001b[1;33m\u001b[0m\u001b[0m\n\u001b[0;32m      2\u001b[0m (\n\u001b[1;32m----> 3\u001b[1;33m     \u001b[0mdf_titles\u001b[0m\u001b[1;33m\u001b[0m\u001b[1;33m\u001b[0m\u001b[0m\n\u001b[0m\u001b[0;32m      4\u001b[0m     \u001b[1;33m.\u001b[0m\u001b[0mwithColumn\u001b[0m\u001b[1;33m(\u001b[0m\u001b[1;34m'lista_cnae'\u001b[0m\u001b[1;33m,\u001b[0m \u001b[0mf\u001b[0m\u001b[1;33m.\u001b[0m\u001b[0mcountDistinct\u001b[0m\u001b[1;33m(\u001b[0m\u001b[0mf\u001b[0m\u001b[1;33m.\u001b[0m\u001b[0mcol\u001b[0m\u001b[1;33m(\u001b[0m\u001b[1;34m'tconst'\u001b[0m\u001b[1;33m)\u001b[0m\u001b[1;33m)\u001b[0m\u001b[1;33m.\u001b[0m\u001b[0mover\u001b[0m\u001b[1;33m(\u001b[0m\u001b[0mw\u001b[0m\u001b[1;33m)\u001b[0m\u001b[1;33m)\u001b[0m\u001b[1;33m\u001b[0m\u001b[1;33m\u001b[0m\u001b[0m\n\u001b[0;32m      5\u001b[0m     \u001b[1;33m.\u001b[0m\u001b[0mlimit\u001b[0m\u001b[1;33m(\u001b[0m\u001b[1;36m5\u001b[0m\u001b[1;33m)\u001b[0m\u001b[1;33m\u001b[0m\u001b[1;33m\u001b[0m\u001b[0m\n",
      "\u001b[1;32mC:\\anaconda3\\lib\\site-packages\\pyspark\\sql\\dataframe.py\u001b[0m in \u001b[0;36mwithColumn\u001b[1;34m(self, colName, col)\u001b[0m\n\u001b[0;32m   2453\u001b[0m         \"\"\"\n\u001b[0;32m   2454\u001b[0m         \u001b[1;32massert\u001b[0m \u001b[0misinstance\u001b[0m\u001b[1;33m(\u001b[0m\u001b[0mcol\u001b[0m\u001b[1;33m,\u001b[0m \u001b[0mColumn\u001b[0m\u001b[1;33m)\u001b[0m\u001b[1;33m,\u001b[0m \u001b[1;34m\"col should be Column\"\u001b[0m\u001b[1;33m\u001b[0m\u001b[1;33m\u001b[0m\u001b[0m\n\u001b[1;32m-> 2455\u001b[1;33m         \u001b[1;32mreturn\u001b[0m \u001b[0mDataFrame\u001b[0m\u001b[1;33m(\u001b[0m\u001b[0mself\u001b[0m\u001b[1;33m.\u001b[0m\u001b[0m_jdf\u001b[0m\u001b[1;33m.\u001b[0m\u001b[0mwithColumn\u001b[0m\u001b[1;33m(\u001b[0m\u001b[0mcolName\u001b[0m\u001b[1;33m,\u001b[0m \u001b[0mcol\u001b[0m\u001b[1;33m.\u001b[0m\u001b[0m_jc\u001b[0m\u001b[1;33m)\u001b[0m\u001b[1;33m,\u001b[0m \u001b[0mself\u001b[0m\u001b[1;33m.\u001b[0m\u001b[0msql_ctx\u001b[0m\u001b[1;33m)\u001b[0m\u001b[1;33m\u001b[0m\u001b[1;33m\u001b[0m\u001b[0m\n\u001b[0m\u001b[0;32m   2456\u001b[0m \u001b[1;33m\u001b[0m\u001b[0m\n\u001b[0;32m   2457\u001b[0m     \u001b[1;32mdef\u001b[0m \u001b[0mwithColumnRenamed\u001b[0m\u001b[1;33m(\u001b[0m\u001b[0mself\u001b[0m\u001b[1;33m,\u001b[0m \u001b[0mexisting\u001b[0m\u001b[1;33m,\u001b[0m \u001b[0mnew\u001b[0m\u001b[1;33m)\u001b[0m\u001b[1;33m:\u001b[0m\u001b[1;33m\u001b[0m\u001b[1;33m\u001b[0m\u001b[0m\n",
      "\u001b[1;32mC:\\anaconda3\\lib\\site-packages\\py4j\\java_gateway.py\u001b[0m in \u001b[0;36m__call__\u001b[1;34m(self, *args)\u001b[0m\n\u001b[0;32m   1302\u001b[0m \u001b[1;33m\u001b[0m\u001b[0m\n\u001b[0;32m   1303\u001b[0m         \u001b[0manswer\u001b[0m \u001b[1;33m=\u001b[0m \u001b[0mself\u001b[0m\u001b[1;33m.\u001b[0m\u001b[0mgateway_client\u001b[0m\u001b[1;33m.\u001b[0m\u001b[0msend_command\u001b[0m\u001b[1;33m(\u001b[0m\u001b[0mcommand\u001b[0m\u001b[1;33m)\u001b[0m\u001b[1;33m\u001b[0m\u001b[1;33m\u001b[0m\u001b[0m\n\u001b[1;32m-> 1304\u001b[1;33m         return_value = get_return_value(\n\u001b[0m\u001b[0;32m   1305\u001b[0m             answer, self.gateway_client, self.target_id, self.name)\n\u001b[0;32m   1306\u001b[0m \u001b[1;33m\u001b[0m\u001b[0m\n",
      "\u001b[1;32mC:\\anaconda3\\lib\\site-packages\\pyspark\\sql\\utils.py\u001b[0m in \u001b[0;36mdeco\u001b[1;34m(*a, **kw)\u001b[0m\n\u001b[0;32m    115\u001b[0m                 \u001b[1;31m# Hide where the exception came from that shows a non-Pythonic\u001b[0m\u001b[1;33m\u001b[0m\u001b[1;33m\u001b[0m\u001b[1;33m\u001b[0m\u001b[0m\n\u001b[0;32m    116\u001b[0m                 \u001b[1;31m# JVM exception message.\u001b[0m\u001b[1;33m\u001b[0m\u001b[1;33m\u001b[0m\u001b[1;33m\u001b[0m\u001b[0m\n\u001b[1;32m--> 117\u001b[1;33m                 \u001b[1;32mraise\u001b[0m \u001b[0mconverted\u001b[0m \u001b[1;32mfrom\u001b[0m \u001b[1;32mNone\u001b[0m\u001b[1;33m\u001b[0m\u001b[1;33m\u001b[0m\u001b[0m\n\u001b[0m\u001b[0;32m    118\u001b[0m             \u001b[1;32melse\u001b[0m\u001b[1;33m:\u001b[0m\u001b[1;33m\u001b[0m\u001b[1;33m\u001b[0m\u001b[0m\n\u001b[0;32m    119\u001b[0m                 \u001b[1;32mraise\u001b[0m\u001b[1;33m\u001b[0m\u001b[1;33m\u001b[0m\u001b[0m\n",
      "\u001b[1;31mAnalysisException\u001b[0m: Distinct window functions are not supported: count(distinct tconst#0) windowspecdefinition(titleType#1, startYear#5, specifiedwindowframe(RowFrame, unboundedpreceding$(), unboundedfollowing$()));\nProject [tconst#0, titleType#1, primaryTitle#2, originalTitle#3, isAdult#4, startYear#5, endYear#6, runtimeMinutes#7, genres#8, lista_cnae#214849L]\n+- Project [tconst#0, titleType#1, primaryTitle#2, originalTitle#3, isAdult#4, startYear#5, endYear#6, runtimeMinutes#7, genres#8, lista_cnae#214849L, lista_cnae#214849L]\n   +- Window [count(distinct tconst#0) windowspecdefinition(titleType#1, startYear#5, specifiedwindowframe(RowFrame, unboundedpreceding$(), unboundedfollowing$())) AS lista_cnae#214849L], [titleType#1, startYear#5]\n      +- Project [tconst#0, titleType#1, primaryTitle#2, originalTitle#3, isAdult#4, startYear#5, endYear#6, runtimeMinutes#7, genres#8]\n         +- Relation[tconst#0,titleType#1,primaryTitle#2,originalTitle#3,isAdult#4,startYear#5,endYear#6,runtimeMinutes#7,genres#8] parquet\n"
     ]
    }
   ],
   "metadata": {
    "id": "GCj7hI9YzAyC"
   }
  },
  {
   "cell_type": "code",
   "execution_count": 134,
   "source": [
    "w = Window.partitionBy('titleType', 'startYear')\n",
    "(\n",
    "    df_titles_subset\n",
    "    .withColumn('lista_titulos', f.collect_set(f.col('tconst')).over(w))\n",
    "    .limit(5)\n",
    "    .toPandas()\n",
    ")"
   ],
   "outputs": [
    {
     "output_type": "execute_result",
     "data": {
      "text/plain": [
       "      tconst titleType            primaryTitle           originalTitle  \\\n",
       "0  tt5637090   tvMovie               Class Act               Class Act   \n",
       "1  tt5638640   tvMovie                Orrantia                Orrantia   \n",
       "2  tt5643466   tvMovie             La Traviata             La Traviata   \n",
       "3  tt5645252   tvMovie             Games Night             Games Night   \n",
       "4  tt5655036   tvMovie  The Ultimate Time Lord  The Ultimate Time Lord   \n",
       "\n",
       "  isAdult startYear endYear runtimeMinutes  genres   genre  \\\n",
       "0       0      2014      \\N             24  Comedy  Comedy   \n",
       "1       0      2014      \\N             \\N   Drama   Drama   \n",
       "2       0      2014      \\N            145   Music   Music   \n",
       "3       0      2014      \\N             \\N  Comedy  Comedy   \n",
       "4       0      2014      \\N             43      \\N      \\N   \n",
       "\n",
       "                                       lista_titulos  \n",
       "0  [tt4799288, tt3914718, tt3549524, tt4086378, t...  \n",
       "1  [tt4799288, tt3914718, tt3549524, tt4086378, t...  \n",
       "2  [tt4799288, tt3914718, tt3549524, tt4086378, t...  \n",
       "3  [tt4799288, tt3914718, tt3549524, tt4086378, t...  \n",
       "4  [tt4799288, tt3914718, tt3549524, tt4086378, t...  "
      ],
      "text/html": [
       "<div>\n",
       "<style scoped>\n",
       "    .dataframe tbody tr th:only-of-type {\n",
       "        vertical-align: middle;\n",
       "    }\n",
       "\n",
       "    .dataframe tbody tr th {\n",
       "        vertical-align: top;\n",
       "    }\n",
       "\n",
       "    .dataframe thead th {\n",
       "        text-align: right;\n",
       "    }\n",
       "</style>\n",
       "<table border=\"1\" class=\"dataframe\">\n",
       "  <thead>\n",
       "    <tr style=\"text-align: right;\">\n",
       "      <th></th>\n",
       "      <th>tconst</th>\n",
       "      <th>titleType</th>\n",
       "      <th>primaryTitle</th>\n",
       "      <th>originalTitle</th>\n",
       "      <th>isAdult</th>\n",
       "      <th>startYear</th>\n",
       "      <th>endYear</th>\n",
       "      <th>runtimeMinutes</th>\n",
       "      <th>genres</th>\n",
       "      <th>genre</th>\n",
       "      <th>lista_titulos</th>\n",
       "    </tr>\n",
       "  </thead>\n",
       "  <tbody>\n",
       "    <tr>\n",
       "      <th>0</th>\n",
       "      <td>tt5637090</td>\n",
       "      <td>tvMovie</td>\n",
       "      <td>Class Act</td>\n",
       "      <td>Class Act</td>\n",
       "      <td>0</td>\n",
       "      <td>2014</td>\n",
       "      <td>\\N</td>\n",
       "      <td>24</td>\n",
       "      <td>Comedy</td>\n",
       "      <td>Comedy</td>\n",
       "      <td>[tt4799288, tt3914718, tt3549524, tt4086378, t...</td>\n",
       "    </tr>\n",
       "    <tr>\n",
       "      <th>1</th>\n",
       "      <td>tt5638640</td>\n",
       "      <td>tvMovie</td>\n",
       "      <td>Orrantia</td>\n",
       "      <td>Orrantia</td>\n",
       "      <td>0</td>\n",
       "      <td>2014</td>\n",
       "      <td>\\N</td>\n",
       "      <td>\\N</td>\n",
       "      <td>Drama</td>\n",
       "      <td>Drama</td>\n",
       "      <td>[tt4799288, tt3914718, tt3549524, tt4086378, t...</td>\n",
       "    </tr>\n",
       "    <tr>\n",
       "      <th>2</th>\n",
       "      <td>tt5643466</td>\n",
       "      <td>tvMovie</td>\n",
       "      <td>La Traviata</td>\n",
       "      <td>La Traviata</td>\n",
       "      <td>0</td>\n",
       "      <td>2014</td>\n",
       "      <td>\\N</td>\n",
       "      <td>145</td>\n",
       "      <td>Music</td>\n",
       "      <td>Music</td>\n",
       "      <td>[tt4799288, tt3914718, tt3549524, tt4086378, t...</td>\n",
       "    </tr>\n",
       "    <tr>\n",
       "      <th>3</th>\n",
       "      <td>tt5645252</td>\n",
       "      <td>tvMovie</td>\n",
       "      <td>Games Night</td>\n",
       "      <td>Games Night</td>\n",
       "      <td>0</td>\n",
       "      <td>2014</td>\n",
       "      <td>\\N</td>\n",
       "      <td>\\N</td>\n",
       "      <td>Comedy</td>\n",
       "      <td>Comedy</td>\n",
       "      <td>[tt4799288, tt3914718, tt3549524, tt4086378, t...</td>\n",
       "    </tr>\n",
       "    <tr>\n",
       "      <th>4</th>\n",
       "      <td>tt5655036</td>\n",
       "      <td>tvMovie</td>\n",
       "      <td>The Ultimate Time Lord</td>\n",
       "      <td>The Ultimate Time Lord</td>\n",
       "      <td>0</td>\n",
       "      <td>2014</td>\n",
       "      <td>\\N</td>\n",
       "      <td>43</td>\n",
       "      <td>\\N</td>\n",
       "      <td>\\N</td>\n",
       "      <td>[tt4799288, tt3914718, tt3549524, tt4086378, t...</td>\n",
       "    </tr>\n",
       "  </tbody>\n",
       "</table>\n",
       "</div>"
      ]
     },
     "metadata": {},
     "execution_count": 134
    }
   ],
   "metadata": {
    "id": "vw5lK-ahh5BP"
   }
  },
  {
   "cell_type": "code",
   "execution_count": 135,
   "source": [
    "w = Window.partitionBy('titleType', 'startYear')\n",
    "(\n",
    "    df_titles_subset\n",
    "    .withColumn('lista_titulos', f.collect_set(f.col('tconst')).over(w))\n",
    "    .withColumn('titulos_distintos', f.size(f.col('lista_titulos')))\n",
    "    .select('titleType', 'startYear', 'titulos_distintos')\n",
    "    .orderBy(f.col('titulos_distintos').desc())\n",
    "    .limit(5)\n",
    "    .toPandas()\n",
    ")"
   ],
   "outputs": [
    {
     "output_type": "execute_result",
     "data": {
      "text/plain": [
       "   titleType startYear  titulos_distintos\n",
       "0  tvEpisode      2018             148548\n",
       "1  tvEpisode      2018             148548\n",
       "2  tvEpisode      2018             148548\n",
       "3  tvEpisode      2018             148548\n",
       "4  tvEpisode      2018             148548"
      ],
      "text/html": [
       "<div>\n",
       "<style scoped>\n",
       "    .dataframe tbody tr th:only-of-type {\n",
       "        vertical-align: middle;\n",
       "    }\n",
       "\n",
       "    .dataframe tbody tr th {\n",
       "        vertical-align: top;\n",
       "    }\n",
       "\n",
       "    .dataframe thead th {\n",
       "        text-align: right;\n",
       "    }\n",
       "</style>\n",
       "<table border=\"1\" class=\"dataframe\">\n",
       "  <thead>\n",
       "    <tr style=\"text-align: right;\">\n",
       "      <th></th>\n",
       "      <th>titleType</th>\n",
       "      <th>startYear</th>\n",
       "      <th>titulos_distintos</th>\n",
       "    </tr>\n",
       "  </thead>\n",
       "  <tbody>\n",
       "    <tr>\n",
       "      <th>0</th>\n",
       "      <td>tvEpisode</td>\n",
       "      <td>2018</td>\n",
       "      <td>148548</td>\n",
       "    </tr>\n",
       "    <tr>\n",
       "      <th>1</th>\n",
       "      <td>tvEpisode</td>\n",
       "      <td>2018</td>\n",
       "      <td>148548</td>\n",
       "    </tr>\n",
       "    <tr>\n",
       "      <th>2</th>\n",
       "      <td>tvEpisode</td>\n",
       "      <td>2018</td>\n",
       "      <td>148548</td>\n",
       "    </tr>\n",
       "    <tr>\n",
       "      <th>3</th>\n",
       "      <td>tvEpisode</td>\n",
       "      <td>2018</td>\n",
       "      <td>148548</td>\n",
       "    </tr>\n",
       "    <tr>\n",
       "      <th>4</th>\n",
       "      <td>tvEpisode</td>\n",
       "      <td>2018</td>\n",
       "      <td>148548</td>\n",
       "    </tr>\n",
       "  </tbody>\n",
       "</table>\n",
       "</div>"
      ]
     },
     "metadata": {},
     "execution_count": 135
    }
   ],
   "metadata": {
    "id": "ciUB2Xihh5BP"
   }
  },
  {
   "cell_type": "code",
   "execution_count": 136,
   "source": [
    "(\n",
    "    df_titles_subset\n",
    "    .groupby('titleType', 'startYear')\n",
    "    .agg(f.countDistinct(f.col('tconst')).alias('titulos_distintos'))\n",
    "    .orderBy(f.col('titulos_distintos').desc())\n",
    "    .limit(5)\n",
    "    .toPandas()\n",
    ")"
   ],
   "outputs": [
    {
     "output_type": "execute_result",
     "data": {
      "text/plain": [
       "   titleType startYear  titulos_distintos\n",
       "0  tvEpisode      2018             148548\n",
       "1  tvEpisode      2017             146886\n",
       "2  tvEpisode      2019             143339\n",
       "3  tvEpisode      2016             137696\n",
       "4  tvEpisode      2015             131358"
      ],
      "text/html": [
       "<div>\n",
       "<style scoped>\n",
       "    .dataframe tbody tr th:only-of-type {\n",
       "        vertical-align: middle;\n",
       "    }\n",
       "\n",
       "    .dataframe tbody tr th {\n",
       "        vertical-align: top;\n",
       "    }\n",
       "\n",
       "    .dataframe thead th {\n",
       "        text-align: right;\n",
       "    }\n",
       "</style>\n",
       "<table border=\"1\" class=\"dataframe\">\n",
       "  <thead>\n",
       "    <tr style=\"text-align: right;\">\n",
       "      <th></th>\n",
       "      <th>titleType</th>\n",
       "      <th>startYear</th>\n",
       "      <th>titulos_distintos</th>\n",
       "    </tr>\n",
       "  </thead>\n",
       "  <tbody>\n",
       "    <tr>\n",
       "      <th>0</th>\n",
       "      <td>tvEpisode</td>\n",
       "      <td>2018</td>\n",
       "      <td>148548</td>\n",
       "    </tr>\n",
       "    <tr>\n",
       "      <th>1</th>\n",
       "      <td>tvEpisode</td>\n",
       "      <td>2017</td>\n",
       "      <td>146886</td>\n",
       "    </tr>\n",
       "    <tr>\n",
       "      <th>2</th>\n",
       "      <td>tvEpisode</td>\n",
       "      <td>2019</td>\n",
       "      <td>143339</td>\n",
       "    </tr>\n",
       "    <tr>\n",
       "      <th>3</th>\n",
       "      <td>tvEpisode</td>\n",
       "      <td>2016</td>\n",
       "      <td>137696</td>\n",
       "    </tr>\n",
       "    <tr>\n",
       "      <th>4</th>\n",
       "      <td>tvEpisode</td>\n",
       "      <td>2015</td>\n",
       "      <td>131358</td>\n",
       "    </tr>\n",
       "  </tbody>\n",
       "</table>\n",
       "</div>"
      ]
     },
     "metadata": {},
     "execution_count": 136
    }
   ],
   "metadata": {
    "id": "NrMgcmbCh5BQ"
   }
  },
  {
   "cell_type": "markdown",
   "source": [
    "#### Usando Windows para evitar Joins"
   ],
   "metadata": {
    "id": "AB8AASVfh5BQ"
   }
  },
  {
   "cell_type": "markdown",
   "source": [
    "Objetivo: Titulos mais recentes por genero\n",
    "\n",
    "Caminho natural:\n",
    "```\n",
    "df1 = df_titles.groupby('genre').agg(f.max(f.col('startYear').alias('startYear'))\n",
    "df2 = df_titles.join(df1, ['genre', 'startYear'])\n",
    "```\n",
    "Alternativa:"
   ],
   "metadata": {
    "id": "sPqsCTtNh5BQ"
   }
  },
  {
   "cell_type": "code",
   "execution_count": 140,
   "source": [
    "w = Window.partitionBy('genre')\n",
    "(\n",
    "    df_titles_subset\n",
    "    .withColumn('max_data', f.max(f.col('startYear')).over(w))\n",
    "    .filter('startYear = max_data')\n",
    "    .limit(10)\n",
    "    .toPandas()\n",
    ")"
   ],
   "outputs": [
    {
     "output_type": "execute_result",
     "data": {
      "text/plain": [
       "       tconst  titleType                     primaryTitle  \\\n",
       "0  tt11254244      movie                    Single Action   \n",
       "1  tt12087154      movie                  Romeo & Juliet.   \n",
       "2  tt11151182      movie  Untitled Christmas Feature Film   \n",
       "3  tt15060386      movie                     Old Nick III   \n",
       "4   tt3819500      movie               Leader of the Path   \n",
       "5   tt5530950      movie                 Milwaukee Avenue   \n",
       "6  tt14321398      movie                        Censurada   \n",
       "7  tt14011614  tvEpisode                        Episode 4   \n",
       "8  tt14021922      movie                 A Soldier's Tale   \n",
       "9  tt14356706      movie                           Sensei   \n",
       "\n",
       "                     originalTitle isAdult startYear endYear runtimeMinutes  \\\n",
       "0                    Single Action       0      2024      \\N             \\N   \n",
       "1                  Romeo & Juliet.       0      2023      \\N             \\N   \n",
       "2  Untitled Christmas Feature Film       0      2023      \\N             \\N   \n",
       "3                       Old Nick 3       0      2027      \\N            360   \n",
       "4               Leader of the Path       0      2025      \\N             \\N   \n",
       "5                 Milwaukee Avenue       0      2026      \\N             \\N   \n",
       "6                        Censurada       0      2025      \\N             \\N   \n",
       "7                        Episode 4       0      2022      \\N             \\N   \n",
       "8                 A Soldier's Tale       0      2022      \\N             \\N   \n",
       "9                           Sensei       0      2022      \\N             \\N   \n",
       "\n",
       "                        genres      genre max_data  \n",
       "0         Crime,Romance,Sci-Fi      Crime     2024  \n",
       "1                      Romance    Romance     2023  \n",
       "2                      Romance    Romance     2023  \n",
       "3                     Thriller   Thriller     2027  \n",
       "4  Adventure,Biography,History  Adventure     2025  \n",
       "5                           \\N         \\N     2026  \n",
       "6                Drama,Romance      Drama     2025  \n",
       "7                          War        War     2022  \n",
       "8                          War        War     2022  \n",
       "9                          War        War     2022  "
      ],
      "text/html": [
       "<div>\n",
       "<style scoped>\n",
       "    .dataframe tbody tr th:only-of-type {\n",
       "        vertical-align: middle;\n",
       "    }\n",
       "\n",
       "    .dataframe tbody tr th {\n",
       "        vertical-align: top;\n",
       "    }\n",
       "\n",
       "    .dataframe thead th {\n",
       "        text-align: right;\n",
       "    }\n",
       "</style>\n",
       "<table border=\"1\" class=\"dataframe\">\n",
       "  <thead>\n",
       "    <tr style=\"text-align: right;\">\n",
       "      <th></th>\n",
       "      <th>tconst</th>\n",
       "      <th>titleType</th>\n",
       "      <th>primaryTitle</th>\n",
       "      <th>originalTitle</th>\n",
       "      <th>isAdult</th>\n",
       "      <th>startYear</th>\n",
       "      <th>endYear</th>\n",
       "      <th>runtimeMinutes</th>\n",
       "      <th>genres</th>\n",
       "      <th>genre</th>\n",
       "      <th>max_data</th>\n",
       "    </tr>\n",
       "  </thead>\n",
       "  <tbody>\n",
       "    <tr>\n",
       "      <th>0</th>\n",
       "      <td>tt11254244</td>\n",
       "      <td>movie</td>\n",
       "      <td>Single Action</td>\n",
       "      <td>Single Action</td>\n",
       "      <td>0</td>\n",
       "      <td>2024</td>\n",
       "      <td>\\N</td>\n",
       "      <td>\\N</td>\n",
       "      <td>Crime,Romance,Sci-Fi</td>\n",
       "      <td>Crime</td>\n",
       "      <td>2024</td>\n",
       "    </tr>\n",
       "    <tr>\n",
       "      <th>1</th>\n",
       "      <td>tt12087154</td>\n",
       "      <td>movie</td>\n",
       "      <td>Romeo &amp; Juliet.</td>\n",
       "      <td>Romeo &amp; Juliet.</td>\n",
       "      <td>0</td>\n",
       "      <td>2023</td>\n",
       "      <td>\\N</td>\n",
       "      <td>\\N</td>\n",
       "      <td>Romance</td>\n",
       "      <td>Romance</td>\n",
       "      <td>2023</td>\n",
       "    </tr>\n",
       "    <tr>\n",
       "      <th>2</th>\n",
       "      <td>tt11151182</td>\n",
       "      <td>movie</td>\n",
       "      <td>Untitled Christmas Feature Film</td>\n",
       "      <td>Untitled Christmas Feature Film</td>\n",
       "      <td>0</td>\n",
       "      <td>2023</td>\n",
       "      <td>\\N</td>\n",
       "      <td>\\N</td>\n",
       "      <td>Romance</td>\n",
       "      <td>Romance</td>\n",
       "      <td>2023</td>\n",
       "    </tr>\n",
       "    <tr>\n",
       "      <th>3</th>\n",
       "      <td>tt15060386</td>\n",
       "      <td>movie</td>\n",
       "      <td>Old Nick III</td>\n",
       "      <td>Old Nick 3</td>\n",
       "      <td>0</td>\n",
       "      <td>2027</td>\n",
       "      <td>\\N</td>\n",
       "      <td>360</td>\n",
       "      <td>Thriller</td>\n",
       "      <td>Thriller</td>\n",
       "      <td>2027</td>\n",
       "    </tr>\n",
       "    <tr>\n",
       "      <th>4</th>\n",
       "      <td>tt3819500</td>\n",
       "      <td>movie</td>\n",
       "      <td>Leader of the Path</td>\n",
       "      <td>Leader of the Path</td>\n",
       "      <td>0</td>\n",
       "      <td>2025</td>\n",
       "      <td>\\N</td>\n",
       "      <td>\\N</td>\n",
       "      <td>Adventure,Biography,History</td>\n",
       "      <td>Adventure</td>\n",
       "      <td>2025</td>\n",
       "    </tr>\n",
       "    <tr>\n",
       "      <th>5</th>\n",
       "      <td>tt5530950</td>\n",
       "      <td>movie</td>\n",
       "      <td>Milwaukee Avenue</td>\n",
       "      <td>Milwaukee Avenue</td>\n",
       "      <td>0</td>\n",
       "      <td>2026</td>\n",
       "      <td>\\N</td>\n",
       "      <td>\\N</td>\n",
       "      <td>\\N</td>\n",
       "      <td>\\N</td>\n",
       "      <td>2026</td>\n",
       "    </tr>\n",
       "    <tr>\n",
       "      <th>6</th>\n",
       "      <td>tt14321398</td>\n",
       "      <td>movie</td>\n",
       "      <td>Censurada</td>\n",
       "      <td>Censurada</td>\n",
       "      <td>0</td>\n",
       "      <td>2025</td>\n",
       "      <td>\\N</td>\n",
       "      <td>\\N</td>\n",
       "      <td>Drama,Romance</td>\n",
       "      <td>Drama</td>\n",
       "      <td>2025</td>\n",
       "    </tr>\n",
       "    <tr>\n",
       "      <th>7</th>\n",
       "      <td>tt14011614</td>\n",
       "      <td>tvEpisode</td>\n",
       "      <td>Episode 4</td>\n",
       "      <td>Episode 4</td>\n",
       "      <td>0</td>\n",
       "      <td>2022</td>\n",
       "      <td>\\N</td>\n",
       "      <td>\\N</td>\n",
       "      <td>War</td>\n",
       "      <td>War</td>\n",
       "      <td>2022</td>\n",
       "    </tr>\n",
       "    <tr>\n",
       "      <th>8</th>\n",
       "      <td>tt14021922</td>\n",
       "      <td>movie</td>\n",
       "      <td>A Soldier's Tale</td>\n",
       "      <td>A Soldier's Tale</td>\n",
       "      <td>0</td>\n",
       "      <td>2022</td>\n",
       "      <td>\\N</td>\n",
       "      <td>\\N</td>\n",
       "      <td>War</td>\n",
       "      <td>War</td>\n",
       "      <td>2022</td>\n",
       "    </tr>\n",
       "    <tr>\n",
       "      <th>9</th>\n",
       "      <td>tt14356706</td>\n",
       "      <td>movie</td>\n",
       "      <td>Sensei</td>\n",
       "      <td>Sensei</td>\n",
       "      <td>0</td>\n",
       "      <td>2022</td>\n",
       "      <td>\\N</td>\n",
       "      <td>\\N</td>\n",
       "      <td>War</td>\n",
       "      <td>War</td>\n",
       "      <td>2022</td>\n",
       "    </tr>\n",
       "  </tbody>\n",
       "</table>\n",
       "</div>"
      ]
     },
     "metadata": {},
     "execution_count": 140
    }
   ],
   "metadata": {
    "id": "4sMqsd4Mh5BR"
   }
  },
  {
   "cell_type": "markdown",
   "source": [
    "### Joins"
   ],
   "metadata": {
    "id": "cxUX_PheS6by"
   }
  },
  {
   "cell_type": "markdown",
   "source": [
    "Os joins no pyspark são especificados pela função `join()`, da seguinte forma:\n",
    "\n",
    "```\n",
    "df1.join(df2, {key_columns}, {join_type})\n",
    "```\n",
    "\n",
    "* `key_columns`: colunas que vão ser utilizadas para fazer a junção das tabelas. Pode ser especificada como\n",
    "    * Um único string -> só uma coluna é chave, mesmos nomes nas duas tabelas\n",
    "    * Uma lista de string ou de colunas (`col()`) -> mais de uma coluna é chave, mesmos nomes nas duas tabelas\n",
    "    * Com nomes diferentes, é necessário fazer uma especificação do tipo: `f.col(column1) == f.col(column2)`. Caso existam mais de uma coluna como chave, essas especificações devem ser colocadas em uma lista.\n",
    "* `join_type`: o tipo de join a ser realizado. As opções são:\n",
    "    * `inner (default)`: INNER JOIN do SQL\n",
    "    * `outer / full / fullouter / full_outer`: : FULL OUTER JOIN do SQL\n",
    "    * `left / leftouter / left_outer`: : LEFT JOIN do SQL\n",
    "    * `right / rightouter / right_outer`: : RIGHT JOIN do SQL\n",
    "    * `semi / leftsemi / left_semi`: realiza um LEFT JOIN do SQL e retorna somente as colunas do DataFrame da esquerda que também estão no DataFrame da Direita\n",
    "    * `anti / leftanti / left_anti`: realiza um LEFT JOIN do SQL e retorna somente as colunas do DataFrame da esquerda que não estão no DataFrame da Direita"
   ],
   "metadata": {
    "id": "RVfchwYIh5BR"
   }
  },
  {
   "cell_type": "code",
   "execution_count": 12,
   "source": [
    "df_ratings = spark.read.format(\"parquet\").load(imdb_path + 'title_ratings')"
   ],
   "outputs": [],
   "metadata": {}
  },
  {
   "cell_type": "code",
   "execution_count": 13,
   "source": [
    "df_ratings.limit(5).toPandas()"
   ],
   "outputs": [
    {
     "output_type": "execute_result",
     "data": {
      "text/plain": [
       "      tconst averageRating numVotes\n",
       "0  tt0000001           5.7     1759\n",
       "1  tt0000002           6.0      223\n",
       "2  tt0000003           6.5     1516\n",
       "3  tt0000004           6.1      144\n",
       "4  tt0000005           6.2     2330"
      ],
      "text/html": [
       "<div>\n",
       "<style scoped>\n",
       "    .dataframe tbody tr th:only-of-type {\n",
       "        vertical-align: middle;\n",
       "    }\n",
       "\n",
       "    .dataframe tbody tr th {\n",
       "        vertical-align: top;\n",
       "    }\n",
       "\n",
       "    .dataframe thead th {\n",
       "        text-align: right;\n",
       "    }\n",
       "</style>\n",
       "<table border=\"1\" class=\"dataframe\">\n",
       "  <thead>\n",
       "    <tr style=\"text-align: right;\">\n",
       "      <th></th>\n",
       "      <th>tconst</th>\n",
       "      <th>averageRating</th>\n",
       "      <th>numVotes</th>\n",
       "    </tr>\n",
       "  </thead>\n",
       "  <tbody>\n",
       "    <tr>\n",
       "      <th>0</th>\n",
       "      <td>tt0000001</td>\n",
       "      <td>5.7</td>\n",
       "      <td>1759</td>\n",
       "    </tr>\n",
       "    <tr>\n",
       "      <th>1</th>\n",
       "      <td>tt0000002</td>\n",
       "      <td>6.0</td>\n",
       "      <td>223</td>\n",
       "    </tr>\n",
       "    <tr>\n",
       "      <th>2</th>\n",
       "      <td>tt0000003</td>\n",
       "      <td>6.5</td>\n",
       "      <td>1516</td>\n",
       "    </tr>\n",
       "    <tr>\n",
       "      <th>3</th>\n",
       "      <td>tt0000004</td>\n",
       "      <td>6.1</td>\n",
       "      <td>144</td>\n",
       "    </tr>\n",
       "    <tr>\n",
       "      <th>4</th>\n",
       "      <td>tt0000005</td>\n",
       "      <td>6.2</td>\n",
       "      <td>2330</td>\n",
       "    </tr>\n",
       "  </tbody>\n",
       "</table>\n",
       "</div>"
      ]
     },
     "metadata": {},
     "execution_count": 13
    }
   ],
   "metadata": {}
  },
  {
   "cell_type": "code",
   "execution_count": 15,
   "source": [
    "df_titles.limit(5).toPandas()"
   ],
   "outputs": [
    {
     "output_type": "execute_result",
     "data": {
      "text/plain": [
       "      tconst titleType            primaryTitle           originalTitle  \\\n",
       "0  tt0000001     short              Carmencita              Carmencita   \n",
       "1  tt0000002     short  Le clown et ses chiens  Le clown et ses chiens   \n",
       "2  tt0000003     short          Pauvre Pierrot          Pauvre Pierrot   \n",
       "3  tt0000004     short             Un bon bock             Un bon bock   \n",
       "4  tt0000005     short        Blacksmith Scene        Blacksmith Scene   \n",
       "\n",
       "  isAdult startYear endYear runtimeMinutes                    genres  \n",
       "0       0      1894      \\N              1         Documentary,Short  \n",
       "1       0      1892      \\N              5           Animation,Short  \n",
       "2       0      1892      \\N              4  Animation,Comedy,Romance  \n",
       "3       0      1892      \\N             12           Animation,Short  \n",
       "4       0      1893      \\N              1              Comedy,Short  "
      ],
      "text/html": [
       "<div>\n",
       "<style scoped>\n",
       "    .dataframe tbody tr th:only-of-type {\n",
       "        vertical-align: middle;\n",
       "    }\n",
       "\n",
       "    .dataframe tbody tr th {\n",
       "        vertical-align: top;\n",
       "    }\n",
       "\n",
       "    .dataframe thead th {\n",
       "        text-align: right;\n",
       "    }\n",
       "</style>\n",
       "<table border=\"1\" class=\"dataframe\">\n",
       "  <thead>\n",
       "    <tr style=\"text-align: right;\">\n",
       "      <th></th>\n",
       "      <th>tconst</th>\n",
       "      <th>titleType</th>\n",
       "      <th>primaryTitle</th>\n",
       "      <th>originalTitle</th>\n",
       "      <th>isAdult</th>\n",
       "      <th>startYear</th>\n",
       "      <th>endYear</th>\n",
       "      <th>runtimeMinutes</th>\n",
       "      <th>genres</th>\n",
       "    </tr>\n",
       "  </thead>\n",
       "  <tbody>\n",
       "    <tr>\n",
       "      <th>0</th>\n",
       "      <td>tt0000001</td>\n",
       "      <td>short</td>\n",
       "      <td>Carmencita</td>\n",
       "      <td>Carmencita</td>\n",
       "      <td>0</td>\n",
       "      <td>1894</td>\n",
       "      <td>\\N</td>\n",
       "      <td>1</td>\n",
       "      <td>Documentary,Short</td>\n",
       "    </tr>\n",
       "    <tr>\n",
       "      <th>1</th>\n",
       "      <td>tt0000002</td>\n",
       "      <td>short</td>\n",
       "      <td>Le clown et ses chiens</td>\n",
       "      <td>Le clown et ses chiens</td>\n",
       "      <td>0</td>\n",
       "      <td>1892</td>\n",
       "      <td>\\N</td>\n",
       "      <td>5</td>\n",
       "      <td>Animation,Short</td>\n",
       "    </tr>\n",
       "    <tr>\n",
       "      <th>2</th>\n",
       "      <td>tt0000003</td>\n",
       "      <td>short</td>\n",
       "      <td>Pauvre Pierrot</td>\n",
       "      <td>Pauvre Pierrot</td>\n",
       "      <td>0</td>\n",
       "      <td>1892</td>\n",
       "      <td>\\N</td>\n",
       "      <td>4</td>\n",
       "      <td>Animation,Comedy,Romance</td>\n",
       "    </tr>\n",
       "    <tr>\n",
       "      <th>3</th>\n",
       "      <td>tt0000004</td>\n",
       "      <td>short</td>\n",
       "      <td>Un bon bock</td>\n",
       "      <td>Un bon bock</td>\n",
       "      <td>0</td>\n",
       "      <td>1892</td>\n",
       "      <td>\\N</td>\n",
       "      <td>12</td>\n",
       "      <td>Animation,Short</td>\n",
       "    </tr>\n",
       "    <tr>\n",
       "      <th>4</th>\n",
       "      <td>tt0000005</td>\n",
       "      <td>short</td>\n",
       "      <td>Blacksmith Scene</td>\n",
       "      <td>Blacksmith Scene</td>\n",
       "      <td>0</td>\n",
       "      <td>1893</td>\n",
       "      <td>\\N</td>\n",
       "      <td>1</td>\n",
       "      <td>Comedy,Short</td>\n",
       "    </tr>\n",
       "  </tbody>\n",
       "</table>\n",
       "</div>"
      ]
     },
     "metadata": {},
     "execution_count": 15
    }
   ],
   "metadata": {
    "scrolled": true
   }
  },
  {
   "cell_type": "code",
   "execution_count": 28,
   "source": [
    "df_ratings.count()"
   ],
   "outputs": [
    {
     "output_type": "execute_result",
     "data": {
      "text/plain": [
       "1174232"
      ]
     },
     "metadata": {},
     "execution_count": 28
    }
   ],
   "metadata": {}
  },
  {
   "cell_type": "code",
   "execution_count": 16,
   "source": [
    "df_titles.count()"
   ],
   "outputs": [
    {
     "output_type": "execute_result",
     "data": {
      "text/plain": [
       "8135937"
      ]
     },
     "metadata": {},
     "execution_count": 16
    }
   ],
   "metadata": {}
  },
  {
   "cell_type": "code",
   "execution_count": 20,
   "source": [
    "(\n",
    "    df_titles\n",
    "    .join(df_ratings, 'tconst', 'left')\n",
    "    .filter('averageRating is null')\n",
    "    .limit(5)\n",
    "    .toPandas()\n",
    ")"
   ],
   "outputs": [
    {
     "output_type": "execute_result",
     "data": {
      "text/plain": [
       "      tconst titleType                      primaryTitle  \\\n",
       "0  tt0000180     short                Le chemin de croix   \n",
       "1  tt0000185     short              La crèche à Bethléem   \n",
       "2  tt0000189     short                           Dorotea   \n",
       "3  tt0000191     short  Déménagement à la cloche de bois   \n",
       "4  tt0000193     short              L'entrée à Jérusalem   \n",
       "\n",
       "                      originalTitle isAdult startYear endYear runtimeMinutes  \\\n",
       "0                Le chemin de croix       0      1898      \\N             \\N   \n",
       "1              La crèche à Bethléem       0      1898      \\N             \\N   \n",
       "2                           Dorotea       0      1898      \\N             \\N   \n",
       "3  Déménagement à la cloche de bois       0      1898      \\N             \\N   \n",
       "4              L'entrée à Jérusalem       0      1898      \\N             \\N   \n",
       "\n",
       "  genres averageRating numVotes  \n",
       "0  Short          None     None  \n",
       "1  Short          None     None  \n",
       "2  Short          None     None  \n",
       "3  Short          None     None  \n",
       "4  Short          None     None  "
      ],
      "text/html": [
       "<div>\n",
       "<style scoped>\n",
       "    .dataframe tbody tr th:only-of-type {\n",
       "        vertical-align: middle;\n",
       "    }\n",
       "\n",
       "    .dataframe tbody tr th {\n",
       "        vertical-align: top;\n",
       "    }\n",
       "\n",
       "    .dataframe thead th {\n",
       "        text-align: right;\n",
       "    }\n",
       "</style>\n",
       "<table border=\"1\" class=\"dataframe\">\n",
       "  <thead>\n",
       "    <tr style=\"text-align: right;\">\n",
       "      <th></th>\n",
       "      <th>tconst</th>\n",
       "      <th>titleType</th>\n",
       "      <th>primaryTitle</th>\n",
       "      <th>originalTitle</th>\n",
       "      <th>isAdult</th>\n",
       "      <th>startYear</th>\n",
       "      <th>endYear</th>\n",
       "      <th>runtimeMinutes</th>\n",
       "      <th>genres</th>\n",
       "      <th>averageRating</th>\n",
       "      <th>numVotes</th>\n",
       "    </tr>\n",
       "  </thead>\n",
       "  <tbody>\n",
       "    <tr>\n",
       "      <th>0</th>\n",
       "      <td>tt0000180</td>\n",
       "      <td>short</td>\n",
       "      <td>Le chemin de croix</td>\n",
       "      <td>Le chemin de croix</td>\n",
       "      <td>0</td>\n",
       "      <td>1898</td>\n",
       "      <td>\\N</td>\n",
       "      <td>\\N</td>\n",
       "      <td>Short</td>\n",
       "      <td>None</td>\n",
       "      <td>None</td>\n",
       "    </tr>\n",
       "    <tr>\n",
       "      <th>1</th>\n",
       "      <td>tt0000185</td>\n",
       "      <td>short</td>\n",
       "      <td>La crèche à Bethléem</td>\n",
       "      <td>La crèche à Bethléem</td>\n",
       "      <td>0</td>\n",
       "      <td>1898</td>\n",
       "      <td>\\N</td>\n",
       "      <td>\\N</td>\n",
       "      <td>Short</td>\n",
       "      <td>None</td>\n",
       "      <td>None</td>\n",
       "    </tr>\n",
       "    <tr>\n",
       "      <th>2</th>\n",
       "      <td>tt0000189</td>\n",
       "      <td>short</td>\n",
       "      <td>Dorotea</td>\n",
       "      <td>Dorotea</td>\n",
       "      <td>0</td>\n",
       "      <td>1898</td>\n",
       "      <td>\\N</td>\n",
       "      <td>\\N</td>\n",
       "      <td>Short</td>\n",
       "      <td>None</td>\n",
       "      <td>None</td>\n",
       "    </tr>\n",
       "    <tr>\n",
       "      <th>3</th>\n",
       "      <td>tt0000191</td>\n",
       "      <td>short</td>\n",
       "      <td>Déménagement à la cloche de bois</td>\n",
       "      <td>Déménagement à la cloche de bois</td>\n",
       "      <td>0</td>\n",
       "      <td>1898</td>\n",
       "      <td>\\N</td>\n",
       "      <td>\\N</td>\n",
       "      <td>Short</td>\n",
       "      <td>None</td>\n",
       "      <td>None</td>\n",
       "    </tr>\n",
       "    <tr>\n",
       "      <th>4</th>\n",
       "      <td>tt0000193</td>\n",
       "      <td>short</td>\n",
       "      <td>L'entrée à Jérusalem</td>\n",
       "      <td>L'entrée à Jérusalem</td>\n",
       "      <td>0</td>\n",
       "      <td>1898</td>\n",
       "      <td>\\N</td>\n",
       "      <td>\\N</td>\n",
       "      <td>Short</td>\n",
       "      <td>None</td>\n",
       "      <td>None</td>\n",
       "    </tr>\n",
       "  </tbody>\n",
       "</table>\n",
       "</div>"
      ]
     },
     "metadata": {},
     "execution_count": 20
    }
   ],
   "metadata": {
    "id": "dQsKy0XS5Amr"
   }
  },
  {
   "cell_type": "code",
   "execution_count": 27,
   "source": [
    "(\n",
    "    df_titles\n",
    "    .withColumnRenamed('tconst', 'id_title')\n",
    "    .join(df_ratings, f.col('tconst') == f.col('id_title'))\n",
    "    .withColumn('averageRating', f.expr('averageRating + 1'))\n",
    "    .limit(5)\n",
    "    .toPandas()\n",
    ")"
   ],
   "outputs": [
    {
     "output_type": "execute_result",
     "data": {
      "text/plain": [
       "    id_title titleType            primaryTitle           originalTitle  \\\n",
       "0  tt0000001     short              Carmencita              Carmencita   \n",
       "1  tt0000002     short  Le clown et ses chiens  Le clown et ses chiens   \n",
       "2  tt0000003     short          Pauvre Pierrot          Pauvre Pierrot   \n",
       "3  tt0000004     short             Un bon bock             Un bon bock   \n",
       "4  tt0000005     short        Blacksmith Scene        Blacksmith Scene   \n",
       "\n",
       "  isAdult startYear endYear runtimeMinutes                    genres  \\\n",
       "0       0      1894      \\N              1         Documentary,Short   \n",
       "1       0      1892      \\N              5           Animation,Short   \n",
       "2       0      1892      \\N              4  Animation,Comedy,Romance   \n",
       "3       0      1892      \\N             12           Animation,Short   \n",
       "4       0      1893      \\N              1              Comedy,Short   \n",
       "\n",
       "      tconst  averageRating numVotes  \n",
       "0  tt0000001            6.7     1759  \n",
       "1  tt0000002            7.0      223  \n",
       "2  tt0000003            7.5     1516  \n",
       "3  tt0000004            7.1      144  \n",
       "4  tt0000005            7.2     2330  "
      ],
      "text/html": [
       "<div>\n",
       "<style scoped>\n",
       "    .dataframe tbody tr th:only-of-type {\n",
       "        vertical-align: middle;\n",
       "    }\n",
       "\n",
       "    .dataframe tbody tr th {\n",
       "        vertical-align: top;\n",
       "    }\n",
       "\n",
       "    .dataframe thead th {\n",
       "        text-align: right;\n",
       "    }\n",
       "</style>\n",
       "<table border=\"1\" class=\"dataframe\">\n",
       "  <thead>\n",
       "    <tr style=\"text-align: right;\">\n",
       "      <th></th>\n",
       "      <th>id_title</th>\n",
       "      <th>titleType</th>\n",
       "      <th>primaryTitle</th>\n",
       "      <th>originalTitle</th>\n",
       "      <th>isAdult</th>\n",
       "      <th>startYear</th>\n",
       "      <th>endYear</th>\n",
       "      <th>runtimeMinutes</th>\n",
       "      <th>genres</th>\n",
       "      <th>tconst</th>\n",
       "      <th>averageRating</th>\n",
       "      <th>numVotes</th>\n",
       "    </tr>\n",
       "  </thead>\n",
       "  <tbody>\n",
       "    <tr>\n",
       "      <th>0</th>\n",
       "      <td>tt0000001</td>\n",
       "      <td>short</td>\n",
       "      <td>Carmencita</td>\n",
       "      <td>Carmencita</td>\n",
       "      <td>0</td>\n",
       "      <td>1894</td>\n",
       "      <td>\\N</td>\n",
       "      <td>1</td>\n",
       "      <td>Documentary,Short</td>\n",
       "      <td>tt0000001</td>\n",
       "      <td>6.7</td>\n",
       "      <td>1759</td>\n",
       "    </tr>\n",
       "    <tr>\n",
       "      <th>1</th>\n",
       "      <td>tt0000002</td>\n",
       "      <td>short</td>\n",
       "      <td>Le clown et ses chiens</td>\n",
       "      <td>Le clown et ses chiens</td>\n",
       "      <td>0</td>\n",
       "      <td>1892</td>\n",
       "      <td>\\N</td>\n",
       "      <td>5</td>\n",
       "      <td>Animation,Short</td>\n",
       "      <td>tt0000002</td>\n",
       "      <td>7.0</td>\n",
       "      <td>223</td>\n",
       "    </tr>\n",
       "    <tr>\n",
       "      <th>2</th>\n",
       "      <td>tt0000003</td>\n",
       "      <td>short</td>\n",
       "      <td>Pauvre Pierrot</td>\n",
       "      <td>Pauvre Pierrot</td>\n",
       "      <td>0</td>\n",
       "      <td>1892</td>\n",
       "      <td>\\N</td>\n",
       "      <td>4</td>\n",
       "      <td>Animation,Comedy,Romance</td>\n",
       "      <td>tt0000003</td>\n",
       "      <td>7.5</td>\n",
       "      <td>1516</td>\n",
       "    </tr>\n",
       "    <tr>\n",
       "      <th>3</th>\n",
       "      <td>tt0000004</td>\n",
       "      <td>short</td>\n",
       "      <td>Un bon bock</td>\n",
       "      <td>Un bon bock</td>\n",
       "      <td>0</td>\n",
       "      <td>1892</td>\n",
       "      <td>\\N</td>\n",
       "      <td>12</td>\n",
       "      <td>Animation,Short</td>\n",
       "      <td>tt0000004</td>\n",
       "      <td>7.1</td>\n",
       "      <td>144</td>\n",
       "    </tr>\n",
       "    <tr>\n",
       "      <th>4</th>\n",
       "      <td>tt0000005</td>\n",
       "      <td>short</td>\n",
       "      <td>Blacksmith Scene</td>\n",
       "      <td>Blacksmith Scene</td>\n",
       "      <td>0</td>\n",
       "      <td>1893</td>\n",
       "      <td>\\N</td>\n",
       "      <td>1</td>\n",
       "      <td>Comedy,Short</td>\n",
       "      <td>tt0000005</td>\n",
       "      <td>7.2</td>\n",
       "      <td>2330</td>\n",
       "    </tr>\n",
       "  </tbody>\n",
       "</table>\n",
       "</div>"
      ]
     },
     "metadata": {},
     "execution_count": 27
    }
   ],
   "metadata": {
    "id": "pZHp7ZFih5BR"
   }
  },
  {
   "cell_type": "markdown",
   "source": [
    "#### Utilizando semi e anti join"
   ],
   "metadata": {
    "id": "VYtCh83Gh5BS"
   }
  },
  {
   "cell_type": "code",
   "execution_count": 29,
   "source": [
    "df_ratings.select('tconst').distinct().count()"
   ],
   "outputs": [
    {
     "output_type": "execute_result",
     "data": {
      "text/plain": [
       "1174232"
      ]
     },
     "metadata": {},
     "execution_count": 29
    }
   ],
   "metadata": {
    "id": "j93KyThih5BS"
   }
  },
  {
   "cell_type": "code",
   "execution_count": 30,
   "source": [
    "df_titles.select('tconst').distinct().count()"
   ],
   "outputs": [
    {
     "output_type": "execute_result",
     "data": {
      "text/plain": [
       "8135937"
      ]
     },
     "metadata": {},
     "execution_count": 30
    }
   ],
   "metadata": {
    "id": "tAb2UHhmh5BS"
   }
  },
  {
   "cell_type": "code",
   "execution_count": 36,
   "source": [
    "(\n",
    "    df_titles\n",
    "    .join(df_ratings, 'tconst', 'semi')\n",
    "    .count()\n",
    ")"
   ],
   "outputs": [
    {
     "output_type": "execute_result",
     "data": {
      "text/plain": [
       "1174232"
      ]
     },
     "metadata": {},
     "execution_count": 36
    }
   ],
   "metadata": {
    "id": "2afX5xQwh5BT"
   }
  },
  {
   "cell_type": "code",
   "execution_count": 38,
   "source": [
    "(\n",
    "    df_titles\n",
    "    .join(df_ratings, 'tconst', 'anti')\n",
    "    .count()\n",
    ")"
   ],
   "outputs": [
    {
     "output_type": "execute_result",
     "data": {
      "text/plain": [
       "6961705"
      ]
     },
     "metadata": {},
     "execution_count": 38
    }
   ],
   "metadata": {
    "id": "X61Risrkh5BT"
   }
  },
  {
   "cell_type": "code",
   "execution_count": 41,
   "source": [
    "6961705 + 1174232 == df_titles.count()"
   ],
   "outputs": [
    {
     "output_type": "execute_result",
     "data": {
      "text/plain": [
       "True"
      ]
     },
     "metadata": {},
     "execution_count": 41
    }
   ],
   "metadata": {}
  },
  {
   "cell_type": "markdown",
   "source": [
    "### Union"
   ],
   "metadata": {
    "id": "pAS_FXTKS8Ex"
   }
  },
  {
   "cell_type": "markdown",
   "source": [
    "Existem três formas de unir DataFrames no pyspark:\n",
    "* `union() / unionAll()`: empilha os DataFrames, preservando linhas duplicadas. As colunas são unidas por posição, e por isso a ordem delas deve ser a mesma entre os dois DFs.\n",
    "* `unionByName()`: empilha os DataFrames, preservando linhas duplicadas. As colunas são unidas por nome, e por tanto não precisam estar ordenadas da mesma forma"
   ],
   "metadata": {
    "id": "_JjCbIoyh5BU"
   }
  },
  {
   "cell_type": "code",
   "execution_count": 42,
   "source": [
    "df_titles.limit(5).toPandas()"
   ],
   "outputs": [
    {
     "output_type": "execute_result",
     "data": {
      "text/plain": [
       "      tconst titleType            primaryTitle           originalTitle  \\\n",
       "0  tt0000001     short              Carmencita              Carmencita   \n",
       "1  tt0000002     short  Le clown et ses chiens  Le clown et ses chiens   \n",
       "2  tt0000003     short          Pauvre Pierrot          Pauvre Pierrot   \n",
       "3  tt0000004     short             Un bon bock             Un bon bock   \n",
       "4  tt0000005     short        Blacksmith Scene        Blacksmith Scene   \n",
       "\n",
       "  isAdult startYear endYear runtimeMinutes                    genres  \n",
       "0       0      1894      \\N              1         Documentary,Short  \n",
       "1       0      1892      \\N              5           Animation,Short  \n",
       "2       0      1892      \\N              4  Animation,Comedy,Romance  \n",
       "3       0      1892      \\N             12           Animation,Short  \n",
       "4       0      1893      \\N              1              Comedy,Short  "
      ],
      "text/html": [
       "<div>\n",
       "<style scoped>\n",
       "    .dataframe tbody tr th:only-of-type {\n",
       "        vertical-align: middle;\n",
       "    }\n",
       "\n",
       "    .dataframe tbody tr th {\n",
       "        vertical-align: top;\n",
       "    }\n",
       "\n",
       "    .dataframe thead th {\n",
       "        text-align: right;\n",
       "    }\n",
       "</style>\n",
       "<table border=\"1\" class=\"dataframe\">\n",
       "  <thead>\n",
       "    <tr style=\"text-align: right;\">\n",
       "      <th></th>\n",
       "      <th>tconst</th>\n",
       "      <th>titleType</th>\n",
       "      <th>primaryTitle</th>\n",
       "      <th>originalTitle</th>\n",
       "      <th>isAdult</th>\n",
       "      <th>startYear</th>\n",
       "      <th>endYear</th>\n",
       "      <th>runtimeMinutes</th>\n",
       "      <th>genres</th>\n",
       "    </tr>\n",
       "  </thead>\n",
       "  <tbody>\n",
       "    <tr>\n",
       "      <th>0</th>\n",
       "      <td>tt0000001</td>\n",
       "      <td>short</td>\n",
       "      <td>Carmencita</td>\n",
       "      <td>Carmencita</td>\n",
       "      <td>0</td>\n",
       "      <td>1894</td>\n",
       "      <td>\\N</td>\n",
       "      <td>1</td>\n",
       "      <td>Documentary,Short</td>\n",
       "    </tr>\n",
       "    <tr>\n",
       "      <th>1</th>\n",
       "      <td>tt0000002</td>\n",
       "      <td>short</td>\n",
       "      <td>Le clown et ses chiens</td>\n",
       "      <td>Le clown et ses chiens</td>\n",
       "      <td>0</td>\n",
       "      <td>1892</td>\n",
       "      <td>\\N</td>\n",
       "      <td>5</td>\n",
       "      <td>Animation,Short</td>\n",
       "    </tr>\n",
       "    <tr>\n",
       "      <th>2</th>\n",
       "      <td>tt0000003</td>\n",
       "      <td>short</td>\n",
       "      <td>Pauvre Pierrot</td>\n",
       "      <td>Pauvre Pierrot</td>\n",
       "      <td>0</td>\n",
       "      <td>1892</td>\n",
       "      <td>\\N</td>\n",
       "      <td>4</td>\n",
       "      <td>Animation,Comedy,Romance</td>\n",
       "    </tr>\n",
       "    <tr>\n",
       "      <th>3</th>\n",
       "      <td>tt0000004</td>\n",
       "      <td>short</td>\n",
       "      <td>Un bon bock</td>\n",
       "      <td>Un bon bock</td>\n",
       "      <td>0</td>\n",
       "      <td>1892</td>\n",
       "      <td>\\N</td>\n",
       "      <td>12</td>\n",
       "      <td>Animation,Short</td>\n",
       "    </tr>\n",
       "    <tr>\n",
       "      <th>4</th>\n",
       "      <td>tt0000005</td>\n",
       "      <td>short</td>\n",
       "      <td>Blacksmith Scene</td>\n",
       "      <td>Blacksmith Scene</td>\n",
       "      <td>0</td>\n",
       "      <td>1893</td>\n",
       "      <td>\\N</td>\n",
       "      <td>1</td>\n",
       "      <td>Comedy,Short</td>\n",
       "    </tr>\n",
       "  </tbody>\n",
       "</table>\n",
       "</div>"
      ]
     },
     "metadata": {},
     "execution_count": 42
    }
   ],
   "metadata": {}
  },
  {
   "cell_type": "code",
   "execution_count": 43,
   "source": [
    "df_titles.count()"
   ],
   "outputs": [
    {
     "output_type": "execute_result",
     "data": {
      "text/plain": [
       "8135937"
      ]
     },
     "metadata": {},
     "execution_count": 43
    }
   ],
   "metadata": {}
  },
  {
   "cell_type": "code",
   "execution_count": 44,
   "source": [
    "df1 = df_titles.sample(fraction = 0.5)\n",
    "df2 = df_titles.join(df1, ['tconst'], 'anti')"
   ],
   "outputs": [],
   "metadata": {}
  },
  {
   "cell_type": "code",
   "execution_count": 45,
   "source": [
    "df1.count()"
   ],
   "outputs": [
    {
     "output_type": "execute_result",
     "data": {
      "text/plain": [
       "4067788"
      ]
     },
     "metadata": {},
     "execution_count": 45
    }
   ],
   "metadata": {
    "id": "uAYz7Nolh5BU"
   }
  },
  {
   "cell_type": "code",
   "execution_count": 46,
   "source": [
    "df2.count()"
   ],
   "outputs": [
    {
     "output_type": "execute_result",
     "data": {
      "text/plain": [
       "4068149"
      ]
     },
     "metadata": {},
     "execution_count": 46
    }
   ],
   "metadata": {
    "id": "uAYz7Nolh5BU"
   }
  },
  {
   "cell_type": "code",
   "execution_count": 47,
   "source": [
    "df1.union(df2).count()"
   ],
   "outputs": [
    {
     "output_type": "execute_result",
     "data": {
      "text/plain": [
       "8135937"
      ]
     },
     "metadata": {},
     "execution_count": 47
    }
   ],
   "metadata": {
    "id": "_90-ZttQh5BU"
   }
  },
  {
   "cell_type": "code",
   "execution_count": 48,
   "source": [
    "df3 = df_titles.sample(fraction = 0.05)"
   ],
   "outputs": [],
   "metadata": {}
  },
  {
   "cell_type": "code",
   "execution_count": 50,
   "source": [
    "df3.count()"
   ],
   "outputs": [
    {
     "output_type": "execute_result",
     "data": {
      "text/plain": [
       "407409"
      ]
     },
     "metadata": {},
     "execution_count": 50
    }
   ],
   "metadata": {}
  },
  {
   "cell_type": "code",
   "execution_count": 49,
   "source": [
    "df3.union(df3).count()"
   ],
   "outputs": [
    {
     "output_type": "execute_result",
     "data": {
      "text/plain": [
       "814818"
      ]
     },
     "metadata": {},
     "execution_count": 49
    }
   ],
   "metadata": {}
  },
  {
   "cell_type": "code",
   "execution_count": 51,
   "source": [
    "df3.union(df3).distinct().count()"
   ],
   "outputs": [
    {
     "output_type": "execute_result",
     "data": {
      "text/plain": [
       "407409"
      ]
     },
     "metadata": {},
     "execution_count": 51
    }
   ],
   "metadata": {
    "id": "IUipVH9Uh5BV"
   }
  },
  {
   "cell_type": "code",
   "execution_count": 52,
   "source": [
    "df2 = df2.select(df2.columns[::-1])"
   ],
   "outputs": [],
   "metadata": {
    "id": "Ud-l1FpHh5BV"
   }
  },
  {
   "cell_type": "code",
   "execution_count": 54,
   "source": [
    "df1.limit(5).toPandas()"
   ],
   "outputs": [
    {
     "output_type": "execute_result",
     "data": {
      "text/plain": [
       "      tconst titleType                                 primaryTitle  \\\n",
       "0  tt0000001     short                                   Carmencita   \n",
       "1  tt0000005     short                             Blacksmith Scene   \n",
       "2  tt0000008     short       Edison Kinetoscopic Record of a Sneeze   \n",
       "3  tt0000009     short                                   Miss Jerry   \n",
       "4  tt0000013     short  The Photographical Congress Arrives in Lyon   \n",
       "\n",
       "                                       originalTitle isAdult startYear  \\\n",
       "0                                         Carmencita       0      1894   \n",
       "1                                   Blacksmith Scene       0      1893   \n",
       "2             Edison Kinetoscopic Record of a Sneeze       0      1894   \n",
       "3                                         Miss Jerry       0      1894   \n",
       "4  Le débarquement du congrès de photographie à Lyon       0      1895   \n",
       "\n",
       "  endYear runtimeMinutes             genres  \n",
       "0      \\N              1  Documentary,Short  \n",
       "1      \\N              1       Comedy,Short  \n",
       "2      \\N              1  Documentary,Short  \n",
       "3      \\N             40      Romance,Short  \n",
       "4      \\N              1  Documentary,Short  "
      ],
      "text/html": [
       "<div>\n",
       "<style scoped>\n",
       "    .dataframe tbody tr th:only-of-type {\n",
       "        vertical-align: middle;\n",
       "    }\n",
       "\n",
       "    .dataframe tbody tr th {\n",
       "        vertical-align: top;\n",
       "    }\n",
       "\n",
       "    .dataframe thead th {\n",
       "        text-align: right;\n",
       "    }\n",
       "</style>\n",
       "<table border=\"1\" class=\"dataframe\">\n",
       "  <thead>\n",
       "    <tr style=\"text-align: right;\">\n",
       "      <th></th>\n",
       "      <th>tconst</th>\n",
       "      <th>titleType</th>\n",
       "      <th>primaryTitle</th>\n",
       "      <th>originalTitle</th>\n",
       "      <th>isAdult</th>\n",
       "      <th>startYear</th>\n",
       "      <th>endYear</th>\n",
       "      <th>runtimeMinutes</th>\n",
       "      <th>genres</th>\n",
       "    </tr>\n",
       "  </thead>\n",
       "  <tbody>\n",
       "    <tr>\n",
       "      <th>0</th>\n",
       "      <td>tt0000001</td>\n",
       "      <td>short</td>\n",
       "      <td>Carmencita</td>\n",
       "      <td>Carmencita</td>\n",
       "      <td>0</td>\n",
       "      <td>1894</td>\n",
       "      <td>\\N</td>\n",
       "      <td>1</td>\n",
       "      <td>Documentary,Short</td>\n",
       "    </tr>\n",
       "    <tr>\n",
       "      <th>1</th>\n",
       "      <td>tt0000005</td>\n",
       "      <td>short</td>\n",
       "      <td>Blacksmith Scene</td>\n",
       "      <td>Blacksmith Scene</td>\n",
       "      <td>0</td>\n",
       "      <td>1893</td>\n",
       "      <td>\\N</td>\n",
       "      <td>1</td>\n",
       "      <td>Comedy,Short</td>\n",
       "    </tr>\n",
       "    <tr>\n",
       "      <th>2</th>\n",
       "      <td>tt0000008</td>\n",
       "      <td>short</td>\n",
       "      <td>Edison Kinetoscopic Record of a Sneeze</td>\n",
       "      <td>Edison Kinetoscopic Record of a Sneeze</td>\n",
       "      <td>0</td>\n",
       "      <td>1894</td>\n",
       "      <td>\\N</td>\n",
       "      <td>1</td>\n",
       "      <td>Documentary,Short</td>\n",
       "    </tr>\n",
       "    <tr>\n",
       "      <th>3</th>\n",
       "      <td>tt0000009</td>\n",
       "      <td>short</td>\n",
       "      <td>Miss Jerry</td>\n",
       "      <td>Miss Jerry</td>\n",
       "      <td>0</td>\n",
       "      <td>1894</td>\n",
       "      <td>\\N</td>\n",
       "      <td>40</td>\n",
       "      <td>Romance,Short</td>\n",
       "    </tr>\n",
       "    <tr>\n",
       "      <th>4</th>\n",
       "      <td>tt0000013</td>\n",
       "      <td>short</td>\n",
       "      <td>The Photographical Congress Arrives in Lyon</td>\n",
       "      <td>Le débarquement du congrès de photographie à Lyon</td>\n",
       "      <td>0</td>\n",
       "      <td>1895</td>\n",
       "      <td>\\N</td>\n",
       "      <td>1</td>\n",
       "      <td>Documentary,Short</td>\n",
       "    </tr>\n",
       "  </tbody>\n",
       "</table>\n",
       "</div>"
      ]
     },
     "metadata": {},
     "execution_count": 54
    }
   ],
   "metadata": {}
  },
  {
   "cell_type": "code",
   "execution_count": 53,
   "source": [
    "df2.limit(5).toPandas()"
   ],
   "outputs": [
    {
     "output_type": "execute_result",
     "data": {
      "text/plain": [
       "           genres runtimeMinutes endYear startYear isAdult  \\\n",
       "0     Drama,Short             \\N      \\N      1911       0   \n",
       "1    Comedy,Short             \\N      \\N      1911       0   \n",
       "2     Drama,Short             17      \\N      1912       0   \n",
       "3  Crime,Thriller             48      \\N      1912       0   \n",
       "4              \\N             \\N      \\N      1913       0   \n",
       "\n",
       "                originalTitle                primaryTitle titleType     tconst  \n",
       "0       The Lighthouse Keeper       The Lighthouse Keeper     short  tt0001732  \n",
       "1             The Skating Bug             The Skating Bug     short  tt0001887  \n",
       "2                  Home Folks                  Home Folks     short  tt0002253  \n",
       "3  Zigomar contre Nick Carter  Zigomar contre Nick Carter     movie  tt0002588  \n",
       "4                     Zu spät                     Zu spät     movie  tt0002591  "
      ],
      "text/html": [
       "<div>\n",
       "<style scoped>\n",
       "    .dataframe tbody tr th:only-of-type {\n",
       "        vertical-align: middle;\n",
       "    }\n",
       "\n",
       "    .dataframe tbody tr th {\n",
       "        vertical-align: top;\n",
       "    }\n",
       "\n",
       "    .dataframe thead th {\n",
       "        text-align: right;\n",
       "    }\n",
       "</style>\n",
       "<table border=\"1\" class=\"dataframe\">\n",
       "  <thead>\n",
       "    <tr style=\"text-align: right;\">\n",
       "      <th></th>\n",
       "      <th>genres</th>\n",
       "      <th>runtimeMinutes</th>\n",
       "      <th>endYear</th>\n",
       "      <th>startYear</th>\n",
       "      <th>isAdult</th>\n",
       "      <th>originalTitle</th>\n",
       "      <th>primaryTitle</th>\n",
       "      <th>titleType</th>\n",
       "      <th>tconst</th>\n",
       "    </tr>\n",
       "  </thead>\n",
       "  <tbody>\n",
       "    <tr>\n",
       "      <th>0</th>\n",
       "      <td>Drama,Short</td>\n",
       "      <td>\\N</td>\n",
       "      <td>\\N</td>\n",
       "      <td>1911</td>\n",
       "      <td>0</td>\n",
       "      <td>The Lighthouse Keeper</td>\n",
       "      <td>The Lighthouse Keeper</td>\n",
       "      <td>short</td>\n",
       "      <td>tt0001732</td>\n",
       "    </tr>\n",
       "    <tr>\n",
       "      <th>1</th>\n",
       "      <td>Comedy,Short</td>\n",
       "      <td>\\N</td>\n",
       "      <td>\\N</td>\n",
       "      <td>1911</td>\n",
       "      <td>0</td>\n",
       "      <td>The Skating Bug</td>\n",
       "      <td>The Skating Bug</td>\n",
       "      <td>short</td>\n",
       "      <td>tt0001887</td>\n",
       "    </tr>\n",
       "    <tr>\n",
       "      <th>2</th>\n",
       "      <td>Drama,Short</td>\n",
       "      <td>17</td>\n",
       "      <td>\\N</td>\n",
       "      <td>1912</td>\n",
       "      <td>0</td>\n",
       "      <td>Home Folks</td>\n",
       "      <td>Home Folks</td>\n",
       "      <td>short</td>\n",
       "      <td>tt0002253</td>\n",
       "    </tr>\n",
       "    <tr>\n",
       "      <th>3</th>\n",
       "      <td>Crime,Thriller</td>\n",
       "      <td>48</td>\n",
       "      <td>\\N</td>\n",
       "      <td>1912</td>\n",
       "      <td>0</td>\n",
       "      <td>Zigomar contre Nick Carter</td>\n",
       "      <td>Zigomar contre Nick Carter</td>\n",
       "      <td>movie</td>\n",
       "      <td>tt0002588</td>\n",
       "    </tr>\n",
       "    <tr>\n",
       "      <th>4</th>\n",
       "      <td>\\N</td>\n",
       "      <td>\\N</td>\n",
       "      <td>\\N</td>\n",
       "      <td>1913</td>\n",
       "      <td>0</td>\n",
       "      <td>Zu spät</td>\n",
       "      <td>Zu spät</td>\n",
       "      <td>movie</td>\n",
       "      <td>tt0002591</td>\n",
       "    </tr>\n",
       "  </tbody>\n",
       "</table>\n",
       "</div>"
      ]
     },
     "metadata": {},
     "execution_count": 53
    }
   ],
   "metadata": {}
  },
  {
   "cell_type": "code",
   "execution_count": 55,
   "source": [
    "df1.union(df2).filter('genres rlike \"[0-9]\"').limit(5).toPandas()"
   ],
   "outputs": [
    {
     "output_type": "execute_result",
     "data": {
      "text/plain": [
       "           tconst titleType primaryTitle originalTitle isAdult  \\\n",
       "0     Drama,Short        \\N           \\N          1911       0   \n",
       "1    Comedy,Short        \\N           \\N          1911       0   \n",
       "2     Drama,Short        17           \\N          1912       0   \n",
       "3  Crime,Thriller        48           \\N          1912       0   \n",
       "4              \\N        \\N           \\N          1913       0   \n",
       "\n",
       "                    startYear                     endYear runtimeMinutes  \\\n",
       "0       The Lighthouse Keeper       The Lighthouse Keeper          short   \n",
       "1             The Skating Bug             The Skating Bug          short   \n",
       "2                  Home Folks                  Home Folks          short   \n",
       "3  Zigomar contre Nick Carter  Zigomar contre Nick Carter          movie   \n",
       "4                     Zu spät                     Zu spät          movie   \n",
       "\n",
       "      genres  \n",
       "0  tt0001732  \n",
       "1  tt0001887  \n",
       "2  tt0002253  \n",
       "3  tt0002588  \n",
       "4  tt0002591  "
      ],
      "text/html": [
       "<div>\n",
       "<style scoped>\n",
       "    .dataframe tbody tr th:only-of-type {\n",
       "        vertical-align: middle;\n",
       "    }\n",
       "\n",
       "    .dataframe tbody tr th {\n",
       "        vertical-align: top;\n",
       "    }\n",
       "\n",
       "    .dataframe thead th {\n",
       "        text-align: right;\n",
       "    }\n",
       "</style>\n",
       "<table border=\"1\" class=\"dataframe\">\n",
       "  <thead>\n",
       "    <tr style=\"text-align: right;\">\n",
       "      <th></th>\n",
       "      <th>tconst</th>\n",
       "      <th>titleType</th>\n",
       "      <th>primaryTitle</th>\n",
       "      <th>originalTitle</th>\n",
       "      <th>isAdult</th>\n",
       "      <th>startYear</th>\n",
       "      <th>endYear</th>\n",
       "      <th>runtimeMinutes</th>\n",
       "      <th>genres</th>\n",
       "    </tr>\n",
       "  </thead>\n",
       "  <tbody>\n",
       "    <tr>\n",
       "      <th>0</th>\n",
       "      <td>Drama,Short</td>\n",
       "      <td>\\N</td>\n",
       "      <td>\\N</td>\n",
       "      <td>1911</td>\n",
       "      <td>0</td>\n",
       "      <td>The Lighthouse Keeper</td>\n",
       "      <td>The Lighthouse Keeper</td>\n",
       "      <td>short</td>\n",
       "      <td>tt0001732</td>\n",
       "    </tr>\n",
       "    <tr>\n",
       "      <th>1</th>\n",
       "      <td>Comedy,Short</td>\n",
       "      <td>\\N</td>\n",
       "      <td>\\N</td>\n",
       "      <td>1911</td>\n",
       "      <td>0</td>\n",
       "      <td>The Skating Bug</td>\n",
       "      <td>The Skating Bug</td>\n",
       "      <td>short</td>\n",
       "      <td>tt0001887</td>\n",
       "    </tr>\n",
       "    <tr>\n",
       "      <th>2</th>\n",
       "      <td>Drama,Short</td>\n",
       "      <td>17</td>\n",
       "      <td>\\N</td>\n",
       "      <td>1912</td>\n",
       "      <td>0</td>\n",
       "      <td>Home Folks</td>\n",
       "      <td>Home Folks</td>\n",
       "      <td>short</td>\n",
       "      <td>tt0002253</td>\n",
       "    </tr>\n",
       "    <tr>\n",
       "      <th>3</th>\n",
       "      <td>Crime,Thriller</td>\n",
       "      <td>48</td>\n",
       "      <td>\\N</td>\n",
       "      <td>1912</td>\n",
       "      <td>0</td>\n",
       "      <td>Zigomar contre Nick Carter</td>\n",
       "      <td>Zigomar contre Nick Carter</td>\n",
       "      <td>movie</td>\n",
       "      <td>tt0002588</td>\n",
       "    </tr>\n",
       "    <tr>\n",
       "      <th>4</th>\n",
       "      <td>\\N</td>\n",
       "      <td>\\N</td>\n",
       "      <td>\\N</td>\n",
       "      <td>1913</td>\n",
       "      <td>0</td>\n",
       "      <td>Zu spät</td>\n",
       "      <td>Zu spät</td>\n",
       "      <td>movie</td>\n",
       "      <td>tt0002591</td>\n",
       "    </tr>\n",
       "  </tbody>\n",
       "</table>\n",
       "</div>"
      ]
     },
     "metadata": {},
     "execution_count": 55
    }
   ],
   "metadata": {
    "id": "ZB9UsKlQh5BV"
   }
  },
  {
   "cell_type": "code",
   "execution_count": 56,
   "source": [
    "df1.unionByName(df2).filter('genres rlike \"[0-9]\"').limit(5).toPandas()"
   ],
   "outputs": [
    {
     "output_type": "execute_result",
     "data": {
      "text/plain": [
       "Empty DataFrame\n",
       "Columns: [tconst, titleType, primaryTitle, originalTitle, isAdult, startYear, endYear, runtimeMinutes, genres]\n",
       "Index: []"
      ],
      "text/html": [
       "<div>\n",
       "<style scoped>\n",
       "    .dataframe tbody tr th:only-of-type {\n",
       "        vertical-align: middle;\n",
       "    }\n",
       "\n",
       "    .dataframe tbody tr th {\n",
       "        vertical-align: top;\n",
       "    }\n",
       "\n",
       "    .dataframe thead th {\n",
       "        text-align: right;\n",
       "    }\n",
       "</style>\n",
       "<table border=\"1\" class=\"dataframe\">\n",
       "  <thead>\n",
       "    <tr style=\"text-align: right;\">\n",
       "      <th></th>\n",
       "      <th>tconst</th>\n",
       "      <th>titleType</th>\n",
       "      <th>primaryTitle</th>\n",
       "      <th>originalTitle</th>\n",
       "      <th>isAdult</th>\n",
       "      <th>startYear</th>\n",
       "      <th>endYear</th>\n",
       "      <th>runtimeMinutes</th>\n",
       "      <th>genres</th>\n",
       "    </tr>\n",
       "  </thead>\n",
       "  <tbody>\n",
       "  </tbody>\n",
       "</table>\n",
       "</div>"
      ]
     },
     "metadata": {},
     "execution_count": 56
    }
   ],
   "metadata": {
    "id": "gDiuLfsXh5BW"
   }
  },
  {
   "cell_type": "markdown",
   "source": [
    "### User Defined Functions (UDFs)"
   ],
   "metadata": {
    "id": "KPQOFMX1TLrU"
   }
  },
  {
   "cell_type": "markdown",
   "source": [
    "Em algumas situações é necessário criar/alterar uma coluna utilizando uma operação não implementada na biblioteca padrão. Para isso, é possível utilzar funções definidas pelo usuário (UDFs) por meio da função `udf()`.\n",
    "\n",
    "**Importante**: As udfs não são otimizadas para serem executadas em paralelo, e por isso podem representar um gargalo na na aplicação."
   ],
   "metadata": {
    "id": "x9ZJh9UfAKqv"
   }
  },
  {
   "cell_type": "code",
   "execution_count": 57,
   "source": [
    "from unidecode import unidecode\n",
    "from pyspark.sql.types import StringType"
   ],
   "outputs": [],
   "metadata": {}
  },
  {
   "cell_type": "code",
   "execution_count": 62,
   "source": [
    "unidecode('àáâçéõü')"
   ],
   "outputs": [
    {
     "output_type": "execute_result",
     "data": {
      "text/plain": [
       "'aaaceou'"
      ]
     },
     "metadata": {},
     "execution_count": 62
    }
   ],
   "metadata": {
    "id": "CFp-RvZMBFSO"
   }
  },
  {
   "cell_type": "code",
   "execution_count": 69,
   "source": [
    "def unidecode_function(string):\n",
    "    if not string:\n",
    "        return None\n",
    "    else:\n",
    "        return unidecode(string)\n",
    "\n",
    "unidecode_udf = f.udf(unidecode_function, returnType=StringType())"
   ],
   "outputs": [],
   "metadata": {
    "id": "pmMoX5nCADSX"
   }
  },
  {
   "cell_type": "code",
   "execution_count": 71,
   "source": [
    "(\n",
    "    df_titles\n",
    "    .filter(f.col('primaryTitle').rlike('à|á|â|ç|é|õ|ü'))\n",
    "    .withColumn('cleaned_string', unidecode_udf(f.col('primaryTitle')))\n",
    "    .select('primaryTitle', 'cleaned_string')\n",
    "    .limit(5)\n",
    "    .toPandas()\n",
    ")"
   ],
   "outputs": [
    {
     "output_type": "execute_result",
     "data": {
      "text/plain": [
       "                                        primaryTitle  \\\n",
       "0               Arrivée d'un train gare de Vincennes   \n",
       "1                                  Batteuse à vapeur   \n",
       "2                                  Bébé et fillettes   \n",
       "3  A Chegada do Comboio Inaugural à Estação Centr...   \n",
       "4                Cortège de tzar allant à Versailles   \n",
       "\n",
       "                                      cleaned_string  \n",
       "0               Arrivee d'un train gare de Vincennes  \n",
       "1                                  Batteuse a vapeur  \n",
       "2                                  Bebe et fillettes  \n",
       "3  A Chegada do Comboio Inaugural a Estacao Centr...  \n",
       "4                Cortege de tzar allant a Versailles  "
      ],
      "text/html": [
       "<div>\n",
       "<style scoped>\n",
       "    .dataframe tbody tr th:only-of-type {\n",
       "        vertical-align: middle;\n",
       "    }\n",
       "\n",
       "    .dataframe tbody tr th {\n",
       "        vertical-align: top;\n",
       "    }\n",
       "\n",
       "    .dataframe thead th {\n",
       "        text-align: right;\n",
       "    }\n",
       "</style>\n",
       "<table border=\"1\" class=\"dataframe\">\n",
       "  <thead>\n",
       "    <tr style=\"text-align: right;\">\n",
       "      <th></th>\n",
       "      <th>primaryTitle</th>\n",
       "      <th>cleaned_string</th>\n",
       "    </tr>\n",
       "  </thead>\n",
       "  <tbody>\n",
       "    <tr>\n",
       "      <th>0</th>\n",
       "      <td>Arrivée d'un train gare de Vincennes</td>\n",
       "      <td>Arrivee d'un train gare de Vincennes</td>\n",
       "    </tr>\n",
       "    <tr>\n",
       "      <th>1</th>\n",
       "      <td>Batteuse à vapeur</td>\n",
       "      <td>Batteuse a vapeur</td>\n",
       "    </tr>\n",
       "    <tr>\n",
       "      <th>2</th>\n",
       "      <td>Bébé et fillettes</td>\n",
       "      <td>Bebe et fillettes</td>\n",
       "    </tr>\n",
       "    <tr>\n",
       "      <th>3</th>\n",
       "      <td>A Chegada do Comboio Inaugural à Estação Centr...</td>\n",
       "      <td>A Chegada do Comboio Inaugural a Estacao Centr...</td>\n",
       "    </tr>\n",
       "    <tr>\n",
       "      <th>4</th>\n",
       "      <td>Cortège de tzar allant à Versailles</td>\n",
       "      <td>Cortege de tzar allant a Versailles</td>\n",
       "    </tr>\n",
       "  </tbody>\n",
       "</table>\n",
       "</div>"
      ]
     },
     "metadata": {},
     "execution_count": 71
    }
   ],
   "metadata": {
    "id": "D5-VNaSoDG5l"
   }
  },
  {
   "cell_type": "code",
   "execution_count": 72,
   "source": [
    "del unidecode_udf"
   ],
   "outputs": [],
   "metadata": {
    "id": "qHQIJLTQDyjG"
   }
  },
  {
   "cell_type": "code",
   "execution_count": 74,
   "source": [
    "@f.udf(returnType=t.StringType())\n",
    "def unidecode_udf(string):\n",
    "    if not string:\n",
    "        return None\n",
    "    else:\n",
    "        return unidecode(string)"
   ],
   "outputs": [],
   "metadata": {
    "id": "ClKnhsZDDrRJ"
   }
  },
  {
   "cell_type": "code",
   "execution_count": 78,
   "source": [
    "(\n",
    "    df_titles\n",
    "    .filter(f.col('primaryTitle').rlike('à|á|â|ç|é|õ|ü'))\n",
    "    .withColumn('cleaned_string', unidecode_udf(f.expr('primaryTitle')))\n",
    "    .select('primaryTitle', 'cleaned_string')\n",
    "    .limit(5)\n",
    "    .toPandas()\n",
    ")"
   ],
   "outputs": [
    {
     "output_type": "execute_result",
     "data": {
      "text/plain": [
       "                                        primaryTitle  \\\n",
       "0               Arrivée d'un train gare de Vincennes   \n",
       "1                                  Batteuse à vapeur   \n",
       "2                                  Bébé et fillettes   \n",
       "3  A Chegada do Comboio Inaugural à Estação Centr...   \n",
       "4                Cortège de tzar allant à Versailles   \n",
       "\n",
       "                                      cleaned_string  \n",
       "0               Arrivee d'un train gare de Vincennes  \n",
       "1                                  Batteuse a vapeur  \n",
       "2                                  Bebe et fillettes  \n",
       "3  A Chegada do Comboio Inaugural a Estacao Centr...  \n",
       "4                Cortege de tzar allant a Versailles  "
      ],
      "text/html": [
       "<div>\n",
       "<style scoped>\n",
       "    .dataframe tbody tr th:only-of-type {\n",
       "        vertical-align: middle;\n",
       "    }\n",
       "\n",
       "    .dataframe tbody tr th {\n",
       "        vertical-align: top;\n",
       "    }\n",
       "\n",
       "    .dataframe thead th {\n",
       "        text-align: right;\n",
       "    }\n",
       "</style>\n",
       "<table border=\"1\" class=\"dataframe\">\n",
       "  <thead>\n",
       "    <tr style=\"text-align: right;\">\n",
       "      <th></th>\n",
       "      <th>primaryTitle</th>\n",
       "      <th>cleaned_string</th>\n",
       "    </tr>\n",
       "  </thead>\n",
       "  <tbody>\n",
       "    <tr>\n",
       "      <th>0</th>\n",
       "      <td>Arrivée d'un train gare de Vincennes</td>\n",
       "      <td>Arrivee d'un train gare de Vincennes</td>\n",
       "    </tr>\n",
       "    <tr>\n",
       "      <th>1</th>\n",
       "      <td>Batteuse à vapeur</td>\n",
       "      <td>Batteuse a vapeur</td>\n",
       "    </tr>\n",
       "    <tr>\n",
       "      <th>2</th>\n",
       "      <td>Bébé et fillettes</td>\n",
       "      <td>Bebe et fillettes</td>\n",
       "    </tr>\n",
       "    <tr>\n",
       "      <th>3</th>\n",
       "      <td>A Chegada do Comboio Inaugural à Estação Centr...</td>\n",
       "      <td>A Chegada do Comboio Inaugural a Estacao Centr...</td>\n",
       "    </tr>\n",
       "    <tr>\n",
       "      <th>4</th>\n",
       "      <td>Cortège de tzar allant à Versailles</td>\n",
       "      <td>Cortege de tzar allant a Versailles</td>\n",
       "    </tr>\n",
       "  </tbody>\n",
       "</table>\n",
       "</div>"
      ]
     },
     "metadata": {},
     "execution_count": 78
    }
   ],
   "metadata": {
    "id": "XBIxK9mODppf"
   }
  },
  {
   "cell_type": "markdown",
   "source": [
    "### Criando Métodos Customizado"
   ],
   "metadata": {
    "id": "R8dELTaIK6XV"
   }
  },
  {
   "cell_type": "markdown",
   "source": [
    "Em algumas situações, é interessante que realizemos uma operação sobre um DataFrame que não está implementada. Além disso, pode ser que seja necessário (ou do desejo do desenvolvedor) utilizar essa operação de forma encadeada.\n",
    "\n",
    "Para resolver esse problema, podemos utilizar o método `.transform()`. Funciona da seguinte maneira:\n",
    "\n",
    "1) Definir uma função do python da seguinte forma:\n",
    "\n",
    "```\n",
    "def f(args):\n",
    "  def _(df):\n",
    "    {operacoes sob o DataFrame}\n",
    "    return df\n",
    "  return _\n",
    "```\n",
    "2) Depois de definida a função, ela pode ser chamada da seguinte forma:\n",
    "\n",
    "\n",
    "```\n",
    "df.transform(f(args))\n",
    "```"
   ],
   "metadata": {
    "id": "NwbjAL6BK-vJ"
   }
  },
  {
   "cell_type": "code",
   "execution_count": null,
   "source": [
    "def processing(df):\n",
    "    ...\n",
    "    return df"
   ],
   "outputs": [],
   "metadata": {}
  },
  {
   "cell_type": "code",
   "execution_count": null,
   "source": [
    "df = (\n",
    "    df.select().filter()\n",
    ")\n",
    "df = processing(df)\n",
    "df = (\n",
    "    df.groupby().agg()\n",
    ")"
   ],
   "outputs": [],
   "metadata": {}
  },
  {
   "cell_type": "code",
   "execution_count": null,
   "source": [
    "df = (\n",
    "    df.select()\n",
    "    .filter()\n",
    "    .transform(processing(df))\n",
    "    .groupby()\n",
    "    .agg()\n",
    ")"
   ],
   "outputs": [],
   "metadata": {}
  },
  {
   "cell_type": "code",
   "execution_count": 79,
   "source": [
    "def renamer(dict):\n",
    "    def _(df):\n",
    "        for c, n in dict.items():\n",
    "            df = df.withColumnRenamed(c, n)\n",
    "        return df\n",
    "    return _"
   ],
   "outputs": [],
   "metadata": {}
  },
  {
   "cell_type": "code",
   "execution_count": 80,
   "source": [
    "df_titles.limit(5).toPandas()"
   ],
   "outputs": [
    {
     "output_type": "execute_result",
     "data": {
      "text/plain": [
       "      tconst titleType            primaryTitle           originalTitle  \\\n",
       "0  tt0000001     short              Carmencita              Carmencita   \n",
       "1  tt0000002     short  Le clown et ses chiens  Le clown et ses chiens   \n",
       "2  tt0000003     short          Pauvre Pierrot          Pauvre Pierrot   \n",
       "3  tt0000004     short             Un bon bock             Un bon bock   \n",
       "4  tt0000005     short        Blacksmith Scene        Blacksmith Scene   \n",
       "\n",
       "  isAdult startYear endYear runtimeMinutes                    genres  \n",
       "0       0      1894      \\N              1         Documentary,Short  \n",
       "1       0      1892      \\N              5           Animation,Short  \n",
       "2       0      1892      \\N              4  Animation,Comedy,Romance  \n",
       "3       0      1892      \\N             12           Animation,Short  \n",
       "4       0      1893      \\N              1              Comedy,Short  "
      ],
      "text/html": [
       "<div>\n",
       "<style scoped>\n",
       "    .dataframe tbody tr th:only-of-type {\n",
       "        vertical-align: middle;\n",
       "    }\n",
       "\n",
       "    .dataframe tbody tr th {\n",
       "        vertical-align: top;\n",
       "    }\n",
       "\n",
       "    .dataframe thead th {\n",
       "        text-align: right;\n",
       "    }\n",
       "</style>\n",
       "<table border=\"1\" class=\"dataframe\">\n",
       "  <thead>\n",
       "    <tr style=\"text-align: right;\">\n",
       "      <th></th>\n",
       "      <th>tconst</th>\n",
       "      <th>titleType</th>\n",
       "      <th>primaryTitle</th>\n",
       "      <th>originalTitle</th>\n",
       "      <th>isAdult</th>\n",
       "      <th>startYear</th>\n",
       "      <th>endYear</th>\n",
       "      <th>runtimeMinutes</th>\n",
       "      <th>genres</th>\n",
       "    </tr>\n",
       "  </thead>\n",
       "  <tbody>\n",
       "    <tr>\n",
       "      <th>0</th>\n",
       "      <td>tt0000001</td>\n",
       "      <td>short</td>\n",
       "      <td>Carmencita</td>\n",
       "      <td>Carmencita</td>\n",
       "      <td>0</td>\n",
       "      <td>1894</td>\n",
       "      <td>\\N</td>\n",
       "      <td>1</td>\n",
       "      <td>Documentary,Short</td>\n",
       "    </tr>\n",
       "    <tr>\n",
       "      <th>1</th>\n",
       "      <td>tt0000002</td>\n",
       "      <td>short</td>\n",
       "      <td>Le clown et ses chiens</td>\n",
       "      <td>Le clown et ses chiens</td>\n",
       "      <td>0</td>\n",
       "      <td>1892</td>\n",
       "      <td>\\N</td>\n",
       "      <td>5</td>\n",
       "      <td>Animation,Short</td>\n",
       "    </tr>\n",
       "    <tr>\n",
       "      <th>2</th>\n",
       "      <td>tt0000003</td>\n",
       "      <td>short</td>\n",
       "      <td>Pauvre Pierrot</td>\n",
       "      <td>Pauvre Pierrot</td>\n",
       "      <td>0</td>\n",
       "      <td>1892</td>\n",
       "      <td>\\N</td>\n",
       "      <td>4</td>\n",
       "      <td>Animation,Comedy,Romance</td>\n",
       "    </tr>\n",
       "    <tr>\n",
       "      <th>3</th>\n",
       "      <td>tt0000004</td>\n",
       "      <td>short</td>\n",
       "      <td>Un bon bock</td>\n",
       "      <td>Un bon bock</td>\n",
       "      <td>0</td>\n",
       "      <td>1892</td>\n",
       "      <td>\\N</td>\n",
       "      <td>12</td>\n",
       "      <td>Animation,Short</td>\n",
       "    </tr>\n",
       "    <tr>\n",
       "      <th>4</th>\n",
       "      <td>tt0000005</td>\n",
       "      <td>short</td>\n",
       "      <td>Blacksmith Scene</td>\n",
       "      <td>Blacksmith Scene</td>\n",
       "      <td>0</td>\n",
       "      <td>1893</td>\n",
       "      <td>\\N</td>\n",
       "      <td>1</td>\n",
       "      <td>Comedy,Short</td>\n",
       "    </tr>\n",
       "  </tbody>\n",
       "</table>\n",
       "</div>"
      ]
     },
     "metadata": {},
     "execution_count": 80
    }
   ],
   "metadata": {
    "id": "6Ndv4Wn9K5vD"
   }
  },
  {
   "cell_type": "code",
   "execution_count": 81,
   "source": [
    "rename_dict = {\n",
    "    \"tconst\": 'id_title',\n",
    "    \"titleType\": 'tipo_title',\n",
    "    'primaryTitle': 'nome_primario',\n",
    "    'originalTitle': 'nome_original',\n",
    "    'isAdult': \"idc_adult_title\",\n",
    "    'startYear': 'ano_lancamento',\n",
    "    'endYear': 'ano_encerramento',\n",
    "    'runtimeMinutes': 'duracao_minutos',\n",
    "    'genres': 'generos',\n",
    "}\n",
    "\n",
    "(\n",
    "    df_titles\n",
    "    .transform(renamer(rename_dict))\n",
    "    .limit(5)\n",
    "    .toPandas()\n",
    ")"
   ],
   "outputs": [
    {
     "output_type": "execute_result",
     "data": {
      "text/plain": [
       "    id_title tipo_title           nome_primario           nome_original  \\\n",
       "0  tt0000001      short              Carmencita              Carmencita   \n",
       "1  tt0000002      short  Le clown et ses chiens  Le clown et ses chiens   \n",
       "2  tt0000003      short          Pauvre Pierrot          Pauvre Pierrot   \n",
       "3  tt0000004      short             Un bon bock             Un bon bock   \n",
       "4  tt0000005      short        Blacksmith Scene        Blacksmith Scene   \n",
       "\n",
       "  idc_adult_title ano_lancamento ano_encerramento duracao_minutos  \\\n",
       "0               0           1894               \\N               1   \n",
       "1               0           1892               \\N               5   \n",
       "2               0           1892               \\N               4   \n",
       "3               0           1892               \\N              12   \n",
       "4               0           1893               \\N               1   \n",
       "\n",
       "                    generos  \n",
       "0         Documentary,Short  \n",
       "1           Animation,Short  \n",
       "2  Animation,Comedy,Romance  \n",
       "3           Animation,Short  \n",
       "4              Comedy,Short  "
      ],
      "text/html": [
       "<div>\n",
       "<style scoped>\n",
       "    .dataframe tbody tr th:only-of-type {\n",
       "        vertical-align: middle;\n",
       "    }\n",
       "\n",
       "    .dataframe tbody tr th {\n",
       "        vertical-align: top;\n",
       "    }\n",
       "\n",
       "    .dataframe thead th {\n",
       "        text-align: right;\n",
       "    }\n",
       "</style>\n",
       "<table border=\"1\" class=\"dataframe\">\n",
       "  <thead>\n",
       "    <tr style=\"text-align: right;\">\n",
       "      <th></th>\n",
       "      <th>id_title</th>\n",
       "      <th>tipo_title</th>\n",
       "      <th>nome_primario</th>\n",
       "      <th>nome_original</th>\n",
       "      <th>idc_adult_title</th>\n",
       "      <th>ano_lancamento</th>\n",
       "      <th>ano_encerramento</th>\n",
       "      <th>duracao_minutos</th>\n",
       "      <th>generos</th>\n",
       "    </tr>\n",
       "  </thead>\n",
       "  <tbody>\n",
       "    <tr>\n",
       "      <th>0</th>\n",
       "      <td>tt0000001</td>\n",
       "      <td>short</td>\n",
       "      <td>Carmencita</td>\n",
       "      <td>Carmencita</td>\n",
       "      <td>0</td>\n",
       "      <td>1894</td>\n",
       "      <td>\\N</td>\n",
       "      <td>1</td>\n",
       "      <td>Documentary,Short</td>\n",
       "    </tr>\n",
       "    <tr>\n",
       "      <th>1</th>\n",
       "      <td>tt0000002</td>\n",
       "      <td>short</td>\n",
       "      <td>Le clown et ses chiens</td>\n",
       "      <td>Le clown et ses chiens</td>\n",
       "      <td>0</td>\n",
       "      <td>1892</td>\n",
       "      <td>\\N</td>\n",
       "      <td>5</td>\n",
       "      <td>Animation,Short</td>\n",
       "    </tr>\n",
       "    <tr>\n",
       "      <th>2</th>\n",
       "      <td>tt0000003</td>\n",
       "      <td>short</td>\n",
       "      <td>Pauvre Pierrot</td>\n",
       "      <td>Pauvre Pierrot</td>\n",
       "      <td>0</td>\n",
       "      <td>1892</td>\n",
       "      <td>\\N</td>\n",
       "      <td>4</td>\n",
       "      <td>Animation,Comedy,Romance</td>\n",
       "    </tr>\n",
       "    <tr>\n",
       "      <th>3</th>\n",
       "      <td>tt0000004</td>\n",
       "      <td>short</td>\n",
       "      <td>Un bon bock</td>\n",
       "      <td>Un bon bock</td>\n",
       "      <td>0</td>\n",
       "      <td>1892</td>\n",
       "      <td>\\N</td>\n",
       "      <td>12</td>\n",
       "      <td>Animation,Short</td>\n",
       "    </tr>\n",
       "    <tr>\n",
       "      <th>4</th>\n",
       "      <td>tt0000005</td>\n",
       "      <td>short</td>\n",
       "      <td>Blacksmith Scene</td>\n",
       "      <td>Blacksmith Scene</td>\n",
       "      <td>0</td>\n",
       "      <td>1893</td>\n",
       "      <td>\\N</td>\n",
       "      <td>1</td>\n",
       "      <td>Comedy,Short</td>\n",
       "    </tr>\n",
       "  </tbody>\n",
       "</table>\n",
       "</div>"
      ]
     },
     "metadata": {},
     "execution_count": 81
    }
   ],
   "metadata": {
    "id": "A7t6bUJCNWuU"
   }
  },
  {
   "cell_type": "code",
   "execution_count": 82,
   "source": [
    "from pyspark.sql import DataFrame\n",
    "\n",
    "def transform(self, f):\n",
    "    return f(self)\n",
    "\n",
    "DataFrame.transform = transform"
   ],
   "outputs": [],
   "metadata": {}
  }
 ],
 "metadata": {
  "kernelspec": {
   "display_name": "Python 3",
   "language": "python",
   "name": "python3"
  },
  "language_info": {
   "codemirror_mode": {
    "name": "ipython",
    "version": 3
   },
   "file_extension": ".py",
   "mimetype": "text/x-python",
   "name": "python",
   "nbconvert_exporter": "python",
   "pygments_lexer": "ipython3",
   "version": "3.8.8"
  }
 },
 "nbformat": 4,
 "nbformat_minor": 5
}