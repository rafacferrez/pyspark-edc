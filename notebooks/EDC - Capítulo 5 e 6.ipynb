{
 "cells": [
  {
   "cell_type": "markdown",
   "id": "1a2e8f27",
   "metadata": {},
   "source": [
    "## Bibliotecas"
   ]
  },
  {
   "cell_type": "code",
   "execution_count": 1,
   "id": "dd47b930",
   "metadata": {},
   "outputs": [],
   "source": [
    "from pyspark.sql import SparkSession\n",
    "import pyspark.sql.functions as f\n",
    "from os.path import abspath"
   ]
  },
  {
   "cell_type": "code",
   "execution_count": 2,
   "id": "bda752c4",
   "metadata": {},
   "outputs": [],
   "source": [
    "warehouse_location = abspath('../data/spark-warehouse')"
   ]
  },
  {
   "cell_type": "code",
   "execution_count": 3,
   "id": "122bc375",
   "metadata": {},
   "outputs": [],
   "source": [
    "import findspark\n",
    "\n",
    "findspark.init()"
   ]
  },
  {
   "cell_type": "markdown",
   "id": "f34e0541",
   "metadata": {},
   "source": [
    "## Setup"
   ]
  },
  {
   "cell_type": "code",
   "execution_count": 4,
   "id": "2e4ba6dd",
   "metadata": {},
   "outputs": [],
   "source": [
    "spark = (\n",
    "    SparkSession\n",
    "    .builder\n",
    "    .config(\"spark.driver.memory\", '8g')\n",
    "    .config(\"spark.sql.warehouse.dir\", warehouse_location)\n",
    "    .enableHiveSupport()\n",
    "    .getOrCreate()\n",
    ")"
   ]
  },
  {
   "cell_type": "code",
   "execution_count": 5,
   "id": "d493fc2c",
   "metadata": {},
   "outputs": [],
   "source": [
    "df_titles = spark.read.parquet('../data/imdb/title_basics')"
   ]
  },
  {
   "cell_type": "markdown",
   "id": "44feb3e7",
   "metadata": {},
   "source": [
    "## Databases e Catalog"
   ]
  },
  {
   "cell_type": "markdown",
   "id": "ab95c6de",
   "metadata": {},
   "source": [
    "O catálogo de metadados do Spark pode ser acessado pelo objeto\n",
    "\n",
    "`SparkSession.catalog` \n",
    "\n",
    "As principais funcionalidades são:\n",
    "\n",
    "* `listDatabases()`: lista todas os databases disponíveis;\n",
    "* `listTables()`: lista todas as tabelas disponíveis em um determinado database;\n",
    "* `listFucntions()`: lista as funções disponíveis em um determinado database;\n",
    "* `refreshTable()`: atualiza os metadados de uma determinada tabela\n",
    "* `uncacheTable()`: remove uma tabela salva em memória\n",
    "* `clearCache()`: remove todas as tabelas salvas em memória"
   ]
  },
  {
   "cell_type": "code",
   "execution_count": null,
   "id": "611c7178",
   "metadata": {
    "scrolled": true
   },
   "outputs": [],
   "source": [
    "spark.catalog"
   ]
  },
  {
   "cell_type": "code",
   "execution_count": null,
   "id": "1711cc5d",
   "metadata": {
    "scrolled": true
   },
   "outputs": [],
   "source": [
    "spark.catalog.clearCache()"
   ]
  },
  {
   "cell_type": "code",
   "execution_count": null,
   "id": "bf470a61",
   "metadata": {
    "scrolled": true
   },
   "outputs": [],
   "source": [
    "spark.catalog.listDatabases()"
   ]
  },
  {
   "cell_type": "code",
   "execution_count": null,
   "id": "820df231",
   "metadata": {},
   "outputs": [],
   "source": [
    "spark.catalog.listTables()"
   ]
  },
  {
   "cell_type": "markdown",
   "id": "84794952",
   "metadata": {},
   "source": [
    "Os databases do Spark são uma ferramenta para organizar tabelas. Eles podem e devem ser vistos como algo muito próximo dos databases de servidores de bancos de dados relacionais. O Spark utiliza por padrão um database chamado default, que serve para criar tabelas, views e realizar consultas caso o usuário não tenha definido o seu próprio. Um ponto importante é que essas estruturas persistem em diferentes sessões: se o usuário mudar de database, todas as tabelas permanecerão no database anterior e vão precisar ser consultadas de maneira diferente.\n",
    "\n",
    "Existem alguns comandos do SQL importantes na hora de se trabalhar com databases. Else são:\n",
    "\n",
    "* `SHOW DATABASES`: lista todas os databases disponíveis, de forma análoga ao Catalog ;\n",
    "* `CREATE DATABASE <nome_do_db>`: cria um database\n",
    "* `USE <nome_do_db>`: define o database como o atual para a realização de queries\n",
    "    * **Obs**: ao se mudar de database, é possível acessar tabelas de um database anterior usando o prefixo “nome_do_db.” antes do nome da tabela. Exemplo:\n",
    "        ```\n",
    "        USE db2\n",
    "        SELECT * FROM db1.table\n",
    "        ```\n",
    "* `SELECT current_database()`: retorna qual o database definido como o atual\n",
    "* `DROP DATABASE IF EXISTS <nome_do_db>`: deleta determinado database dentre aqueles que foram definidos. Atenção: nunca delete o database default do Spark.\n"
   ]
  },
  {
   "cell_type": "markdown",
   "id": "834417c1",
   "metadata": {},
   "source": [
    "## Tabelas e Views"
   ]
  },
  {
   "cell_type": "markdown",
   "id": "3afc37a2",
   "metadata": {},
   "source": [
    "### Tabelas"
   ]
  },
  {
   "cell_type": "markdown",
   "id": "bb810399",
   "metadata": {},
   "source": [
    "* **Managed Tables**: o Spark administra tanto os dados quanto os metadados das tabelas, de forma que operações como DROP TABLE afetam também os dados escritos em disco;\n",
    "* **Unmanaged Tables**: o Spark administra somente os metadados da tabela, e os dados escritos em disco não são alterados em nenhum momento"
   ]
  },
  {
   "cell_type": "code",
   "execution_count": null,
   "id": "1a45ad2e",
   "metadata": {},
   "outputs": [],
   "source": [
    "df_titles.limit(5).toPandas()"
   ]
  },
  {
   "cell_type": "code",
   "execution_count": null,
   "id": "c73abcf7",
   "metadata": {},
   "outputs": [],
   "source": [
    "df_titles_sample = df_titles.sample(fraction = 0.1)"
   ]
  },
  {
   "cell_type": "markdown",
   "id": "e16669ac",
   "metadata": {},
   "source": [
    "#### Criando Managed Tables"
   ]
  },
  {
   "cell_type": "code",
   "execution_count": null,
   "id": "6a247468",
   "metadata": {
    "scrolled": true
   },
   "outputs": [],
   "source": [
    "df_titles_sample.write.saveAsTable(\"title_basics_managed\")"
   ]
  },
  {
   "cell_type": "markdown",
   "id": "b13836e9",
   "metadata": {},
   "source": [
    "`CREATE TABLE title_basics_managed (schema)`"
   ]
  },
  {
   "cell_type": "markdown",
   "id": "a76371c3",
   "metadata": {},
   "source": [
    "#### Criando Unmanaged Tables"
   ]
  },
  {
   "cell_type": "code",
   "execution_count": null,
   "id": "1be2e376",
   "metadata": {},
   "outputs": [],
   "source": [
    "df_titles_sample.write.option('path', '../data/imdb/title_basics_unmanaged').saveAsTable(\"title_basics_unmanaged\")"
   ]
  },
  {
   "cell_type": "markdown",
   "id": "10ccb4b6",
   "metadata": {},
   "source": [
    "`CREATE EXTERNAL TABLE title_basics_unmanaged (schema) \n",
    " USING parquet OPTIONS (path '../data/imdb/title_basics_unmanaged')`"
   ]
  },
  {
   "cell_type": "code",
   "execution_count": null,
   "id": "eb26edd4",
   "metadata": {},
   "outputs": [],
   "source": [
    "spark.catalog.listTables()"
   ]
  },
  {
   "cell_type": "markdown",
   "id": "8e8361a4",
   "metadata": {},
   "source": [
    "### Views"
   ]
  },
  {
   "cell_type": "markdown",
   "id": "63ed54ed",
   "metadata": {},
   "source": [
    "#### Criando Views"
   ]
  },
  {
   "cell_type": "code",
   "execution_count": null,
   "id": "86a056e1",
   "metadata": {},
   "outputs": [],
   "source": [
    "df_titles_sample.createOrReplaceTempView('title_basics_view')"
   ]
  },
  {
   "cell_type": "markdown",
   "id": "eb31e950",
   "metadata": {},
   "source": [
    "`CREATE OR REPLACE TEMP VIEW AS title_basics_view\n",
    " SELECT * FROM <nome da tabela>`"
   ]
  },
  {
   "cell_type": "markdown",
   "id": "02ba2417",
   "metadata": {},
   "source": [
    "#### Criando Views Globais"
   ]
  },
  {
   "cell_type": "code",
   "execution_count": null,
   "id": "5d83a118",
   "metadata": {},
   "outputs": [],
   "source": [
    "df_titles_sample.createOrReplaceGlobalTempView('title_basics_global_view')"
   ]
  },
  {
   "cell_type": "markdown",
   "id": "156250dc",
   "metadata": {},
   "source": [
    "`CREATE OR REPLACE GLOBAL TEMP VIEW AS title_basics_global_view\n",
    " SELECT * FROM <nome da tabela>`"
   ]
  },
  {
   "cell_type": "code",
   "execution_count": null,
   "id": "25641104",
   "metadata": {},
   "outputs": [],
   "source": [
    "spark.catalog.listTables()"
   ]
  },
  {
   "cell_type": "markdown",
   "id": "a7d23d53",
   "metadata": {},
   "source": [
    "#### Deletando Views"
   ]
  },
  {
   "cell_type": "code",
   "execution_count": null,
   "id": "9d58f5a6",
   "metadata": {},
   "outputs": [],
   "source": [
    "spark.catalog.dropTempView(\"title_basics_view\")"
   ]
  },
  {
   "cell_type": "code",
   "execution_count": null,
   "id": "dd5fceda",
   "metadata": {},
   "outputs": [],
   "source": [
    "spark.catalog.dropGlobalTempView(\"title_basics_global_view\")"
   ]
  },
  {
   "cell_type": "markdown",
   "id": "33c17ef6",
   "metadata": {},
   "source": [
    "## Acessando a interface de queries"
   ]
  },
  {
   "cell_type": "code",
   "execution_count": null,
   "id": "4458faf1",
   "metadata": {},
   "outputs": [],
   "source": [
    "spark.sql('SHOW DATABASES').toPandas()"
   ]
  },
  {
   "cell_type": "code",
   "execution_count": null,
   "id": "ff706ac3",
   "metadata": {
    "scrolled": true
   },
   "outputs": [],
   "source": [
    "spark.sql(\"\"\"\n",
    "CREATE TABLE title_basics_managed \n",
    "(tconst STRING, \n",
    " titleType STRING, \n",
    " primaryTitle STRING,\n",
    " originalTitle STRING,\n",
    " isAdult STRING,\n",
    " startYear STRING, \n",
    " endYear STRING,\n",
    " runtimeMinutes STRING,\n",
    " genres STRING)\n",
    "\"\"\").toPandas()"
   ]
  },
  {
   "cell_type": "code",
   "execution_count": null,
   "id": "e497a2d0",
   "metadata": {},
   "outputs": [],
   "source": [
    "spark.sql(\"\"\"\n",
    "            INSERT INTO title_basics_managed  SELECT * FROM default.title_basics_managed\n",
    "          \"\"\"\n",
    ").toPandas()"
   ]
  },
  {
   "cell_type": "code",
   "execution_count": null,
   "id": "d5138a91",
   "metadata": {},
   "outputs": [],
   "source": [
    "spark.sql('DROP TABLE title_basics_managed').toPandas()"
   ]
  },
  {
   "cell_type": "code",
   "execution_count": null,
   "id": "0700ece6",
   "metadata": {},
   "outputs": [],
   "source": [
    "spark.sql('USE DEFAULT').toPandas()"
   ]
  },
  {
   "cell_type": "code",
   "execution_count": null,
   "id": "1df21906",
   "metadata": {},
   "outputs": [],
   "source": [
    "spark.sql('DROP TABLE title_basics_unmanaged').toPandas()"
   ]
  },
  {
   "cell_type": "code",
   "execution_count": null,
   "id": "d67d8d9d",
   "metadata": {},
   "outputs": [],
   "source": [
    "spark.sql('SHOW TABLES').toPandas()"
   ]
  },
  {
   "cell_type": "code",
   "execution_count": null,
   "id": "454408dd",
   "metadata": {},
   "outputs": [],
   "source": [
    "spark.sql('SELECT CAST(runTimeMinutes as INT) FROM title_basics_view')\\\n",
    ".withColumn('teste', f.col('runTimeMinutes') + 1).limit(5).toPandas()"
   ]
  },
  {
   "cell_type": "code",
   "execution_count": null,
   "id": "f1a6a88c",
   "metadata": {},
   "outputs": [],
   "source": [
    "df_titles.count()"
   ]
  },
  {
   "cell_type": "markdown",
   "id": "af887364",
   "metadata": {},
   "source": [
    "## Configurando o Spark"
   ]
  },
  {
   "cell_type": "markdown",
   "id": "0a20dd54",
   "metadata": {},
   "source": [
    "SparkSession -> spark-submit -> spark-defaults.conf"
   ]
  },
  {
   "cell_type": "code",
   "execution_count": null,
   "id": "615ddda8",
   "metadata": {},
   "outputs": [],
   "source": [
    "import findspark\n",
    "\n",
    "findspark.init()"
   ]
  },
  {
   "cell_type": "code",
   "execution_count": null,
   "id": "6b27f233",
   "metadata": {},
   "outputs": [],
   "source": [
    "from pyspark.sql import SparkSession\n",
    "spark = (\n",
    "    SparkSession\n",
    "    .builder\n",
    "    .config('spark.driver.memory', '8g')\n",
    "    .getOrCreate()\n",
    ")"
   ]
  },
  {
   "cell_type": "code",
   "execution_count": null,
   "id": "61ebd540",
   "metadata": {
    "scrolled": false
   },
   "outputs": [],
   "source": [
    "spark.conf.get('spark.serializer')"
   ]
  },
  {
   "cell_type": "code",
   "execution_count": null,
   "id": "ef180996",
   "metadata": {
    "scrolled": true
   },
   "outputs": [],
   "source": [
    "spark.conf.get('spark.driver.memory')"
   ]
  },
  {
   "cell_type": "code",
   "execution_count": null,
   "id": "b41e9118",
   "metadata": {
    "scrolled": true
   },
   "outputs": [],
   "source": [
    "spark.conf.get('spark.sql.shuffle.partitions')"
   ]
  },
  {
   "cell_type": "code",
   "execution_count": null,
   "id": "0b351717",
   "metadata": {},
   "outputs": [],
   "source": [
    "spark.conf.set('spark.sql.shuffle.partitions', 100)"
   ]
  },
  {
   "cell_type": "code",
   "execution_count": null,
   "id": "8e1b765d",
   "metadata": {
    "scrolled": true
   },
   "outputs": [],
   "source": [
    "spark.conf.get('spark.sql.shuffle.partitions')"
   ]
  },
  {
   "cell_type": "markdown",
   "id": "d04c94ce",
   "metadata": {},
   "source": [
    "* `spark.master`: seleciona o modo de deploy da aplicação Spark. Será tratado em mais detalhes no capítulo seguinte.\n",
    "* `spark.driver.memory`: quantidade de memória atribuída para o driver da aplicação.\n",
    "* `spark.executor.memory`: quantidade de memória atribuída para cada um dos executores da aplicação.\n",
    "* `spark.serializer`: classe utilizada para realizar a serialização de objetos durante a execução. É recomendado utilizar o valor org.apache.spark.serializer.KryoSerializer para ganhar em velocidade de processamento, uma vez que chega a ser até 10x mais rápido que o default.\n",
    "* `spark.executor.heartbeatInterval`:  intervalo entre notificações dos executores ao driver. Aumentar esse valor evita que a aplicação sofra com timeouts.\n",
    "* `spark.sql.adaptive.enabled`: habilita o Adaptive Query Execution, programa que atualiza o plano de execução durante a execução, a partir de métricas coletadas durante o processo. Ativar essa configuração pode otimizar processamentos significativamente.\n",
    "* `spark.sql.shuffle.partitions`: número padrão de partições utilizadas em shuffles de operações de junção (joins) e agregações (agg). \n",
    "* `spark.sql.broadcastTimeout`: tempo de timeout em segundos para operações de broadcast join, a serem tratadas no fim do capítulo."
   ]
  },
  {
   "cell_type": "markdown",
   "id": "d54c7ea4",
   "metadata": {},
   "source": [
    "### Tornando o Spark Escalável"
   ]
  },
  {
   "cell_type": "markdown",
   "id": "8fc53245",
   "metadata": {},
   "source": [
    "* `spark.dynamicAllocation.enabled`: habilita o uso do recurso de dynamic allocation na aplicação.\n",
    "* `spark.dynamicAllocation.executorIdleTimeout`: configura o tempo máximo de ociosidade de um executor até que o dynamic allocation o derrube.\n",
    "* `spark.dynamicAllocation.initialExecutors`: quantidade inicial de executores na aplicação ao utilizar o dynamic allocation.\n",
    "* `spark.dynamicAllocation.maxExecutors`: quantidade mínima de executores na aplicação ao utilizar o dynamic allocation.\n",
    "* `spark.dynamicAllocation.minExecutors`: quantidade máxima de executores na aplicação ao utilizar o dynamic allocation."
   ]
  },
  {
   "cell_type": "markdown",
   "id": "339ad935",
   "metadata": {},
   "source": [
    "## Persistência de Dados na Memória"
   ]
  },
  {
   "cell_type": "code",
   "execution_count": null,
   "id": "e94ad6e9",
   "metadata": {},
   "outputs": [],
   "source": [
    "df_titles_sample = df_titles.sample(fraction = 0.1)"
   ]
  },
  {
   "cell_type": "code",
   "execution_count": null,
   "id": "4f333060",
   "metadata": {},
   "outputs": [],
   "source": [
    "df_titles_sample.limit(5).toPandas()"
   ]
  },
  {
   "cell_type": "code",
   "execution_count": null,
   "id": "6f0b0550",
   "metadata": {},
   "outputs": [],
   "source": [
    "df_ratings = spark.read.format('parquet').load('../data/imdb/title_ratings')"
   ]
  },
  {
   "cell_type": "code",
   "execution_count": null,
   "id": "117cbb8c",
   "metadata": {},
   "outputs": [],
   "source": [
    "df_ratings.limit(5).toPandas()"
   ]
  },
  {
   "cell_type": "code",
   "execution_count": null,
   "id": "45a062e7",
   "metadata": {},
   "outputs": [],
   "source": [
    "int_cols = ['startYear', 'endYear', 'runtimeMinutes', 'isAdult']\n",
    "for c in int_cols:\n",
    "    df_titles_sample = (\n",
    "        df_titles_sample\n",
    "        .withColumn(c, f.col(c).cast('int'))\n",
    "    )\n",
    "# Limpa os Strings\n",
    "str_cols = ['primaryTitle', 'originalTitle', 'titleType']\n",
    "for c in str_cols:\n",
    "    df_titles_sample = (\n",
    "        df_titles_sample\n",
    "        .withColumn(c, f.initcap(f.trim(f.col(c))))\n",
    "    )"
   ]
  },
  {
   "cell_type": "code",
   "execution_count": null,
   "id": "7878bcbc",
   "metadata": {},
   "outputs": [],
   "source": [
    "df_join = (\n",
    "    df_titles_sample\n",
    "    .replace('\\\\N', None)\n",
    "    .withColumn('genres', f.split(f.col('genres'), ','))\n",
    "    .join(df_ratings, 'tconst', 'left')\n",
    ")"
   ]
  },
  {
   "cell_type": "code",
   "execution_count": null,
   "id": "3f064c9f",
   "metadata": {},
   "outputs": [],
   "source": [
    "df_join.limit(5).toPandas()"
   ]
  },
  {
   "cell_type": "code",
   "execution_count": null,
   "id": "a31925c4",
   "metadata": {},
   "outputs": [],
   "source": [
    "df_final = (\n",
    "    df_join\n",
    "    .withColumn('genres', f.explode(f.col('genres')))\n",
    "    .groupBy('titleType')\n",
    "    .pivot('genres')\n",
    "    .agg(f.round(f.mean('averageRating'), 2))\n",
    "    .fillna(0)\n",
    ")"
   ]
  },
  {
   "cell_type": "code",
   "execution_count": null,
   "id": "14cd3cc4",
   "metadata": {},
   "outputs": [],
   "source": [
    "df_final.limit(5).toPandas()"
   ]
  },
  {
   "cell_type": "code",
   "execution_count": null,
   "id": "fa14bac6",
   "metadata": {
    "scrolled": true
   },
   "outputs": [],
   "source": [
    "df_final.explain('formatted')"
   ]
  },
  {
   "cell_type": "code",
   "execution_count": null,
   "id": "2399f934",
   "metadata": {
    "scrolled": true
   },
   "outputs": [],
   "source": [
    "%%time\n",
    "df_final.limit(5).toPandas()"
   ]
  },
  {
   "cell_type": "code",
   "execution_count": null,
   "id": "9884145b",
   "metadata": {},
   "outputs": [],
   "source": [
    "%%time\n",
    "df_join.cache()\n",
    "df_join.count()"
   ]
  },
  {
   "cell_type": "code",
   "execution_count": null,
   "id": "683eca97",
   "metadata": {},
   "outputs": [],
   "source": [
    "df_final.cache()\n",
    "df_final.count()"
   ]
  },
  {
   "cell_type": "code",
   "execution_count": null,
   "id": "6462f008",
   "metadata": {},
   "outputs": [],
   "source": [
    "%%time\n",
    "df_final.limit(5).toPandas()"
   ]
  },
  {
   "cell_type": "markdown",
   "id": "78458727",
   "metadata": {},
   "source": [
    "#### Retirando dados da persistência em memória"
   ]
  },
  {
   "cell_type": "code",
   "execution_count": null,
   "id": "eda9a53b",
   "metadata": {},
   "outputs": [],
   "source": [
    "df_final.unpersist()"
   ]
  },
  {
   "cell_type": "code",
   "execution_count": null,
   "id": "58c40b6e",
   "metadata": {},
   "outputs": [],
   "source": [
    "spark.catalog.clearCache()"
   ]
  },
  {
   "cell_type": "markdown",
   "id": "0b9b4c7c",
   "metadata": {},
   "source": [
    "## Estratégias de Particionamento de Dados"
   ]
  },
  {
   "cell_type": "markdown",
   "id": "572d1343",
   "metadata": {},
   "source": [
    "### Bucketing"
   ]
  },
  {
   "cell_type": "code",
   "execution_count": 7,
   "id": "9ab564fa",
   "metadata": {},
   "outputs": [],
   "source": [
    "df_ratings = spark.read.format('parquet').load('../data/imdb/title_ratings')"
   ]
  },
  {
   "cell_type": "code",
   "execution_count": 9,
   "id": "abca961e",
   "metadata": {},
   "outputs": [
    {
     "data": {
      "text/html": [
       "<div>\n",
       "<style scoped>\n",
       "    .dataframe tbody tr th:only-of-type {\n",
       "        vertical-align: middle;\n",
       "    }\n",
       "\n",
       "    .dataframe tbody tr th {\n",
       "        vertical-align: top;\n",
       "    }\n",
       "\n",
       "    .dataframe thead th {\n",
       "        text-align: right;\n",
       "    }\n",
       "</style>\n",
       "<table border=\"1\" class=\"dataframe\">\n",
       "  <thead>\n",
       "    <tr style=\"text-align: right;\">\n",
       "      <th></th>\n",
       "      <th>tconst</th>\n",
       "      <th>titleType</th>\n",
       "      <th>primaryTitle</th>\n",
       "      <th>originalTitle</th>\n",
       "      <th>isAdult</th>\n",
       "      <th>startYear</th>\n",
       "      <th>endYear</th>\n",
       "      <th>runtimeMinutes</th>\n",
       "      <th>genres</th>\n",
       "    </tr>\n",
       "  </thead>\n",
       "  <tbody>\n",
       "    <tr>\n",
       "      <th>0</th>\n",
       "      <td>tt0000001</td>\n",
       "      <td>short</td>\n",
       "      <td>Carmencita</td>\n",
       "      <td>Carmencita</td>\n",
       "      <td>0</td>\n",
       "      <td>1894</td>\n",
       "      <td>\\N</td>\n",
       "      <td>1</td>\n",
       "      <td>Documentary,Short</td>\n",
       "    </tr>\n",
       "    <tr>\n",
       "      <th>1</th>\n",
       "      <td>tt0000002</td>\n",
       "      <td>short</td>\n",
       "      <td>Le clown et ses chiens</td>\n",
       "      <td>Le clown et ses chiens</td>\n",
       "      <td>0</td>\n",
       "      <td>1892</td>\n",
       "      <td>\\N</td>\n",
       "      <td>5</td>\n",
       "      <td>Animation,Short</td>\n",
       "    </tr>\n",
       "    <tr>\n",
       "      <th>2</th>\n",
       "      <td>tt0000003</td>\n",
       "      <td>short</td>\n",
       "      <td>Pauvre Pierrot</td>\n",
       "      <td>Pauvre Pierrot</td>\n",
       "      <td>0</td>\n",
       "      <td>1892</td>\n",
       "      <td>\\N</td>\n",
       "      <td>4</td>\n",
       "      <td>Animation,Comedy,Romance</td>\n",
       "    </tr>\n",
       "    <tr>\n",
       "      <th>3</th>\n",
       "      <td>tt0000004</td>\n",
       "      <td>short</td>\n",
       "      <td>Un bon bock</td>\n",
       "      <td>Un bon bock</td>\n",
       "      <td>0</td>\n",
       "      <td>1892</td>\n",
       "      <td>\\N</td>\n",
       "      <td>12</td>\n",
       "      <td>Animation,Short</td>\n",
       "    </tr>\n",
       "    <tr>\n",
       "      <th>4</th>\n",
       "      <td>tt0000005</td>\n",
       "      <td>short</td>\n",
       "      <td>Blacksmith Scene</td>\n",
       "      <td>Blacksmith Scene</td>\n",
       "      <td>0</td>\n",
       "      <td>1893</td>\n",
       "      <td>\\N</td>\n",
       "      <td>1</td>\n",
       "      <td>Comedy,Short</td>\n",
       "    </tr>\n",
       "  </tbody>\n",
       "</table>\n",
       "</div>"
      ],
      "text/plain": [
       "      tconst titleType            primaryTitle           originalTitle  \\\n",
       "0  tt0000001     short              Carmencita              Carmencita   \n",
       "1  tt0000002     short  Le clown et ses chiens  Le clown et ses chiens   \n",
       "2  tt0000003     short          Pauvre Pierrot          Pauvre Pierrot   \n",
       "3  tt0000004     short             Un bon bock             Un bon bock   \n",
       "4  tt0000005     short        Blacksmith Scene        Blacksmith Scene   \n",
       "\n",
       "  isAdult startYear endYear runtimeMinutes                    genres  \n",
       "0       0      1894      \\N              1         Documentary,Short  \n",
       "1       0      1892      \\N              5           Animation,Short  \n",
       "2       0      1892      \\N              4  Animation,Comedy,Romance  \n",
       "3       0      1892      \\N             12           Animation,Short  \n",
       "4       0      1893      \\N              1              Comedy,Short  "
      ]
     },
     "execution_count": 9,
     "metadata": {},
     "output_type": "execute_result"
    }
   ],
   "source": [
    "df_titles.limit(5).toPandas()"
   ]
  },
  {
   "cell_type": "code",
   "execution_count": 8,
   "id": "a5f26ce3",
   "metadata": {},
   "outputs": [
    {
     "data": {
      "text/html": [
       "<div>\n",
       "<style scoped>\n",
       "    .dataframe tbody tr th:only-of-type {\n",
       "        vertical-align: middle;\n",
       "    }\n",
       "\n",
       "    .dataframe tbody tr th {\n",
       "        vertical-align: top;\n",
       "    }\n",
       "\n",
       "    .dataframe thead th {\n",
       "        text-align: right;\n",
       "    }\n",
       "</style>\n",
       "<table border=\"1\" class=\"dataframe\">\n",
       "  <thead>\n",
       "    <tr style=\"text-align: right;\">\n",
       "      <th></th>\n",
       "      <th>tconst</th>\n",
       "      <th>averageRating</th>\n",
       "      <th>numVotes</th>\n",
       "    </tr>\n",
       "  </thead>\n",
       "  <tbody>\n",
       "    <tr>\n",
       "      <th>0</th>\n",
       "      <td>tt0000001</td>\n",
       "      <td>5.7</td>\n",
       "      <td>1759</td>\n",
       "    </tr>\n",
       "    <tr>\n",
       "      <th>1</th>\n",
       "      <td>tt0000002</td>\n",
       "      <td>6.0</td>\n",
       "      <td>223</td>\n",
       "    </tr>\n",
       "    <tr>\n",
       "      <th>2</th>\n",
       "      <td>tt0000003</td>\n",
       "      <td>6.5</td>\n",
       "      <td>1516</td>\n",
       "    </tr>\n",
       "    <tr>\n",
       "      <th>3</th>\n",
       "      <td>tt0000004</td>\n",
       "      <td>6.1</td>\n",
       "      <td>144</td>\n",
       "    </tr>\n",
       "    <tr>\n",
       "      <th>4</th>\n",
       "      <td>tt0000005</td>\n",
       "      <td>6.2</td>\n",
       "      <td>2330</td>\n",
       "    </tr>\n",
       "  </tbody>\n",
       "</table>\n",
       "</div>"
      ],
      "text/plain": [
       "      tconst averageRating numVotes\n",
       "0  tt0000001           5.7     1759\n",
       "1  tt0000002           6.0      223\n",
       "2  tt0000003           6.5     1516\n",
       "3  tt0000004           6.1      144\n",
       "4  tt0000005           6.2     2330"
      ]
     },
     "execution_count": 8,
     "metadata": {},
     "output_type": "execute_result"
    }
   ],
   "source": [
    "df_ratings.limit(5).toPandas()"
   ]
  },
  {
   "cell_type": "code",
   "execution_count": 10,
   "id": "f727053a",
   "metadata": {},
   "outputs": [],
   "source": [
    "df_titles.write.format('parquet').bucketBy(5, 'tconst').saveAsTable('title_basics')"
   ]
  },
  {
   "cell_type": "code",
   "execution_count": 11,
   "id": "c65e375c",
   "metadata": {},
   "outputs": [],
   "source": [
    "df_ratings.write.format('parquet').bucketBy(5, 'tconst').saveAsTable('title_ratings')"
   ]
  },
  {
   "cell_type": "code",
   "execution_count": 12,
   "id": "85592780",
   "metadata": {},
   "outputs": [],
   "source": [
    "df_titles_bucket = spark.sql('SELECT * FROM title_basics')"
   ]
  },
  {
   "cell_type": "code",
   "execution_count": 13,
   "id": "bcfa01c8",
   "metadata": {},
   "outputs": [],
   "source": [
    "df_ratings_bucket = spark.sql('SELECT * FROM title_ratings')"
   ]
  },
  {
   "cell_type": "code",
   "execution_count": 26,
   "id": "dc6a4f4f",
   "metadata": {},
   "outputs": [
    {
     "name": "stdout",
     "output_type": "stream",
     "text": [
      "Wall time: 1 s\n"
     ]
    },
    {
     "data": {
      "text/plain": [
       "1174186"
      ]
     },
     "execution_count": 26,
     "metadata": {},
     "output_type": "execute_result"
    }
   ],
   "source": [
    "%%time\n",
    "df_titles.join(df_ratings, 'tconst').count()"
   ]
  },
  {
   "cell_type": "code",
   "execution_count": 27,
   "id": "6cd61ae4",
   "metadata": {},
   "outputs": [
    {
     "name": "stdout",
     "output_type": "stream",
     "text": [
      "Wall time: 982 ms\n"
     ]
    },
    {
     "data": {
      "text/plain": [
       "1174186"
      ]
     },
     "execution_count": 27,
     "metadata": {},
     "output_type": "execute_result"
    }
   ],
   "source": [
    "%%time\n",
    "df_titles_bucket.join(df_ratings_bucket, 'tconst').count()"
   ]
  },
  {
   "cell_type": "markdown",
   "id": "ac7bf199",
   "metadata": {},
   "source": [
    "### Partiticionando por Colunas"
   ]
  },
  {
   "cell_type": "code",
   "execution_count": 28,
   "id": "648e2b37",
   "metadata": {},
   "outputs": [
    {
     "name": "stdout",
     "output_type": "stream",
     "text": [
      "== Physical Plan ==\n",
      "* Filter (3)\n",
      "+- * ColumnarToRow (2)\n",
      "   +- Scan parquet  (1)\n",
      "\n",
      "\n",
      "(1) Scan parquet \n",
      "Output [9]: [tconst#0, titleType#1, primaryTitle#2, originalTitle#3, isAdult#4, startYear#5, endYear#6, runtimeMinutes#7, genres#8]\n",
      "Batched: true\n",
      "Location: InMemoryFileIndex [file:/C:/Users/Pedro Toledo/Documents/igti/edc-mod3-igti/data/imdb/title_basics]\n",
      "PushedFilters: [IsNotNull(titleType), EqualTo(titleType,short)]\n",
      "ReadSchema: struct<tconst:string,titleType:string,primaryTitle:string,originalTitle:string,isAdult:string,startYear:string,endYear:string,runtimeMinutes:string,genres:string>\n",
      "\n",
      "(2) ColumnarToRow [codegen id : 1]\n",
      "Input [9]: [tconst#0, titleType#1, primaryTitle#2, originalTitle#3, isAdult#4, startYear#5, endYear#6, runtimeMinutes#7, genres#8]\n",
      "\n",
      "(3) Filter [codegen id : 1]\n",
      "Input [9]: [tconst#0, titleType#1, primaryTitle#2, originalTitle#3, isAdult#4, startYear#5, endYear#6, runtimeMinutes#7, genres#8]\n",
      "Condition : (isnotnull(titleType#1) AND (titleType#1 = short))\n",
      "\n",
      "\n"
     ]
    }
   ],
   "source": [
    "df_titles.filter('titleType = \"short\"').explain(\"formatted\")"
   ]
  },
  {
   "cell_type": "code",
   "execution_count": 29,
   "id": "dbf39b78",
   "metadata": {},
   "outputs": [],
   "source": [
    "(\n",
    "    df_titles\n",
    "    .write\n",
    "    .format('parquet')\n",
    "    .partitionBy('titleType')\n",
    "    .save('../data/imdb/df_titles_partitioned')\n",
    ")"
   ]
  },
  {
   "cell_type": "code",
   "execution_count": 34,
   "id": "658e369c",
   "metadata": {},
   "outputs": [],
   "source": [
    "df_titles_partitions = spark.read.parquet('../data/imdb/df_titles_partitioned')"
   ]
  },
  {
   "cell_type": "code",
   "execution_count": 35,
   "id": "1d7b99bb",
   "metadata": {
    "scrolled": true
   },
   "outputs": [
    {
     "name": "stdout",
     "output_type": "stream",
     "text": [
      "== Physical Plan ==\n",
      "* ColumnarToRow (2)\n",
      "+- Scan parquet  (1)\n",
      "\n",
      "\n",
      "(1) Scan parquet \n",
      "Output [9]: [tconst#482, primaryTitle#483, originalTitle#484, isAdult#485, startYear#486, endYear#487, runtimeMinutes#488, genres#489, titleType#490]\n",
      "Batched: true\n",
      "Location: InMemoryFileIndex [file:/C:/Users/Pedro Toledo/Documents/igti/edc-mod3-igti/data/imdb/df_titles_partitioned]\n",
      "PartitionFilters: [isnotnull(titleType#490), (titleType#490 = short)]\n",
      "ReadSchema: struct<tconst:string,primaryTitle:string,originalTitle:string,isAdult:string,startYear:string,endYear:string,runtimeMinutes:string,genres:string>\n",
      "\n",
      "(2) ColumnarToRow [codegen id : 1]\n",
      "Input [9]: [tconst#482, primaryTitle#483, originalTitle#484, isAdult#485, startYear#486, endYear#487, runtimeMinutes#488, genres#489, titleType#490]\n",
      "\n",
      "\n"
     ]
    }
   ],
   "source": [
    "df_titles_partitions.filter('titleType = \"short\"').explain(\"formatted\")"
   ]
  },
  {
   "cell_type": "code",
   "execution_count": 38,
   "id": "d74ea635",
   "metadata": {},
   "outputs": [],
   "source": [
    "df_further_partitions = spark.read.parquet('../data/imdb/df_titles_partitioned_further')"
   ]
  },
  {
   "cell_type": "code",
   "execution_count": 41,
   "id": "b238ea6d",
   "metadata": {},
   "outputs": [
    {
     "name": "stdout",
     "output_type": "stream",
     "text": [
      "== Physical Plan ==\n",
      "* ColumnarToRow (2)\n",
      "+- Scan parquet  (1)\n",
      "\n",
      "\n",
      "(1) Scan parquet \n",
      "Output [9]: [tconst#528, primaryTitle#529, originalTitle#530, isAdult#531, startYear#532, endYear#533, runtimeMinutes#534, titleType#535, genres#536]\n",
      "Batched: true\n",
      "Location: InMemoryFileIndex [file:/C:/Users/Pedro Toledo/Documents/igti/edc-mod3-igti/data/imdb/df_titles_partitioned_further]\n",
      "PartitionFilters: [isnotnull(titleType#535), isnotnull(genres#536), (titleType#535 = short), (genres#536 = Action)]\n",
      "ReadSchema: struct<tconst:string,primaryTitle:string,originalTitle:string,isAdult:string,startYear:string,endYear:string,runtimeMinutes:string>\n",
      "\n",
      "(2) ColumnarToRow [codegen id : 1]\n",
      "Input [9]: [tconst#528, primaryTitle#529, originalTitle#530, isAdult#531, startYear#532, endYear#533, runtimeMinutes#534, titleType#535, genres#536]\n",
      "\n",
      "\n"
     ]
    }
   ],
   "source": [
    "(\n",
    "    df_further_partitions\n",
    "    .filter('titleType = \"short\"')\n",
    "    .filter('genres = \"Action\"')\n",
    "    .explain(\"formatted\")\n",
    ")"
   ]
  },
  {
   "cell_type": "markdown",
   "id": "b12fc36d",
   "metadata": {},
   "source": [
    "## Reparticionando DataFrames"
   ]
  },
  {
   "cell_type": "code",
   "execution_count": 44,
   "id": "5d88f253",
   "metadata": {},
   "outputs": [
    {
     "data": {
      "text/html": [
       "<div>\n",
       "<style scoped>\n",
       "    .dataframe tbody tr th:only-of-type {\n",
       "        vertical-align: middle;\n",
       "    }\n",
       "\n",
       "    .dataframe tbody tr th {\n",
       "        vertical-align: top;\n",
       "    }\n",
       "\n",
       "    .dataframe thead th {\n",
       "        text-align: right;\n",
       "    }\n",
       "</style>\n",
       "<table border=\"1\" class=\"dataframe\">\n",
       "  <thead>\n",
       "    <tr style=\"text-align: right;\">\n",
       "      <th></th>\n",
       "      <th>tconst</th>\n",
       "      <th>titleType</th>\n",
       "      <th>primaryTitle</th>\n",
       "      <th>originalTitle</th>\n",
       "      <th>isAdult</th>\n",
       "      <th>startYear</th>\n",
       "      <th>endYear</th>\n",
       "      <th>runtimeMinutes</th>\n",
       "      <th>genres</th>\n",
       "    </tr>\n",
       "  </thead>\n",
       "  <tbody>\n",
       "    <tr>\n",
       "      <th>0</th>\n",
       "      <td>tt0000001</td>\n",
       "      <td>short</td>\n",
       "      <td>Carmencita</td>\n",
       "      <td>Carmencita</td>\n",
       "      <td>0</td>\n",
       "      <td>1894</td>\n",
       "      <td>\\N</td>\n",
       "      <td>1</td>\n",
       "      <td>Documentary,Short</td>\n",
       "    </tr>\n",
       "    <tr>\n",
       "      <th>1</th>\n",
       "      <td>tt0000002</td>\n",
       "      <td>short</td>\n",
       "      <td>Le clown et ses chiens</td>\n",
       "      <td>Le clown et ses chiens</td>\n",
       "      <td>0</td>\n",
       "      <td>1892</td>\n",
       "      <td>\\N</td>\n",
       "      <td>5</td>\n",
       "      <td>Animation,Short</td>\n",
       "    </tr>\n",
       "    <tr>\n",
       "      <th>2</th>\n",
       "      <td>tt0000003</td>\n",
       "      <td>short</td>\n",
       "      <td>Pauvre Pierrot</td>\n",
       "      <td>Pauvre Pierrot</td>\n",
       "      <td>0</td>\n",
       "      <td>1892</td>\n",
       "      <td>\\N</td>\n",
       "      <td>4</td>\n",
       "      <td>Animation,Comedy,Romance</td>\n",
       "    </tr>\n",
       "    <tr>\n",
       "      <th>3</th>\n",
       "      <td>tt0000004</td>\n",
       "      <td>short</td>\n",
       "      <td>Un bon bock</td>\n",
       "      <td>Un bon bock</td>\n",
       "      <td>0</td>\n",
       "      <td>1892</td>\n",
       "      <td>\\N</td>\n",
       "      <td>12</td>\n",
       "      <td>Animation,Short</td>\n",
       "    </tr>\n",
       "    <tr>\n",
       "      <th>4</th>\n",
       "      <td>tt0000005</td>\n",
       "      <td>short</td>\n",
       "      <td>Blacksmith Scene</td>\n",
       "      <td>Blacksmith Scene</td>\n",
       "      <td>0</td>\n",
       "      <td>1893</td>\n",
       "      <td>\\N</td>\n",
       "      <td>1</td>\n",
       "      <td>Comedy,Short</td>\n",
       "    </tr>\n",
       "  </tbody>\n",
       "</table>\n",
       "</div>"
      ],
      "text/plain": [
       "      tconst titleType            primaryTitle           originalTitle  \\\n",
       "0  tt0000001     short              Carmencita              Carmencita   \n",
       "1  tt0000002     short  Le clown et ses chiens  Le clown et ses chiens   \n",
       "2  tt0000003     short          Pauvre Pierrot          Pauvre Pierrot   \n",
       "3  tt0000004     short             Un bon bock             Un bon bock   \n",
       "4  tt0000005     short        Blacksmith Scene        Blacksmith Scene   \n",
       "\n",
       "  isAdult startYear endYear runtimeMinutes                    genres  \n",
       "0       0      1894      \\N              1         Documentary,Short  \n",
       "1       0      1892      \\N              5           Animation,Short  \n",
       "2       0      1892      \\N              4  Animation,Comedy,Romance  \n",
       "3       0      1892      \\N             12           Animation,Short  \n",
       "4       0      1893      \\N              1              Comedy,Short  "
      ]
     },
     "execution_count": 44,
     "metadata": {},
     "output_type": "execute_result"
    }
   ],
   "source": [
    "df_titles.limit(5).toPandas()"
   ]
  },
  {
   "cell_type": "code",
   "execution_count": 46,
   "id": "24b50c34",
   "metadata": {},
   "outputs": [
    {
     "data": {
      "text/plain": [
       "12"
      ]
     },
     "execution_count": 46,
     "metadata": {},
     "output_type": "execute_result"
    }
   ],
   "source": [
    "df_titles.rdd.getNumPartitions()"
   ]
  },
  {
   "cell_type": "code",
   "execution_count": 49,
   "id": "55c811fe",
   "metadata": {},
   "outputs": [
    {
     "data": {
      "text/plain": [
       "5"
      ]
     },
     "execution_count": 49,
     "metadata": {},
     "output_type": "execute_result"
    }
   ],
   "source": [
    "df_titles.repartition(5).rdd.getNumPartitions()"
   ]
  },
  {
   "cell_type": "code",
   "execution_count": 50,
   "id": "d731e87a",
   "metadata": {},
   "outputs": [
    {
     "data": {
      "text/plain": [
       "5"
      ]
     },
     "execution_count": 50,
     "metadata": {},
     "output_type": "execute_result"
    }
   ],
   "source": [
    "df_titles.coalesce(5).rdd.getNumPartitions()"
   ]
  },
  {
   "cell_type": "code",
   "execution_count": 52,
   "id": "f25e08c9",
   "metadata": {},
   "outputs": [
    {
     "name": "stdout",
     "output_type": "stream",
     "text": [
      "== Physical Plan ==\n",
      "Exchange (3)\n",
      "+- * ColumnarToRow (2)\n",
      "   +- Scan parquet  (1)\n",
      "\n",
      "\n",
      "(1) Scan parquet \n",
      "Output [9]: [tconst#0, titleType#1, primaryTitle#2, originalTitle#3, isAdult#4, startYear#5, endYear#6, runtimeMinutes#7, genres#8]\n",
      "Batched: true\n",
      "Location: InMemoryFileIndex [file:/C:/Users/Pedro Toledo/Documents/igti/edc-mod3-igti/data/imdb/title_basics]\n",
      "ReadSchema: struct<tconst:string,titleType:string,primaryTitle:string,originalTitle:string,isAdult:string,startYear:string,endYear:string,runtimeMinutes:string,genres:string>\n",
      "\n",
      "(2) ColumnarToRow [codegen id : 1]\n",
      "Input [9]: [tconst#0, titleType#1, primaryTitle#2, originalTitle#3, isAdult#4, startYear#5, endYear#6, runtimeMinutes#7, genres#8]\n",
      "\n",
      "(3) Exchange\n",
      "Input [9]: [tconst#0, titleType#1, primaryTitle#2, originalTitle#3, isAdult#4, startYear#5, endYear#6, runtimeMinutes#7, genres#8]\n",
      "Arguments: RoundRobinPartitioning(5), REPARTITION_WITH_NUM, [id=#1269]\n",
      "\n",
      "\n"
     ]
    }
   ],
   "source": [
    "df_titles.repartition(5).explain('formatted')"
   ]
  },
  {
   "cell_type": "markdown",
   "id": "3cf9cd0d",
   "metadata": {},
   "source": [
    "1000000 MB / 50 = 20GB/partição"
   ]
  },
  {
   "cell_type": "markdown",
   "id": "cbd9c47e",
   "metadata": {},
   "source": [
    "1000000 MB / 5 = 200GB/partição"
   ]
  },
  {
   "cell_type": "code",
   "execution_count": 53,
   "id": "643fb67d",
   "metadata": {},
   "outputs": [
    {
     "name": "stdout",
     "output_type": "stream",
     "text": [
      "== Physical Plan ==\n",
      "Coalesce (3)\n",
      "+- * ColumnarToRow (2)\n",
      "   +- Scan parquet  (1)\n",
      "\n",
      "\n",
      "(1) Scan parquet \n",
      "Output [9]: [tconst#0, titleType#1, primaryTitle#2, originalTitle#3, isAdult#4, startYear#5, endYear#6, runtimeMinutes#7, genres#8]\n",
      "Batched: true\n",
      "Location: InMemoryFileIndex [file:/C:/Users/Pedro Toledo/Documents/igti/edc-mod3-igti/data/imdb/title_basics]\n",
      "ReadSchema: struct<tconst:string,titleType:string,primaryTitle:string,originalTitle:string,isAdult:string,startYear:string,endYear:string,runtimeMinutes:string,genres:string>\n",
      "\n",
      "(2) ColumnarToRow [codegen id : 1]\n",
      "Input [9]: [tconst#0, titleType#1, primaryTitle#2, originalTitle#3, isAdult#4, startYear#5, endYear#6, runtimeMinutes#7, genres#8]\n",
      "\n",
      "(3) Coalesce\n",
      "Input [9]: [tconst#0, titleType#1, primaryTitle#2, originalTitle#3, isAdult#4, startYear#5, endYear#6, runtimeMinutes#7, genres#8]\n",
      "Arguments: 5\n",
      "\n",
      "\n"
     ]
    }
   ],
   "source": [
    "df_titles.coalesce(5).explain('formatted')"
   ]
  },
  {
   "cell_type": "code",
   "execution_count": 58,
   "id": "f0ce86a0",
   "metadata": {},
   "outputs": [],
   "source": [
    "df_titles.repartition(50).write.parquet('../data/imdb/df_titles_repartioned')"
   ]
  },
  {
   "cell_type": "code",
   "execution_count": 59,
   "id": "5e1dc440",
   "metadata": {},
   "outputs": [],
   "source": [
    "df_titles.coalesce(1).write.parquet('../data/imdb/df_titles_coalesced')"
   ]
  },
  {
   "cell_type": "markdown",
   "id": "632fd55b",
   "metadata": {},
   "source": [
    "## Escolhendo o melhor tipo de join"
   ]
  },
  {
   "cell_type": "markdown",
   "id": "7ba5489e",
   "metadata": {},
   "source": [
    "* **Broadcast Hash Join (BHJ)**: a estratégia consiste em enviar os dados completos para cada um dos executores, de forma que só há necessidade de realizar o shuffle uma vez. O Spark costuma utilizar esse join automaticamente com base em algumas configurações, como o `spark.sql.autoBroadcastJoinThreshold`, que define o tamanho máximo do menor DataFrame para que esse método seja escolhido, mas é sempre interessante analisar cada situação e ter autonomia para indicar o seu uso;\n",
    "* **Sort Merge Join (SMJ)**: é o algoritmo padrão do Spark, uma vez que o tamanho dos DataFrames não impacta na viabilidade do algoritmo. Nesse caso, os dados são enviados entre os executores via shuffle e os posteriormente ordenados, para que os dados estejam particionados corretamente e na mesma ordem;\n",
    "* **Shuffle Hash Join (SHJ)**: é um algoritmo que também usa shuffles, mas compensa essa operação com o uso de um mapa de hash que exime a necessidade de ordenação dos dados. A única condição é que um dos DataFrames seja significativamente menor do que o outro, mas não tanto quanto o BHJ.\n"
   ]
  },
  {
   "cell_type": "code",
   "execution_count": 61,
   "id": "7b1acd90",
   "metadata": {},
   "outputs": [
    {
     "data": {
      "text/html": [
       "<div>\n",
       "<style scoped>\n",
       "    .dataframe tbody tr th:only-of-type {\n",
       "        vertical-align: middle;\n",
       "    }\n",
       "\n",
       "    .dataframe tbody tr th {\n",
       "        vertical-align: top;\n",
       "    }\n",
       "\n",
       "    .dataframe thead th {\n",
       "        text-align: right;\n",
       "    }\n",
       "</style>\n",
       "<table border=\"1\" class=\"dataframe\">\n",
       "  <thead>\n",
       "    <tr style=\"text-align: right;\">\n",
       "      <th></th>\n",
       "      <th>tconst</th>\n",
       "      <th>titleType</th>\n",
       "      <th>primaryTitle</th>\n",
       "      <th>originalTitle</th>\n",
       "      <th>isAdult</th>\n",
       "      <th>startYear</th>\n",
       "      <th>endYear</th>\n",
       "      <th>runtimeMinutes</th>\n",
       "      <th>genres</th>\n",
       "    </tr>\n",
       "  </thead>\n",
       "  <tbody>\n",
       "    <tr>\n",
       "      <th>0</th>\n",
       "      <td>tt0000001</td>\n",
       "      <td>short</td>\n",
       "      <td>Carmencita</td>\n",
       "      <td>Carmencita</td>\n",
       "      <td>0</td>\n",
       "      <td>1894</td>\n",
       "      <td>\\N</td>\n",
       "      <td>1</td>\n",
       "      <td>Documentary,Short</td>\n",
       "    </tr>\n",
       "    <tr>\n",
       "      <th>1</th>\n",
       "      <td>tt0000002</td>\n",
       "      <td>short</td>\n",
       "      <td>Le clown et ses chiens</td>\n",
       "      <td>Le clown et ses chiens</td>\n",
       "      <td>0</td>\n",
       "      <td>1892</td>\n",
       "      <td>\\N</td>\n",
       "      <td>5</td>\n",
       "      <td>Animation,Short</td>\n",
       "    </tr>\n",
       "    <tr>\n",
       "      <th>2</th>\n",
       "      <td>tt0000003</td>\n",
       "      <td>short</td>\n",
       "      <td>Pauvre Pierrot</td>\n",
       "      <td>Pauvre Pierrot</td>\n",
       "      <td>0</td>\n",
       "      <td>1892</td>\n",
       "      <td>\\N</td>\n",
       "      <td>4</td>\n",
       "      <td>Animation,Comedy,Romance</td>\n",
       "    </tr>\n",
       "    <tr>\n",
       "      <th>3</th>\n",
       "      <td>tt0000004</td>\n",
       "      <td>short</td>\n",
       "      <td>Un bon bock</td>\n",
       "      <td>Un bon bock</td>\n",
       "      <td>0</td>\n",
       "      <td>1892</td>\n",
       "      <td>\\N</td>\n",
       "      <td>12</td>\n",
       "      <td>Animation,Short</td>\n",
       "    </tr>\n",
       "    <tr>\n",
       "      <th>4</th>\n",
       "      <td>tt0000005</td>\n",
       "      <td>short</td>\n",
       "      <td>Blacksmith Scene</td>\n",
       "      <td>Blacksmith Scene</td>\n",
       "      <td>0</td>\n",
       "      <td>1893</td>\n",
       "      <td>\\N</td>\n",
       "      <td>1</td>\n",
       "      <td>Comedy,Short</td>\n",
       "    </tr>\n",
       "  </tbody>\n",
       "</table>\n",
       "</div>"
      ],
      "text/plain": [
       "      tconst titleType            primaryTitle           originalTitle  \\\n",
       "0  tt0000001     short              Carmencita              Carmencita   \n",
       "1  tt0000002     short  Le clown et ses chiens  Le clown et ses chiens   \n",
       "2  tt0000003     short          Pauvre Pierrot          Pauvre Pierrot   \n",
       "3  tt0000004     short             Un bon bock             Un bon bock   \n",
       "4  tt0000005     short        Blacksmith Scene        Blacksmith Scene   \n",
       "\n",
       "  isAdult startYear endYear runtimeMinutes                    genres  \n",
       "0       0      1894      \\N              1         Documentary,Short  \n",
       "1       0      1892      \\N              5           Animation,Short  \n",
       "2       0      1892      \\N              4  Animation,Comedy,Romance  \n",
       "3       0      1892      \\N             12           Animation,Short  \n",
       "4       0      1893      \\N              1              Comedy,Short  "
      ]
     },
     "execution_count": 61,
     "metadata": {},
     "output_type": "execute_result"
    }
   ],
   "source": [
    "df_titles.limit(5).toPandas()"
   ]
  },
  {
   "cell_type": "code",
   "execution_count": 60,
   "id": "cb295776",
   "metadata": {},
   "outputs": [
    {
     "data": {
      "text/html": [
       "<div>\n",
       "<style scoped>\n",
       "    .dataframe tbody tr th:only-of-type {\n",
       "        vertical-align: middle;\n",
       "    }\n",
       "\n",
       "    .dataframe tbody tr th {\n",
       "        vertical-align: top;\n",
       "    }\n",
       "\n",
       "    .dataframe thead th {\n",
       "        text-align: right;\n",
       "    }\n",
       "</style>\n",
       "<table border=\"1\" class=\"dataframe\">\n",
       "  <thead>\n",
       "    <tr style=\"text-align: right;\">\n",
       "      <th></th>\n",
       "      <th>tconst</th>\n",
       "      <th>averageRating</th>\n",
       "      <th>numVotes</th>\n",
       "    </tr>\n",
       "  </thead>\n",
       "  <tbody>\n",
       "    <tr>\n",
       "      <th>0</th>\n",
       "      <td>tt0000001</td>\n",
       "      <td>5.7</td>\n",
       "      <td>1759</td>\n",
       "    </tr>\n",
       "    <tr>\n",
       "      <th>1</th>\n",
       "      <td>tt0000002</td>\n",
       "      <td>6.0</td>\n",
       "      <td>223</td>\n",
       "    </tr>\n",
       "    <tr>\n",
       "      <th>2</th>\n",
       "      <td>tt0000003</td>\n",
       "      <td>6.5</td>\n",
       "      <td>1516</td>\n",
       "    </tr>\n",
       "    <tr>\n",
       "      <th>3</th>\n",
       "      <td>tt0000004</td>\n",
       "      <td>6.1</td>\n",
       "      <td>144</td>\n",
       "    </tr>\n",
       "    <tr>\n",
       "      <th>4</th>\n",
       "      <td>tt0000005</td>\n",
       "      <td>6.2</td>\n",
       "      <td>2330</td>\n",
       "    </tr>\n",
       "  </tbody>\n",
       "</table>\n",
       "</div>"
      ],
      "text/plain": [
       "      tconst averageRating numVotes\n",
       "0  tt0000001           5.7     1759\n",
       "1  tt0000002           6.0      223\n",
       "2  tt0000003           6.5     1516\n",
       "3  tt0000004           6.1      144\n",
       "4  tt0000005           6.2     2330"
      ]
     },
     "execution_count": 60,
     "metadata": {},
     "output_type": "execute_result"
    }
   ],
   "source": [
    "df_ratings.limit(5).toPandas()"
   ]
  },
  {
   "cell_type": "code",
   "execution_count": 74,
   "id": "6f6f4be7",
   "metadata": {
    "scrolled": true
   },
   "outputs": [
    {
     "name": "stdout",
     "output_type": "stream",
     "text": [
      "== Physical Plan ==\n",
      "* Project (9)\n",
      "+- * BroadcastHashJoin Inner BuildRight (8)\n",
      "   :- * Filter (3)\n",
      "   :  +- * ColumnarToRow (2)\n",
      "   :     +- Scan parquet  (1)\n",
      "   +- BroadcastExchange (7)\n",
      "      +- * Filter (6)\n",
      "         +- * ColumnarToRow (5)\n",
      "            +- Scan parquet  (4)\n",
      "\n",
      "\n",
      "(1) Scan parquet \n",
      "Output [9]: [tconst#0, titleType#1, primaryTitle#2, originalTitle#3, isAdult#4, startYear#5, endYear#6, runtimeMinutes#7, genres#8]\n",
      "Batched: true\n",
      "Location: InMemoryFileIndex [file:/C:/Users/Pedro Toledo/Documents/igti/edc-mod3-igti/data/imdb/title_basics]\n",
      "PushedFilters: [IsNotNull(tconst)]\n",
      "ReadSchema: struct<tconst:string,titleType:string,primaryTitle:string,originalTitle:string,isAdult:string,startYear:string,endYear:string,runtimeMinutes:string,genres:string>\n",
      "\n",
      "(2) ColumnarToRow [codegen id : 2]\n",
      "Input [9]: [tconst#0, titleType#1, primaryTitle#2, originalTitle#3, isAdult#4, startYear#5, endYear#6, runtimeMinutes#7, genres#8]\n",
      "\n",
      "(3) Filter [codegen id : 2]\n",
      "Input [9]: [tconst#0, titleType#1, primaryTitle#2, originalTitle#3, isAdult#4, startYear#5, endYear#6, runtimeMinutes#7, genres#8]\n",
      "Condition : isnotnull(tconst#0)\n",
      "\n",
      "(4) Scan parquet \n",
      "Output [3]: [tconst#18, averageRating#19, numVotes#20]\n",
      "Batched: true\n",
      "Location: InMemoryFileIndex [file:/C:/Users/Pedro Toledo/Documents/igti/edc-mod3-igti/data/imdb/title_ratings]\n",
      "PushedFilters: [IsNotNull(tconst)]\n",
      "ReadSchema: struct<tconst:string,averageRating:string,numVotes:string>\n",
      "\n",
      "(5) ColumnarToRow [codegen id : 1]\n",
      "Input [3]: [tconst#18, averageRating#19, numVotes#20]\n",
      "\n",
      "(6) Filter [codegen id : 1]\n",
      "Input [3]: [tconst#18, averageRating#19, numVotes#20]\n",
      "Condition : isnotnull(tconst#18)\n",
      "\n",
      "(7) BroadcastExchange\n",
      "Input [3]: [tconst#18, averageRating#19, numVotes#20]\n",
      "Arguments: HashedRelationBroadcastMode(List(input[0, string, false]),false), [id=#38550]\n",
      "\n",
      "(8) BroadcastHashJoin [codegen id : 2]\n",
      "Left keys [1]: [tconst#0]\n",
      "Right keys [1]: [tconst#18]\n",
      "Join condition: None\n",
      "\n",
      "(9) Project [codegen id : 2]\n",
      "Output [11]: [tconst#0, titleType#1, primaryTitle#2, originalTitle#3, isAdult#4, startYear#5, endYear#6, runtimeMinutes#7, genres#8, averageRating#19, numVotes#20]\n",
      "Input [12]: [tconst#0, titleType#1, primaryTitle#2, originalTitle#3, isAdult#4, startYear#5, endYear#6, runtimeMinutes#7, genres#8, tconst#18, averageRating#19, numVotes#20]\n",
      "\n",
      "\n"
     ]
    }
   ],
   "source": [
    "df_titles.join(df_ratings.hint('broadcast'), 'tconst').explain('formatted')"
   ]
  },
  {
   "cell_type": "code",
   "execution_count": 67,
   "id": "bc67ebe9",
   "metadata": {},
   "outputs": [],
   "source": [
    "import time\n",
    "import numpy as np"
   ]
  },
  {
   "cell_type": "markdown",
   "id": "58babcaf",
   "metadata": {},
   "source": [
    "#### Sort Merge Join"
   ]
  },
  {
   "cell_type": "code",
   "execution_count": 68,
   "id": "e80b93bf",
   "metadata": {},
   "outputs": [
    {
     "name": "stdout",
     "output_type": "stream",
     "text": [
      "Média:  1.880633978843689 \n",
      " DP:  0.2220382350619025\n"
     ]
    }
   ],
   "source": [
    "times = []\n",
    "for i in range(100):\n",
    "    start = time.time()\n",
    "    df_titles.join(df_ratings.hint('merge'), 'tconst').count()\n",
    "    end = time.time()\n",
    "    times.append(end - start)\n",
    "\n",
    "print('Média: ', np.mean(times), '\\n',\n",
    "      'DP: ', np.std(times))"
   ]
  },
  {
   "cell_type": "markdown",
   "id": "1e3b1bd9",
   "metadata": {},
   "source": [
    "#### Shuffled Hash Join"
   ]
  },
  {
   "cell_type": "code",
   "execution_count": 69,
   "id": "f52efd9e",
   "metadata": {},
   "outputs": [
    {
     "name": "stdout",
     "output_type": "stream",
     "text": [
      "Média:  1.9259305787086487 \n",
      " DP:  0.447783649974506\n"
     ]
    }
   ],
   "source": [
    "times = []\n",
    "for i in range(100):\n",
    "    start = time.time()\n",
    "    df_titles.join(df_ratings.hint('shuffle_hash'), 'tconst').count()\n",
    "    end = time.time()\n",
    "    times.append(end - start)\n",
    "print('Média: ', np.mean(times), '\\n',\n",
    "      'DP: ', np.std(times))"
   ]
  },
  {
   "cell_type": "markdown",
   "id": "92c9e663",
   "metadata": {},
   "source": [
    "#### Broadcast Join"
   ]
  },
  {
   "cell_type": "code",
   "execution_count": 70,
   "id": "4ddc40ef",
   "metadata": {},
   "outputs": [
    {
     "name": "stdout",
     "output_type": "stream",
     "text": [
      "Média:  0.961837158203125 \n",
      " DP:  0.10518858795581905\n"
     ]
    }
   ],
   "source": [
    "times = []\n",
    "for i in range(100):\n",
    "    start = time.time()\n",
    "    df_titles.join(df_ratings.hint('broadcast'), 'tconst').count()\n",
    "    end = time.time()\n",
    "    times.append(end - start)\n",
    "print('Média: ', np.mean(times), '\\n',\n",
    "      'DP: ', np.std(times))"
   ]
  }
 ],
 "metadata": {
  "kernelspec": {
   "display_name": "Python 3",
   "language": "python",
   "name": "python3"
  },
  "language_info": {
   "codemirror_mode": {
    "name": "ipython",
    "version": 3
   },
   "file_extension": ".py",
   "mimetype": "text/x-python",
   "name": "python",
   "nbconvert_exporter": "python",
   "pygments_lexer": "ipython3",
   "version": "3.8.8"
  }
 },
 "nbformat": 4,
 "nbformat_minor": 5
}
